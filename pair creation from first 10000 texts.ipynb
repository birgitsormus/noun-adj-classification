{
 "cells": [
  {
   "cell_type": "code",
   "execution_count": 2,
   "metadata": {},
   "outputs": [],
   "source": [
    "import psycopg2"
   ]
  },
  {
   "cell_type": "code",
   "execution_count": 5,
   "metadata": {},
   "outputs": [
    {
     "ename": "OperationalError",
     "evalue": "fe_sendauth: no password supplied\n",
     "output_type": "error",
     "traceback": [
      "\u001b[1;31m---------------------------------------------------------------------------\u001b[0m",
      "\u001b[1;31mOperationalError\u001b[0m                          Traceback (most recent call last)",
      "\u001b[1;32m<ipython-input-5-790774a158d3>\u001b[0m in \u001b[0;36m<module>\u001b[1;34m\u001b[0m\n\u001b[0;32m      2\u001b[0m                        \u001b[0mpassword\u001b[0m \u001b[1;33m=\u001b[0m \u001b[1;34m\"\"\u001b[0m\u001b[1;33m,\u001b[0m\u001b[1;33m\u001b[0m\u001b[1;33m\u001b[0m\u001b[0m\n\u001b[0;32m      3\u001b[0m                        \u001b[0mhost\u001b[0m \u001b[1;33m=\u001b[0m \u001b[1;34m\"postgres.keeleressursid.ee\"\u001b[0m\u001b[1;33m,\u001b[0m\u001b[1;33m\u001b[0m\u001b[1;33m\u001b[0m\u001b[0m\n\u001b[1;32m----> 4\u001b[1;33m                        database = \"estonian-text-corpora\")\n\u001b[0m\u001b[0;32m      5\u001b[0m \u001b[1;33m\u001b[0m\u001b[0m\n\u001b[0;32m      6\u001b[0m \u001b[1;32mtry\u001b[0m\u001b[1;33m:\u001b[0m\u001b[1;33m\u001b[0m\u001b[1;33m\u001b[0m\u001b[0m\n",
      "\u001b[1;32m~\\Anaconda3\\lib\\site-packages\\psycopg2\\__init__.py\u001b[0m in \u001b[0;36mconnect\u001b[1;34m(dsn, connection_factory, cursor_factory, **kwargs)\u001b[0m\n\u001b[0;32m    125\u001b[0m \u001b[1;33m\u001b[0m\u001b[0m\n\u001b[0;32m    126\u001b[0m     \u001b[0mdsn\u001b[0m \u001b[1;33m=\u001b[0m \u001b[0m_ext\u001b[0m\u001b[1;33m.\u001b[0m\u001b[0mmake_dsn\u001b[0m\u001b[1;33m(\u001b[0m\u001b[0mdsn\u001b[0m\u001b[1;33m,\u001b[0m \u001b[1;33m**\u001b[0m\u001b[0mkwargs\u001b[0m\u001b[1;33m)\u001b[0m\u001b[1;33m\u001b[0m\u001b[1;33m\u001b[0m\u001b[0m\n\u001b[1;32m--> 127\u001b[1;33m     \u001b[0mconn\u001b[0m \u001b[1;33m=\u001b[0m \u001b[0m_connect\u001b[0m\u001b[1;33m(\u001b[0m\u001b[0mdsn\u001b[0m\u001b[1;33m,\u001b[0m \u001b[0mconnection_factory\u001b[0m\u001b[1;33m=\u001b[0m\u001b[0mconnection_factory\u001b[0m\u001b[1;33m,\u001b[0m \u001b[1;33m**\u001b[0m\u001b[0mkwasync\u001b[0m\u001b[1;33m)\u001b[0m\u001b[1;33m\u001b[0m\u001b[1;33m\u001b[0m\u001b[0m\n\u001b[0m\u001b[0;32m    128\u001b[0m     \u001b[1;32mif\u001b[0m \u001b[0mcursor_factory\u001b[0m \u001b[1;32mis\u001b[0m \u001b[1;32mnot\u001b[0m \u001b[1;32mNone\u001b[0m\u001b[1;33m:\u001b[0m\u001b[1;33m\u001b[0m\u001b[1;33m\u001b[0m\u001b[0m\n\u001b[0;32m    129\u001b[0m         \u001b[0mconn\u001b[0m\u001b[1;33m.\u001b[0m\u001b[0mcursor_factory\u001b[0m \u001b[1;33m=\u001b[0m \u001b[0mcursor_factory\u001b[0m\u001b[1;33m\u001b[0m\u001b[1;33m\u001b[0m\u001b[0m\n",
      "\u001b[1;31mOperationalError\u001b[0m: fe_sendauth: no password supplied\n"
     ]
    }
   ],
   "source": [
    "con = psycopg2.connect(user = \"sormusbi\",\n",
    "                       password = \"\",\n",
    "                       host = \"postgres.keeleressursid.ee\",\n",
    "                       database = \"estonian-text-corpora\")\n",
    "\n",
    "try:\n",
    "    cursor = con.cursor();\n",
    "except (Exception, psycopg2.Error) as error:\n",
    "    print(\"Error in Connection\",error)"
   ]
  },
  {
   "cell_type": "code",
   "execution_count": 3,
   "metadata": {},
   "outputs": [],
   "source": [
    "try:\n",
    "    cursor.execute('SELECT * FROM estonian_text_corpora.koondkorpus_base_v2__v166_morph_analysis__layer LIMIT 10000;')\n",
    "    texts = cursor.fetchall() \n",
    "except (Exception, psycopg2.Error) as error:\n",
    "    con.rollback()\n",
    "    print(\"Error while inserting data into the table:\", error)"
   ]
  },
  {
   "cell_type": "code",
   "execution_count": 4,
   "metadata": {},
   "outputs": [
    {
     "data": {
      "text/plain": [
       "10000"
      ]
     },
     "execution_count": 4,
     "metadata": {},
     "output_type": "execute_result"
    }
   ],
   "source": [
    "len(texts)"
   ]
  },
  {
   "cell_type": "code",
   "execution_count": 27,
   "metadata": {},
   "outputs": [
    {
     "data": {
      "text/plain": [
       "{'base_span': [1079, 1080],\n",
       " 'annotations': [{'form': '',\n",
       "   'root': '.',\n",
       "   'lemma': '.',\n",
       "   'clitic': '',\n",
       "   'ending': '',\n",
       "   'root_tokens': ['.'],\n",
       "   'partofspeech': 'Z',\n",
       "   'normalized_text': '.'}]}"
      ]
     },
     "execution_count": 27,
     "metadata": {},
     "output_type": "execute_result"
    }
   ],
   "source": [
    "texts[0][2]['spans'][-1]"
   ]
  },
  {
   "cell_type": "code",
   "execution_count": 36,
   "metadata": {},
   "outputs": [],
   "source": [
    "import time\n",
    "from datetime import timedelta"
   ]
  },
  {
   "cell_type": "code",
   "execution_count": 39,
   "metadata": {},
   "outputs": [
    {
     "name": "stdout",
     "output_type": "stream",
     "text": [
      "Start: 22:11:50.724330\n"
     ]
    }
   ],
   "source": [
    "print(\"Start:\", str(timedelta(seconds=time.time()+7200)).split(\", \")[1])"
   ]
  },
  {
   "cell_type": "code",
   "execution_count": 43,
   "metadata": {},
   "outputs": [
    {
     "name": "stdout",
     "output_type": "stream",
     "text": [
      "Start: 22:13:08.418729\n",
      "End: 22:13:16.565456\n",
      "Aega kulus: 8.146726608276367 sekundit\n"
     ]
    }
   ],
   "source": [
    "start = time.time()\n",
    "print(\"Start:\", str(timedelta(seconds=start+7200)).split(\", \")[1])\n",
    "\n",
    "paarid = []\n",
    "\n",
    "t = texts[0][2]['spans']\n",
    "\n",
    "#for t in analyzed_texts:\n",
    "#    for sentence in t.sentences:\n",
    "for text in texts:\n",
    "    t = text[2]['spans']\n",
    "    for i, span in enumerate(t):\n",
    "        annotations = span['annotations']\n",
    "        #for idx in range(5):\n",
    "        #    if i + idx < len(sentence):\n",
    "        if annotations[0]['partofspeech'] != 'S':\n",
    "            continue\n",
    "\n",
    "        noun = annotations[0]['lemma']\n",
    "\n",
    "        if i - 1 >= 0:\n",
    "            word2 = t[i-1]['annotations'][0]\n",
    "\n",
    "            if word2['partofspeech'] == 'A':\n",
    "                paarid.append((word2['lemma'], noun))\n",
    "\n",
    "        if i - 2 >= 0:\n",
    "            word3 = t[i-2]['annotations'][0]\n",
    "\n",
    "            if word3['partofspeech'] == 'A' and t[i-1]['annotations'][0]['partofspeech'] != 'Z':\n",
    "                paarid.append((word3['lemma'], noun))\n",
    "\n",
    "        if i - 3 >= 0:\n",
    "            word4 = t[i-3]['annotations'][0]\n",
    "            if word4['partofspeech'] == 'A':\n",
    "                if t[i-1]['annotations'][0]['lemma'] not in ['.', '!', '?'] and t[i-2]['annotations'][0]['lemma'] not in ['.', '!', '?']:\n",
    "                    paarid.append((word4['lemma'], noun))\n",
    "\n",
    "        if i + 2 < len(t) - 1:\n",
    "            if t[i+1]['annotations'][0]['lemma'] == 'olema' and t[i+2]['annotations'][0]['partofspeech'] == 'A':\n",
    "                paarid.append((t[i+2]['annotations'][0]['lemma'], noun))\n",
    "                \n",
    "end = time.time()\n",
    "print(\"End:\", str(timedelta(seconds=end+7200)).split(\", \")[1])\n",
    "print(\"Aega kulus:\", end-start, \"sekundit\")"
   ]
  },
  {
   "cell_type": "code",
   "execution_count": 32,
   "metadata": {},
   "outputs": [
    {
     "data": {
      "text/plain": [
       "116"
      ]
     },
     "execution_count": 32,
     "metadata": {},
     "output_type": "execute_result"
    }
   ],
   "source": [
    "len(paarid)"
   ]
  }
 ],
 "metadata": {
  "kernelspec": {
   "display_name": "Python 3",
   "language": "python",
   "name": "python3"
  },
  "language_info": {
   "codemirror_mode": {
    "name": "ipython",
    "version": 3
   },
   "file_extension": ".py",
   "mimetype": "text/x-python",
   "name": "python",
   "nbconvert_exporter": "python",
   "pygments_lexer": "ipython3",
   "version": "3.7.3"
  }
 },
 "nbformat": 4,
 "nbformat_minor": 4
}
