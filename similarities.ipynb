{
 "cells": [
  {
   "cell_type": "code",
   "execution_count": 1,
   "metadata": {},
   "outputs": [],
   "source": [
    "import psycopg2"
   ]
  },
  {
   "cell_type": "code",
   "execution_count": 2,
   "metadata": {},
   "outputs": [],
   "source": [
    "con = psycopg2.connect(user = \"postgres\",\n",
    "                       password = \"\",\n",
    "                       host = \"127.0.0.1\",\n",
    "                       port = \"5432\",\n",
    "                       database = \"adj_noun_pairs\")\n",
    "\n",
    "try:\n",
    "    cursor = con.cursor();\n",
    "except (Exception, psycopg2.Error) as error:\n",
    "    print(\"Error in Connection\",error)"
   ]
  },
  {
   "cell_type": "code",
   "execution_count": 7,
   "metadata": {},
   "outputs": [],
   "source": [
    "try:\n",
    "    cursor.execute(\"SELECT * FROM pair_counts_10000 WHERE noun IN (SELECT noun FROM pair_counts_10000 GROUP BY noun HAVING COUNT(*) >= 5)\")\n",
    "    pairs = cursor.fetchall() \n",
    "except (Exception, psycopg2.Error) as error:\n",
    "    con.rollback()\n",
    "    print(\"Error while inserting data into the table:\", error)"
   ]
  },
  {
   "cell_type": "code",
   "execution_count": 8,
   "metadata": {},
   "outputs": [
    {
     "data": {
      "text/plain": [
       "284340"
      ]
     },
     "execution_count": 8,
     "metadata": {},
     "output_type": "execute_result"
    }
   ],
   "source": [
    "len(pairs)"
   ]
  },
  {
   "cell_type": "code",
   "execution_count": 9,
   "metadata": {},
   "outputs": [],
   "source": [
    "adjs = list(set([pair[0] for pair in pairs]))\n",
    "nouns = list(set([pair[1] for pair in pairs]))"
   ]
  },
  {
   "cell_type": "code",
   "execution_count": 10,
   "metadata": {},
   "outputs": [
    {
     "name": "stdout",
     "output_type": "stream",
     "text": [
      "10521 20266\n"
     ]
    }
   ],
   "source": [
    "print(len(nouns), len(adjs))"
   ]
  },
  {
   "cell_type": "markdown",
   "metadata": {},
   "source": [
    "### Finding similarities of words"
   ]
  },
  {
   "cell_type": "markdown",
   "metadata": {},
   "source": [
    "Deciding the similarity of each pair of two different nouns based on how many adjectives they have in common (adjectives that were used to describe them in the texts)."
   ]
  },
  {
   "cell_type": "code",
   "execution_count": 29,
   "metadata": {},
   "outputs": [],
   "source": [
    "try:\n",
    "    cursor.execute(\"SELECT DISTINCT noun, STRING_AGG(adjective, ',') FROM pair_counts_10000 WHERE noun IN (SELECT noun FROM pair_counts_10000 GROUP BY noun HAVING COUNT(*) >= 5) GROUP BY noun\")\n",
    "    adjectives_listed = cursor.fetchall() \n",
    "except (Exception, psycopg2.Error) as error:\n",
    "    con.rollback()\n",
    "    print(\"Error while inserting data into the table:\", error)"
   ]
  },
  {
   "cell_type": "code",
   "execution_count": 32,
   "metadata": {},
   "outputs": [
    {
     "data": {
      "text/plain": [
       "[('iseolemine',\n",
       "  'sõjaeelne,kultuuriline,poliitiline,tavapärane,riiklik,muutumatu,ideoloogilis-poliitiline,rahvuslik'),\n",
       " ('detektor',\n",
       "  'piisav,tundlik,iseloomulik,tulnud,mõõtev,suur,vastav,armetu,uus,kuuluv'),\n",
       " ('aastamiljon', 'pikk,püsiv,järgnev,terve,viimane,energeetiline')]"
      ]
     },
     "execution_count": 32,
     "metadata": {},
     "output_type": "execute_result"
    }
   ],
   "source": [
    "adjectives_listed[:3]"
   ]
  },
  {
   "cell_type": "code",
   "execution_count": 31,
   "metadata": {},
   "outputs": [],
   "source": [
    "dict_words = {}\n",
    "\n",
    "for tup in adjectives_listed:\n",
    "    dict_words[tup[0]] = tup[1].split(',')"
   ]
  },
  {
   "cell_type": "code",
   "execution_count": 14,
   "metadata": {},
   "outputs": [],
   "source": [
    "import itertools"
   ]
  },
  {
   "cell_type": "code",
   "execution_count": 17,
   "metadata": {},
   "outputs": [],
   "source": [
    "noun_pairs = list(itertools.combinations(nouns, 2))"
   ]
  },
  {
   "cell_type": "code",
   "execution_count": 18,
   "metadata": {},
   "outputs": [
    {
     "data": {
      "text/plain": [
       "55340460"
      ]
     },
     "execution_count": 18,
     "metadata": {},
     "output_type": "execute_result"
    }
   ],
   "source": [
    "len(noun_pairs)"
   ]
  },
  {
   "cell_type": "code",
   "execution_count": 25,
   "metadata": {},
   "outputs": [
    {
     "data": {
      "text/plain": [
       "('kitsendus', 'festival')"
      ]
     },
     "execution_count": 25,
     "metadata": {},
     "output_type": "execute_result"
    }
   ],
   "source": [
    "noun_pairs[0]"
   ]
  },
  {
   "cell_type": "code",
   "execution_count": 33,
   "metadata": {},
   "outputs": [
    {
     "data": {
      "text/plain": [
       "0.0273972602739726"
      ]
     },
     "execution_count": 33,
     "metadata": {},
     "output_type": "execute_result"
    }
   ],
   "source": [
    "len(set(dict_words['kitsendus']) & set(dict_words['festival']))/len(set(dict_words['kitsendus']) | set(dict_words['festival']))"
   ]
  },
  {
   "cell_type": "code",
   "execution_count": 40,
   "metadata": {},
   "outputs": [],
   "source": [
    "import time\n",
    "from datetime import timedelta, datetime"
   ]
  },
  {
   "cell_type": "code",
   "execution_count": 45,
   "metadata": {},
   "outputs": [
    {
     "name": "stdout",
     "output_type": "stream",
     "text": [
      "23:26:58.899620\n",
      "23:43:30.172390\n",
      "0:16:31.311651\n"
     ]
    }
   ],
   "source": [
    "print(str(timedelta(seconds=time.time()+7200)).split(\", \")[1])\n",
    "start = datetime.now()\n",
    "\n",
    "similarities = {}\n",
    "\n",
    "for pair in noun_pairs:\n",
    "    first_word = pair[0]\n",
    "    second_word = pair[1]\n",
    "    similarities[pair] = len(set(dict_words[first_word]) & set(dict_words[second_word]))/len(set(dict_words[first_word]) | set(dict_words[second_word]))\n",
    "    \n",
    "print(str(timedelta(seconds=time.time()+7200)).split(\", \")[1])\n",
    "print(datetime.now()-start)"
   ]
  },
  {
   "cell_type": "code",
   "execution_count": 53,
   "metadata": {},
   "outputs": [],
   "source": [
    "similarities2 = {}\n",
    "\n",
    "for pair, similarity in similarities.items():\n",
    "    first = pair[0]\n",
    "    second = pair[1]\n",
    "    \n",
    "    if first in similarities2:\n",
    "        similarities2[first][second] = similarity\n",
    "    else:\n",
    "        similarities2[first] = {second: similarity}\n",
    "        \n",
    "    if second in similarities2:\n",
    "        similarities2[second][first] = similarity\n",
    "    else:\n",
    "        similarities2[second] = {first: similarity}"
   ]
  },
  {
   "cell_type": "markdown",
   "metadata": {},
   "source": [
    "### t-SNE on similarity matrix"
   ]
  },
  {
   "cell_type": "code",
   "execution_count": 48,
   "metadata": {},
   "outputs": [
    {
     "name": "stderr",
     "output_type": "stream",
     "text": [
      "C:\\Users\\Birgit\\Anaconda3\\envs\\py36_estnltk\\lib\\importlib\\_bootstrap.py:219: RuntimeWarning: numpy.ufunc size changed, may indicate binary incompatibility. Expected 192 from C header, got 216 from PyObject\n",
      "  return f(*args, **kwds)\n",
      "C:\\Users\\Birgit\\Anaconda3\\envs\\py36_estnltk\\lib\\importlib\\_bootstrap.py:219: RuntimeWarning: numpy.ufunc size changed, may indicate binary incompatibility. Expected 192 from C header, got 216 from PyObject\n",
      "  return f(*args, **kwds)\n"
     ]
    }
   ],
   "source": [
    "import time\n",
    "from sklearn.manifold import TSNE\n",
    "import matplotlib.pyplot as plt\n",
    "from mpl_toolkits.mplot3d import Axes3D\n",
    "import seaborn as sns\n",
    "import matplotlib.patheffects as PathEffects\n",
    "%matplotlib inline"
   ]
  },
  {
   "cell_type": "code",
   "execution_count": 50,
   "metadata": {},
   "outputs": [],
   "source": [
    "import pandas as pd"
   ]
  },
  {
   "cell_type": "code",
   "execution_count": 54,
   "metadata": {},
   "outputs": [],
   "source": [
    "df = pd.DataFrame(similarities2)"
   ]
  },
  {
   "cell_type": "code",
   "execution_count": 55,
   "metadata": {},
   "outputs": [
    {
     "data": {
      "text/html": [
       "<div>\n",
       "<style scoped>\n",
       "    .dataframe tbody tr th:only-of-type {\n",
       "        vertical-align: middle;\n",
       "    }\n",
       "\n",
       "    .dataframe tbody tr th {\n",
       "        vertical-align: top;\n",
       "    }\n",
       "\n",
       "    .dataframe thead th {\n",
       "        text-align: right;\n",
       "    }\n",
       "</style>\n",
       "<table border=\"1\" class=\"dataframe\">\n",
       "  <thead>\n",
       "    <tr style=\"text-align: right;\">\n",
       "      <th></th>\n",
       "      <th>kitsendus</th>\n",
       "      <th>festival</th>\n",
       "      <th>maksulaekumine</th>\n",
       "      <th>säilitamine</th>\n",
       "      <th>minimeerimine</th>\n",
       "      <th>kraam</th>\n",
       "      <th>müügihind</th>\n",
       "      <th>sundus</th>\n",
       "      <th>põllumajandusminister</th>\n",
       "      <th>ennust</th>\n",
       "      <th>...</th>\n",
       "      <th>terviklikkus</th>\n",
       "      <th>poolkera</th>\n",
       "      <th>hotellituba</th>\n",
       "      <th>etteheide</th>\n",
       "      <th>otstarbekus</th>\n",
       "      <th>tähtaeg</th>\n",
       "      <th>avaldusvorm</th>\n",
       "      <th>teatrimärk</th>\n",
       "      <th>lähitulevik</th>\n",
       "      <th>kompartei</th>\n",
       "    </tr>\n",
       "  </thead>\n",
       "  <tbody>\n",
       "    <tr>\n",
       "      <th>festival</th>\n",
       "      <td>0.027397</td>\n",
       "      <td>NaN</td>\n",
       "      <td>0.000000</td>\n",
       "      <td>0.055118</td>\n",
       "      <td>0.000000</td>\n",
       "      <td>0.039604</td>\n",
       "      <td>0.057971</td>\n",
       "      <td>0.015152</td>\n",
       "      <td>0.066667</td>\n",
       "      <td>0.000000</td>\n",
       "      <td>...</td>\n",
       "      <td>0.000000</td>\n",
       "      <td>0.0</td>\n",
       "      <td>0.000000</td>\n",
       "      <td>0.012987</td>\n",
       "      <td>0.013514</td>\n",
       "      <td>0.042735</td>\n",
       "      <td>0.000000</td>\n",
       "      <td>0.015873</td>\n",
       "      <td>0.046875</td>\n",
       "      <td>0.038961</td>\n",
       "    </tr>\n",
       "    <tr>\n",
       "      <th>maksulaekumine</th>\n",
       "      <td>0.041667</td>\n",
       "      <td>0.000000</td>\n",
       "      <td>NaN</td>\n",
       "      <td>0.012048</td>\n",
       "      <td>0.000000</td>\n",
       "      <td>0.000000</td>\n",
       "      <td>0.045455</td>\n",
       "      <td>0.000000</td>\n",
       "      <td>0.000000</td>\n",
       "      <td>0.000000</td>\n",
       "      <td>...</td>\n",
       "      <td>0.000000</td>\n",
       "      <td>0.0</td>\n",
       "      <td>0.000000</td>\n",
       "      <td>0.000000</td>\n",
       "      <td>0.000000</td>\n",
       "      <td>0.014085</td>\n",
       "      <td>0.000000</td>\n",
       "      <td>0.000000</td>\n",
       "      <td>0.000000</td>\n",
       "      <td>0.034483</td>\n",
       "    </tr>\n",
       "    <tr>\n",
       "      <th>säilitamine</th>\n",
       "      <td>0.010638</td>\n",
       "      <td>0.055118</td>\n",
       "      <td>0.012048</td>\n",
       "      <td>NaN</td>\n",
       "      <td>0.011494</td>\n",
       "      <td>0.016260</td>\n",
       "      <td>0.021978</td>\n",
       "      <td>0.011628</td>\n",
       "      <td>0.024390</td>\n",
       "      <td>0.000000</td>\n",
       "      <td>...</td>\n",
       "      <td>0.057471</td>\n",
       "      <td>0.0</td>\n",
       "      <td>0.024096</td>\n",
       "      <td>0.031579</td>\n",
       "      <td>0.021505</td>\n",
       "      <td>0.051852</td>\n",
       "      <td>0.012346</td>\n",
       "      <td>0.000000</td>\n",
       "      <td>0.023529</td>\n",
       "      <td>0.041667</td>\n",
       "    </tr>\n",
       "    <tr>\n",
       "      <th>minimeerimine</th>\n",
       "      <td>0.074074</td>\n",
       "      <td>0.000000</td>\n",
       "      <td>0.000000</td>\n",
       "      <td>0.011494</td>\n",
       "      <td>NaN</td>\n",
       "      <td>0.000000</td>\n",
       "      <td>0.038462</td>\n",
       "      <td>0.000000</td>\n",
       "      <td>0.000000</td>\n",
       "      <td>0.058824</td>\n",
       "      <td>...</td>\n",
       "      <td>0.040000</td>\n",
       "      <td>0.0</td>\n",
       "      <td>0.000000</td>\n",
       "      <td>0.066667</td>\n",
       "      <td>0.000000</td>\n",
       "      <td>0.041096</td>\n",
       "      <td>0.000000</td>\n",
       "      <td>0.000000</td>\n",
       "      <td>0.000000</td>\n",
       "      <td>0.000000</td>\n",
       "    </tr>\n",
       "    <tr>\n",
       "      <th>kraam</th>\n",
       "      <td>0.015385</td>\n",
       "      <td>0.039604</td>\n",
       "      <td>0.000000</td>\n",
       "      <td>0.016260</td>\n",
       "      <td>0.000000</td>\n",
       "      <td>NaN</td>\n",
       "      <td>0.049180</td>\n",
       "      <td>0.000000</td>\n",
       "      <td>0.000000</td>\n",
       "      <td>0.000000</td>\n",
       "      <td>...</td>\n",
       "      <td>0.000000</td>\n",
       "      <td>0.0</td>\n",
       "      <td>0.000000</td>\n",
       "      <td>0.014706</td>\n",
       "      <td>0.000000</td>\n",
       "      <td>0.036697</td>\n",
       "      <td>0.000000</td>\n",
       "      <td>0.018519</td>\n",
       "      <td>0.017544</td>\n",
       "      <td>0.044118</td>\n",
       "    </tr>\n",
       "    <tr>\n",
       "      <th>...</th>\n",
       "      <td>...</td>\n",
       "      <td>...</td>\n",
       "      <td>...</td>\n",
       "      <td>...</td>\n",
       "      <td>...</td>\n",
       "      <td>...</td>\n",
       "      <td>...</td>\n",
       "      <td>...</td>\n",
       "      <td>...</td>\n",
       "      <td>...</td>\n",
       "      <td>...</td>\n",
       "      <td>...</td>\n",
       "      <td>...</td>\n",
       "      <td>...</td>\n",
       "      <td>...</td>\n",
       "      <td>...</td>\n",
       "      <td>...</td>\n",
       "      <td>...</td>\n",
       "      <td>...</td>\n",
       "      <td>...</td>\n",
       "      <td>...</td>\n",
       "    </tr>\n",
       "    <tr>\n",
       "      <th>avaldusvorm</th>\n",
       "      <td>0.000000</td>\n",
       "      <td>0.000000</td>\n",
       "      <td>0.000000</td>\n",
       "      <td>0.012346</td>\n",
       "      <td>0.000000</td>\n",
       "      <td>0.000000</td>\n",
       "      <td>0.000000</td>\n",
       "      <td>0.071429</td>\n",
       "      <td>0.000000</td>\n",
       "      <td>0.000000</td>\n",
       "      <td>...</td>\n",
       "      <td>0.000000</td>\n",
       "      <td>0.0</td>\n",
       "      <td>0.000000</td>\n",
       "      <td>0.000000</td>\n",
       "      <td>0.000000</td>\n",
       "      <td>0.000000</td>\n",
       "      <td>NaN</td>\n",
       "      <td>0.000000</td>\n",
       "      <td>0.000000</td>\n",
       "      <td>0.000000</td>\n",
       "    </tr>\n",
       "    <tr>\n",
       "      <th>teatrimärk</th>\n",
       "      <td>0.041667</td>\n",
       "      <td>0.015873</td>\n",
       "      <td>0.000000</td>\n",
       "      <td>0.000000</td>\n",
       "      <td>0.000000</td>\n",
       "      <td>0.018519</td>\n",
       "      <td>0.045455</td>\n",
       "      <td>0.000000</td>\n",
       "      <td>0.000000</td>\n",
       "      <td>0.000000</td>\n",
       "      <td>...</td>\n",
       "      <td>0.000000</td>\n",
       "      <td>0.0</td>\n",
       "      <td>0.000000</td>\n",
       "      <td>0.000000</td>\n",
       "      <td>0.000000</td>\n",
       "      <td>0.014085</td>\n",
       "      <td>0.000000</td>\n",
       "      <td>NaN</td>\n",
       "      <td>0.000000</td>\n",
       "      <td>0.034483</td>\n",
       "    </tr>\n",
       "    <tr>\n",
       "      <th>lähitulevik</th>\n",
       "      <td>0.000000</td>\n",
       "      <td>0.046875</td>\n",
       "      <td>0.000000</td>\n",
       "      <td>0.023529</td>\n",
       "      <td>0.000000</td>\n",
       "      <td>0.017544</td>\n",
       "      <td>0.083333</td>\n",
       "      <td>0.052632</td>\n",
       "      <td>0.062500</td>\n",
       "      <td>0.000000</td>\n",
       "      <td>...</td>\n",
       "      <td>0.041667</td>\n",
       "      <td>0.0</td>\n",
       "      <td>0.000000</td>\n",
       "      <td>0.000000</td>\n",
       "      <td>0.000000</td>\n",
       "      <td>0.041667</td>\n",
       "      <td>0.000000</td>\n",
       "      <td>0.000000</td>\n",
       "      <td>NaN</td>\n",
       "      <td>0.031250</td>\n",
       "    </tr>\n",
       "    <tr>\n",
       "      <th>kompartei</th>\n",
       "      <td>0.051282</td>\n",
       "      <td>0.038961</td>\n",
       "      <td>0.034483</td>\n",
       "      <td>0.041667</td>\n",
       "      <td>0.000000</td>\n",
       "      <td>0.044118</td>\n",
       "      <td>0.026316</td>\n",
       "      <td>0.000000</td>\n",
       "      <td>0.034483</td>\n",
       "      <td>0.000000</td>\n",
       "      <td>...</td>\n",
       "      <td>0.000000</td>\n",
       "      <td>0.0</td>\n",
       "      <td>0.000000</td>\n",
       "      <td>0.000000</td>\n",
       "      <td>0.025000</td>\n",
       "      <td>0.035294</td>\n",
       "      <td>0.000000</td>\n",
       "      <td>0.034483</td>\n",
       "      <td>0.031250</td>\n",
       "      <td>NaN</td>\n",
       "    </tr>\n",
       "    <tr>\n",
       "      <th>kitsendus</th>\n",
       "      <td>NaN</td>\n",
       "      <td>0.027397</td>\n",
       "      <td>0.041667</td>\n",
       "      <td>0.010638</td>\n",
       "      <td>0.074074</td>\n",
       "      <td>0.015385</td>\n",
       "      <td>0.030303</td>\n",
       "      <td>0.000000</td>\n",
       "      <td>0.000000</td>\n",
       "      <td>0.000000</td>\n",
       "      <td>...</td>\n",
       "      <td>0.031250</td>\n",
       "      <td>0.0</td>\n",
       "      <td>0.000000</td>\n",
       "      <td>0.000000</td>\n",
       "      <td>0.028571</td>\n",
       "      <td>0.037500</td>\n",
       "      <td>0.000000</td>\n",
       "      <td>0.041667</td>\n",
       "      <td>0.000000</td>\n",
       "      <td>0.051282</td>\n",
       "    </tr>\n",
       "  </tbody>\n",
       "</table>\n",
       "<p>10521 rows × 10521 columns</p>\n",
       "</div>"
      ],
      "text/plain": [
       "                kitsendus  festival  maksulaekumine  säilitamine  \\\n",
       "festival         0.027397       NaN        0.000000     0.055118   \n",
       "maksulaekumine   0.041667  0.000000             NaN     0.012048   \n",
       "säilitamine      0.010638  0.055118        0.012048          NaN   \n",
       "minimeerimine    0.074074  0.000000        0.000000     0.011494   \n",
       "kraam            0.015385  0.039604        0.000000     0.016260   \n",
       "...                   ...       ...             ...          ...   \n",
       "avaldusvorm      0.000000  0.000000        0.000000     0.012346   \n",
       "teatrimärk       0.041667  0.015873        0.000000     0.000000   \n",
       "lähitulevik      0.000000  0.046875        0.000000     0.023529   \n",
       "kompartei        0.051282  0.038961        0.034483     0.041667   \n",
       "kitsendus             NaN  0.027397        0.041667     0.010638   \n",
       "\n",
       "                minimeerimine     kraam  müügihind    sundus  \\\n",
       "festival             0.000000  0.039604   0.057971  0.015152   \n",
       "maksulaekumine       0.000000  0.000000   0.045455  0.000000   \n",
       "säilitamine          0.011494  0.016260   0.021978  0.011628   \n",
       "minimeerimine             NaN  0.000000   0.038462  0.000000   \n",
       "kraam                0.000000       NaN   0.049180  0.000000   \n",
       "...                       ...       ...        ...       ...   \n",
       "avaldusvorm          0.000000  0.000000   0.000000  0.071429   \n",
       "teatrimärk           0.000000  0.018519   0.045455  0.000000   \n",
       "lähitulevik          0.000000  0.017544   0.083333  0.052632   \n",
       "kompartei            0.000000  0.044118   0.026316  0.000000   \n",
       "kitsendus            0.074074  0.015385   0.030303  0.000000   \n",
       "\n",
       "                põllumajandusminister    ennust  ...  terviklikkus  poolkera  \\\n",
       "festival                     0.066667  0.000000  ...      0.000000       0.0   \n",
       "maksulaekumine               0.000000  0.000000  ...      0.000000       0.0   \n",
       "säilitamine                  0.024390  0.000000  ...      0.057471       0.0   \n",
       "minimeerimine                0.000000  0.058824  ...      0.040000       0.0   \n",
       "kraam                        0.000000  0.000000  ...      0.000000       0.0   \n",
       "...                               ...       ...  ...           ...       ...   \n",
       "avaldusvorm                  0.000000  0.000000  ...      0.000000       0.0   \n",
       "teatrimärk                   0.000000  0.000000  ...      0.000000       0.0   \n",
       "lähitulevik                  0.062500  0.000000  ...      0.041667       0.0   \n",
       "kompartei                    0.034483  0.000000  ...      0.000000       0.0   \n",
       "kitsendus                    0.000000  0.000000  ...      0.031250       0.0   \n",
       "\n",
       "                hotellituba  etteheide  otstarbekus   tähtaeg  avaldusvorm  \\\n",
       "festival           0.000000   0.012987     0.013514  0.042735     0.000000   \n",
       "maksulaekumine     0.000000   0.000000     0.000000  0.014085     0.000000   \n",
       "säilitamine        0.024096   0.031579     0.021505  0.051852     0.012346   \n",
       "minimeerimine      0.000000   0.066667     0.000000  0.041096     0.000000   \n",
       "kraam              0.000000   0.014706     0.000000  0.036697     0.000000   \n",
       "...                     ...        ...          ...       ...          ...   \n",
       "avaldusvorm        0.000000   0.000000     0.000000  0.000000          NaN   \n",
       "teatrimärk         0.000000   0.000000     0.000000  0.014085     0.000000   \n",
       "lähitulevik        0.000000   0.000000     0.000000  0.041667     0.000000   \n",
       "kompartei          0.000000   0.000000     0.025000  0.035294     0.000000   \n",
       "kitsendus          0.000000   0.000000     0.028571  0.037500     0.000000   \n",
       "\n",
       "                teatrimärk  lähitulevik  kompartei  \n",
       "festival          0.015873     0.046875   0.038961  \n",
       "maksulaekumine    0.000000     0.000000   0.034483  \n",
       "säilitamine       0.000000     0.023529   0.041667  \n",
       "minimeerimine     0.000000     0.000000   0.000000  \n",
       "kraam             0.018519     0.017544   0.044118  \n",
       "...                    ...          ...        ...  \n",
       "avaldusvorm       0.000000     0.000000   0.000000  \n",
       "teatrimärk             NaN     0.000000   0.034483  \n",
       "lähitulevik       0.000000          NaN   0.031250  \n",
       "kompartei         0.034483     0.031250        NaN  \n",
       "kitsendus         0.041667     0.000000   0.051282  \n",
       "\n",
       "[10521 rows x 10521 columns]"
      ]
     },
     "execution_count": 55,
     "metadata": {},
     "output_type": "execute_result"
    }
   ],
   "source": [
    "df"
   ]
  },
  {
   "cell_type": "code",
   "execution_count": 56,
   "metadata": {},
   "outputs": [],
   "source": [
    "df = df.reindex(sorted(df.columns), axis=1)\n",
    "df = df.reindex(sorted(df.index), axis=0)"
   ]
  },
  {
   "cell_type": "code",
   "execution_count": 58,
   "metadata": {},
   "outputs": [],
   "source": [
    "df = df.fillna(0)"
   ]
  },
  {
   "cell_type": "code",
   "execution_count": 59,
   "metadata": {},
   "outputs": [
    {
     "data": {
      "text/html": [
       "<div>\n",
       "<style scoped>\n",
       "    .dataframe tbody tr th:only-of-type {\n",
       "        vertical-align: middle;\n",
       "    }\n",
       "\n",
       "    .dataframe tbody tr th {\n",
       "        vertical-align: top;\n",
       "    }\n",
       "\n",
       "    .dataframe thead th {\n",
       "        text-align: right;\n",
       "    }\n",
       "</style>\n",
       "<table border=\"1\" class=\"dataframe\">\n",
       "  <thead>\n",
       "    <tr style=\"text-align: right;\">\n",
       "      <th></th>\n",
       "      <th>A-klass</th>\n",
       "      <th>Bondi-film</th>\n",
       "      <th>C-vitamiin</th>\n",
       "      <th>CD-plaat</th>\n",
       "      <th>CMOS-tehnoloogia</th>\n",
       "      <th>DK-vahend</th>\n",
       "      <th>DRAM-lülitus</th>\n",
       "      <th>E-pomm</th>\n",
       "      <th>E-vitamiin</th>\n",
       "      <th>GSM-võrk</th>\n",
       "      <th>...</th>\n",
       "      <th>üürikorter</th>\n",
       "      <th>üürimaja</th>\n",
       "      <th>üürisuvila</th>\n",
       "      <th>üürnik</th>\n",
       "      <th>šanss</th>\n",
       "      <th>šokk</th>\n",
       "      <th>žanr</th>\n",
       "      <th>žanrisüsteem</th>\n",
       "      <th>žest</th>\n",
       "      <th>žürii</th>\n",
       "    </tr>\n",
       "  </thead>\n",
       "  <tbody>\n",
       "    <tr>\n",
       "      <th>A-klass</th>\n",
       "      <td>0.0</td>\n",
       "      <td>0.000000</td>\n",
       "      <td>0.000000</td>\n",
       "      <td>0.100000</td>\n",
       "      <td>0.0</td>\n",
       "      <td>0.000000</td>\n",
       "      <td>0.000000</td>\n",
       "      <td>0.000000</td>\n",
       "      <td>0.000000</td>\n",
       "      <td>0.000000</td>\n",
       "      <td>...</td>\n",
       "      <td>0.095238</td>\n",
       "      <td>0.000000</td>\n",
       "      <td>0.000000</td>\n",
       "      <td>0.047619</td>\n",
       "      <td>0.000000</td>\n",
       "      <td>0.000000</td>\n",
       "      <td>0.000000</td>\n",
       "      <td>0.00000</td>\n",
       "      <td>0.0</td>\n",
       "      <td>0.000000</td>\n",
       "    </tr>\n",
       "    <tr>\n",
       "      <th>Bondi-film</th>\n",
       "      <td>0.0</td>\n",
       "      <td>0.000000</td>\n",
       "      <td>0.000000</td>\n",
       "      <td>0.071429</td>\n",
       "      <td>0.0</td>\n",
       "      <td>0.000000</td>\n",
       "      <td>0.000000</td>\n",
       "      <td>0.000000</td>\n",
       "      <td>0.000000</td>\n",
       "      <td>0.000000</td>\n",
       "      <td>...</td>\n",
       "      <td>0.038462</td>\n",
       "      <td>0.133333</td>\n",
       "      <td>0.000000</td>\n",
       "      <td>0.040000</td>\n",
       "      <td>0.045455</td>\n",
       "      <td>0.047619</td>\n",
       "      <td>0.022727</td>\n",
       "      <td>0.00000</td>\n",
       "      <td>0.0</td>\n",
       "      <td>0.062500</td>\n",
       "    </tr>\n",
       "    <tr>\n",
       "      <th>C-vitamiin</th>\n",
       "      <td>0.0</td>\n",
       "      <td>0.000000</td>\n",
       "      <td>0.000000</td>\n",
       "      <td>0.000000</td>\n",
       "      <td>0.0</td>\n",
       "      <td>0.000000</td>\n",
       "      <td>0.000000</td>\n",
       "      <td>0.100000</td>\n",
       "      <td>0.111111</td>\n",
       "      <td>0.000000</td>\n",
       "      <td>...</td>\n",
       "      <td>0.000000</td>\n",
       "      <td>0.083333</td>\n",
       "      <td>0.111111</td>\n",
       "      <td>0.047619</td>\n",
       "      <td>0.055556</td>\n",
       "      <td>0.058824</td>\n",
       "      <td>0.025000</td>\n",
       "      <td>0.00000</td>\n",
       "      <td>0.0</td>\n",
       "      <td>0.000000</td>\n",
       "    </tr>\n",
       "    <tr>\n",
       "      <th>CD-plaat</th>\n",
       "      <td>0.1</td>\n",
       "      <td>0.071429</td>\n",
       "      <td>0.000000</td>\n",
       "      <td>0.000000</td>\n",
       "      <td>0.0</td>\n",
       "      <td>0.000000</td>\n",
       "      <td>0.000000</td>\n",
       "      <td>0.000000</td>\n",
       "      <td>0.000000</td>\n",
       "      <td>0.000000</td>\n",
       "      <td>...</td>\n",
       "      <td>0.142857</td>\n",
       "      <td>0.076923</td>\n",
       "      <td>0.000000</td>\n",
       "      <td>0.095238</td>\n",
       "      <td>0.052632</td>\n",
       "      <td>0.055556</td>\n",
       "      <td>0.024390</td>\n",
       "      <td>0.00000</td>\n",
       "      <td>0.0</td>\n",
       "      <td>0.076923</td>\n",
       "    </tr>\n",
       "    <tr>\n",
       "      <th>CMOS-tehnoloogia</th>\n",
       "      <td>0.0</td>\n",
       "      <td>0.000000</td>\n",
       "      <td>0.000000</td>\n",
       "      <td>0.000000</td>\n",
       "      <td>0.0</td>\n",
       "      <td>0.000000</td>\n",
       "      <td>0.000000</td>\n",
       "      <td>0.000000</td>\n",
       "      <td>0.000000</td>\n",
       "      <td>0.000000</td>\n",
       "      <td>...</td>\n",
       "      <td>0.000000</td>\n",
       "      <td>0.000000</td>\n",
       "      <td>0.000000</td>\n",
       "      <td>0.000000</td>\n",
       "      <td>0.000000</td>\n",
       "      <td>0.000000</td>\n",
       "      <td>0.000000</td>\n",
       "      <td>0.00000</td>\n",
       "      <td>0.0</td>\n",
       "      <td>0.000000</td>\n",
       "    </tr>\n",
       "    <tr>\n",
       "      <th>...</th>\n",
       "      <td>...</td>\n",
       "      <td>...</td>\n",
       "      <td>...</td>\n",
       "      <td>...</td>\n",
       "      <td>...</td>\n",
       "      <td>...</td>\n",
       "      <td>...</td>\n",
       "      <td>...</td>\n",
       "      <td>...</td>\n",
       "      <td>...</td>\n",
       "      <td>...</td>\n",
       "      <td>...</td>\n",
       "      <td>...</td>\n",
       "      <td>...</td>\n",
       "      <td>...</td>\n",
       "      <td>...</td>\n",
       "      <td>...</td>\n",
       "      <td>...</td>\n",
       "      <td>...</td>\n",
       "      <td>...</td>\n",
       "      <td>...</td>\n",
       "    </tr>\n",
       "    <tr>\n",
       "      <th>šokk</th>\n",
       "      <td>0.0</td>\n",
       "      <td>0.047619</td>\n",
       "      <td>0.058824</td>\n",
       "      <td>0.055556</td>\n",
       "      <td>0.0</td>\n",
       "      <td>0.047619</td>\n",
       "      <td>0.000000</td>\n",
       "      <td>0.055556</td>\n",
       "      <td>0.058824</td>\n",
       "      <td>0.000000</td>\n",
       "      <td>...</td>\n",
       "      <td>0.033333</td>\n",
       "      <td>0.105263</td>\n",
       "      <td>0.058824</td>\n",
       "      <td>0.034483</td>\n",
       "      <td>0.080000</td>\n",
       "      <td>0.000000</td>\n",
       "      <td>0.042553</td>\n",
       "      <td>0.00000</td>\n",
       "      <td>0.0</td>\n",
       "      <td>0.105263</td>\n",
       "    </tr>\n",
       "    <tr>\n",
       "      <th>žanr</th>\n",
       "      <td>0.0</td>\n",
       "      <td>0.022727</td>\n",
       "      <td>0.025000</td>\n",
       "      <td>0.024390</td>\n",
       "      <td>0.0</td>\n",
       "      <td>0.000000</td>\n",
       "      <td>0.024390</td>\n",
       "      <td>0.024390</td>\n",
       "      <td>0.025000</td>\n",
       "      <td>0.108108</td>\n",
       "      <td>...</td>\n",
       "      <td>0.038462</td>\n",
       "      <td>0.047619</td>\n",
       "      <td>0.051282</td>\n",
       "      <td>0.019231</td>\n",
       "      <td>0.111111</td>\n",
       "      <td>0.042553</td>\n",
       "      <td>0.000000</td>\n",
       "      <td>0.04878</td>\n",
       "      <td>0.0</td>\n",
       "      <td>0.023256</td>\n",
       "    </tr>\n",
       "    <tr>\n",
       "      <th>žanrisüsteem</th>\n",
       "      <td>0.0</td>\n",
       "      <td>0.000000</td>\n",
       "      <td>0.000000</td>\n",
       "      <td>0.000000</td>\n",
       "      <td>0.0</td>\n",
       "      <td>0.000000</td>\n",
       "      <td>0.083333</td>\n",
       "      <td>0.000000</td>\n",
       "      <td>0.000000</td>\n",
       "      <td>0.200000</td>\n",
       "      <td>...</td>\n",
       "      <td>0.000000</td>\n",
       "      <td>0.000000</td>\n",
       "      <td>0.000000</td>\n",
       "      <td>0.000000</td>\n",
       "      <td>0.000000</td>\n",
       "      <td>0.000000</td>\n",
       "      <td>0.048780</td>\n",
       "      <td>0.00000</td>\n",
       "      <td>0.0</td>\n",
       "      <td>0.000000</td>\n",
       "    </tr>\n",
       "    <tr>\n",
       "      <th>žest</th>\n",
       "      <td>0.0</td>\n",
       "      <td>0.000000</td>\n",
       "      <td>0.000000</td>\n",
       "      <td>0.000000</td>\n",
       "      <td>0.0</td>\n",
       "      <td>0.000000</td>\n",
       "      <td>0.000000</td>\n",
       "      <td>0.000000</td>\n",
       "      <td>0.000000</td>\n",
       "      <td>0.000000</td>\n",
       "      <td>...</td>\n",
       "      <td>0.000000</td>\n",
       "      <td>0.000000</td>\n",
       "      <td>0.000000</td>\n",
       "      <td>0.000000</td>\n",
       "      <td>0.000000</td>\n",
       "      <td>0.000000</td>\n",
       "      <td>0.000000</td>\n",
       "      <td>0.00000</td>\n",
       "      <td>0.0</td>\n",
       "      <td>0.000000</td>\n",
       "    </tr>\n",
       "    <tr>\n",
       "      <th>žürii</th>\n",
       "      <td>0.0</td>\n",
       "      <td>0.062500</td>\n",
       "      <td>0.000000</td>\n",
       "      <td>0.076923</td>\n",
       "      <td>0.0</td>\n",
       "      <td>0.000000</td>\n",
       "      <td>0.000000</td>\n",
       "      <td>0.000000</td>\n",
       "      <td>0.000000</td>\n",
       "      <td>0.000000</td>\n",
       "      <td>...</td>\n",
       "      <td>0.040000</td>\n",
       "      <td>0.066667</td>\n",
       "      <td>0.000000</td>\n",
       "      <td>0.000000</td>\n",
       "      <td>0.047619</td>\n",
       "      <td>0.105263</td>\n",
       "      <td>0.023256</td>\n",
       "      <td>0.00000</td>\n",
       "      <td>0.0</td>\n",
       "      <td>0.000000</td>\n",
       "    </tr>\n",
       "  </tbody>\n",
       "</table>\n",
       "<p>10521 rows × 10521 columns</p>\n",
       "</div>"
      ],
      "text/plain": [
       "                  A-klass  Bondi-film  C-vitamiin  CD-plaat  CMOS-tehnoloogia  \\\n",
       "A-klass               0.0    0.000000    0.000000  0.100000               0.0   \n",
       "Bondi-film            0.0    0.000000    0.000000  0.071429               0.0   \n",
       "C-vitamiin            0.0    0.000000    0.000000  0.000000               0.0   \n",
       "CD-plaat              0.1    0.071429    0.000000  0.000000               0.0   \n",
       "CMOS-tehnoloogia      0.0    0.000000    0.000000  0.000000               0.0   \n",
       "...                   ...         ...         ...       ...               ...   \n",
       "šokk                  0.0    0.047619    0.058824  0.055556               0.0   \n",
       "žanr                  0.0    0.022727    0.025000  0.024390               0.0   \n",
       "žanrisüsteem          0.0    0.000000    0.000000  0.000000               0.0   \n",
       "žest                  0.0    0.000000    0.000000  0.000000               0.0   \n",
       "žürii                 0.0    0.062500    0.000000  0.076923               0.0   \n",
       "\n",
       "                  DK-vahend  DRAM-lülitus    E-pomm  E-vitamiin  GSM-võrk  \\\n",
       "A-klass            0.000000      0.000000  0.000000    0.000000  0.000000   \n",
       "Bondi-film         0.000000      0.000000  0.000000    0.000000  0.000000   \n",
       "C-vitamiin         0.000000      0.000000  0.100000    0.111111  0.000000   \n",
       "CD-plaat           0.000000      0.000000  0.000000    0.000000  0.000000   \n",
       "CMOS-tehnoloogia   0.000000      0.000000  0.000000    0.000000  0.000000   \n",
       "...                     ...           ...       ...         ...       ...   \n",
       "šokk               0.047619      0.000000  0.055556    0.058824  0.000000   \n",
       "žanr               0.000000      0.024390  0.024390    0.025000  0.108108   \n",
       "žanrisüsteem       0.000000      0.083333  0.000000    0.000000  0.200000   \n",
       "žest               0.000000      0.000000  0.000000    0.000000  0.000000   \n",
       "žürii              0.000000      0.000000  0.000000    0.000000  0.000000   \n",
       "\n",
       "                  ...  üürikorter  üürimaja  üürisuvila    üürnik     šanss  \\\n",
       "A-klass           ...    0.095238  0.000000    0.000000  0.047619  0.000000   \n",
       "Bondi-film        ...    0.038462  0.133333    0.000000  0.040000  0.045455   \n",
       "C-vitamiin        ...    0.000000  0.083333    0.111111  0.047619  0.055556   \n",
       "CD-plaat          ...    0.142857  0.076923    0.000000  0.095238  0.052632   \n",
       "CMOS-tehnoloogia  ...    0.000000  0.000000    0.000000  0.000000  0.000000   \n",
       "...               ...         ...       ...         ...       ...       ...   \n",
       "šokk              ...    0.033333  0.105263    0.058824  0.034483  0.080000   \n",
       "žanr              ...    0.038462  0.047619    0.051282  0.019231  0.111111   \n",
       "žanrisüsteem      ...    0.000000  0.000000    0.000000  0.000000  0.000000   \n",
       "žest              ...    0.000000  0.000000    0.000000  0.000000  0.000000   \n",
       "žürii             ...    0.040000  0.066667    0.000000  0.000000  0.047619   \n",
       "\n",
       "                      šokk      žanr  žanrisüsteem  žest     žürii  \n",
       "A-klass           0.000000  0.000000       0.00000   0.0  0.000000  \n",
       "Bondi-film        0.047619  0.022727       0.00000   0.0  0.062500  \n",
       "C-vitamiin        0.058824  0.025000       0.00000   0.0  0.000000  \n",
       "CD-plaat          0.055556  0.024390       0.00000   0.0  0.076923  \n",
       "CMOS-tehnoloogia  0.000000  0.000000       0.00000   0.0  0.000000  \n",
       "...                    ...       ...           ...   ...       ...  \n",
       "šokk              0.000000  0.042553       0.00000   0.0  0.105263  \n",
       "žanr              0.042553  0.000000       0.04878   0.0  0.023256  \n",
       "žanrisüsteem      0.000000  0.048780       0.00000   0.0  0.000000  \n",
       "žest              0.000000  0.000000       0.00000   0.0  0.000000  \n",
       "žürii             0.105263  0.023256       0.00000   0.0  0.000000  \n",
       "\n",
       "[10521 rows x 10521 columns]"
      ]
     },
     "execution_count": 59,
     "metadata": {},
     "output_type": "execute_result"
    }
   ],
   "source": [
    "df"
   ]
  },
  {
   "cell_type": "code",
   "execution_count": 69,
   "metadata": {},
   "outputs": [],
   "source": [
    "df.to_csv(\"df_with_similarities_10k.csv\")"
   ]
  },
  {
   "cell_type": "code",
   "execution_count": 62,
   "metadata": {},
   "outputs": [],
   "source": [
    "tsne = TSNE(random_state=17)\n",
    "tsne_results = tsne.fit_transform(df.values)"
   ]
  },
  {
   "cell_type": "code",
   "execution_count": 71,
   "metadata": {},
   "outputs": [],
   "source": [
    "import numpy as np"
   ]
  },
  {
   "cell_type": "code",
   "execution_count": 72,
   "metadata": {},
   "outputs": [],
   "source": [
    "np.save('tsne_10k_results.npy', tsne_results)\n",
    "# np.load('tsne.npy')"
   ]
  },
  {
   "cell_type": "code",
   "execution_count": 73,
   "metadata": {},
   "outputs": [
    {
     "data": {
      "image/png": "[encoded data removed]",
      "text/plain": [
       "<Figure size 504x504 with 1 Axes>"
      ]
     },
     "metadata": {
      "needs_background": "light"
     },
     "output_type": "display_data"
    }
   ],
   "source": [
    "plt.figure(figsize=(7, 7))\n",
    "plt.scatter(tsne_results[:, 0], tsne_results[:, 1], marker='o', s=50, edgecolor='None', c='pink')\n",
    "\n",
    "plt.tight_layout()\n",
    "plt.axis('equal')\n",
    "plt.show()"
   ]
  },
  {
   "cell_type": "code",
   "execution_count": 81,
   "metadata": {},
   "outputs": [
    {
     "data": {
      "text/plain": [
       "(10521, 2)"
      ]
     },
     "execution_count": 81,
     "metadata": {},
     "output_type": "execute_result"
    }
   ],
   "source": [
    "tsne_results.shape"
   ]
  },
  {
   "cell_type": "markdown",
   "metadata": {},
   "source": [
    "#### Exploring smaller subgroups"
   ]
  },
  {
   "cell_type": "markdown",
   "metadata": {},
   "source": [
    "Currently assuming the results of t-SNE are in the same order as the words in the dataframe, will look into this later."
   ]
  },
  {
   "cell_type": "code",
   "execution_count": 90,
   "metadata": {},
   "outputs": [],
   "source": [
    "new_tsne_results = []\n",
    "results_with_words = []\n",
    "\n",
    "for i, result in enumerate(tsne_results):\n",
    "    if result[0] > 57.5 and result[1] < -25:\n",
    "        new_tsne_results.append(result)\n",
    "        results_with_words.append([result, df.columns[i]])"
   ]
  },
  {
   "cell_type": "code",
   "execution_count": 91,
   "metadata": {},
   "outputs": [
    {
     "data": {
      "text/plain": [
       "19"
      ]
     },
     "execution_count": 91,
     "metadata": {},
     "output_type": "execute_result"
    }
   ],
   "source": [
    "len(new_tsne_results)"
   ]
  },
  {
   "cell_type": "code",
   "execution_count": 93,
   "metadata": {},
   "outputs": [
    {
     "data": {
      "text/plain": [
       "[[array([ 58.923492, -36.330746], dtype=float32), 'arvutikomplekt'],\n",
       " [array([ 58.511322, -37.90828 ], dtype=float32), 'e-pangandus'],\n",
       " [array([ 58.201675, -36.02285 ], dtype=float32), 'elamurajoon'],\n",
       " [array([ 59.552544, -35.72557 ], dtype=float32), 'infokanal'],\n",
       " [array([ 58.758   , -36.720566], dtype=float32), 'isamaalane'],\n",
       " [array([ 58.84491, -36.44017], dtype=float32), 'kaitsekulutus'],\n",
       " [array([ 59.479164, -35.900948], dtype=float32), 'kasutuselevõtmine'],\n",
       " [array([ 58.444504, -36.632168], dtype=float32), 'linnavõim'],\n",
       " [array([ 59.30101 , -36.018623], dtype=float32), 'maailmapoliitika'],\n",
       " [array([ 59.375183, -35.940887], dtype=float32), 'mobiilside'],\n",
       " [array([ 58.49458, -37.85811], dtype=float32), 'pommiähvardus'],\n",
       " [array([ 59.038902, -35.901638], dtype=float32), 'pürgimus'],\n",
       " [array([ 59.048447, -36.295227], dtype=float32), 'sigadus'],\n",
       " [array([ 58.854618, -36.473793], dtype=float32), 'sotsiaalteadlane'],\n",
       " [array([ 58.68834 , -36.935997], dtype=float32), 'transpordikulu'],\n",
       " [array([ 58.613445, -37.10144 ], dtype=float32), 'tööauto'],\n",
       " [array([ 59.51434, -36.67211], dtype=float32), 'vallutamine'],\n",
       " [array([ 59.472775, -37.061367], dtype=float32), 'võtmeisik'],\n",
       " [array([ 59.003643, -36.068825], dtype=float32), 'šokk']]"
      ]
     },
     "execution_count": 93,
     "metadata": {},
     "output_type": "execute_result"
    }
   ],
   "source": [
    "results_with_words"
   ]
  },
  {
   "cell_type": "code",
   "execution_count": 92,
   "metadata": {},
   "outputs": [
    {
     "data": {
      "image/png": "[encoded data removed]",
      "text/plain": [
       "<Figure size 504x504 with 1 Axes>"
      ]
     },
     "metadata": {
      "needs_background": "light"
     },
     "output_type": "display_data"
    }
   ],
   "source": [
    "plt.figure(figsize=(7, 7))\n",
    "plt.scatter([r[0] for r in new_tsne_results], [r[1] for r in new_tsne_results], marker='o', s=50, edgecolor='None', c='pink')\n",
    "\n",
    "plt.tight_layout()\n",
    "plt.axis('equal')\n",
    "plt.show()"
   ]
  }
 ],
 "metadata": {
  "kernelspec": {
   "display_name": "Python 3",
   "language": "python",
   "name": "python3"
  },
  "language_info": {
   "codemirror_mode": {
    "name": "ipython",
    "version": 3
   },
   "file_extension": ".py",
   "mimetype": "text/x-python",
   "name": "python",
   "nbconvert_exporter": "python",
   "pygments_lexer": "ipython3",
   "version": "3.6.12"
  }
 },
 "nbformat": 4,
 "nbformat_minor": 4
}
