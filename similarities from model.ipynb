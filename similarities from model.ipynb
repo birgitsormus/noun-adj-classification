{
 "cells": [
  {
   "cell_type": "markdown",
   "metadata": {},
   "source": [
    "### Data and model"
   ]
  },
  {
   "cell_type": "code",
   "execution_count": 1,
   "metadata": {},
   "outputs": [],
   "source": [
    "import psycopg2"
   ]
  },
  {
   "cell_type": "code",
   "execution_count": 2,
   "metadata": {},
   "outputs": [],
   "source": [
    "con = psycopg2.connect(user = \"postgres\",\n",
    "                       password = \"\",\n",
    "                       host = \"127.0.0.1\",\n",
    "                       port = \"5432\",\n",
    "                       database = \"adj_noun_pairs\")\n",
    "\n",
    "try:\n",
    "    cursor = con.cursor();\n",
    "except (Exception, psycopg2.Error) as error:\n",
    "    print(\"Error in Connection\",error)"
   ]
  },
  {
   "cell_type": "code",
   "execution_count": 3,
   "metadata": {},
   "outputs": [],
   "source": [
    "try:\n",
    "    cursor.execute(\"SELECT * FROM pair_counts\")\n",
    "    all_pairs = cursor.fetchall() \n",
    "except (Exception, psycopg2.Error) as error:\n",
    "    con.rollback()\n",
    "    print(\"Error while inserting data into the table:\", error)"
   ]
  },
  {
   "cell_type": "code",
   "execution_count": 9,
   "metadata": {},
   "outputs": [],
   "source": [
    "try:\n",
    "    cursor.execute(\"SELECT DISTINCT noun FROM pair_counts\")\n",
    "    nouns = cursor.fetchall() \n",
    "except (Exception, psycopg2.Error) as error:\n",
    "    con.rollback()\n",
    "    print(\"Error while inserting data into the table:\", error)"
   ]
  },
  {
   "cell_type": "code",
   "execution_count": 12,
   "metadata": {},
   "outputs": [],
   "source": [
    "nouns = [noun[0] for noun in nouns]"
   ]
  },
  {
   "cell_type": "code",
   "execution_count": 13,
   "metadata": {},
   "outputs": [],
   "source": [
    "try:\n",
    "    cursor.execute(\"SELECT DISTINCT adjective FROM pair_counts\")\n",
    "    adjectives = cursor.fetchall() \n",
    "except (Exception, psycopg2.Error) as error:\n",
    "    con.rollback()\n",
    "    print(\"Error while inserting data into the table:\", error)"
   ]
  },
  {
   "cell_type": "code",
   "execution_count": 14,
   "metadata": {},
   "outputs": [],
   "source": [
    "adjectives = [adj[0] for adj in adjectives]"
   ]
  },
  {
   "cell_type": "code",
   "execution_count": 4,
   "metadata": {},
   "outputs": [],
   "source": [
    "import pandas as pd"
   ]
  },
  {
   "cell_type": "code",
   "execution_count": 15,
   "metadata": {},
   "outputs": [
    {
     "data": {
      "text/html": [
       "<div>\n",
       "<style scoped>\n",
       "    .dataframe tbody tr th:only-of-type {\n",
       "        vertical-align: middle;\n",
       "    }\n",
       "\n",
       "    .dataframe tbody tr th {\n",
       "        vertical-align: top;\n",
       "    }\n",
       "\n",
       "    .dataframe thead th {\n",
       "        text-align: right;\n",
       "    }\n",
       "</style>\n",
       "<table border=\"1\" class=\"dataframe\">\n",
       "  <thead>\n",
       "    <tr style=\"text-align: right;\">\n",
       "      <th></th>\n",
       "      <th>topeltõieline</th>\n",
       "      <th>halvaksläinud</th>\n",
       "      <th>kaaskondne</th>\n",
       "      <th>stabiilne</th>\n",
       "      <th>Uraali-tagune</th>\n",
       "      <th>alasti</th>\n",
       "      <th>kärniline</th>\n",
       "      <th>hoovav</th>\n",
       "      <th>sellekevadine</th>\n",
       "      <th>mässav</th>\n",
       "      <th>...</th>\n",
       "      <th>sõnaosav</th>\n",
       "      <th>jäetud</th>\n",
       "      <th>elektrontorm</th>\n",
       "      <th>beež</th>\n",
       "      <th>kardiokirurgiline</th>\n",
       "      <th>teadlik</th>\n",
       "      <th>käskkirjaline</th>\n",
       "      <th>kombanud</th>\n",
       "      <th>kaame</th>\n",
       "      <th>kevadöine</th>\n",
       "    </tr>\n",
       "  </thead>\n",
       "  <tbody>\n",
       "    <tr>\n",
       "      <th>isetegevuslane</th>\n",
       "      <td>NaN</td>\n",
       "      <td>NaN</td>\n",
       "      <td>NaN</td>\n",
       "      <td>NaN</td>\n",
       "      <td>NaN</td>\n",
       "      <td>NaN</td>\n",
       "      <td>NaN</td>\n",
       "      <td>NaN</td>\n",
       "      <td>NaN</td>\n",
       "      <td>NaN</td>\n",
       "      <td>...</td>\n",
       "      <td>NaN</td>\n",
       "      <td>NaN</td>\n",
       "      <td>NaN</td>\n",
       "      <td>NaN</td>\n",
       "      <td>NaN</td>\n",
       "      <td>NaN</td>\n",
       "      <td>NaN</td>\n",
       "      <td>NaN</td>\n",
       "      <td>NaN</td>\n",
       "      <td>NaN</td>\n",
       "    </tr>\n",
       "    <tr>\n",
       "      <th>stress</th>\n",
       "      <td>NaN</td>\n",
       "      <td>NaN</td>\n",
       "      <td>NaN</td>\n",
       "      <td>NaN</td>\n",
       "      <td>NaN</td>\n",
       "      <td>NaN</td>\n",
       "      <td>NaN</td>\n",
       "      <td>NaN</td>\n",
       "      <td>NaN</td>\n",
       "      <td>NaN</td>\n",
       "      <td>...</td>\n",
       "      <td>NaN</td>\n",
       "      <td>NaN</td>\n",
       "      <td>NaN</td>\n",
       "      <td>NaN</td>\n",
       "      <td>NaN</td>\n",
       "      <td>NaN</td>\n",
       "      <td>NaN</td>\n",
       "      <td>NaN</td>\n",
       "      <td>NaN</td>\n",
       "      <td>NaN</td>\n",
       "    </tr>\n",
       "    <tr>\n",
       "      <th>külgaken</th>\n",
       "      <td>NaN</td>\n",
       "      <td>NaN</td>\n",
       "      <td>NaN</td>\n",
       "      <td>NaN</td>\n",
       "      <td>NaN</td>\n",
       "      <td>NaN</td>\n",
       "      <td>NaN</td>\n",
       "      <td>NaN</td>\n",
       "      <td>NaN</td>\n",
       "      <td>NaN</td>\n",
       "      <td>...</td>\n",
       "      <td>NaN</td>\n",
       "      <td>NaN</td>\n",
       "      <td>NaN</td>\n",
       "      <td>NaN</td>\n",
       "      <td>NaN</td>\n",
       "      <td>NaN</td>\n",
       "      <td>NaN</td>\n",
       "      <td>NaN</td>\n",
       "      <td>NaN</td>\n",
       "      <td>NaN</td>\n",
       "    </tr>\n",
       "    <tr>\n",
       "      <th>läbivaatamine</th>\n",
       "      <td>NaN</td>\n",
       "      <td>NaN</td>\n",
       "      <td>NaN</td>\n",
       "      <td>NaN</td>\n",
       "      <td>NaN</td>\n",
       "      <td>NaN</td>\n",
       "      <td>NaN</td>\n",
       "      <td>NaN</td>\n",
       "      <td>NaN</td>\n",
       "      <td>NaN</td>\n",
       "      <td>...</td>\n",
       "      <td>NaN</td>\n",
       "      <td>NaN</td>\n",
       "      <td>NaN</td>\n",
       "      <td>NaN</td>\n",
       "      <td>NaN</td>\n",
       "      <td>NaN</td>\n",
       "      <td>NaN</td>\n",
       "      <td>NaN</td>\n",
       "      <td>NaN</td>\n",
       "      <td>NaN</td>\n",
       "    </tr>\n",
       "    <tr>\n",
       "      <th>kuulsus</th>\n",
       "      <td>NaN</td>\n",
       "      <td>NaN</td>\n",
       "      <td>NaN</td>\n",
       "      <td>NaN</td>\n",
       "      <td>NaN</td>\n",
       "      <td>NaN</td>\n",
       "      <td>NaN</td>\n",
       "      <td>NaN</td>\n",
       "      <td>NaN</td>\n",
       "      <td>NaN</td>\n",
       "      <td>...</td>\n",
       "      <td>NaN</td>\n",
       "      <td>NaN</td>\n",
       "      <td>NaN</td>\n",
       "      <td>NaN</td>\n",
       "      <td>NaN</td>\n",
       "      <td>NaN</td>\n",
       "      <td>NaN</td>\n",
       "      <td>NaN</td>\n",
       "      <td>NaN</td>\n",
       "      <td>NaN</td>\n",
       "    </tr>\n",
       "  </tbody>\n",
       "</table>\n",
       "<p>5 rows × 7951 columns</p>\n",
       "</div>"
      ],
      "text/plain": [
       "               topeltõieline halvaksläinud kaaskondne stabiilne Uraali-tagune  \\\n",
       "isetegevuslane           NaN           NaN        NaN       NaN           NaN   \n",
       "stress                   NaN           NaN        NaN       NaN           NaN   \n",
       "külgaken                 NaN           NaN        NaN       NaN           NaN   \n",
       "läbivaatamine            NaN           NaN        NaN       NaN           NaN   \n",
       "kuulsus                  NaN           NaN        NaN       NaN           NaN   \n",
       "\n",
       "               alasti kärniline hoovav sellekevadine mässav  ... sõnaosav  \\\n",
       "isetegevuslane    NaN       NaN    NaN           NaN    NaN  ...      NaN   \n",
       "stress            NaN       NaN    NaN           NaN    NaN  ...      NaN   \n",
       "külgaken          NaN       NaN    NaN           NaN    NaN  ...      NaN   \n",
       "läbivaatamine     NaN       NaN    NaN           NaN    NaN  ...      NaN   \n",
       "kuulsus           NaN       NaN    NaN           NaN    NaN  ...      NaN   \n",
       "\n",
       "               jäetud elektrontorm beež kardiokirurgiline teadlik  \\\n",
       "isetegevuslane    NaN          NaN  NaN               NaN     NaN   \n",
       "stress            NaN          NaN  NaN               NaN     NaN   \n",
       "külgaken          NaN          NaN  NaN               NaN     NaN   \n",
       "läbivaatamine     NaN          NaN  NaN               NaN     NaN   \n",
       "kuulsus           NaN          NaN  NaN               NaN     NaN   \n",
       "\n",
       "               käskkirjaline kombanud kaame kevadöine  \n",
       "isetegevuslane           NaN      NaN   NaN       NaN  \n",
       "stress                   NaN      NaN   NaN       NaN  \n",
       "külgaken                 NaN      NaN   NaN       NaN  \n",
       "läbivaatamine            NaN      NaN   NaN       NaN  \n",
       "kuulsus                  NaN      NaN   NaN       NaN  \n",
       "\n",
       "[5 rows x 7951 columns]"
      ]
     },
     "execution_count": 15,
     "metadata": {},
     "output_type": "execute_result"
    }
   ],
   "source": [
    "data = pd.DataFrame(None, index=nouns, columns=adjectives)\n",
    "data.head()"
   ]
  },
  {
   "cell_type": "code",
   "execution_count": 16,
   "metadata": {},
   "outputs": [],
   "source": [
    "for tup in all_pairs:\n",
    "    data.loc[tup[1], tup[0]] = tup[2]"
   ]
  },
  {
   "cell_type": "code",
   "execution_count": 17,
   "metadata": {},
   "outputs": [
    {
     "data": {
      "text/html": [
       "<div>\n",
       "<style scoped>\n",
       "    .dataframe tbody tr th:only-of-type {\n",
       "        vertical-align: middle;\n",
       "    }\n",
       "\n",
       "    .dataframe tbody tr th {\n",
       "        vertical-align: top;\n",
       "    }\n",
       "\n",
       "    .dataframe thead th {\n",
       "        text-align: right;\n",
       "    }\n",
       "</style>\n",
       "<table border=\"1\" class=\"dataframe\">\n",
       "  <thead>\n",
       "    <tr style=\"text-align: right;\">\n",
       "      <th></th>\n",
       "      <th>topeltõieline</th>\n",
       "      <th>halvaksläinud</th>\n",
       "      <th>kaaskondne</th>\n",
       "      <th>stabiilne</th>\n",
       "      <th>Uraali-tagune</th>\n",
       "      <th>alasti</th>\n",
       "      <th>kärniline</th>\n",
       "      <th>hoovav</th>\n",
       "      <th>sellekevadine</th>\n",
       "      <th>mässav</th>\n",
       "      <th>...</th>\n",
       "      <th>sõnaosav</th>\n",
       "      <th>jäetud</th>\n",
       "      <th>elektrontorm</th>\n",
       "      <th>beež</th>\n",
       "      <th>kardiokirurgiline</th>\n",
       "      <th>teadlik</th>\n",
       "      <th>käskkirjaline</th>\n",
       "      <th>kombanud</th>\n",
       "      <th>kaame</th>\n",
       "      <th>kevadöine</th>\n",
       "    </tr>\n",
       "  </thead>\n",
       "  <tbody>\n",
       "    <tr>\n",
       "      <th>isetegevuslane</th>\n",
       "      <td>0</td>\n",
       "      <td>0</td>\n",
       "      <td>0</td>\n",
       "      <td>0</td>\n",
       "      <td>0</td>\n",
       "      <td>0</td>\n",
       "      <td>0</td>\n",
       "      <td>0</td>\n",
       "      <td>0</td>\n",
       "      <td>0</td>\n",
       "      <td>...</td>\n",
       "      <td>0</td>\n",
       "      <td>0</td>\n",
       "      <td>0</td>\n",
       "      <td>0</td>\n",
       "      <td>0</td>\n",
       "      <td>0</td>\n",
       "      <td>0</td>\n",
       "      <td>0</td>\n",
       "      <td>0</td>\n",
       "      <td>0</td>\n",
       "    </tr>\n",
       "    <tr>\n",
       "      <th>stress</th>\n",
       "      <td>0</td>\n",
       "      <td>0</td>\n",
       "      <td>0</td>\n",
       "      <td>0</td>\n",
       "      <td>0</td>\n",
       "      <td>0</td>\n",
       "      <td>0</td>\n",
       "      <td>0</td>\n",
       "      <td>0</td>\n",
       "      <td>0</td>\n",
       "      <td>...</td>\n",
       "      <td>0</td>\n",
       "      <td>0</td>\n",
       "      <td>0</td>\n",
       "      <td>0</td>\n",
       "      <td>0</td>\n",
       "      <td>0</td>\n",
       "      <td>0</td>\n",
       "      <td>0</td>\n",
       "      <td>0</td>\n",
       "      <td>0</td>\n",
       "    </tr>\n",
       "    <tr>\n",
       "      <th>külgaken</th>\n",
       "      <td>0</td>\n",
       "      <td>0</td>\n",
       "      <td>0</td>\n",
       "      <td>0</td>\n",
       "      <td>0</td>\n",
       "      <td>0</td>\n",
       "      <td>0</td>\n",
       "      <td>0</td>\n",
       "      <td>0</td>\n",
       "      <td>0</td>\n",
       "      <td>...</td>\n",
       "      <td>0</td>\n",
       "      <td>0</td>\n",
       "      <td>0</td>\n",
       "      <td>0</td>\n",
       "      <td>0</td>\n",
       "      <td>0</td>\n",
       "      <td>0</td>\n",
       "      <td>0</td>\n",
       "      <td>0</td>\n",
       "      <td>0</td>\n",
       "    </tr>\n",
       "    <tr>\n",
       "      <th>läbivaatamine</th>\n",
       "      <td>0</td>\n",
       "      <td>0</td>\n",
       "      <td>0</td>\n",
       "      <td>0</td>\n",
       "      <td>0</td>\n",
       "      <td>0</td>\n",
       "      <td>0</td>\n",
       "      <td>0</td>\n",
       "      <td>0</td>\n",
       "      <td>0</td>\n",
       "      <td>...</td>\n",
       "      <td>0</td>\n",
       "      <td>0</td>\n",
       "      <td>0</td>\n",
       "      <td>0</td>\n",
       "      <td>0</td>\n",
       "      <td>0</td>\n",
       "      <td>0</td>\n",
       "      <td>0</td>\n",
       "      <td>0</td>\n",
       "      <td>0</td>\n",
       "    </tr>\n",
       "    <tr>\n",
       "      <th>kuulsus</th>\n",
       "      <td>0</td>\n",
       "      <td>0</td>\n",
       "      <td>0</td>\n",
       "      <td>0</td>\n",
       "      <td>0</td>\n",
       "      <td>0</td>\n",
       "      <td>0</td>\n",
       "      <td>0</td>\n",
       "      <td>0</td>\n",
       "      <td>0</td>\n",
       "      <td>...</td>\n",
       "      <td>0</td>\n",
       "      <td>0</td>\n",
       "      <td>0</td>\n",
       "      <td>0</td>\n",
       "      <td>0</td>\n",
       "      <td>0</td>\n",
       "      <td>0</td>\n",
       "      <td>0</td>\n",
       "      <td>0</td>\n",
       "      <td>0</td>\n",
       "    </tr>\n",
       "  </tbody>\n",
       "</table>\n",
       "<p>5 rows × 7951 columns</p>\n",
       "</div>"
      ],
      "text/plain": [
       "                topeltõieline  halvaksläinud  kaaskondne  stabiilne  \\\n",
       "isetegevuslane              0              0           0          0   \n",
       "stress                      0              0           0          0   \n",
       "külgaken                    0              0           0          0   \n",
       "läbivaatamine               0              0           0          0   \n",
       "kuulsus                     0              0           0          0   \n",
       "\n",
       "                Uraali-tagune  alasti  kärniline  hoovav  sellekevadine  \\\n",
       "isetegevuslane              0       0          0       0              0   \n",
       "stress                      0       0          0       0              0   \n",
       "külgaken                    0       0          0       0              0   \n",
       "läbivaatamine               0       0          0       0              0   \n",
       "kuulsus                     0       0          0       0              0   \n",
       "\n",
       "                mässav  ...  sõnaosav  jäetud  elektrontorm  beež  \\\n",
       "isetegevuslane       0  ...         0       0             0     0   \n",
       "stress               0  ...         0       0             0     0   \n",
       "külgaken             0  ...         0       0             0     0   \n",
       "läbivaatamine        0  ...         0       0             0     0   \n",
       "kuulsus              0  ...         0       0             0     0   \n",
       "\n",
       "                kardiokirurgiline  teadlik  käskkirjaline  kombanud  kaame  \\\n",
       "isetegevuslane                  0        0              0         0      0   \n",
       "stress                          0        0              0         0      0   \n",
       "külgaken                        0        0              0         0      0   \n",
       "läbivaatamine                   0        0              0         0      0   \n",
       "kuulsus                         0        0              0         0      0   \n",
       "\n",
       "                kevadöine  \n",
       "isetegevuslane          0  \n",
       "stress                  0  \n",
       "külgaken                0  \n",
       "läbivaatamine           0  \n",
       "kuulsus                 0  \n",
       "\n",
       "[5 rows x 7951 columns]"
      ]
     },
     "execution_count": 17,
     "metadata": {},
     "output_type": "execute_result"
    }
   ],
   "source": [
    "data = data.fillna(0)\n",
    "data.head()"
   ]
  },
  {
   "cell_type": "code",
   "execution_count": 18,
   "metadata": {},
   "outputs": [],
   "source": [
    "from sklearn.decomposition import LatentDirichletAllocation\n",
    "import numpy as np"
   ]
  },
  {
   "cell_type": "code",
   "execution_count": 24,
   "metadata": {},
   "outputs": [],
   "source": [
    "lda = LatentDirichletAllocation(n_components=500)"
   ]
  },
  {
   "cell_type": "code",
   "execution_count": 25,
   "metadata": {},
   "outputs": [
    {
     "data": {
      "text/plain": [
       "array([[1.00000000e-03, 1.00000000e-03, 1.00000000e-03, ...,\n",
       "        1.00000000e-03, 1.00000000e-03, 1.00000000e-03],\n",
       "       [1.00000000e-03, 1.00000000e-03, 1.00000000e-03, ...,\n",
       "        1.00000000e-03, 1.00000000e-03, 1.00000000e-03],\n",
       "       [5.00000000e-04, 5.00000000e-04, 5.00000000e-04, ...,\n",
       "        5.00000000e-04, 5.00000000e-04, 5.00000000e-04],\n",
       "       ...,\n",
       "       [4.00000000e-04, 4.00000000e-04, 4.00000000e-04, ...,\n",
       "        4.00000000e-04, 4.00000000e-04, 4.00000000e-04],\n",
       "       [9.09090909e-05, 9.09090909e-05, 9.09090909e-05, ...,\n",
       "        9.09090909e-05, 9.09090909e-05, 9.09090909e-05],\n",
       "       [1.00000000e-03, 1.00000000e-03, 1.00000000e-03, ...,\n",
       "        1.00000000e-03, 1.00000000e-03, 1.00000000e-03]])"
      ]
     },
     "execution_count": 25,
     "metadata": {},
     "output_type": "execute_result"
    }
   ],
   "source": [
    "lda.fit_transform(data)"
   ]
  },
  {
   "cell_type": "code",
   "execution_count": 26,
   "metadata": {},
   "outputs": [],
   "source": [
    "topics = {}\n",
    "for i in range(500):\n",
    "    topics[i] = []\n",
    "\n",
    "topic_probs = lda.transform(data)\n",
    "for i, prob in enumerate(topic_probs):\n",
    "    topics[np.argmax(prob)].append(data.index[i])"
   ]
  },
  {
   "cell_type": "code",
   "execution_count": 27,
   "metadata": {},
   "outputs": [
    {
     "data": {
      "text/plain": [
       "21"
      ]
     },
     "execution_count": 27,
     "metadata": {},
     "output_type": "execute_result"
    }
   ],
   "source": [
    "empty = 0\n",
    "\n",
    "for i in range(500):\n",
    "    if len(topics[i]) == 0:\n",
    "        empty += 1\n",
    "        \n",
    "empty"
   ]
  },
  {
   "cell_type": "code",
   "execution_count": 31,
   "metadata": {},
   "outputs": [
    {
     "data": {
      "text/plain": [
       "['teadmatus', 'khaaniperekond', 'rannik', 'mägijärv', 'urgas', 'mäekuru']"
      ]
     },
     "execution_count": 31,
     "metadata": {},
     "output_type": "execute_result"
    }
   ],
   "source": [
    "topics[1]"
   ]
  },
  {
   "cell_type": "markdown",
   "metadata": {},
   "source": [
    "### Heatmap"
   ]
  },
  {
   "cell_type": "code",
   "execution_count": 40,
   "metadata": {},
   "outputs": [],
   "source": [
    "import seaborn as sns\n",
    "from matplotlib import pyplot as plt"
   ]
  },
  {
   "cell_type": "code",
   "execution_count": 34,
   "metadata": {},
   "outputs": [
    {
     "data": {
      "text/plain": [
       "numpy.ndarray"
      ]
     },
     "execution_count": 34,
     "metadata": {},
     "output_type": "execute_result"
    }
   ],
   "source": [
    "type(topic_probs)"
   ]
  },
  {
   "cell_type": "code",
   "execution_count": 37,
   "metadata": {},
   "outputs": [
    {
     "data": {
      "text/html": [
       "<div>\n",
       "<style scoped>\n",
       "    .dataframe tbody tr th:only-of-type {\n",
       "        vertical-align: middle;\n",
       "    }\n",
       "\n",
       "    .dataframe tbody tr th {\n",
       "        vertical-align: top;\n",
       "    }\n",
       "\n",
       "    .dataframe thead th {\n",
       "        text-align: right;\n",
       "    }\n",
       "</style>\n",
       "<table border=\"1\" class=\"dataframe\">\n",
       "  <thead>\n",
       "    <tr style=\"text-align: right;\">\n",
       "      <th></th>\n",
       "      <th>0</th>\n",
       "      <th>1</th>\n",
       "      <th>2</th>\n",
       "      <th>3</th>\n",
       "      <th>4</th>\n",
       "      <th>5</th>\n",
       "      <th>6</th>\n",
       "      <th>7</th>\n",
       "      <th>8</th>\n",
       "      <th>9</th>\n",
       "      <th>...</th>\n",
       "      <th>490</th>\n",
       "      <th>491</th>\n",
       "      <th>492</th>\n",
       "      <th>493</th>\n",
       "      <th>494</th>\n",
       "      <th>495</th>\n",
       "      <th>496</th>\n",
       "      <th>497</th>\n",
       "      <th>498</th>\n",
       "      <th>499</th>\n",
       "    </tr>\n",
       "  </thead>\n",
       "  <tbody>\n",
       "    <tr>\n",
       "      <th>0</th>\n",
       "      <td>0.001000</td>\n",
       "      <td>0.001000</td>\n",
       "      <td>0.001000</td>\n",
       "      <td>0.001000</td>\n",
       "      <td>0.001000</td>\n",
       "      <td>0.001000</td>\n",
       "      <td>0.00100</td>\n",
       "      <td>0.001000</td>\n",
       "      <td>0.001000</td>\n",
       "      <td>0.001000</td>\n",
       "      <td>...</td>\n",
       "      <td>0.001000</td>\n",
       "      <td>0.001000</td>\n",
       "      <td>0.001000</td>\n",
       "      <td>0.001000</td>\n",
       "      <td>0.001000</td>\n",
       "      <td>0.001000</td>\n",
       "      <td>0.001000</td>\n",
       "      <td>0.001000</td>\n",
       "      <td>0.001000</td>\n",
       "      <td>0.001000</td>\n",
       "    </tr>\n",
       "    <tr>\n",
       "      <th>1</th>\n",
       "      <td>0.001000</td>\n",
       "      <td>0.001000</td>\n",
       "      <td>0.001000</td>\n",
       "      <td>0.001000</td>\n",
       "      <td>0.001000</td>\n",
       "      <td>0.001000</td>\n",
       "      <td>0.00100</td>\n",
       "      <td>0.001000</td>\n",
       "      <td>0.001000</td>\n",
       "      <td>0.001000</td>\n",
       "      <td>...</td>\n",
       "      <td>0.001000</td>\n",
       "      <td>0.001000</td>\n",
       "      <td>0.001000</td>\n",
       "      <td>0.001000</td>\n",
       "      <td>0.001000</td>\n",
       "      <td>0.001000</td>\n",
       "      <td>0.001000</td>\n",
       "      <td>0.001000</td>\n",
       "      <td>0.001000</td>\n",
       "      <td>0.001000</td>\n",
       "    </tr>\n",
       "    <tr>\n",
       "      <th>2</th>\n",
       "      <td>0.000500</td>\n",
       "      <td>0.000500</td>\n",
       "      <td>0.000500</td>\n",
       "      <td>0.000500</td>\n",
       "      <td>0.000500</td>\n",
       "      <td>0.000500</td>\n",
       "      <td>0.00050</td>\n",
       "      <td>0.000500</td>\n",
       "      <td>0.000500</td>\n",
       "      <td>0.000500</td>\n",
       "      <td>...</td>\n",
       "      <td>0.000500</td>\n",
       "      <td>0.250500</td>\n",
       "      <td>0.000500</td>\n",
       "      <td>0.000500</td>\n",
       "      <td>0.000500</td>\n",
       "      <td>0.000500</td>\n",
       "      <td>0.000500</td>\n",
       "      <td>0.000500</td>\n",
       "      <td>0.000500</td>\n",
       "      <td>0.000500</td>\n",
       "    </tr>\n",
       "    <tr>\n",
       "      <th>3</th>\n",
       "      <td>0.001000</td>\n",
       "      <td>0.001000</td>\n",
       "      <td>0.001000</td>\n",
       "      <td>0.001000</td>\n",
       "      <td>0.001000</td>\n",
       "      <td>0.001000</td>\n",
       "      <td>0.00100</td>\n",
       "      <td>0.001000</td>\n",
       "      <td>0.001000</td>\n",
       "      <td>0.001000</td>\n",
       "      <td>...</td>\n",
       "      <td>0.001000</td>\n",
       "      <td>0.001000</td>\n",
       "      <td>0.001000</td>\n",
       "      <td>0.001000</td>\n",
       "      <td>0.001000</td>\n",
       "      <td>0.001000</td>\n",
       "      <td>0.001000</td>\n",
       "      <td>0.001000</td>\n",
       "      <td>0.001000</td>\n",
       "      <td>0.001000</td>\n",
       "    </tr>\n",
       "    <tr>\n",
       "      <th>4</th>\n",
       "      <td>0.000111</td>\n",
       "      <td>0.000111</td>\n",
       "      <td>0.000111</td>\n",
       "      <td>0.000111</td>\n",
       "      <td>0.000111</td>\n",
       "      <td>0.000111</td>\n",
       "      <td>0.06265</td>\n",
       "      <td>0.000111</td>\n",
       "      <td>0.000111</td>\n",
       "      <td>0.000111</td>\n",
       "      <td>...</td>\n",
       "      <td>0.000111</td>\n",
       "      <td>0.000111</td>\n",
       "      <td>0.000111</td>\n",
       "      <td>0.000111</td>\n",
       "      <td>0.000111</td>\n",
       "      <td>0.000111</td>\n",
       "      <td>0.000111</td>\n",
       "      <td>0.000111</td>\n",
       "      <td>0.000111</td>\n",
       "      <td>0.000111</td>\n",
       "    </tr>\n",
       "  </tbody>\n",
       "</table>\n",
       "<p>5 rows × 500 columns</p>\n",
       "</div>"
      ],
      "text/plain": [
       "        0         1         2         3         4         5        6    \\\n",
       "0  0.001000  0.001000  0.001000  0.001000  0.001000  0.001000  0.00100   \n",
       "1  0.001000  0.001000  0.001000  0.001000  0.001000  0.001000  0.00100   \n",
       "2  0.000500  0.000500  0.000500  0.000500  0.000500  0.000500  0.00050   \n",
       "3  0.001000  0.001000  0.001000  0.001000  0.001000  0.001000  0.00100   \n",
       "4  0.000111  0.000111  0.000111  0.000111  0.000111  0.000111  0.06265   \n",
       "\n",
       "        7         8         9    ...       490       491       492       493  \\\n",
       "0  0.001000  0.001000  0.001000  ...  0.001000  0.001000  0.001000  0.001000   \n",
       "1  0.001000  0.001000  0.001000  ...  0.001000  0.001000  0.001000  0.001000   \n",
       "2  0.000500  0.000500  0.000500  ...  0.000500  0.250500  0.000500  0.000500   \n",
       "3  0.001000  0.001000  0.001000  ...  0.001000  0.001000  0.001000  0.001000   \n",
       "4  0.000111  0.000111  0.000111  ...  0.000111  0.000111  0.000111  0.000111   \n",
       "\n",
       "        494       495       496       497       498       499  \n",
       "0  0.001000  0.001000  0.001000  0.001000  0.001000  0.001000  \n",
       "1  0.001000  0.001000  0.001000  0.001000  0.001000  0.001000  \n",
       "2  0.000500  0.000500  0.000500  0.000500  0.000500  0.000500  \n",
       "3  0.001000  0.001000  0.001000  0.001000  0.001000  0.001000  \n",
       "4  0.000111  0.000111  0.000111  0.000111  0.000111  0.000111  \n",
       "\n",
       "[5 rows x 500 columns]"
      ]
     },
     "execution_count": 37,
     "metadata": {},
     "output_type": "execute_result"
    }
   ],
   "source": [
    "data_pd_lda_features = pd.DataFrame(topic_probs)\n",
    "data_pd_lda_features.head()"
   ]
  },
  {
   "cell_type": "code",
   "execution_count": 45,
   "metadata": {},
   "outputs": [
    {
     "data": {
      "text/plain": [
       "<AxesSubplot:>"
      ]
     },
     "execution_count": 45,
     "metadata": {},
     "output_type": "execute_result"
    },
    {
     "data": {
      "image/png": "[encoded data removed]",
      "text/plain": [
       "<Figure size 1490.4x595.44 with 2 Axes>"
      ]
     },
     "metadata": {
      "needs_background": "light"
     },
     "output_type": "display_data"
    }
   ],
   "source": [
    "fig, ax = plt.subplots()\n",
    "# the size of A4 paper\n",
    "fig.set_size_inches(20.7, 8.27)\n",
    "sns.heatmap(data_pd_lda_features[list(range(30))].corr(method = 'spearman'), cmap=\"RdYlGn\", ax = ax)"
   ]
  },
  {
   "cell_type": "markdown",
   "metadata": {},
   "source": [
    "### With fewer words"
   ]
  },
  {
   "cell_type": "code",
   "execution_count": 48,
   "metadata": {},
   "outputs": [],
   "source": [
    "to_use = []\n",
    "\n",
    "for noun in data.index:\n",
    "    if len([val for val in data.loc[noun] if val != 0]) >= 10:\n",
    "        to_use.append(noun)"
   ]
  },
  {
   "cell_type": "code",
   "execution_count": 49,
   "metadata": {},
   "outputs": [],
   "source": [
    "new_data = data.loc[to_use]"
   ]
  },
  {
   "cell_type": "code",
   "execution_count": 50,
   "metadata": {},
   "outputs": [],
   "source": [
    "lda2 = LatentDirichletAllocation(n_components=100)"
   ]
  },
  {
   "cell_type": "code",
   "execution_count": 51,
   "metadata": {},
   "outputs": [
    {
     "data": {
      "text/plain": [
       "array([[5.55555556e-04, 5.55555556e-04, 5.55555556e-04, ...,\n",
       "        5.55555556e-04, 5.68150182e-01, 5.55555556e-04],\n",
       "       [3.03030303e-04, 3.03030303e-04, 3.03030303e-04, ...,\n",
       "        3.03030303e-04, 3.03030303e-04, 3.03030303e-04],\n",
       "       [5.55555556e-04, 5.55555556e-04, 5.55555556e-04, ...,\n",
       "        5.55555556e-04, 5.55555556e-04, 5.55555556e-04],\n",
       "       ...,\n",
       "       [6.66666667e-04, 6.66666667e-04, 6.66666667e-04, ...,\n",
       "        6.66666667e-04, 6.66666667e-04, 6.66666667e-04],\n",
       "       [7.69230769e-04, 7.69230769e-04, 7.69230769e-04, ...,\n",
       "        7.69230769e-04, 7.69230769e-04, 7.69230769e-04],\n",
       "       [4.54545455e-04, 4.54545455e-04, 4.54545455e-04, ...,\n",
       "        4.54545455e-04, 4.54545455e-04, 4.54545455e-04]])"
      ]
     },
     "execution_count": 51,
     "metadata": {},
     "output_type": "execute_result"
    }
   ],
   "source": [
    "lda2.fit_transform(new_data)"
   ]
  },
  {
   "cell_type": "code",
   "execution_count": 52,
   "metadata": {},
   "outputs": [],
   "source": [
    "topics2 = {}\n",
    "for i in range(100):\n",
    "    topics2[i] = []\n",
    "\n",
    "topic_probs2 = lda2.transform(new_data)\n",
    "for i, prob in enumerate(topic_probs2):\n",
    "    topics2[np.argmax(prob)].append(new_data.index[i])"
   ]
  },
  {
   "cell_type": "code",
   "execution_count": 53,
   "metadata": {},
   "outputs": [
    {
     "data": {
      "text/html": [
       "<div>\n",
       "<style scoped>\n",
       "    .dataframe tbody tr th:only-of-type {\n",
       "        vertical-align: middle;\n",
       "    }\n",
       "\n",
       "    .dataframe tbody tr th {\n",
       "        vertical-align: top;\n",
       "    }\n",
       "\n",
       "    .dataframe thead th {\n",
       "        text-align: right;\n",
       "    }\n",
       "</style>\n",
       "<table border=\"1\" class=\"dataframe\">\n",
       "  <thead>\n",
       "    <tr style=\"text-align: right;\">\n",
       "      <th></th>\n",
       "      <th>0</th>\n",
       "      <th>1</th>\n",
       "      <th>2</th>\n",
       "      <th>3</th>\n",
       "      <th>4</th>\n",
       "      <th>5</th>\n",
       "      <th>6</th>\n",
       "      <th>7</th>\n",
       "      <th>8</th>\n",
       "      <th>9</th>\n",
       "      <th>...</th>\n",
       "      <th>90</th>\n",
       "      <th>91</th>\n",
       "      <th>92</th>\n",
       "      <th>93</th>\n",
       "      <th>94</th>\n",
       "      <th>95</th>\n",
       "      <th>96</th>\n",
       "      <th>97</th>\n",
       "      <th>98</th>\n",
       "      <th>99</th>\n",
       "    </tr>\n",
       "  </thead>\n",
       "  <tbody>\n",
       "    <tr>\n",
       "      <th>0</th>\n",
       "      <td>0.000556</td>\n",
       "      <td>0.000556</td>\n",
       "      <td>0.000556</td>\n",
       "      <td>0.000556</td>\n",
       "      <td>0.000556</td>\n",
       "      <td>0.000556</td>\n",
       "      <td>0.000556</td>\n",
       "      <td>0.000556</td>\n",
       "      <td>0.000556</td>\n",
       "      <td>0.000556</td>\n",
       "      <td>...</td>\n",
       "      <td>0.000556</td>\n",
       "      <td>0.000556</td>\n",
       "      <td>0.000556</td>\n",
       "      <td>0.000556</td>\n",
       "      <td>0.000556</td>\n",
       "      <td>0.000556</td>\n",
       "      <td>0.000556</td>\n",
       "      <td>0.000556</td>\n",
       "      <td>0.568150</td>\n",
       "      <td>0.000556</td>\n",
       "    </tr>\n",
       "    <tr>\n",
       "      <th>1</th>\n",
       "      <td>0.000303</td>\n",
       "      <td>0.000303</td>\n",
       "      <td>0.000303</td>\n",
       "      <td>0.000303</td>\n",
       "      <td>0.000303</td>\n",
       "      <td>0.000303</td>\n",
       "      <td>0.000303</td>\n",
       "      <td>0.000303</td>\n",
       "      <td>0.000303</td>\n",
       "      <td>0.000303</td>\n",
       "      <td>...</td>\n",
       "      <td>0.627060</td>\n",
       "      <td>0.000303</td>\n",
       "      <td>0.000303</td>\n",
       "      <td>0.000303</td>\n",
       "      <td>0.000303</td>\n",
       "      <td>0.000303</td>\n",
       "      <td>0.000303</td>\n",
       "      <td>0.000303</td>\n",
       "      <td>0.000303</td>\n",
       "      <td>0.000303</td>\n",
       "    </tr>\n",
       "    <tr>\n",
       "      <th>2</th>\n",
       "      <td>0.000556</td>\n",
       "      <td>0.000556</td>\n",
       "      <td>0.000556</td>\n",
       "      <td>0.000556</td>\n",
       "      <td>0.000556</td>\n",
       "      <td>0.000556</td>\n",
       "      <td>0.000556</td>\n",
       "      <td>0.000556</td>\n",
       "      <td>0.000556</td>\n",
       "      <td>0.000556</td>\n",
       "      <td>...</td>\n",
       "      <td>0.153966</td>\n",
       "      <td>0.000556</td>\n",
       "      <td>0.000556</td>\n",
       "      <td>0.000556</td>\n",
       "      <td>0.000556</td>\n",
       "      <td>0.000556</td>\n",
       "      <td>0.000556</td>\n",
       "      <td>0.000556</td>\n",
       "      <td>0.000556</td>\n",
       "      <td>0.000556</td>\n",
       "    </tr>\n",
       "    <tr>\n",
       "      <th>3</th>\n",
       "      <td>0.000127</td>\n",
       "      <td>0.000127</td>\n",
       "      <td>0.000127</td>\n",
       "      <td>0.000127</td>\n",
       "      <td>0.000127</td>\n",
       "      <td>0.000127</td>\n",
       "      <td>0.000127</td>\n",
       "      <td>0.000127</td>\n",
       "      <td>0.000127</td>\n",
       "      <td>0.000127</td>\n",
       "      <td>...</td>\n",
       "      <td>0.000127</td>\n",
       "      <td>0.000127</td>\n",
       "      <td>0.000127</td>\n",
       "      <td>0.000127</td>\n",
       "      <td>0.000127</td>\n",
       "      <td>0.000127</td>\n",
       "      <td>0.000127</td>\n",
       "      <td>0.000127</td>\n",
       "      <td>0.000127</td>\n",
       "      <td>0.000127</td>\n",
       "    </tr>\n",
       "    <tr>\n",
       "      <th>4</th>\n",
       "      <td>0.000256</td>\n",
       "      <td>0.000256</td>\n",
       "      <td>0.000256</td>\n",
       "      <td>0.000256</td>\n",
       "      <td>0.000256</td>\n",
       "      <td>0.000256</td>\n",
       "      <td>0.000256</td>\n",
       "      <td>0.000256</td>\n",
       "      <td>0.000256</td>\n",
       "      <td>0.000256</td>\n",
       "      <td>...</td>\n",
       "      <td>0.000256</td>\n",
       "      <td>0.000256</td>\n",
       "      <td>0.000256</td>\n",
       "      <td>0.000256</td>\n",
       "      <td>0.000256</td>\n",
       "      <td>0.000256</td>\n",
       "      <td>0.000256</td>\n",
       "      <td>0.000256</td>\n",
       "      <td>0.000256</td>\n",
       "      <td>0.000256</td>\n",
       "    </tr>\n",
       "  </tbody>\n",
       "</table>\n",
       "<p>5 rows × 100 columns</p>\n",
       "</div>"
      ],
      "text/plain": [
       "         0         1         2         3         4         5         6   \\\n",
       "0  0.000556  0.000556  0.000556  0.000556  0.000556  0.000556  0.000556   \n",
       "1  0.000303  0.000303  0.000303  0.000303  0.000303  0.000303  0.000303   \n",
       "2  0.000556  0.000556  0.000556  0.000556  0.000556  0.000556  0.000556   \n",
       "3  0.000127  0.000127  0.000127  0.000127  0.000127  0.000127  0.000127   \n",
       "4  0.000256  0.000256  0.000256  0.000256  0.000256  0.000256  0.000256   \n",
       "\n",
       "         7         8         9   ...        90        91        92        93  \\\n",
       "0  0.000556  0.000556  0.000556  ...  0.000556  0.000556  0.000556  0.000556   \n",
       "1  0.000303  0.000303  0.000303  ...  0.627060  0.000303  0.000303  0.000303   \n",
       "2  0.000556  0.000556  0.000556  ...  0.153966  0.000556  0.000556  0.000556   \n",
       "3  0.000127  0.000127  0.000127  ...  0.000127  0.000127  0.000127  0.000127   \n",
       "4  0.000256  0.000256  0.000256  ...  0.000256  0.000256  0.000256  0.000256   \n",
       "\n",
       "         94        95        96        97        98        99  \n",
       "0  0.000556  0.000556  0.000556  0.000556  0.568150  0.000556  \n",
       "1  0.000303  0.000303  0.000303  0.000303  0.000303  0.000303  \n",
       "2  0.000556  0.000556  0.000556  0.000556  0.000556  0.000556  \n",
       "3  0.000127  0.000127  0.000127  0.000127  0.000127  0.000127  \n",
       "4  0.000256  0.000256  0.000256  0.000256  0.000256  0.000256  \n",
       "\n",
       "[5 rows x 100 columns]"
      ]
     },
     "execution_count": 53,
     "metadata": {},
     "output_type": "execute_result"
    }
   ],
   "source": [
    "data_pd_lda_features2 = pd.DataFrame(topic_probs2)\n",
    "data_pd_lda_features2.head()"
   ]
  },
  {
   "cell_type": "code",
   "execution_count": 57,
   "metadata": {},
   "outputs": [
    {
     "data": {
      "text/plain": [
       "<AxesSubplot:>"
      ]
     },
     "execution_count": 57,
     "metadata": {},
     "output_type": "execute_result"
    },
    {
     "data": {
      "image/png": "[encoded data removed]",
      "text/plain": [
       "<Figure size 1490.4x595.44 with 2 Axes>"
      ]
     },
     "metadata": {
      "needs_background": "light"
     },
     "output_type": "display_data"
    }
   ],
   "source": [
    "fig, ax = plt.subplots()\n",
    "# the size of A4 paper\n",
    "fig.set_size_inches(20.7, 8.27)\n",
    "sns.heatmap(data_pd_lda_features2.corr(method = 'spearman'), cmap=\"RdYlGn\", ax = ax)"
   ]
  },
  {
   "cell_type": "markdown",
   "metadata": {},
   "source": [
    "### With fewer words and higher pair counts"
   ]
  },
  {
   "cell_type": "code",
   "execution_count": 77,
   "metadata": {},
   "outputs": [],
   "source": [
    "to_use_new = []\n",
    "\n",
    "for noun in data.index:\n",
    "    if len([val for val in data.loc[noun] if val >= 5]) >= 5:\n",
    "        to_use_new.append(noun)"
   ]
  },
  {
   "cell_type": "code",
   "execution_count": 78,
   "metadata": {},
   "outputs": [
    {
     "data": {
      "text/plain": [
       "57"
      ]
     },
     "execution_count": 78,
     "metadata": {},
     "output_type": "execute_result"
    }
   ],
   "source": [
    "len(to_use_new)"
   ]
  },
  {
   "cell_type": "code",
   "execution_count": 85,
   "metadata": {},
   "outputs": [
    {
     "data": {
      "text/plain": [
       "array([[3.20621489e-04, 3.16045990e-04, 3.20422881e-04, 9.98729424e-01,\n",
       "        3.13485904e-04],\n",
       "       [6.85124923e-04, 6.73904836e-04, 4.95957733e-01, 5.02011662e-01,\n",
       "        6.71575408e-04],\n",
       "       [1.43118523e-01, 2.63717806e-02, 7.67239399e-01, 6.26918915e-02,\n",
       "        5.78405561e-04],\n",
       "       [9.94434194e-01, 1.39230378e-03, 1.39323786e-03, 1.39320446e-03,\n",
       "        1.38705977e-03],\n",
       "       [3.37222031e-04, 3.33669661e-04, 3.34937516e-04, 9.98662769e-01,\n",
       "        3.31401793e-04],\n",
       "       [5.06813097e-01, 1.24939690e-03, 2.12781995e-01, 2.77912157e-01,\n",
       "        1.24335492e-03],\n",
       "       [8.49673842e-01, 2.06030671e-04, 2.06482684e-04, 1.49709240e-01,\n",
       "        2.04405029e-04],\n",
       "       [5.16522173e-01, 1.72110984e-01, 3.07554864e-01, 1.92438641e-03,\n",
       "        1.88759371e-03],\n",
       "       [1.27959743e-03, 1.27218451e-03, 1.29026017e-03, 9.94893468e-01,\n",
       "        1.26449026e-03],\n",
       "       [8.97972258e-01, 7.35412827e-04, 4.08625268e-02, 5.97018279e-02,\n",
       "        7.27974814e-04],\n",
       "       [8.21228000e-01, 7.51972634e-04, 6.36936248e-02, 1.13586914e-01,\n",
       "        7.39488357e-04],\n",
       "       [2.87711086e-01, 1.09233861e-03, 1.09325769e-03, 3.75541785e-01,\n",
       "        3.34561533e-01],\n",
       "       [9.95966487e-01, 1.01354435e-03, 1.00276155e-03, 1.02033969e-03,\n",
       "        9.96867556e-04],\n",
       "       [1.56421563e-04, 1.54872396e-04, 9.99377167e-01, 1.57312576e-04,\n",
       "        1.54225990e-04],\n",
       "       [8.73379663e-01, 1.22487327e-01, 1.39981599e-03, 1.37954841e-03,\n",
       "        1.35364536e-03],\n",
       "       [1.27915103e-01, 8.20297367e-01, 5.11262644e-02, 3.33095118e-04,\n",
       "        3.28170996e-04],\n",
       "       [9.96040270e-01, 9.87734367e-04, 9.87421085e-04, 9.87947253e-04,\n",
       "        9.96626901e-04],\n",
       "       [9.93103199e-01, 1.71097823e-03, 1.74138719e-03, 1.74508513e-03,\n",
       "        1.69935008e-03],\n",
       "       [6.82421522e-04, 6.77459353e-04, 6.83255395e-04, 9.97279047e-01,\n",
       "        6.77816313e-04],\n",
       "       [3.44873536e-01, 2.30243966e-01, 1.67045583e-03, 4.21571100e-01,\n",
       "        1.64094260e-03],\n",
       "       [5.36401785e-01, 5.31317578e-04, 2.03776234e-02, 5.34572536e-04,\n",
       "        4.42154701e-01],\n",
       "       [4.22370832e-01, 1.33662510e-03, 1.32081118e-03, 1.26336214e-01,\n",
       "        4.48635518e-01],\n",
       "       [3.57058772e-04, 3.54101613e-04, 9.98583733e-01, 3.55057104e-04,\n",
       "        3.50049504e-04],\n",
       "       [3.37893332e-04, 3.35558659e-04, 3.39016285e-04, 9.98654161e-01,\n",
       "        3.33370272e-04],\n",
       "       [1.39938588e-01, 1.12950998e-03, 6.46051426e-02, 1.14038742e-03,\n",
       "        7.93186372e-01],\n",
       "       [1.05551509e-03, 1.04510440e-03, 1.05156734e-03, 9.95815059e-01,\n",
       "        1.03275418e-03],\n",
       "       [9.96879332e-01, 7.84113813e-04, 7.82886955e-04, 7.83808797e-04,\n",
       "        7.69858178e-04],\n",
       "       [4.68357675e-04, 4.63087256e-04, 4.65930185e-04, 9.98147113e-01,\n",
       "        4.55511907e-04],\n",
       "       [4.11700992e-01, 1.54657452e-02, 6.49263023e-04, 5.71540151e-01,\n",
       "        6.43848522e-04],\n",
       "       [9.04293573e-02, 1.26068322e-03, 1.26892954e-03, 9.05788759e-01,\n",
       "        1.25227047e-03],\n",
       "       [2.87784322e-04, 9.98858481e-01, 2.85952186e-04, 2.86714297e-04,\n",
       "        2.81068140e-04],\n",
       "       [2.43225072e-01, 1.16368641e-03, 8.79637655e-02, 2.72181100e-01,\n",
       "        3.95466375e-01],\n",
       "       [9.95595923e-01, 4.01521393e-03, 1.30194877e-04, 1.30248892e-04,\n",
       "        1.28419650e-04],\n",
       "       [8.00705490e-01, 2.20884297e-03, 1.92749307e-01, 2.18206490e-03,\n",
       "        2.15429486e-03],\n",
       "       [6.73528465e-04, 9.97320763e-01, 6.75687715e-04, 6.65486176e-04,\n",
       "        6.64534564e-04],\n",
       "       [3.68460864e-04, 9.98527969e-01, 3.69248994e-04, 3.70342004e-04,\n",
       "        3.63979465e-04],\n",
       "       [7.79601101e-01, 8.18680747e-04, 8.29315913e-04, 8.20792722e-04,\n",
       "        2.17930110e-01],\n",
       "       [1.97893415e-01, 6.42791278e-04, 4.66569698e-01, 3.34258107e-01,\n",
       "        6.35988143e-04],\n",
       "       [1.00783613e-03, 1.00863774e-03, 5.69734514e-01, 4.27269923e-01,\n",
       "        9.79088747e-04],\n",
       "       [3.68022579e-04, 9.98542685e-01, 3.62270918e-04, 3.66243989e-04,\n",
       "        3.60777479e-04],\n",
       "       [8.39321064e-04, 8.33573310e-04, 8.38608446e-04, 9.96667733e-01,\n",
       "        8.20763829e-04],\n",
       "       [6.63086110e-04, 6.60179530e-04, 5.06731694e-01, 4.91292337e-01,\n",
       "        6.52703021e-04],\n",
       "       [3.43256241e-01, 2.65675751e-01, 1.19151254e-03, 1.17399639e-03,\n",
       "        3.88702499e-01],\n",
       "       [1.31351133e-03, 1.30366532e-03, 1.31353882e-03, 9.94773658e-01,\n",
       "        1.29562651e-03],\n",
       "       [1.01539847e-01, 8.97355258e-01, 3.70124106e-04, 3.73088449e-04,\n",
       "        3.61683015e-04],\n",
       "       [1.12729329e-03, 8.34498810e-01, 1.62125661e-01, 1.13754908e-03,\n",
       "        1.11068658e-03],\n",
       "       [1.16031774e-01, 1.17967588e-03, 8.34587848e-01, 4.70383085e-02,\n",
       "        1.16239325e-03],\n",
       "       [1.08552785e-03, 1.09448087e-03, 1.08654176e-03, 9.95661595e-01,\n",
       "        1.07185414e-03],\n",
       "       [6.18879044e-04, 6.16472808e-04, 6.18372742e-04, 9.97537440e-01,\n",
       "        6.08834924e-04],\n",
       "       [7.70007486e-04, 7.65743727e-04, 9.96925472e-01, 7.76341226e-04,\n",
       "        7.62435930e-04],\n",
       "       [7.35585076e-01, 1.01897400e-03, 1.02615854e-03, 8.84261750e-02,\n",
       "        1.73943617e-01],\n",
       "       [6.92942769e-01, 9.69308609e-04, 9.67040218e-04, 3.04163747e-01,\n",
       "        9.57135617e-04],\n",
       "       [9.42619603e-01, 1.21889673e-03, 5.37034781e-02, 1.24183296e-03,\n",
       "        1.21618961e-03],\n",
       "       [6.23027144e-01, 1.58381752e-03, 3.72258734e-01, 1.57958458e-03,\n",
       "        1.55071991e-03],\n",
       "       [9.98886526e-01, 2.79133826e-04, 2.79953679e-04, 2.79136350e-04,\n",
       "        2.75250166e-04],\n",
       "       [1.28755133e-03, 1.28475668e-03, 1.27771767e-03, 9.94884403e-01,\n",
       "        1.26557158e-03],\n",
       "       [5.61448644e-01, 1.70268576e-03, 1.70882390e-03, 4.33436593e-01,\n",
       "        1.70325331e-03]])"
      ]
     },
     "execution_count": 85,
     "metadata": {},
     "output_type": "execute_result"
    }
   ],
   "source": [
    "lda3 = LatentDirichletAllocation(n_components=5, random_state=17)\n",
    "lda3.fit_transform(data.loc[to_use_new])"
   ]
  },
  {
   "cell_type": "code",
   "execution_count": 86,
   "metadata": {},
   "outputs": [],
   "source": [
    "topics_test = {}\n",
    "for i in range(5):\n",
    "    topics_test[i] = []\n",
    "\n",
    "test = data.loc[to_use_new]\n",
    "    \n",
    "topic_probs_test = lda3.transform(test)\n",
    "for i, prob in enumerate(topic_probs_test):\n",
    "    topics_test[np.argmax(prob)].append(test.index[i])"
   ]
  },
  {
   "cell_type": "code",
   "execution_count": 87,
   "metadata": {},
   "outputs": [
    {
     "name": "stdout",
     "output_type": "stream",
     "text": [
      "[21, 7, 8, 17, 4]\n"
     ]
    }
   ],
   "source": [
    "print([len(topic) for topic in topics_test.values()])"
   ]
  },
  {
   "cell_type": "code",
   "execution_count": 94,
   "metadata": {},
   "outputs": [
    {
     "data": {
      "text/plain": [
       "['käsi', 'silm', 'juus', 'pilk', 'hääl', 'nägu', 'samm']"
      ]
     },
     "execution_count": 94,
     "metadata": {},
     "output_type": "execute_result"
    }
   ],
   "source": [
    "topics_test[1]"
   ]
  },
  {
   "cell_type": "code",
   "execution_count": 97,
   "metadata": {},
   "outputs": [
    {
     "data": {
      "text/plain": [
       "['tee', 'aeg', 'päev', 'töö', 'öö', 'aasta', 'õhtu', 'hetk']"
      ]
     },
     "execution_count": 97,
     "metadata": {},
     "output_type": "execute_result"
    }
   ],
   "source": [
    "topics_test[2]"
   ]
  },
  {
   "cell_type": "code",
   "execution_count": 99,
   "metadata": {},
   "outputs": [
    {
     "data": {
      "text/plain": [
       "['elu',\n",
       " 'kord',\n",
       " 'asi',\n",
       " 'võimalus',\n",
       " 'nimi',\n",
       " 'mõte',\n",
       " 'armastus',\n",
       " 'maailm',\n",
       " 'jõud',\n",
       " 'maa',\n",
       " 'keha',\n",
       " 'komme',\n",
       " 'jutt',\n",
       " 'olukord',\n",
       " 'küsimus',\n",
       " 'sõna',\n",
       " 'rahvas']"
      ]
     },
     "execution_count": 99,
     "metadata": {},
     "output_type": "execute_result"
    }
   ],
   "source": [
    "topics_test[3]"
   ]
  },
  {
   "cell_type": "code",
   "execution_count": 95,
   "metadata": {},
   "outputs": [
    {
     "data": {
      "text/html": [
       "<div>\n",
       "<style scoped>\n",
       "    .dataframe tbody tr th:only-of-type {\n",
       "        vertical-align: middle;\n",
       "    }\n",
       "\n",
       "    .dataframe tbody tr th {\n",
       "        vertical-align: top;\n",
       "    }\n",
       "\n",
       "    .dataframe thead th {\n",
       "        text-align: right;\n",
       "    }\n",
       "</style>\n",
       "<table border=\"1\" class=\"dataframe\">\n",
       "  <thead>\n",
       "    <tr style=\"text-align: right;\">\n",
       "      <th></th>\n",
       "      <th>0</th>\n",
       "      <th>1</th>\n",
       "      <th>2</th>\n",
       "      <th>3</th>\n",
       "      <th>4</th>\n",
       "    </tr>\n",
       "  </thead>\n",
       "  <tbody>\n",
       "    <tr>\n",
       "      <th>0</th>\n",
       "      <td>0.000321</td>\n",
       "      <td>0.000316</td>\n",
       "      <td>0.000320</td>\n",
       "      <td>0.998729</td>\n",
       "      <td>0.000313</td>\n",
       "    </tr>\n",
       "    <tr>\n",
       "      <th>1</th>\n",
       "      <td>0.000685</td>\n",
       "      <td>0.000674</td>\n",
       "      <td>0.495958</td>\n",
       "      <td>0.502012</td>\n",
       "      <td>0.000672</td>\n",
       "    </tr>\n",
       "    <tr>\n",
       "      <th>2</th>\n",
       "      <td>0.143119</td>\n",
       "      <td>0.026372</td>\n",
       "      <td>0.767239</td>\n",
       "      <td>0.062692</td>\n",
       "      <td>0.000578</td>\n",
       "    </tr>\n",
       "    <tr>\n",
       "      <th>3</th>\n",
       "      <td>0.994434</td>\n",
       "      <td>0.001392</td>\n",
       "      <td>0.001393</td>\n",
       "      <td>0.001393</td>\n",
       "      <td>0.001387</td>\n",
       "    </tr>\n",
       "    <tr>\n",
       "      <th>4</th>\n",
       "      <td>0.000337</td>\n",
       "      <td>0.000334</td>\n",
       "      <td>0.000335</td>\n",
       "      <td>0.998663</td>\n",
       "      <td>0.000331</td>\n",
       "    </tr>\n",
       "  </tbody>\n",
       "</table>\n",
       "</div>"
      ],
      "text/plain": [
       "          0         1         2         3         4\n",
       "0  0.000321  0.000316  0.000320  0.998729  0.000313\n",
       "1  0.000685  0.000674  0.495958  0.502012  0.000672\n",
       "2  0.143119  0.026372  0.767239  0.062692  0.000578\n",
       "3  0.994434  0.001392  0.001393  0.001393  0.001387\n",
       "4  0.000337  0.000334  0.000335  0.998663  0.000331"
      ]
     },
     "execution_count": 95,
     "metadata": {},
     "output_type": "execute_result"
    }
   ],
   "source": [
    "data_pd_lda_features3 = pd.DataFrame(topic_probs_test)\n",
    "data_pd_lda_features3.head()"
   ]
  },
  {
   "cell_type": "code",
   "execution_count": 96,
   "metadata": {},
   "outputs": [
    {
     "data": {
      "text/plain": [
       "<AxesSubplot:>"
      ]
     },
     "execution_count": 96,
     "metadata": {},
     "output_type": "execute_result"
    },
    {
     "data": {
      "image/png": "[encoded data removed]",
      "text/plain": [
       "<Figure size 1490.4x595.44 with 2 Axes>"
      ]
     },
     "metadata": {
      "needs_background": "light"
     },
     "output_type": "display_data"
    }
   ],
   "source": [
    "fig, ax = plt.subplots()\n",
    "# the size of A4 paper\n",
    "fig.set_size_inches(20.7, 8.27)\n",
    "sns.heatmap(data_pd_lda_features3.corr(method = 'spearman'), cmap=\"RdYlGn\", ax = ax)"
   ]
  }
 ],
 "metadata": {
  "kernelspec": {
   "display_name": "Python 3",
   "language": "python",
   "name": "python3"
  },
  "language_info": {
   "codemirror_mode": {
    "name": "ipython",
    "version": 3
   },
   "file_extension": ".py",
   "mimetype": "text/x-python",
   "name": "python",
   "nbconvert_exporter": "python",
   "pygments_lexer": "ipython3",
   "version": "3.7.3"
  }
 },
 "nbformat": 4,
 "nbformat_minor": 4
}
