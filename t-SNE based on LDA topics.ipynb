{
 "cells": [
  {
   "cell_type": "markdown",
   "metadata": {},
   "source": [
    "## Connect to database and read in data"
   ]
  },
  {
   "cell_type": "code",
   "execution_count": 1,
   "metadata": {},
   "outputs": [],
   "source": [
    "import psycopg2"
   ]
  },
  {
   "cell_type": "code",
   "execution_count": 2,
   "metadata": {},
   "outputs": [],
   "source": [
    "con = psycopg2.connect(user = \"postgres\",\n",
    "                       password = \"\",\n",
    "                       host = \"127.0.0.1\",\n",
    "                       port = \"5432\",\n",
    "                       database = \"adj_noun_pairs\")\n",
    "\n",
    "try:\n",
    "    cursor = con.cursor();\n",
    "except (Exception, psycopg2.Error) as error:\n",
    "    print(\"Error in Connection\",error)"
   ]
  },
  {
   "cell_type": "code",
   "execution_count": 3,
   "metadata": {},
   "outputs": [],
   "source": [
    "try:\n",
    "    cursor.execute(\"SELECT * FROM pair_counts_10000 WHERE noun IN (SELECT noun FROM pair_counts_10000 GROUP BY noun HAVING COUNT(*) >= 5) AND count >= 3;\")\n",
    "    pairs = cursor.fetchall() \n",
    "except (Exception, psycopg2.Error) as error:\n",
    "    con.rollback()\n",
    "    print(\"Error while inserting data into the table:\", error)"
   ]
  },
  {
   "cell_type": "code",
   "execution_count": 4,
   "metadata": {},
   "outputs": [
    {
     "data": {
      "text/plain": [
       "29112"
      ]
     },
     "execution_count": 4,
     "metadata": {},
     "output_type": "execute_result"
    }
   ],
   "source": [
    "len(pairs)"
   ]
  },
  {
   "cell_type": "code",
   "execution_count": 5,
   "metadata": {},
   "outputs": [],
   "source": [
    "adjs = list(set([pair[0] for pair in pairs]))\n",
    "nouns = list(set([pair[1] for pair in pairs]))"
   ]
  },
  {
   "cell_type": "code",
   "execution_count": 6,
   "metadata": {},
   "outputs": [
    {
     "name": "stdout",
     "output_type": "stream",
     "text": [
      "4373 3152\n"
     ]
    }
   ],
   "source": [
    "print(len(nouns), len(adjs))"
   ]
  },
  {
   "cell_type": "code",
   "execution_count": 7,
   "metadata": {},
   "outputs": [],
   "source": [
    "import pandas as pd\n",
    "import numpy as np"
   ]
  },
  {
   "cell_type": "code",
   "execution_count": 8,
   "metadata": {},
   "outputs": [
    {
     "data": {
      "text/html": [
       "<div>\n",
       "<style scoped>\n",
       "    .dataframe tbody tr th:only-of-type {\n",
       "        vertical-align: middle;\n",
       "    }\n",
       "\n",
       "    .dataframe tbody tr th {\n",
       "        vertical-align: top;\n",
       "    }\n",
       "\n",
       "    .dataframe thead th {\n",
       "        text-align: right;\n",
       "    }\n",
       "</style>\n",
       "<table border=\"1\" class=\"dataframe\">\n",
       "  <thead>\n",
       "    <tr style=\"text-align: right;\">\n",
       "      <th></th>\n",
       "      <th>hüpotekaarne</th>\n",
       "      <th>vääriv</th>\n",
       "      <th>lühike</th>\n",
       "      <th>tegelnud</th>\n",
       "      <th>entsefaliidijärgne</th>\n",
       "      <th>tõusev</th>\n",
       "      <th>kokkuleppeline</th>\n",
       "      <th>tervislik</th>\n",
       "      <th>purjus</th>\n",
       "      <th>võiv</th>\n",
       "      <th>...</th>\n",
       "      <th>kumer</th>\n",
       "      <th>aromaatne</th>\n",
       "      <th>ealine</th>\n",
       "      <th>pärilik</th>\n",
       "      <th>kingitud</th>\n",
       "      <th>tasane</th>\n",
       "      <th>tossav</th>\n",
       "      <th>eelajalooline</th>\n",
       "      <th>halvustav</th>\n",
       "      <th>graniitne</th>\n",
       "    </tr>\n",
       "  </thead>\n",
       "  <tbody>\n",
       "    <tr>\n",
       "      <th>optimism</th>\n",
       "      <td>0</td>\n",
       "      <td>0</td>\n",
       "      <td>0</td>\n",
       "      <td>0</td>\n",
       "      <td>0</td>\n",
       "      <td>0</td>\n",
       "      <td>0</td>\n",
       "      <td>0</td>\n",
       "      <td>0</td>\n",
       "      <td>0</td>\n",
       "      <td>...</td>\n",
       "      <td>0</td>\n",
       "      <td>0</td>\n",
       "      <td>0</td>\n",
       "      <td>0</td>\n",
       "      <td>0</td>\n",
       "      <td>0</td>\n",
       "      <td>0</td>\n",
       "      <td>0</td>\n",
       "      <td>0</td>\n",
       "      <td>0</td>\n",
       "    </tr>\n",
       "    <tr>\n",
       "      <th>siluett</th>\n",
       "      <td>0</td>\n",
       "      <td>0</td>\n",
       "      <td>0</td>\n",
       "      <td>0</td>\n",
       "      <td>0</td>\n",
       "      <td>0</td>\n",
       "      <td>0</td>\n",
       "      <td>0</td>\n",
       "      <td>0</td>\n",
       "      <td>0</td>\n",
       "      <td>...</td>\n",
       "      <td>0</td>\n",
       "      <td>0</td>\n",
       "      <td>0</td>\n",
       "      <td>0</td>\n",
       "      <td>0</td>\n",
       "      <td>0</td>\n",
       "      <td>0</td>\n",
       "      <td>0</td>\n",
       "      <td>0</td>\n",
       "      <td>0</td>\n",
       "    </tr>\n",
       "    <tr>\n",
       "      <th>valuutafond</th>\n",
       "      <td>0</td>\n",
       "      <td>0</td>\n",
       "      <td>0</td>\n",
       "      <td>0</td>\n",
       "      <td>0</td>\n",
       "      <td>0</td>\n",
       "      <td>0</td>\n",
       "      <td>0</td>\n",
       "      <td>0</td>\n",
       "      <td>0</td>\n",
       "      <td>...</td>\n",
       "      <td>0</td>\n",
       "      <td>0</td>\n",
       "      <td>0</td>\n",
       "      <td>0</td>\n",
       "      <td>0</td>\n",
       "      <td>0</td>\n",
       "      <td>0</td>\n",
       "      <td>0</td>\n",
       "      <td>0</td>\n",
       "      <td>0</td>\n",
       "    </tr>\n",
       "    <tr>\n",
       "      <th>käändevorm</th>\n",
       "      <td>0</td>\n",
       "      <td>0</td>\n",
       "      <td>0</td>\n",
       "      <td>0</td>\n",
       "      <td>0</td>\n",
       "      <td>0</td>\n",
       "      <td>0</td>\n",
       "      <td>0</td>\n",
       "      <td>0</td>\n",
       "      <td>0</td>\n",
       "      <td>...</td>\n",
       "      <td>0</td>\n",
       "      <td>0</td>\n",
       "      <td>0</td>\n",
       "      <td>0</td>\n",
       "      <td>0</td>\n",
       "      <td>0</td>\n",
       "      <td>0</td>\n",
       "      <td>0</td>\n",
       "      <td>0</td>\n",
       "      <td>0</td>\n",
       "    </tr>\n",
       "    <tr>\n",
       "      <th>õiguskord</th>\n",
       "      <td>0</td>\n",
       "      <td>0</td>\n",
       "      <td>0</td>\n",
       "      <td>0</td>\n",
       "      <td>0</td>\n",
       "      <td>0</td>\n",
       "      <td>0</td>\n",
       "      <td>0</td>\n",
       "      <td>0</td>\n",
       "      <td>0</td>\n",
       "      <td>...</td>\n",
       "      <td>0</td>\n",
       "      <td>0</td>\n",
       "      <td>0</td>\n",
       "      <td>0</td>\n",
       "      <td>0</td>\n",
       "      <td>0</td>\n",
       "      <td>0</td>\n",
       "      <td>0</td>\n",
       "      <td>0</td>\n",
       "      <td>0</td>\n",
       "    </tr>\n",
       "  </tbody>\n",
       "</table>\n",
       "<p>5 rows × 3152 columns</p>\n",
       "</div>"
      ],
      "text/plain": [
       "             hüpotekaarne  vääriv  lühike  tegelnud  entsefaliidijärgne  \\\n",
       "optimism                0       0       0         0                   0   \n",
       "siluett                 0       0       0         0                   0   \n",
       "valuutafond             0       0       0         0                   0   \n",
       "käändevorm              0       0       0         0                   0   \n",
       "õiguskord               0       0       0         0                   0   \n",
       "\n",
       "             tõusev  kokkuleppeline  tervislik  purjus  võiv  ...  kumer  \\\n",
       "optimism          0               0          0       0     0  ...      0   \n",
       "siluett           0               0          0       0     0  ...      0   \n",
       "valuutafond       0               0          0       0     0  ...      0   \n",
       "käändevorm        0               0          0       0     0  ...      0   \n",
       "õiguskord         0               0          0       0     0  ...      0   \n",
       "\n",
       "             aromaatne  ealine  pärilik  kingitud  tasane  tossav  \\\n",
       "optimism             0       0        0         0       0       0   \n",
       "siluett              0       0        0         0       0       0   \n",
       "valuutafond          0       0        0         0       0       0   \n",
       "käändevorm           0       0        0         0       0       0   \n",
       "õiguskord            0       0        0         0       0       0   \n",
       "\n",
       "             eelajalooline  halvustav  graniitne  \n",
       "optimism                 0          0          0  \n",
       "siluett                  0          0          0  \n",
       "valuutafond              0          0          0  \n",
       "käändevorm               0          0          0  \n",
       "õiguskord                0          0          0  \n",
       "\n",
       "[5 rows x 3152 columns]"
      ]
     },
     "execution_count": 8,
     "metadata": {},
     "output_type": "execute_result"
    }
   ],
   "source": [
    "df = pd.DataFrame(0, index=nouns, columns=adjs)\n",
    "df.head()"
   ]
  },
  {
   "cell_type": "code",
   "execution_count": 9,
   "metadata": {},
   "outputs": [
    {
     "data": {
      "text/html": [
       "<div>\n",
       "<style scoped>\n",
       "    .dataframe tbody tr th:only-of-type {\n",
       "        vertical-align: middle;\n",
       "    }\n",
       "\n",
       "    .dataframe tbody tr th {\n",
       "        vertical-align: top;\n",
       "    }\n",
       "\n",
       "    .dataframe thead th {\n",
       "        text-align: right;\n",
       "    }\n",
       "</style>\n",
       "<table border=\"1\" class=\"dataframe\">\n",
       "  <thead>\n",
       "    <tr style=\"text-align: right;\">\n",
       "      <th></th>\n",
       "      <th>hüpotekaarne</th>\n",
       "      <th>vääriv</th>\n",
       "      <th>lühike</th>\n",
       "      <th>tegelnud</th>\n",
       "      <th>entsefaliidijärgne</th>\n",
       "      <th>tõusev</th>\n",
       "      <th>kokkuleppeline</th>\n",
       "      <th>tervislik</th>\n",
       "      <th>purjus</th>\n",
       "      <th>võiv</th>\n",
       "      <th>...</th>\n",
       "      <th>kumer</th>\n",
       "      <th>aromaatne</th>\n",
       "      <th>ealine</th>\n",
       "      <th>pärilik</th>\n",
       "      <th>kingitud</th>\n",
       "      <th>tasane</th>\n",
       "      <th>tossav</th>\n",
       "      <th>eelajalooline</th>\n",
       "      <th>halvustav</th>\n",
       "      <th>graniitne</th>\n",
       "    </tr>\n",
       "  </thead>\n",
       "  <tbody>\n",
       "    <tr>\n",
       "      <th>optimism</th>\n",
       "      <td>0</td>\n",
       "      <td>0</td>\n",
       "      <td>0</td>\n",
       "      <td>0</td>\n",
       "      <td>0</td>\n",
       "      <td>0</td>\n",
       "      <td>0</td>\n",
       "      <td>0</td>\n",
       "      <td>0</td>\n",
       "      <td>0</td>\n",
       "      <td>...</td>\n",
       "      <td>0</td>\n",
       "      <td>0</td>\n",
       "      <td>0</td>\n",
       "      <td>0</td>\n",
       "      <td>0</td>\n",
       "      <td>0</td>\n",
       "      <td>0</td>\n",
       "      <td>0</td>\n",
       "      <td>0</td>\n",
       "      <td>0</td>\n",
       "    </tr>\n",
       "    <tr>\n",
       "      <th>siluett</th>\n",
       "      <td>0</td>\n",
       "      <td>0</td>\n",
       "      <td>0</td>\n",
       "      <td>0</td>\n",
       "      <td>0</td>\n",
       "      <td>0</td>\n",
       "      <td>0</td>\n",
       "      <td>0</td>\n",
       "      <td>0</td>\n",
       "      <td>0</td>\n",
       "      <td>...</td>\n",
       "      <td>0</td>\n",
       "      <td>0</td>\n",
       "      <td>0</td>\n",
       "      <td>0</td>\n",
       "      <td>0</td>\n",
       "      <td>0</td>\n",
       "      <td>0</td>\n",
       "      <td>0</td>\n",
       "      <td>0</td>\n",
       "      <td>0</td>\n",
       "    </tr>\n",
       "    <tr>\n",
       "      <th>valuutafond</th>\n",
       "      <td>0</td>\n",
       "      <td>0</td>\n",
       "      <td>0</td>\n",
       "      <td>0</td>\n",
       "      <td>0</td>\n",
       "      <td>0</td>\n",
       "      <td>0</td>\n",
       "      <td>0</td>\n",
       "      <td>0</td>\n",
       "      <td>0</td>\n",
       "      <td>...</td>\n",
       "      <td>0</td>\n",
       "      <td>0</td>\n",
       "      <td>0</td>\n",
       "      <td>0</td>\n",
       "      <td>0</td>\n",
       "      <td>0</td>\n",
       "      <td>0</td>\n",
       "      <td>0</td>\n",
       "      <td>0</td>\n",
       "      <td>0</td>\n",
       "    </tr>\n",
       "    <tr>\n",
       "      <th>käändevorm</th>\n",
       "      <td>0</td>\n",
       "      <td>0</td>\n",
       "      <td>0</td>\n",
       "      <td>0</td>\n",
       "      <td>0</td>\n",
       "      <td>0</td>\n",
       "      <td>0</td>\n",
       "      <td>0</td>\n",
       "      <td>0</td>\n",
       "      <td>0</td>\n",
       "      <td>...</td>\n",
       "      <td>0</td>\n",
       "      <td>0</td>\n",
       "      <td>0</td>\n",
       "      <td>0</td>\n",
       "      <td>0</td>\n",
       "      <td>0</td>\n",
       "      <td>0</td>\n",
       "      <td>0</td>\n",
       "      <td>0</td>\n",
       "      <td>0</td>\n",
       "    </tr>\n",
       "    <tr>\n",
       "      <th>õiguskord</th>\n",
       "      <td>0</td>\n",
       "      <td>0</td>\n",
       "      <td>0</td>\n",
       "      <td>0</td>\n",
       "      <td>0</td>\n",
       "      <td>0</td>\n",
       "      <td>0</td>\n",
       "      <td>0</td>\n",
       "      <td>0</td>\n",
       "      <td>0</td>\n",
       "      <td>...</td>\n",
       "      <td>0</td>\n",
       "      <td>0</td>\n",
       "      <td>0</td>\n",
       "      <td>0</td>\n",
       "      <td>0</td>\n",
       "      <td>0</td>\n",
       "      <td>0</td>\n",
       "      <td>0</td>\n",
       "      <td>0</td>\n",
       "      <td>0</td>\n",
       "    </tr>\n",
       "  </tbody>\n",
       "</table>\n",
       "<p>5 rows × 3152 columns</p>\n",
       "</div>"
      ],
      "text/plain": [
       "             hüpotekaarne  vääriv  lühike  tegelnud  entsefaliidijärgne  \\\n",
       "optimism                0       0       0         0                   0   \n",
       "siluett                 0       0       0         0                   0   \n",
       "valuutafond             0       0       0         0                   0   \n",
       "käändevorm              0       0       0         0                   0   \n",
       "õiguskord               0       0       0         0                   0   \n",
       "\n",
       "             tõusev  kokkuleppeline  tervislik  purjus  võiv  ...  kumer  \\\n",
       "optimism          0               0          0       0     0  ...      0   \n",
       "siluett           0               0          0       0     0  ...      0   \n",
       "valuutafond       0               0          0       0     0  ...      0   \n",
       "käändevorm        0               0          0       0     0  ...      0   \n",
       "õiguskord         0               0          0       0     0  ...      0   \n",
       "\n",
       "             aromaatne  ealine  pärilik  kingitud  tasane  tossav  \\\n",
       "optimism             0       0        0         0       0       0   \n",
       "siluett              0       0        0         0       0       0   \n",
       "valuutafond          0       0        0         0       0       0   \n",
       "käändevorm           0       0        0         0       0       0   \n",
       "õiguskord            0       0        0         0       0       0   \n",
       "\n",
       "             eelajalooline  halvustav  graniitne  \n",
       "optimism                 0          0          0  \n",
       "siluett                  0          0          0  \n",
       "valuutafond              0          0          0  \n",
       "käändevorm               0          0          0  \n",
       "õiguskord                0          0          0  \n",
       "\n",
       "[5 rows x 3152 columns]"
      ]
     },
     "execution_count": 9,
     "metadata": {},
     "output_type": "execute_result"
    }
   ],
   "source": [
    "for tup in pairs:\n",
    "    df.loc[tup[1], tup[0]] = tup[2]\n",
    "    \n",
    "df.head()"
   ]
  },
  {
   "cell_type": "markdown",
   "metadata": {},
   "source": [
    "## LDA model creation and training"
   ]
  },
  {
   "cell_type": "code",
   "execution_count": 10,
   "metadata": {},
   "outputs": [],
   "source": [
    "from sklearn.decomposition import LatentDirichletAllocation"
   ]
  },
  {
   "cell_type": "code",
   "execution_count": 12,
   "metadata": {},
   "outputs": [
    {
     "data": {
      "text/plain": [
       "(4373, 500)"
      ]
     },
     "execution_count": 12,
     "metadata": {},
     "output_type": "execute_result"
    }
   ],
   "source": [
    "lda = LatentDirichletAllocation(n_components=500, random_state=1)\n",
    "lda_topics = lda.fit_transform(df)\n",
    "lda_topics.shape"
   ]
  },
  {
   "cell_type": "markdown",
   "metadata": {},
   "source": [
    "## Euclidean distances from topics"
   ]
  },
  {
   "cell_type": "code",
   "execution_count": 18,
   "metadata": {},
   "outputs": [],
   "source": [
    "from collections import defaultdict\n",
    "import itertools\n",
    "import time\n",
    "from datetime import timedelta, datetime"
   ]
  },
  {
   "cell_type": "code",
   "execution_count": 16,
   "metadata": {},
   "outputs": [],
   "source": [
    "ids = list(range(len(nouns)))\n",
    "id_pairs = list(itertools.combinations(ids, 2))"
   ]
  },
  {
   "cell_type": "code",
   "execution_count": 19,
   "metadata": {},
   "outputs": [
    {
     "name": "stdout",
     "output_type": "stream",
     "text": [
      "2:53:17.367597\n",
      "2:56:26.300596\n",
      "0:03:08.933452\n"
     ]
    }
   ],
   "source": [
    "print(str(timedelta(seconds=time.time()+7200)).split(\", \")[1])\n",
    "start = datetime.now()\n",
    "\n",
    "lda_similarities = defaultdict(dict)\n",
    "\n",
    "for pair in id_pairs:\n",
    "    first = pair[0]\n",
    "    second = pair[1]\n",
    "    dist = np.linalg.norm(lda_topics[first] - lda_topics[second]) # euclidean distance\n",
    "    \n",
    "    lda_similarities[first][second] = dist\n",
    "    lda_similarities[second][first] = dist\n",
    "    \n",
    "print(str(timedelta(seconds=time.time()+7200)).split(\", \")[1])\n",
    "print(datetime.now()-start)"
   ]
  },
  {
   "cell_type": "code",
   "execution_count": 20,
   "metadata": {},
   "outputs": [],
   "source": [
    "noun_sim_df = pd.DataFrame(lda_similarities)\n",
    "noun_sim_df = noun_sim_df.reindex(sorted(noun_sim_df.columns), axis=1)\n",
    "noun_sim_df = noun_sim_df.reindex(sorted(noun_sim_df.index), axis=0)\n",
    "noun_sim_df = noun_sim_df.fillna(0)"
   ]
  },
  {
   "cell_type": "markdown",
   "metadata": {},
   "source": [
    "## t-SNE on distance matrix"
   ]
  },
  {
   "cell_type": "code",
   "execution_count": 21,
   "metadata": {},
   "outputs": [],
   "source": [
    "from sklearn.manifold import TSNE\n",
    "import matplotlib.pyplot as plt\n",
    "from mpl_toolkits.mplot3d import Axes3D\n",
    "import seaborn as sns\n",
    "import matplotlib.patheffects as PathEffects\n",
    "%matplotlib inline"
   ]
  },
  {
   "cell_type": "code",
   "execution_count": 22,
   "metadata": {},
   "outputs": [
    {
     "name": "stdout",
     "output_type": "stream",
     "text": [
      "2:56:42.567024\n",
      "3:00:49.918521\n",
      "0:04:07.352999\n"
     ]
    }
   ],
   "source": [
    "print(str(timedelta(seconds=time.time()+7200)).split(\", \")[1])\n",
    "start = datetime.now()\n",
    "\n",
    "lda_tsne = TSNE(random_state=17)\n",
    "lda_tsne_results = lda_tsne.fit_transform(noun_sim_df.values)\n",
    "\n",
    "print(str(timedelta(seconds=time.time()+7200)).split(\", \")[1])\n",
    "print(datetime.now()-start)"
   ]
  },
  {
   "cell_type": "code",
   "execution_count": 23,
   "metadata": {},
   "outputs": [
    {
     "data": {
      "image/png": "[encoded data removed]",
      "text/plain": [
       "<Figure size 504x504 with 1 Axes>"
      ]
     },
     "metadata": {
      "needs_background": "light"
     },
     "output_type": "display_data"
    }
   ],
   "source": [
    "plt.figure(figsize=(7, 7))\n",
    "plt.scatter(lda_tsne_results[:, 0], lda_tsne_results[:, 1], marker='o', s=50, edgecolor='None', c='pink')\n",
    "\n",
    "plt.tight_layout()\n",
    "plt.axis('equal')\n",
    "plt.show()"
   ]
  }
 ],
 "metadata": {
  "kernelspec": {
   "display_name": "Python 3",
   "language": "python",
   "name": "python3"
  },
  "language_info": {
   "codemirror_mode": {
    "name": "ipython",
    "version": 3
   },
   "file_extension": ".py",
   "mimetype": "text/x-python",
   "name": "python",
   "nbconvert_exporter": "python",
   "pygments_lexer": "ipython3",
   "version": "3.6.12"
  }
 },
 "nbformat": 4,
 "nbformat_minor": 4
}
