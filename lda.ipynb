{
 "cells": [
  {
   "cell_type": "markdown",
   "metadata": {},
   "source": [
    "### Read in data"
   ]
  },
  {
   "cell_type": "code",
   "execution_count": 131,
   "metadata": {},
   "outputs": [],
   "source": [
    "import psycopg2\n",
    "import pandas as pd\n",
    "import numpy as np\n",
    "import time\n",
    "from datetime import timedelta, datetime\n",
    "from matplotlib import pyplot as plt\n",
    "from collections import defaultdict\n",
    "import random"
   ]
  },
  {
   "cell_type": "code",
   "execution_count": 2,
   "metadata": {},
   "outputs": [],
   "source": [
    "con = psycopg2.connect(user = \"postgres\",\n",
    "                       password = \"\",\n",
    "                       host = \"127.0.0.1\",\n",
    "                       port = \"5432\",\n",
    "                       database = \"adj_noun_pairs\")\n",
    "\n",
    "try:\n",
    "    cursor = con.cursor();\n",
    "except (Exception, psycopg2.Error) as error:\n",
    "    print(\"Error in Connection\",error)"
   ]
  },
  {
   "cell_type": "code",
   "execution_count": 3,
   "metadata": {},
   "outputs": [],
   "source": [
    "cursor.execute(\"SELECT * FROM final_pairs\")\n",
    "all_pairs = cursor.fetchall() "
   ]
  },
  {
   "cell_type": "code",
   "execution_count": 4,
   "metadata": {},
   "outputs": [
    {
     "data": {
      "text/plain": [
       "('eelmine', 'aasta', 53250)"
      ]
     },
     "execution_count": 4,
     "metadata": {},
     "output_type": "execute_result"
    }
   ],
   "source": [
    "all_pairs[0]"
   ]
  },
  {
   "cell_type": "code",
   "execution_count": null,
   "metadata": {},
   "outputs": [],
   "source": [
    "# nouns = list(set([pair[1] for pair in all_pairs]))\n",
    "# adjectives = list(set([pair[0] for pair in all_pairs]))"
   ]
  },
  {
   "cell_type": "code",
   "execution_count": 5,
   "metadata": {},
   "outputs": [],
   "source": [
    "dup_nouns = [pair[1] for pair in all_pairs]\n",
    "# Easy naive for-loop to keep order so results wouldn't change each time\n",
    "nouns = []\n",
    "for noun in dup_nouns:\n",
    "    if noun not in nouns:\n",
    "        nouns.append(noun)"
   ]
  },
  {
   "cell_type": "code",
   "execution_count": 6,
   "metadata": {},
   "outputs": [],
   "source": [
    "dup_adjectives = [pair[0] for pair in all_pairs]\n",
    "adjectives = []\n",
    "for adj in dup_adjectives:\n",
    "    if adj not in adjectives:\n",
    "        adjectives.append(adj)"
   ]
  },
  {
   "cell_type": "code",
   "execution_count": 7,
   "metadata": {},
   "outputs": [
    {
     "data": {
      "text/html": [
       "<div>\n",
       "<style scoped>\n",
       "    .dataframe tbody tr th:only-of-type {\n",
       "        vertical-align: middle;\n",
       "    }\n",
       "\n",
       "    .dataframe tbody tr th {\n",
       "        vertical-align: top;\n",
       "    }\n",
       "\n",
       "    .dataframe thead th {\n",
       "        text-align: right;\n",
       "    }\n",
       "</style>\n",
       "<table border=\"1\" class=\"dataframe\">\n",
       "  <thead>\n",
       "    <tr style=\"text-align: right;\">\n",
       "      <th></th>\n",
       "      <th>eelmine</th>\n",
       "      <th>järgmine</th>\n",
       "      <th>viimane</th>\n",
       "      <th>käesolev</th>\n",
       "      <th>kogu</th>\n",
       "      <th>kohalik</th>\n",
       "      <th>suur</th>\n",
       "      <th>pikk</th>\n",
       "      <th>juriidiline</th>\n",
       "      <th>tulev</th>\n",
       "      <th>...</th>\n",
       "      <th>realiseeritav</th>\n",
       "      <th>valgustatav</th>\n",
       "      <th>vajuv</th>\n",
       "      <th>väikesekasvuline</th>\n",
       "      <th>väikeseformaadiline</th>\n",
       "      <th>õlirikas</th>\n",
       "      <th>õigusetu</th>\n",
       "      <th>oletuslik</th>\n",
       "      <th>raugematu</th>\n",
       "      <th>raudteeäärne</th>\n",
       "    </tr>\n",
       "  </thead>\n",
       "  <tbody>\n",
       "    <tr>\n",
       "      <th>aasta</th>\n",
       "      <td>NaN</td>\n",
       "      <td>NaN</td>\n",
       "      <td>NaN</td>\n",
       "      <td>NaN</td>\n",
       "      <td>NaN</td>\n",
       "      <td>NaN</td>\n",
       "      <td>NaN</td>\n",
       "      <td>NaN</td>\n",
       "      <td>NaN</td>\n",
       "      <td>NaN</td>\n",
       "      <td>...</td>\n",
       "      <td>NaN</td>\n",
       "      <td>NaN</td>\n",
       "      <td>NaN</td>\n",
       "      <td>NaN</td>\n",
       "      <td>NaN</td>\n",
       "      <td>NaN</td>\n",
       "      <td>NaN</td>\n",
       "      <td>NaN</td>\n",
       "      <td>NaN</td>\n",
       "      <td>NaN</td>\n",
       "    </tr>\n",
       "    <tr>\n",
       "      <th>aeg</th>\n",
       "      <td>NaN</td>\n",
       "      <td>NaN</td>\n",
       "      <td>NaN</td>\n",
       "      <td>NaN</td>\n",
       "      <td>NaN</td>\n",
       "      <td>NaN</td>\n",
       "      <td>NaN</td>\n",
       "      <td>NaN</td>\n",
       "      <td>NaN</td>\n",
       "      <td>NaN</td>\n",
       "      <td>...</td>\n",
       "      <td>NaN</td>\n",
       "      <td>NaN</td>\n",
       "      <td>NaN</td>\n",
       "      <td>NaN</td>\n",
       "      <td>NaN</td>\n",
       "      <td>NaN</td>\n",
       "      <td>NaN</td>\n",
       "      <td>NaN</td>\n",
       "      <td>NaN</td>\n",
       "      <td>NaN</td>\n",
       "    </tr>\n",
       "    <tr>\n",
       "      <th>määrus</th>\n",
       "      <td>NaN</td>\n",
       "      <td>NaN</td>\n",
       "      <td>NaN</td>\n",
       "      <td>NaN</td>\n",
       "      <td>NaN</td>\n",
       "      <td>NaN</td>\n",
       "      <td>NaN</td>\n",
       "      <td>NaN</td>\n",
       "      <td>NaN</td>\n",
       "      <td>NaN</td>\n",
       "      <td>...</td>\n",
       "      <td>NaN</td>\n",
       "      <td>NaN</td>\n",
       "      <td>NaN</td>\n",
       "      <td>NaN</td>\n",
       "      <td>NaN</td>\n",
       "      <td>NaN</td>\n",
       "      <td>NaN</td>\n",
       "      <td>NaN</td>\n",
       "      <td>NaN</td>\n",
       "      <td>NaN</td>\n",
       "    </tr>\n",
       "    <tr>\n",
       "      <th>omavalitsus</th>\n",
       "      <td>NaN</td>\n",
       "      <td>NaN</td>\n",
       "      <td>NaN</td>\n",
       "      <td>NaN</td>\n",
       "      <td>NaN</td>\n",
       "      <td>NaN</td>\n",
       "      <td>NaN</td>\n",
       "      <td>NaN</td>\n",
       "      <td>NaN</td>\n",
       "      <td>NaN</td>\n",
       "      <td>...</td>\n",
       "      <td>NaN</td>\n",
       "      <td>NaN</td>\n",
       "      <td>NaN</td>\n",
       "      <td>NaN</td>\n",
       "      <td>NaN</td>\n",
       "      <td>NaN</td>\n",
       "      <td>NaN</td>\n",
       "      <td>NaN</td>\n",
       "      <td>NaN</td>\n",
       "      <td>NaN</td>\n",
       "    </tr>\n",
       "    <tr>\n",
       "      <th>osa</th>\n",
       "      <td>NaN</td>\n",
       "      <td>NaN</td>\n",
       "      <td>NaN</td>\n",
       "      <td>NaN</td>\n",
       "      <td>NaN</td>\n",
       "      <td>NaN</td>\n",
       "      <td>NaN</td>\n",
       "      <td>NaN</td>\n",
       "      <td>NaN</td>\n",
       "      <td>NaN</td>\n",
       "      <td>...</td>\n",
       "      <td>NaN</td>\n",
       "      <td>NaN</td>\n",
       "      <td>NaN</td>\n",
       "      <td>NaN</td>\n",
       "      <td>NaN</td>\n",
       "      <td>NaN</td>\n",
       "      <td>NaN</td>\n",
       "      <td>NaN</td>\n",
       "      <td>NaN</td>\n",
       "      <td>NaN</td>\n",
       "    </tr>\n",
       "  </tbody>\n",
       "</table>\n",
       "<p>5 rows × 7442 columns</p>\n",
       "</div>"
      ],
      "text/plain": [
       "            eelmine järgmine viimane käesolev kogu kohalik suur pikk  \\\n",
       "aasta           NaN      NaN     NaN      NaN  NaN     NaN  NaN  NaN   \n",
       "aeg             NaN      NaN     NaN      NaN  NaN     NaN  NaN  NaN   \n",
       "määrus          NaN      NaN     NaN      NaN  NaN     NaN  NaN  NaN   \n",
       "omavalitsus     NaN      NaN     NaN      NaN  NaN     NaN  NaN  NaN   \n",
       "osa             NaN      NaN     NaN      NaN  NaN     NaN  NaN  NaN   \n",
       "\n",
       "            juriidiline tulev  ... realiseeritav valgustatav vajuv  \\\n",
       "aasta               NaN   NaN  ...           NaN         NaN   NaN   \n",
       "aeg                 NaN   NaN  ...           NaN         NaN   NaN   \n",
       "määrus              NaN   NaN  ...           NaN         NaN   NaN   \n",
       "omavalitsus         NaN   NaN  ...           NaN         NaN   NaN   \n",
       "osa                 NaN   NaN  ...           NaN         NaN   NaN   \n",
       "\n",
       "            väikesekasvuline väikeseformaadiline õlirikas õigusetu oletuslik  \\\n",
       "aasta                    NaN                 NaN      NaN      NaN       NaN   \n",
       "aeg                      NaN                 NaN      NaN      NaN       NaN   \n",
       "määrus                   NaN                 NaN      NaN      NaN       NaN   \n",
       "omavalitsus              NaN                 NaN      NaN      NaN       NaN   \n",
       "osa                      NaN                 NaN      NaN      NaN       NaN   \n",
       "\n",
       "            raugematu raudteeäärne  \n",
       "aasta             NaN          NaN  \n",
       "aeg               NaN          NaN  \n",
       "määrus            NaN          NaN  \n",
       "omavalitsus       NaN          NaN  \n",
       "osa               NaN          NaN  \n",
       "\n",
       "[5 rows x 7442 columns]"
      ]
     },
     "execution_count": 7,
     "metadata": {},
     "output_type": "execute_result"
    }
   ],
   "source": [
    "data = pd.DataFrame(None, index=nouns, columns=adjectives)\n",
    "data.head()"
   ]
  },
  {
   "cell_type": "code",
   "execution_count": 8,
   "metadata": {},
   "outputs": [],
   "source": [
    "for tup in all_pairs:\n",
    "    data.loc[tup[1], tup[0]] = tup[2]"
   ]
  },
  {
   "cell_type": "code",
   "execution_count": 9,
   "metadata": {},
   "outputs": [
    {
     "data": {
      "text/html": [
       "<div>\n",
       "<style scoped>\n",
       "    .dataframe tbody tr th:only-of-type {\n",
       "        vertical-align: middle;\n",
       "    }\n",
       "\n",
       "    .dataframe tbody tr th {\n",
       "        vertical-align: top;\n",
       "    }\n",
       "\n",
       "    .dataframe thead th {\n",
       "        text-align: right;\n",
       "    }\n",
       "</style>\n",
       "<table border=\"1\" class=\"dataframe\">\n",
       "  <thead>\n",
       "    <tr style=\"text-align: right;\">\n",
       "      <th></th>\n",
       "      <th>eelmine</th>\n",
       "      <th>järgmine</th>\n",
       "      <th>viimane</th>\n",
       "      <th>käesolev</th>\n",
       "      <th>kogu</th>\n",
       "      <th>kohalik</th>\n",
       "      <th>suur</th>\n",
       "      <th>pikk</th>\n",
       "      <th>juriidiline</th>\n",
       "      <th>tulev</th>\n",
       "      <th>...</th>\n",
       "      <th>realiseeritav</th>\n",
       "      <th>valgustatav</th>\n",
       "      <th>vajuv</th>\n",
       "      <th>väikesekasvuline</th>\n",
       "      <th>väikeseformaadiline</th>\n",
       "      <th>õlirikas</th>\n",
       "      <th>õigusetu</th>\n",
       "      <th>oletuslik</th>\n",
       "      <th>raugematu</th>\n",
       "      <th>raudteeäärne</th>\n",
       "    </tr>\n",
       "  </thead>\n",
       "  <tbody>\n",
       "    <tr>\n",
       "      <th>aasta</th>\n",
       "      <td>53250</td>\n",
       "      <td>38107</td>\n",
       "      <td>24410</td>\n",
       "      <td>11753</td>\n",
       "      <td>1115</td>\n",
       "      <td>40</td>\n",
       "      <td>114</td>\n",
       "      <td>1562</td>\n",
       "      <td>0</td>\n",
       "      <td>12634</td>\n",
       "      <td>...</td>\n",
       "      <td>0</td>\n",
       "      <td>0</td>\n",
       "      <td>0</td>\n",
       "      <td>0</td>\n",
       "      <td>0</td>\n",
       "      <td>0</td>\n",
       "      <td>0</td>\n",
       "      <td>0</td>\n",
       "      <td>0</td>\n",
       "      <td>0</td>\n",
       "    </tr>\n",
       "    <tr>\n",
       "      <th>aeg</th>\n",
       "      <td>75</td>\n",
       "      <td>65</td>\n",
       "      <td>27915</td>\n",
       "      <td>1227</td>\n",
       "      <td>24997</td>\n",
       "      <td>1373</td>\n",
       "      <td>194</td>\n",
       "      <td>14913</td>\n",
       "      <td>0</td>\n",
       "      <td>18</td>\n",
       "      <td>...</td>\n",
       "      <td>0</td>\n",
       "      <td>0</td>\n",
       "      <td>0</td>\n",
       "      <td>0</td>\n",
       "      <td>0</td>\n",
       "      <td>0</td>\n",
       "      <td>0</td>\n",
       "      <td>0</td>\n",
       "      <td>0</td>\n",
       "      <td>0</td>\n",
       "    </tr>\n",
       "    <tr>\n",
       "      <th>määrus</th>\n",
       "      <td>16</td>\n",
       "      <td>110</td>\n",
       "      <td>17</td>\n",
       "      <td>27514</td>\n",
       "      <td>30</td>\n",
       "      <td>0</td>\n",
       "      <td>0</td>\n",
       "      <td>0</td>\n",
       "      <td>0</td>\n",
       "      <td>0</td>\n",
       "      <td>...</td>\n",
       "      <td>0</td>\n",
       "      <td>0</td>\n",
       "      <td>0</td>\n",
       "      <td>0</td>\n",
       "      <td>0</td>\n",
       "      <td>0</td>\n",
       "      <td>0</td>\n",
       "      <td>0</td>\n",
       "      <td>0</td>\n",
       "      <td>0</td>\n",
       "    </tr>\n",
       "    <tr>\n",
       "      <th>omavalitsus</th>\n",
       "      <td>30</td>\n",
       "      <td>67</td>\n",
       "      <td>44</td>\n",
       "      <td>0</td>\n",
       "      <td>31</td>\n",
       "      <td>24261</td>\n",
       "      <td>84</td>\n",
       "      <td>0</td>\n",
       "      <td>12</td>\n",
       "      <td>0</td>\n",
       "      <td>...</td>\n",
       "      <td>0</td>\n",
       "      <td>0</td>\n",
       "      <td>0</td>\n",
       "      <td>0</td>\n",
       "      <td>0</td>\n",
       "      <td>0</td>\n",
       "      <td>0</td>\n",
       "      <td>0</td>\n",
       "      <td>0</td>\n",
       "      <td>0</td>\n",
       "    </tr>\n",
       "    <tr>\n",
       "      <th>osa</th>\n",
       "      <td>201</td>\n",
       "      <td>436</td>\n",
       "      <td>918</td>\n",
       "      <td>118</td>\n",
       "      <td>51</td>\n",
       "      <td>10</td>\n",
       "      <td>22165</td>\n",
       "      <td>25</td>\n",
       "      <td>0</td>\n",
       "      <td>17</td>\n",
       "      <td>...</td>\n",
       "      <td>0</td>\n",
       "      <td>0</td>\n",
       "      <td>0</td>\n",
       "      <td>0</td>\n",
       "      <td>0</td>\n",
       "      <td>0</td>\n",
       "      <td>0</td>\n",
       "      <td>0</td>\n",
       "      <td>0</td>\n",
       "      <td>0</td>\n",
       "    </tr>\n",
       "  </tbody>\n",
       "</table>\n",
       "<p>5 rows × 7442 columns</p>\n",
       "</div>"
      ],
      "text/plain": [
       "             eelmine  järgmine  viimane  käesolev   kogu  kohalik   suur  \\\n",
       "aasta          53250     38107    24410     11753   1115       40    114   \n",
       "aeg               75        65    27915      1227  24997     1373    194   \n",
       "määrus            16       110       17     27514     30        0      0   \n",
       "omavalitsus       30        67       44         0     31    24261     84   \n",
       "osa              201       436      918       118     51       10  22165   \n",
       "\n",
       "              pikk  juriidiline  tulev  ...  realiseeritav  valgustatav  \\\n",
       "aasta         1562            0  12634  ...              0            0   \n",
       "aeg          14913            0     18  ...              0            0   \n",
       "määrus           0            0      0  ...              0            0   \n",
       "omavalitsus      0           12      0  ...              0            0   \n",
       "osa             25            0     17  ...              0            0   \n",
       "\n",
       "             vajuv  väikesekasvuline  väikeseformaadiline  õlirikas  õigusetu  \\\n",
       "aasta            0                 0                    0         0         0   \n",
       "aeg              0                 0                    0         0         0   \n",
       "määrus           0                 0                    0         0         0   \n",
       "omavalitsus      0                 0                    0         0         0   \n",
       "osa              0                 0                    0         0         0   \n",
       "\n",
       "             oletuslik  raugematu  raudteeäärne  \n",
       "aasta                0          0             0  \n",
       "aeg                  0          0             0  \n",
       "määrus               0          0             0  \n",
       "omavalitsus          0          0             0  \n",
       "osa                  0          0             0  \n",
       "\n",
       "[5 rows x 7442 columns]"
      ]
     },
     "execution_count": 9,
     "metadata": {},
     "output_type": "execute_result"
    }
   ],
   "source": [
    "data = data.fillna(0)\n",
    "data.head()"
   ]
  },
  {
   "cell_type": "code",
   "execution_count": 10,
   "metadata": {},
   "outputs": [
    {
     "data": {
      "text/plain": [
       "(14590, 7442)"
      ]
     },
     "execution_count": 10,
     "metadata": {},
     "output_type": "execute_result"
    }
   ],
   "source": [
    "data.shape"
   ]
  },
  {
   "cell_type": "markdown",
   "metadata": {},
   "source": [
    "### LDA"
   ]
  },
  {
   "cell_type": "code",
   "execution_count": 11,
   "metadata": {},
   "outputs": [],
   "source": [
    "from sklearn.decomposition import LatentDirichletAllocation"
   ]
  },
  {
   "cell_type": "code",
   "execution_count": 12,
   "metadata": {},
   "outputs": [],
   "source": [
    "lda = LatentDirichletAllocation(n_components=500, random_state=0)"
   ]
  },
  {
   "cell_type": "code",
   "execution_count": 13,
   "metadata": {},
   "outputs": [
    {
     "name": "stdout",
     "output_type": "stream",
     "text": [
      "22:44:23.664739\n",
      "22:56:28.117120\n",
      "0:12:04.452382\n"
     ]
    }
   ],
   "source": [
    "start = datetime.now()\n",
    "print(str(timedelta(seconds=time.time()+7200)).split(\", \")[1])\n",
    "results = lda.fit_transform(data)\n",
    "print(str(timedelta(seconds=time.time()+7200)).split(\", \")[1])\n",
    "print(datetime.now()-start)"
   ]
  },
  {
   "cell_type": "code",
   "execution_count": 14,
   "metadata": {},
   "outputs": [],
   "source": [
    "topics = {}\n",
    "for i in range(500):\n",
    "    topics[i] = []\n",
    "\n",
    "for idx, prob in enumerate(results):\n",
    "    topics[np.argmax(prob)].append(data.index[idx])"
   ]
  },
  {
   "cell_type": "markdown",
   "metadata": {},
   "source": [
    "### Results"
   ]
  },
  {
   "cell_type": "code",
   "execution_count": 33,
   "metadata": {},
   "outputs": [],
   "source": [
    "adjs_in_topics = pd.DataFrame(lda.components_, columns=data.columns)"
   ]
  },
  {
   "cell_type": "code",
   "execution_count": 34,
   "metadata": {},
   "outputs": [
    {
     "data": {
      "text/html": [
       "<div>\n",
       "<style scoped>\n",
       "    .dataframe tbody tr th:only-of-type {\n",
       "        vertical-align: middle;\n",
       "    }\n",
       "\n",
       "    .dataframe tbody tr th {\n",
       "        vertical-align: top;\n",
       "    }\n",
       "\n",
       "    .dataframe thead th {\n",
       "        text-align: right;\n",
       "    }\n",
       "</style>\n",
       "<table border=\"1\" class=\"dataframe\">\n",
       "  <thead>\n",
       "    <tr style=\"text-align: right;\">\n",
       "      <th></th>\n",
       "      <th>eelmine</th>\n",
       "      <th>järgmine</th>\n",
       "      <th>viimane</th>\n",
       "      <th>käesolev</th>\n",
       "      <th>kogu</th>\n",
       "      <th>kohalik</th>\n",
       "      <th>suur</th>\n",
       "      <th>pikk</th>\n",
       "      <th>juriidiline</th>\n",
       "      <th>tulev</th>\n",
       "      <th>...</th>\n",
       "      <th>realiseeritav</th>\n",
       "      <th>valgustatav</th>\n",
       "      <th>vajuv</th>\n",
       "      <th>väikesekasvuline</th>\n",
       "      <th>väikeseformaadiline</th>\n",
       "      <th>õlirikas</th>\n",
       "      <th>õigusetu</th>\n",
       "      <th>oletuslik</th>\n",
       "      <th>raugematu</th>\n",
       "      <th>raudteeäärne</th>\n",
       "    </tr>\n",
       "  </thead>\n",
       "  <tbody>\n",
       "    <tr>\n",
       "      <th>0</th>\n",
       "      <td>0.002000</td>\n",
       "      <td>0.002000</td>\n",
       "      <td>0.002000</td>\n",
       "      <td>0.002000</td>\n",
       "      <td>0.002000</td>\n",
       "      <td>0.002000</td>\n",
       "      <td>0.002000</td>\n",
       "      <td>0.002000</td>\n",
       "      <td>0.002</td>\n",
       "      <td>18.173336</td>\n",
       "      <td>...</td>\n",
       "      <td>0.002</td>\n",
       "      <td>0.002</td>\n",
       "      <td>0.002</td>\n",
       "      <td>0.002</td>\n",
       "      <td>0.002</td>\n",
       "      <td>0.002</td>\n",
       "      <td>0.002</td>\n",
       "      <td>0.002</td>\n",
       "      <td>0.002</td>\n",
       "      <td>0.002</td>\n",
       "    </tr>\n",
       "    <tr>\n",
       "      <th>1</th>\n",
       "      <td>10.008601</td>\n",
       "      <td>4.264048</td>\n",
       "      <td>5.633426</td>\n",
       "      <td>0.002004</td>\n",
       "      <td>0.002000</td>\n",
       "      <td>0.043676</td>\n",
       "      <td>0.002000</td>\n",
       "      <td>2.948849</td>\n",
       "      <td>0.002</td>\n",
       "      <td>0.002000</td>\n",
       "      <td>...</td>\n",
       "      <td>0.002</td>\n",
       "      <td>0.002</td>\n",
       "      <td>0.002</td>\n",
       "      <td>0.002</td>\n",
       "      <td>0.002</td>\n",
       "      <td>0.002</td>\n",
       "      <td>0.002</td>\n",
       "      <td>0.002</td>\n",
       "      <td>0.002</td>\n",
       "      <td>0.002</td>\n",
       "    </tr>\n",
       "    <tr>\n",
       "      <th>2</th>\n",
       "      <td>0.002000</td>\n",
       "      <td>67.371256</td>\n",
       "      <td>0.002000</td>\n",
       "      <td>0.002000</td>\n",
       "      <td>31.516767</td>\n",
       "      <td>0.002000</td>\n",
       "      <td>10.405239</td>\n",
       "      <td>0.002000</td>\n",
       "      <td>0.002</td>\n",
       "      <td>0.002000</td>\n",
       "      <td>...</td>\n",
       "      <td>0.002</td>\n",
       "      <td>0.002</td>\n",
       "      <td>0.002</td>\n",
       "      <td>0.002</td>\n",
       "      <td>0.002</td>\n",
       "      <td>0.002</td>\n",
       "      <td>0.002</td>\n",
       "      <td>0.002</td>\n",
       "      <td>0.002</td>\n",
       "      <td>0.002</td>\n",
       "    </tr>\n",
       "    <tr>\n",
       "      <th>3</th>\n",
       "      <td>0.002000</td>\n",
       "      <td>0.002000</td>\n",
       "      <td>0.002000</td>\n",
       "      <td>0.002000</td>\n",
       "      <td>0.002000</td>\n",
       "      <td>0.002000</td>\n",
       "      <td>0.002000</td>\n",
       "      <td>0.002000</td>\n",
       "      <td>0.002</td>\n",
       "      <td>0.002000</td>\n",
       "      <td>...</td>\n",
       "      <td>0.002</td>\n",
       "      <td>0.002</td>\n",
       "      <td>0.002</td>\n",
       "      <td>0.002</td>\n",
       "      <td>0.002</td>\n",
       "      <td>0.002</td>\n",
       "      <td>0.002</td>\n",
       "      <td>0.002</td>\n",
       "      <td>0.002</td>\n",
       "      <td>0.002</td>\n",
       "    </tr>\n",
       "    <tr>\n",
       "      <th>4</th>\n",
       "      <td>0.002000</td>\n",
       "      <td>0.002000</td>\n",
       "      <td>9.037945</td>\n",
       "      <td>0.002000</td>\n",
       "      <td>0.413545</td>\n",
       "      <td>0.002000</td>\n",
       "      <td>55.952026</td>\n",
       "      <td>0.002000</td>\n",
       "      <td>0.002</td>\n",
       "      <td>0.002000</td>\n",
       "      <td>...</td>\n",
       "      <td>0.002</td>\n",
       "      <td>0.002</td>\n",
       "      <td>0.002</td>\n",
       "      <td>0.002</td>\n",
       "      <td>0.002</td>\n",
       "      <td>0.002</td>\n",
       "      <td>0.002</td>\n",
       "      <td>0.002</td>\n",
       "      <td>0.002</td>\n",
       "      <td>0.002</td>\n",
       "    </tr>\n",
       "  </tbody>\n",
       "</table>\n",
       "<p>5 rows × 7442 columns</p>\n",
       "</div>"
      ],
      "text/plain": [
       "     eelmine   järgmine   viimane  käesolev       kogu   kohalik       suur  \\\n",
       "0   0.002000   0.002000  0.002000  0.002000   0.002000  0.002000   0.002000   \n",
       "1  10.008601   4.264048  5.633426  0.002004   0.002000  0.043676   0.002000   \n",
       "2   0.002000  67.371256  0.002000  0.002000  31.516767  0.002000  10.405239   \n",
       "3   0.002000   0.002000  0.002000  0.002000   0.002000  0.002000   0.002000   \n",
       "4   0.002000   0.002000  9.037945  0.002000   0.413545  0.002000  55.952026   \n",
       "\n",
       "       pikk  juriidiline      tulev  ...  realiseeritav  valgustatav  vajuv  \\\n",
       "0  0.002000        0.002  18.173336  ...          0.002        0.002  0.002   \n",
       "1  2.948849        0.002   0.002000  ...          0.002        0.002  0.002   \n",
       "2  0.002000        0.002   0.002000  ...          0.002        0.002  0.002   \n",
       "3  0.002000        0.002   0.002000  ...          0.002        0.002  0.002   \n",
       "4  0.002000        0.002   0.002000  ...          0.002        0.002  0.002   \n",
       "\n",
       "   väikesekasvuline  väikeseformaadiline  õlirikas  õigusetu  oletuslik  \\\n",
       "0             0.002                0.002     0.002     0.002      0.002   \n",
       "1             0.002                0.002     0.002     0.002      0.002   \n",
       "2             0.002                0.002     0.002     0.002      0.002   \n",
       "3             0.002                0.002     0.002     0.002      0.002   \n",
       "4             0.002                0.002     0.002     0.002      0.002   \n",
       "\n",
       "   raugematu  raudteeäärne  \n",
       "0      0.002         0.002  \n",
       "1      0.002         0.002  \n",
       "2      0.002         0.002  \n",
       "3      0.002         0.002  \n",
       "4      0.002         0.002  \n",
       "\n",
       "[5 rows x 7442 columns]"
      ]
     },
     "execution_count": 34,
     "metadata": {},
     "output_type": "execute_result"
    }
   ],
   "source": [
    "adjs_in_topics.head()"
   ]
  },
  {
   "cell_type": "markdown",
   "metadata": {},
   "source": [
    "#### Month topics"
   ]
  },
  {
   "cell_type": "code",
   "execution_count": 15,
   "metadata": {},
   "outputs": [],
   "source": [
    "kuud = ['jaanuar', 'veebruar', 'märts', 'aprill', 'mai', 'juuni', 'juuli', 'august', 'september', 'oktoober', 'november', 'detsember']\n",
    "idx = []\n",
    "\n",
    "for kuu in kuud:\n",
    "    for topic, words in topics.items():\n",
    "        if kuu in words:\n",
    "            idx.append(topic)\n",
    "            continue"
   ]
  },
  {
   "cell_type": "code",
   "execution_count": 16,
   "metadata": {},
   "outputs": [
    {
     "data": {
      "text/plain": [
       "[311, 311, 311, 311, 281, 487, 499, 412, 98, 98, 98, 98]"
      ]
     },
     "execution_count": 16,
     "metadata": {},
     "output_type": "execute_result"
    }
   ],
   "source": [
    "idx"
   ]
  },
  {
   "cell_type": "code",
   "execution_count": 39,
   "metadata": {},
   "outputs": [
    {
     "name": "stdout",
     "output_type": "stream",
     "text": [
      "topic 98, with 4 month(s)\n",
      "['reede', 'nädalavahetus', 'laupäev', 'pühapäev', 'nädalalõpp', 'aastavahetus', 'detsember', 'oktoober', 'september', 'november', 'täke', 'manalatee', 'kütteperiood', 'kesknädal', 'õng', 'täissaal']\n",
      "Most common adjectives in topic:\n",
      "läinud      11450.466384\n",
      "eelmine      4492.928065\n",
      "eelolev      3312.483890\n",
      "järgmine      712.923183\n",
      "tulev         422.942508\n",
      "Name: 98, dtype: float64\n",
      "----------------------------\n",
      "topic 487, with 1 month(s)\n",
      "['ilm', 'suvepäev', 'puder', 'kasvukoht', 'mähis', 'juuni']\n",
      "Most common adjectives in topic:\n",
      "ilus       2227.053373\n",
      "soe        1939.531957\n",
      "külm       1672.019050\n",
      "vihmane    1388.159375\n",
      "kuum        986.957659\n",
      "Name: 487, dtype: float64\n",
      "----------------------------\n",
      "topic 499, with 1 month(s)\n",
      "['grupp', 'rühm', 'võistkond', 'alagrupp', 'pirukas', 'pann', 'vann', 'triikraud', 'pliit', 'ekskursioon', 'võileib', 'juuli', 'kakao', 'rannaliiv', 'puljong', 'föön', 'keris', 'armulugu', 'jalavann', 'rannailm', 'kriminaalkolleegium', 'demineerimismeeskond', 'glögi']\n",
      "Most common adjectives in topic:\n",
      "kuum               3559.604476\n",
      "neljaliikmeline     428.707381\n",
      "viieliikmeline      261.299976\n",
      "kuueliikmeline      250.622091\n",
      "kolmeliikmeline     188.350136\n",
      "Name: 499, dtype: float64\n",
      "----------------------------\n",
      "topic 311, with 4 month(s)\n",
      "['eelarve', 'riigieelarve', 'eurolaul', 'kasumiprognoos', 'linnaeelarve', 'MM-sari', 'MK-sari', 'laureaat', 'lõpetaja', 'eurovisioon', 'play-off', 'MM-võistlus', 'riigieksam', 'lauluvõistlus', 'vanalinnapäev', 'õllesummer', 'abiturient', 'käibeprognoos', 'playoff', 'jaanuar', 'aprill', 'sisehooaeg', 'suvelavastus', 'koolilõpetaja', 'peaesineja', 'jazzkaar', 'draft', 'märts', 'kartulisaak', 'komeet', 'suverull', 'põhiturniir', 'võidupüha', 'erastamisprogramm', 'jõulujazz', 'iseseisvuspäev', 'orkaanihooaeg', 'majanduskasvuprognoos', 'põhieelarve', 'veebruar', 'eurolugu', 'rahupreemia', 'põhihooaeg', 'tootmisplaan', 'MK-võistlus', 'avastart', 'jõulupuu', 'taliolümpiamängud', 'säästueelarve', 'Oscari-gala', 'teatripreemia']\n",
      "Most common adjectives in topic:\n",
      "tänavune     11862.667920\n",
      "algav         2080.799133\n",
      "mullune        843.291950\n",
      "tollivaba      132.002000\n",
      "uus             52.366516\n",
      "Name: 311, dtype: float64\n",
      "----------------------------\n",
      "topic 281, with 1 month(s)\n",
      "['sõda', 'närv', 'talv', 'dušš', 'dushsh', 'higi', 'talveilm', 'suupiste', 'front', 'kompress', 'talveõhtu', 'kõrgrõhkkond', 'õu', 'talvekuu', 'peletamine', 'eelroog', 'suplus', 'kõrgrõhuala', 'kali', 'talvehommik', 'tuumasüntees', 'talveöö', 'mai', 'tomatisupp', 'judin', 'kivipõrand', 'radiaator']\n",
      "Most common adjectives in topic:\n",
      "külm                 8537.826380\n",
      "terrorismivastane     570.851232\n",
      "püha                  277.999266\n",
      "alanud                139.312376\n",
      "uus                   129.248555\n",
      "Name: 281, dtype: float64\n",
      "----------------------------\n",
      "topic 412, with 1 month(s)\n",
      "['ookean', 'vaim', 'kari', 'juur', 'tädi', 'hääbumine', 'geenius', 'sahin', 'võõrasema', 'kõrvaltänav', 'nurgake', 'august', 'surin', 'eskiisprojekt', 'meisterdanu', 'kohake', 'prussakas', 'kaitsetegevus']\n",
      "Most common adjectives in topic:\n",
      "vaikne         2301.376218\n",
      "kuri           1366.446789\n",
      "valmis          889.445548\n",
      "vähemedukas     143.002000\n",
      "vajav           133.107868\n",
      "Name: 412, dtype: float64\n",
      "----------------------------\n"
     ]
    }
   ],
   "source": [
    "for i in set(idx):\n",
    "    print(f\"topic {i}, with {idx.count(i)} month(s)\")\n",
    "    print(topics[i])\n",
    "    print(\"Most common adjectives in topic:\")\n",
    "    print(adjs_in_topics.loc[i][adjs_in_topics.loc[i] > 10].sort_values(ascending=False).head())\n",
    "    print(\"----------------------------\")"
   ]
  },
  {
   "cell_type": "markdown",
   "metadata": {},
   "source": [
    "#### Days topics"
   ]
  },
  {
   "cell_type": "code",
   "execution_count": 18,
   "metadata": {},
   "outputs": [],
   "source": [
    "days = ['esmaspäev', 'teisipäev', 'kolmapäev', 'neljapäev', 'reede', 'laupäev', 'pühapäev']\n",
    "idx2 = []\n",
    "\n",
    "for day in days:\n",
    "    for topic, words in topics.items():\n",
    "        if day in words:\n",
    "            idx2.append(topic)\n",
    "            continue"
   ]
  },
  {
   "cell_type": "code",
   "execution_count": 19,
   "metadata": {},
   "outputs": [
    {
     "data": {
      "text/plain": [
       "[299, 299, 299, 299, 98, 98, 98]"
      ]
     },
     "execution_count": 19,
     "metadata": {},
     "output_type": "execute_result"
    }
   ],
   "source": [
    "idx2"
   ]
  },
  {
   "cell_type": "code",
   "execution_count": 40,
   "metadata": {},
   "outputs": [
    {
     "name": "stdout",
     "output_type": "stream",
     "text": [
      "98 : ['reede', 'nädalavahetus', 'laupäev', 'pühapäev', 'nädalalõpp', 'aastavahetus', 'detsember', 'oktoober', 'september', 'november', 'täke', 'manalatee', 'kütteperiood', 'kesknädal', 'õng', 'täissaal']\n",
      "Most common adjectives in topic:\n",
      "läinud      11450.466384\n",
      "eelmine      4492.928065\n",
      "eelolev      3312.483890\n",
      "järgmine      712.923183\n",
      "tulev         422.942508\n",
      "Name: 98, dtype: float64\n",
      "----------------------------\n",
      "299 : ['aasta', 'nädal', 'hooaeg', 'suvi', 'sajand', 'õhtu', 'sügis', 'neljapäev', 'koosseis', 'kevad', 'kolmapäev', 'tali', 'õppeaasta', 'esmaspäev', 'teisipäev', 'lugemine', 'majandusaasta', 'eelarveaasta', 'olümpia', 'kalendriaasta', 'postitus', 'post', 'tsükkel', 'sajandivahetus', 'loendus', 'valitsusaeg', 'valiktsükkel', 'valitsemisaeg', 'alapeatükk', 'maksustamisperiood', 'kalandusaasta', 'aruandeaasta', 'rahandusaasta', 'kvoodiaasta', 'EM-tsükkel', 'erastamisvoor', 'MM-tsükkel', 'kümnendivahetus', 'sajandilõpp']\n",
      "Most common adjectives in topic:\n",
      "eelmine     101229.421141\n",
      "järgmine     53679.466426\n",
      "viimane      20270.058899\n",
      "tulev        17711.652023\n",
      "käesolev      8922.120449\n",
      "Name: 299, dtype: float64\n",
      "----------------------------\n"
     ]
    }
   ],
   "source": [
    "for i in set(idx2):\n",
    "    print(i, \":\", topics[i])\n",
    "    print(\"Most common adjectives in topic:\")\n",
    "    print(adjs_in_topics.loc[i][adjs_in_topics.loc[i] > 10].sort_values(ascending=False).head())\n",
    "    print(\"----------------------------\")"
   ]
  },
  {
   "cell_type": "markdown",
   "metadata": {},
   "source": [
    "#### Artistic professions"
   ]
  },
  {
   "cell_type": "code",
   "execution_count": 21,
   "metadata": {},
   "outputs": [],
   "source": [
    "jobs = ['laulja', 'näitleja', 'kunstnik', 'tantsija', 'artist']\n",
    "idx3 = []\n",
    "\n",
    "for job in jobs:\n",
    "    for topic, words in topics.items():\n",
    "        if job in words:\n",
    "            idx3.append(topic)\n",
    "            continue"
   ]
  },
  {
   "cell_type": "code",
   "execution_count": 22,
   "metadata": {},
   "outputs": [
    {
     "data": {
      "text/plain": [
       "[378, 378, 378, 330, 378]"
      ]
     },
     "execution_count": 22,
     "metadata": {},
     "output_type": "execute_result"
    }
   ],
   "source": [
    "idx3"
   ]
  },
  {
   "cell_type": "code",
   "execution_count": 41,
   "metadata": {},
   "outputs": [
    {
     "name": "stdout",
     "output_type": "stream",
     "text": [
      "378 : ['näitleja', 'kunstnik', 'laulja', 'muusik', 'mängija', 'teadlane', 'kirjanik', 'bänd', 'lavastaja', 'ajakirjanik', 'helilooja', 'sportlane', 'disainer', 'arhitekt', 'pianist', 'lauljatar', 'dirigent', 'kaasmaalane', 'ansambel', 'luuletaja', 'näitlejanna', 'sõitja', 'jalgpallur', 'režissöör', 'suusataja', 'artist', 'solist', 'väravavaht', 'korvpallur', 'rezhissöör', 'moelooja', 'inglane', 'sakslane', 'pallur', 'tenor', 'kohtutäitur', 'viiuldaja', 'poeet', 'prohvet', 'looja', 'fotograaf', 'tagamees', 'rootslane', 'näitlejatar', 'eelkäija', 'tõlkija', 'filosoof', 'prantslane', 'lauljanna', 'kultuuritegelane', 'hispaanlane', 'maalikunstnik', 'kirurg', 'meistersportlane', 'itaallane', 'sopran', 'skulptor', 'detektiiv', 'näitekirjanik', 'ameeriklanna', 'tohter', 'filminäitleja', 'veteran', 'brasiillane', 'essee', 'koomik', 'literaat', 'semiootik', 'välikomandör', 'rockansambel', 'tšehh', 'meresõitja', 'tõlk', 'kunstitegelane', 'poolakas', 'füüsik', 'mannekeen', 'naiskirjanik', 'kitarrist', 'illusionist', 'ooperitäht', 'müüjanna', 'sürrealist', 'merevaigutuba', 'filmirežissöör', 'raadiohääl', 'loovisik', 'rokkbänd', 'rokkansambel']\n",
      "Most common adjectives in topic:\n",
      "noor             7948.994122\n",
      "kuulus           3143.008277\n",
      "andekas           925.783707\n",
      "vabakutseline     772.867407\n",
      "maailmakuulus     725.857040\n",
      "Name: 378, dtype: float64\n",
      "----------------------------\n",
      "330 : ['kalur', 'sõjaväelane', 'tantsija', 'kalapüük', 'kretinism', 'kaitseväelane', 'sõjavägi', 'ajaloolane', 'välisriik', 'võistlustantsija', 'insener', 'suhtekorraldaja', 'autovaras', 'golfimängija']\n",
      "Most common adjectives in topic:\n",
      "professionaalne    1676.000899\n",
      "kutseline          1192.448825\n",
      "elukutseline        782.965645\n",
      "viibiv              513.570404\n",
      "teeniv              226.708513\n",
      "Name: 330, dtype: float64\n",
      "----------------------------\n"
     ]
    }
   ],
   "source": [
    "for i in set(idx3):\n",
    "    print(i, \":\", topics[i])\n",
    "    print(\"Most common adjectives in topic:\")\n",
    "    print(adjs_in_topics.loc[i][adjs_in_topics.loc[i] > 10].sort_values(ascending=False).head())\n",
    "    print(\"----------------------------\")"
   ]
  },
  {
   "cell_type": "markdown",
   "metadata": {},
   "source": [
    "#### Sports"
   ]
  },
  {
   "cell_type": "code",
   "execution_count": 25,
   "metadata": {},
   "outputs": [],
   "source": [
    "spordialad = ['jalgpall', 'korvpall', 'pesapall', 'võrkpall', 'golf', 'tennis']\n",
    "idx4 = []\n",
    "\n",
    "for spordiala in spordialad:\n",
    "    for topic, words in topics.items():\n",
    "        if spordiala in words:\n",
    "            idx4.append(topic)\n",
    "            continue"
   ]
  },
  {
   "cell_type": "code",
   "execution_count": 26,
   "metadata": {},
   "outputs": [
    {
     "data": {
      "text/plain": [
       "[97, 66, 493, 95, 66]"
      ]
     },
     "execution_count": 26,
     "metadata": {},
     "output_type": "execute_result"
    }
   ],
   "source": [
    "idx4"
   ]
  },
  {
   "cell_type": "code",
   "execution_count": 29,
   "metadata": {},
   "outputs": [
    {
     "name": "stdout",
     "output_type": "stream",
     "text": [
      "97 : ['tippkohtumine', 'kurss', 'jalgpall', 'aktsionär', 'finaalturniir', 'uluk', 'juunior', 'maailmameistrivõistlus', 'tollivormistus', 'kordusmäng', 'kergejõustik', 'finaalseeria', 'atlant', 'teener', 'jäähoki', 'MM-valikmäng', 'liitumisläbirääkimised', 'valvur', 'jünger', 'parteisõdur', 'poolfinaalseeria', 'andmekogu', 'EM-finaalturniir', 'maailmanäitus', 'universiaad', 'EM-võistlus', 'alam', 'lõppkontsert', 'murdmaasuusatamine', 'parteikongress', 'läänemeremaa', 'aednik', 'europarlament', 'lõppvõistlus', 'märgijada', 'EM-valikturniir', 'veerandfinaalseeria', 'ühinemisläbirääkimised', 'umbusaldushääletus', 'inspekteerimine', 'lühirada', 'korduskohtumine', 'MM-turniir', 'sõudmine', 'galaõhtu', 'sulane', 'rannavõrkpall', 'finaalvõistlus', 'teabepäev', 'ujumine']\n",
      "----------------------------\n",
      "66 : ['tänu', 'tõenäosus', 'saal', 'vahe', 'slämm', 'raskus', 'ekraan', 'lootus', 'koormus', 'rõõm', 'risk', 'silm', 'täht', 'mure', 'pauk', 'lava', 'segadus', 'armastus', 'vaev', 'au', 'puudus', 'tükk', 'nõudlus', 'vend', 'teater', 'vanker', 'eelis', 'pluss', 'pettumus', 'populaarsus', 'osakaal', 'panus', 'kivi', 'tunnustus', 'eeskuju', 'pingutus', 'hüpe', 'tööpuudus', 'potentsiaal', 'küsimärk', 'töökoormus', 'pidu', 'mägi', 'suu', 'staar', 'kära', 'algustäht', 'isamaasõda', 'lomp', 'menu', 'rahvahulk', 'skandaal', 'veoauto', 'kott', 'kaal', 'naaber', 'protsent', 'sport', 'kaar', 'vaimustus', 'kergendus', 'peo', 'kaubamaja', 'maantee', 'tulekahju', 'edusamm', 'tung', 'varvas', 'tüli', 'väin', 'hunnik', 'miinus', 'idanaaber', 'vastasseis', 'kõikumine', 'hurraa', 'osatähtsus', 'aed', 'tagasilöök', 'auditoorium', 'varu', 'plakat', 'kirg', 'väljaminek', 'elevus', 'heameel', 'telk', 'hilinemine', 'katastroof', 'orkester', 'rahvamass', 'läbimurre', 'tuleoht', 'kisa', 'edumaa', 'patt', 'nauding', 'seiklus', 'seitsmik', 'ehmatus', 'fänn', 'konteiner', 'austaja', 'pahameel', 'autoriteet', 'üleujutus', 'veok', 'austus', 'šokk', 'purustus', 'võidu', 'saladuskate', 'õnnestumine', 'videoekraan', 'suli', 'poolehoid', 'kuusk', 'ummik', 'ärevus', 'lõhe', 'juubel', 'imestus', 'allahindlus', 'karu', 'sõprus', 'publikumenu', 'lärm', 'kukkumine', 'magistraal', 'edasiminek', 'mõnu', 'reisilaev', 'vapustus', 'kolmik', 'sõnaõigus', 'peegel', 'põnevus', 'jooksevkonto', 'õhin', 'ego', 'pistmine', 'bassein', 'narratiiv', 'järeleandmine', 'defitsiit', 'kompanii', 'mõjuvõim', 'rahuldus', 'korvpall', 'impeerium', 'üldistus', 'kurvastus', 'kohver', 'lollus', 'rumalus', 'voodi', 'häbi', 'show', 'nelik', 'mõtleja', 'publikuhuvi', 'kiir', 'kauss', 'suremus', 'tiss', 'ost', 'pidustus', 'käärid', 'mõistatus', 'shanss', 'sadu', 'haruldus', 'hundikoer', 'ostukeskus', 'tiraaž', 'sula', 'arusaamatus', 'nälg', 'metsatulekahju', 'illusioon', 'töömaht', 'murrang', 'duell', 'arenguhüpe', 'kiusatus', 'poleemika', 'plaadifirma', 'masinavärk', 'müügiedu', 'tamm', 'meediakära', 'inimhulk', 'töövõime', 'tort', 'riist', 'rahvapidu', 'hinnavahe', 'iidol', 'oktoobrirevolutsioon', 'igatsus', 'kordaminek', 'riigiettevõte', 'tööstusettevõte', 'pragu', 'vanusevahe', 'kett', 'tennis', 'trumm', 'rahulolu', 'vedamine', 'siga', 'stuudio', 'vaatajaskond', 'verekaotus', 'kaubanduskett', 'lünk', 'liiklusummik', 'entusiasm', 'seljakott', 'lisakulutus', 'toetajaskond', 'põleng', 'veresoon', 'lõke', 'laenukoormus', 'tabloo', 'kanjon', 'kõmu', 'vaheltkasu', 'tiraazh', 'kirjastus', 'riigimees', 'lugemus', 'allajäämine', 'mahutavus', 'kruiisilaev', 'riigivapp', 'kuhi', 'tünn', 'respekt', 'tuhin', 'spordikott', 'ehitusfirma', 'praad', 'karikas', 'pidupäev', 'ostuhuvi', 'möll', 'rahulolematus', 'aukartus', 'reisilennuk', 'kimp', 'kaubakeskus', 'miski', 'buum', 'rahvakogunemine', 'vastajaskond', 'teleekraan', 'järvistu', 'pindala', 'kasutegur', 'optimist', 'privileeg', 'lihas', 'saks', 'varieeruvus', 'hinnalangus', 'meelehärm', 'spordivõistlus', 'möödalaskmine', 'stiimul', 'läbimüük', 'kotitäis', 'mõjujõud', 'traagika', 'punt', 'vabaõhukontsert', 'poti', 'kasvupotentsiaal', 'elutuba', 'bussifirma', 'lahkarvamus', 'pidulikkus', 'toidupood', 'nukk', 'rõdu', 'parv', 'prügikonteiner', 'merekindlus', 'arengupotentsiaal', 'apellatsioonikoda', 'lahknevus', 'vastutulek', 'õhupall', 'jõudlus', 'suusariik', 'ettevaatus', 'sigadus', 'pott', 'soe', 'kaasaelamine', 'liikluskoormus', 'laulupidu', 'nafta', 'kogemustepagas', 'paast', 'närvipinge', 'kaubaauto', 'sõõm', 'külastatavus', 'pada', 'kaotaja', 'päikeseprill', 'jalgpalliriik', 'infrastruktuuriettevõte', 'loterii', 'ülekoormus', 'julgus', 'tanklakett', 'autofirma', 'toidukauplus', 'kuri', 'ämber', 'kask', 'galakontsert', 'velotuur', 'püramiid', 'valikuvõimalus', 'maastikuauto', 'veeuputus', 'muhk', 'umbusk', 'läbisõit', 'konverentsisaal', 'honorar', 'kasvamine', 'näljahäda', 'nutt', 'üürivõlg', 'kombinaator', 'energiakulu', 'bluff', 'elumuutus', 'haamer', 'tolk', 'palee', 'aplomb', 'janu', 'ajavahe', 'rull', 'mürin', 'hämmastus', 'kristallgloobus', 'ahvatlus', 'koll', 'kultuuriobjekt', 'maalritöö', 'pappkast', 'äriklient', 'hüppemägi', 'tõe-näosus', 'vahemik', 'melu', 'asteroid', 'tulevikuplaan', 'skoor', 'madu', 'tunglemine', 'klaasaken', 'akvaarium', 'kontserdisaal', 'näitusesaal', 'lisakoormus', 'haug', 'hinnaalandus', 'supermarket', 'volatiilsus', 'klaaspind', 'kapitalimahutus', 'raamatupood', 'altminek', 'ühisosa', 'jalgpallimaa', 'loomaaed', 'kaubakogus', 'irw', 'telefoniarve', 'linnakool', 'romantik', 'kolin', 'eelarvamus', 'vereloik', 'riigifirma', 'vaal', 'tass', 'õllesõber', 'lillekimp', 'mürts', 'muskel', 'prügikast', 'üllataja', 'ülevaatenäitus', 'lust', 'heategu', 'loodusõnnetus', 'inerts', 'sarv', 'trükitäht', 'erastamistehing', 'sekeldus', 'vaadatavus', 'kärbe', 'südamevalu', 'kaubavalik', 'läbilaskevõime', 'kiskja', 'töövõit', 'sagimine', 'tahvel', 'verevalum', 'rott', 'tuisk', 'ähm', 'amps', 'uputus', 'taldrikutäis', 'pärandus', 'prohmakas', 'arenguruum', 'džiip', 'ajakulu', 'rauasisaldus', 'söömine', 'riigivõlg', 'ülalpidamiskulu', 'kompliment', 'kuulajaskond', 'väljalangevus', 'esinemissagedus', 'sõnameister', 'tantsupidu', 'egoist', 'julgustükk', 'pagasiruum', 'võlur', 'kauplusekett', 'õlletelk', 'isemõtleja', 'temperatuurikõikumine', 'vaagen', 'välisvõlg', 'kamin', 'portfell', 'rahahäda', 'ragin', 'meelepaha', 'maavaldus', 'ülemärkimine', 'kraater', 'lahmakas', 'kaslane', 'eelarvedefitsiit', 'kausitäis', 'trügimine', 'hääleulatus', 'hai', 'kasvuhoone', 'tühimik', 'sebimine', 'andmemaht', 'mängumaa', 'tegevusvabadus', 'müsteerium', 'rahvasumm', 'eneseületamine', 'paraad', 'veomasin', 'himu', 'spordisõber', 'palgaerinevus', 'inimrühm', 'eufooria', 'magneesiumisisaldus', 'terrass', 'kaadrivoolavus', 'market', 'pruun', 'andmehulk', 'kõrvaklapp', 'osavõtja', 'rahahunnik', 'rahavoog', 'reso', 'voorus', 'parkimisplats', 'hinnakõikumine', 'laastamistöö', 'sirmik', 'igavus', 'vastutuskoorem', 'lihasgrupp', 'lihatükk', 'muruplats', 'valimisedu', 'kann', 'väejuht', 'palgavahe', 'lõuend', 'jäämägi', 'reklaamplakat', 'kõrvarõngas', 'ämblik', 'välisfirma', 'riid', 'riidekapp', 'söögilaud', 'tagaluuk', 'rahvaüritus', 'infohulk', 'amplituud', 'kolakas', 'siirdekala', 'transpordikulu', 'pingelangus', 'ahv', 'massistseen', 'jääkamakas', 'spordisündmus', 'pakiruum', 'sünnipäevapidu', 'mängimine', 'meteoriit', 'pühendumus', 'tootmisettevõte', 'otsustusõigus', 'hiiglane', 'kombinaat', 'kämmal', 'imetaja', 'metsapõleng', 'laat', 'koduigatsus', 'vabaõhulava', 'kaaskond', 'ruumikitsikus', 'liiklustihedus', 'vastumeelsus', 'metsamassiiv', 'hädaoht', 'relvaladu', 'plaadikompanii', 'kogum', 'metafoor', 'kilekotitäis', 'jalanumber', 'kannatlikkus', 'isakaru', 'liiklusintensiivsus', 'rahahulk', 'mehemürakas', 'jutumees', 'eriarvamus', 'lillesülem', 'looduskatastroof', 'koondamislaine', 'meediatähelepanu', 'jaekett', 'läbu', 'taevakeha', 'kajakas', 'suhkrusisaldus', 'küsitavus', 'kinnisvaraprojekt', 'riskigrupp', 'leidlikkus', 'sõrmus', 'kaubandusdefitsiit', 'müüginumber', 'rahapaigutus', 'massiiv', 'massiüritus', 'skepsis', 'kivimürakas', 'meediakontsern', 'klaassein', 'bisnis', 'laenukoorem', 'lööming', 'udar', 'kera', 'elukogemus', 'gild', 'kaltsiumisisaldus', 'üksiklane', 'lusikas', 'rannavärav', 'suusamaa', 'kraana', 'väljanäitus', 'tõenäolisus', 'loodusesõber', 'hõivatus', 'mugul', 'kaubakett', 'inimmass', 'loomaarmastaja', 'tšempion', 'piimatööstus', 'jalgpallifänn', 'töötahe', 'tagasiminek', 'unistaja', 'magusasõber', 'boonus', 'rotveiler', 'panda', 'spordikompleks', 'komps', 'lisainvesteering', 'kannatamine', 'reisikott', 'naftavaru', 'veemass', 'rekka', 'maakivi', 'dogi', 'töökindlus', 'magamistuba', 'reklaamikära', 'publikuhulk', 'kaadrimuudatus', 'noos', 'humanist', 'kultuuriväärtus', 'zhest', 'halduskulu', 'tuleohtlikkus', 'monstrum', 'tasemevahe', 'kimbatus', 'kamakas', 'stend', 'raba', 'sööm', 'vitriinaken', 'rahanumber', 'lisandväärtus', 'rändrahn', 'pitsa', 'lisatöö', 'õlimaal', 'potitäis', 'õllekõht', 'arvutusvõimsus', 'treiler', 'aukohus', 'treeningukoormus', 'mamma', 'laevafirma', 'hinnaerinevus', 'veearve', 'mänguruum', 'määramatus', 'kindlustusfirma', 'sisseelamine', 'seebimull', 'jahmatus', 'karussell', 'kisa-kära', 'madalrõhuala', 'esikülg', 'uimastikogus', 'nurin', 'sümfoonia', 'kinnisvaraobjekt', 'soojakadu', 'punane', 'loomasõber', 'suusatamine', 'kammkarp', 'klaaspurk', 'heategevuskontsert', 'saatjaskond', 'reisibuss', 'kööginuga', 'kulupõleng', 'sumin', 'filmikompanii', 'liiklussõlm', 'paneelelamu', 'furgoonauto', 'haarang', 'magistraaltee', 'filmiöö', 'küttekulu', 'vigvam', 'voolavus', 'reheahi', 'maiasmokk', 'tüürimees', 'hinnahüpe', 'poekett', 'käekott', 'pamp', 'missioonitunne', 'dekoratsioon', 'hämmeldus', 'ahastus', 'vaikija', 'liigakarikas', 'tühik', 'võimudistants', 'osavus', 'kliendibaas', 'lihasrühm', 'jaanituli', 'võlakoormus', 'söögisaal', 'rahn', 'puhumine', 'andumus', 'tundmatu', 'hädakisa', 'malelaud', 'istmikusälk', 'lotovõit', 'jõuluraamat', 'asustustihedus', 'lubaja', 'palgikoorem', 'soojusmahtuvus', 'klaasipind', 'käru', 'hulgimüüja', 'loik', 'vasar', 'bravuur', 'äratundmisrõõm', 'pabistaja', 'mäss', 'kobakas', 'haakrist', 'vastutusekoorem', 'sisepinge', 'mahtuvus', 'vahetund', 'ehitusmaht', 'siiditee', 'kingikott', 'toataim', 'pohmakas', 'kastrul', 'pintsel', 'latakas', 'inimohver', 'sületäis', 'kasvuvõimalus', 'kasvuruum', 'päts', 'diferentseeritus', 'individualist', 'saastaja', 'lambakoer', 'lambakari', 'metropol', 'saeveski', 'transpordilennuk', 'hoki', 'asjatundlikkus', 'kindlustussumma', 'kivihunnik', 'korrusmaja', 'lumehang', 'piimatootja', 't2nu', 'ärakukkumine', 'tegevusraadius', 'möödapanek', 'rahvasterändamine', 'hammasratas', 'sularahasumma', 'rännumees', 'kivirahn', 'kultuurisündmus', 'büst', 'mürakas', 'jutupaunik', 'tärklisesisaldus', 'briljant', 'kõmakas', 'jurakas', 'tööstuslinn', 'värvifoto', 'tööpinge', 'meeleheide', 'pahameeletorm', 'rinnapartii', 'töökoorem', 'vedelikuülekanne', 'sinine', 'mängukaru', 'kasutajaskond', 'rutt', 'seinakell', 'meediahuvi', 'saagikadu', 'naftatanker', 'spets', 'lohk', 'ülepakkumine', 'siseõu', 'dzhiip', 'korvpalliriik', 'otsustamisõigus', 'kaubaruum', 'kultuurilooline', 'finantskulu', 'sigala', 'ülelaekumine', 'vabaõhulavastus', 'papp', 'vutiriik', 'tulejõud', 'soojalaine', 'ühisprojekt', 'sinikas', 'rõõmupidu', 'võtmekimp', 'kubatuur', 'naftamaardla', 'lihtsustus', 'türa', 'moemaja', 'paugutamine', 'veesisaldus', 'metsloom', 'rahvuspartei', 'lõtk', 'narkokogus', 'alkoholikogus', 'seier', 'kihk', 'nui', 'veehoidla', 'alginvesteering', 'kaubamajakett', 'sõjalaev', 'haagis', 'meediamull', 'lavakogemus', 'sünnipäevakontsert', 'autopark', 'kirjutuslaud', 'batuut', 'seapraad', 'maailmapoliitika', 'farmaatsiafirma', 'spordifänn', 'aknaklaas', 'kaubahall', 'kilpkonn', 'vaatajamenu', 'trahvisumm', 'paisumine', 'raadius', 'metsaala', 'hulgifirma', 'käibemaksupettus', 'bagi', 'ühislaulmine', 'rockkontsert', 'vahendustasu', 'abisumm', 'poster', 'valikuvabadus', 'tähesadu', 'lõbusõidulaev', 'eneseületus', 'ümberehitustöö', 'investeerimisprojekt', 'hiidauster', 'majanduskahi', 'kivikamakas', 'vaher', 'rattariik', 'prügihunnik', 'esiklaas', 'päkapikuraamat', 'kauplustekett', 'kapitaalmahutus', 'rahuldustunne', 'kordus', 'püsivus', 'katedraal', 'raudkivi', 'mälumaht', 'soojaarve', 'õlilaik', 'veeloik', 'nappus', 'kasuminumber', 'väeüksus', 'moshee', 'ajakaotus', 'kohtukulu', 'hulgimüügifirma', 'keskkonnareostus', 'suvekontsert', 'tänutunne', 'müügisaal', 'koristuspäev', 'väliskaubandus', 'karneval', 'ühisturg', 'treeningkoormus', 'pankrotilaine', 'mürgel', 'aktsiaportfell', 'metsaveoauto', 'variatiivsus', 'usinus', 'spordipeo', 'rahetera', 'ostukäru', 'infrastruktuuriprojekt', 'sünnimärk']\n",
      "----------------------------\n",
      "493 : ['majanduskasv', 'sõit', 'tempo', 'lõppmäng', 'elutempo', 'reageerimine', 'paranemine', 'internetiühendus', 'vasturünnak', 'vastuvõtmine', 'põrge', 'rikastumine', 'vool', 'avavärav', 'valss', 'majandusareng', 'andmeside', 'palgakasv', 'kasutuselevõtt', 'laenukasv', 'kasvutempo', 'vaheldumine', 'edasiliikumine', 'tasumine', 'algedu', 'taibu', 'ainevahetus', 'taastumine', 'vahetumine', 'integreerumine', 'sõlmimine', 'edenemine', 'edastamine', 'E-post', 'evakueerimine', 'ratifitseerimine', 'tähelend', 'kohanemine', 'töötempo', 'kahanemine', 'jõudmine', 'väsimine', 'kulumine', 'reageerimisvõime', 'tabamine', 'tõste', 'ringiaeg', 'väljamaksmine', 'kohalejõudmine', 'pulss', 'võrkpall', 'autostumine', 'kaalulangus', 'mahamüümine', 'lisandumine', 'sulamine', 'kosumine', 'sööst', 'andmesideteenus', 'paljunemine', 'söödumäng', 'neutron', 'korrastamine', 'aktsiahind', 'asjatoimetus', 'kokkukutsumine', 'kõhnumine', 'montaaž', 'Interneti-ühendus', 'transportimine', 'jahtumine', 'rikastumisvõimalus', 'idanemine']\n",
      "----------------------------\n",
      "95 : ['töökoht', 'liige', 'põlvkond', 'plaat', 'kodu', 'tehnoloogia', 'mudel', 'juhatus', 'aastatuhat', 'tüüp', 'album', 'amet', 'väljakutse', 'versioon', 'tehas', 'tegija', 'peatreener', 'meedia', 'tulija', 'ajastu', 'juhtkond', 'klubi', 'arvuti', 'redaktsioon', 'põhiseadus', 'liin', 'keskus', 'sild', 'kujundus', 'vestlusteema', 'sari', 'lehekülg', 'katus', 'laine', 'pass', 'telefon', 'singel', 'liit', 'hingamine', 'liikmesmaa', 'kaubamärk', 'trend', 'suursaadik', 'koolimaja', 'prügila', 'eluase', 'hinnakiri', 'kunstimuuseum', 'peremees', 'tariif', 'võimuliit', 'sadam', 'rektor', 'kontseptsioon', 'tööandja', 'muudatusettepanek', 'peahoone', 'ehitamine', 'kodumaa', 'kaubanduskeskus', 'kasutaja', 'maailmarekord', 'strateegia', 'elamispind', 'tulumaksuseadus', 'rentnik', 'peatoimetaja', 'elamurajoon', 'jaam', 'põhikiri', 'liituja', 'õppehoone', 'näidend', 'korterelamu', 'tuumajaam', 'juhendaja', 'logo', 'rehv', 'muuseum', 'kontor', 'peasekretär', 'saatesari', 'tutvus', 'aadress', 'operaator', 'kooliaasta', 'ohver', 'ajajärk', 'valitsusliit', 'tegevjuht', 'pensioniseadus', 'staadion', 'kabinet', 'video', 'avastus', 'saatejuht', 'koduklubi', 'vallavanem', 'pealinn', 'elupaik', 'ilmakodanik', 'karistusseadustik', 'neer', 'kuub', 'laut', 'elurajoon', 'maailmakord', 'operatsioonisüsteem', 'kaitsevägi', 'lasteaed', 'pakett', 'tootmishoone', 'piirileping', 'pakend', 'liidumaa', 'ametiauto', 'ringhäälingunõukogu', 'soeng', 'äriplaan', 'kino', 'faas', 'dimensioon', 'detailplaneering', 'kollektsioon', 'kai', 'aku', 'teooria', 'mobiiltelefon', 'riigihange', 'bussiliin', 'põhimäärus', 'ravikindlustusseadus', 'spordihoone', 'sponsor', 'metsaseadus', 'heliplaat', 'koolihoone', 'seriaal', 'üritaja', 'koalitsioonilepe', 'peaministrikandidaat', 'maavanem', 'arestimaja', 'imago', 'elamine', 'ülekohus', 'läbivaatamine', 'taktika', 'sihtkoht', 'generatsioon', 'trass', 'nakatunu', 'bussijaam', 'valitseja', 'liiklusseadus', 'ringhäälinguseadus', 'spordihall', 'vanapagan', 'ind', 'põrand', 'rubriik', 'loomine', 'metoodika', 'tootmisliin', 'alkoholiseadus', 'maastur', 'raekoda', 'troll', 'rahvamaja', 'telefoninumber', 'leiutis', 'klaver', 'valimisseadus', 'ärinimi', 'hümn', 'haldushoone', 'üldplaneering', 'käibemaksuseadus', 'formaat', 'väljund', 'server', 'perekonnanimi', 'alajaam', 'impulss', 'konstitutsioon', 'rekordtase', 'eraldusjoon', 'infosüsteem', 'terminal', 'kauplemispäev', 'millennium', 'trükimasin', 'söögikoht', 'jahimaa', 'kriminaalmenetlus', 'planeering', 'ostmine', 'asupaik', 'keeltemaja', 'väikeauto', 'sõiduplaan', 'hobi', 'tegevdirektor', 'muuseumihoone', 'kirjaviis', 'mänguasi', 'mini', 'vedur', 'teatrimaja', 'asukas', 'pensionisüsteem', 'sportauto', 'volinik', 'kaitseväeteenistus', 'asfaltkate', 'linateos', 'portaal', 'taimesort', 'riigikontrolör', 'HI-viirus', 'iseseisvusaeg', 'parfüüm', 'tuur', 'saabas', 'traktor', 'automudel', 'referendum', 'moodus', 'mängureegel', 'orel', 'peasponsor', 'autokeskus', 'kauplemisnädal', 'tööpakkumine', 'notar', 'prügimägi', 'ravimeetod', 'lennuliin', 'kuberner', 'ujula', 'horisont', 'kasutusviis', 'näitemäng', 'üürileping', 'purskkaev', 'teekate', 'pereliige', 'luulekogu', 'apteek', 'kumm', 'emaplaat', 'tugijaam', 'paradigma', 'trükikoda', 'võidurelvastumine', 'reaktor', 'vabrik', 'jäätmeseadus', 'aastasada', 'kollektiivleping', 'aktsiisimäär', 'tõsielusari', 'pealetung', 'parkimiskord', 'driver', 'koalitsioonileping', 'sõiduvahend', 'torustik', 'turuletulija', 'töölepinguseadus', 'võimla', 'menüü', 'lähenemisviis', 'avatar', 'tsikkel', 'saatkonnahoone', 'müüt', 'videokaart', 'kaubanduspind', 'diiselmootor', 'mängupaik', 'söödalisand', 'valimiskord', 'perekonnaseadus', 'radar', 'bränd', 'ärihoone', 'draiver', 'ooperimaja', 'trammiliin', 'paviljon', 'jupp', 'atraktsioon', 'linnapeakandidaat', 'teler', 'rajamine', 'hall', 'fotomõistatus', 'ekspositsioon', 'palgamäär', 'trükk', 'klooster', 'hinnapakett', 'monument', 'kontserdimaja', 'põrnikas', 'turuhoone', 'sülearvuti', 'paljastus', 'võrse', 'keeleseadus', 'kopter', 'boss', 'postiseadus', 'suuromanik', 'pangahoone', 'tööstuskaup', 'tulekolle', 'tapeet', 'sugupõlv', 'erakonnaseadus', 'kindlustusliik', 'haigusjuht', 'kogumik', 'meedium', 'jäähall', 'mänguväljak', 'foor', 'terminaal', 'palgasüsteem', 'sotsiaalmaksuseadus', 'vaktsiin', 'riigikontroll', 'puhastusseade', 'prokuratuuriseadus', 'mobiil', 'linnajuht', 'galerii', 'elamupiirkond', 'tuumaelektrijaam', 'raehoone', 'C-klass', 'linnaosavanem', 'lipulaev', 'maksuseadus', 'lukk', 'pesa', 'haldaja', 'Bondi-film', 'mast', 'harrastus', 'kombain', 'juhtimisstruktuur', 'elektrihind', 'rubla', 'kaitse-eeskiri', 'kaardilugeja', 'kaevandus', 'isand', 'arendusprojekt', 'kaitseala', 'kultuurikeskus', 'install', 'vedaja', 'tootesari', 'toetusliik', 'toiduseadus', 'trollibuss', 'väljendusvahend', 'viirusekandja', 'kiirlaev', 'kõvaketas', 'tsehh', 'õlleoder', 'rahuaeg', 'pankrotiseadus', 'võlausaldaja', 'sisekujundus', 'rajarekord', 'ärikeskus', 'arenguetapp', 'importija', 'võlaõigusseadus', 'õllesort', 'tornikiiver', 'uisk', 'ravimiseadus', 'lamp', 'kosilane', 'kontonumber', 'duuma', 'atlas', 'õppetoetus', 'ooperiteater', 'teatrijuht', 'postkontor', 'struktuuriüksus', 'tubakaseadus', 'tööturuteenus', 'okupatsioon', 'üllitis', 'pump', 'vägivallalaine', 'tööline', 'normatiiv', 'telemäng', 'valgusti', 'hoidla', 'kodukas', 'ajaarvamine', 'raudteeseadus', 'ühistu', 'tööturg', 'tööseadus', 'automaat', 'doos', 'kiirabiauto', 'meremaa', 'internetipank', 'ametinimetus', 'monitor', 'eksponaat', 'kavaler', 'kiiver', 'haiglahoone', 'hingus', 'büroopind', 'hindamissüsteem', 'elamukvartal', 'fiesta', 'televiisor', 'tuumareaktor', 'peadirigent', 'nišš', 'salong', 'peanäitejuht', 'punktisüsteem', 'trammitee', 'tervishoiukorraldus', 'telekas', 'peapiiskop', 'kassett', 'liiklusskeem', 'kontraht', 'jalgpallistaadion', 'ainekava', 'liitriik', 'teenindusjaam', 'semester', 'pihuarvuti', 'osanik', 'rajoon', 'palgakorraldus', 'telehooaeg', 'tööruum', 'koalitsioonivalitsus', 'kodakondsusseadus', 'kontorihoone', 'maksimarket', 'helikandja', 'maardla', 'ekspeditsioon', 'lastetoetus', 'ehitaja', 'logistikakeskus', 'maksesüsteem', 'eramurajoon', 'euronõue', 'hinnataotlus', 'sukeldumine', 'sõiduriist', 'plokk', 'peamaja', 'kataloog', 'esindusauto', 'maksukorraldus', 'administratiivhoone', 'kiip', 'haldusjaotus', 'liiniluba', 'koostöövorm', 'prose', 'superauto', 'puhkuseseadus', 'operaatorfirma', 'parkimismaja', 'pesumasin', 'teatrisaal', 'väärtpaberiturg', 'tornikell', 'sedaan', 'produtsent', 'müügipind', 'soft', 'loomakaitseseadus', 'ehitusseadus', 'alustamine', 'arenguvõimalus', 'mersu', 'kobarkino', 'konkurentsiseadus', 'liikmekandidaat', 'laar', 'politseiteenistus', 'spordirajatis', 'politseimaja', 'väljavalitu', 'taotleja', 'teenusepakkuja', 'reklaamiseadus', 'meer', 'kohtukoosseis', 'dekaan', 'E-klass', 'hasartmänguseadus', 'mängukoht', 'ralliversioon', 'riigisaladus', 'piirhind', 'seeme', 'paariline', 'printer', 'arvutimäng', 'jalgrattatee', 'lähenemisnurk', 'levialajaam', 'kasutusvõimalus', 'kübar', 'asundus', 'liikluskorraldus', 'külmalaine', 'alkoholiaktsiis', 'söökla', 'tõusulaine', 'rahuplaan', 'paarimees', 'automark', 'energiaplokk', 'riigilõivuseadus', 'omasaade', 'veerem', 'pangakaart', 'telekommunikatsiooniseadus', 'vangistusseadus', 'rajakate', 'tipptase', 'poliis', 'riistvara', 'reglement', 'politseiseadus', 'päritolureegel', 'postmark', 'valitsushoone', 'tänavavalgustus', 'tööluba', 'tank', 'liitpank', 'messias', 'jõuluvana', 'luksusauto', 'aastanumber', 'eelarvekava', 'maitseelamus', 'modifikatsioon', 'laenutoode', 'epohh', 'elund', 'kirikuseadus', 'terviktekst', 'parlamendikoosseis', 'noortesaade', 'windows', 'kõnekaart', 'kodukord', 'brauser', 'antenn', 'jahisadam', 'euroliiga', 'kindlustusleping', 'helikopter', 'asitõend', 'mängukonsool', 'küttesüsteem', 'garderoob', 'audit', 'julgeolekusüsteem', 'kordon', 'lelu', 'katamaraan', 'kalapüügiseadus', 'tööpost', 'puurkaev', 'patarei', 'riigikohus', 'sünd', 'oda', 'postiindeks', 'õppeprogramm', 'teaduskond', 'tõstuk', 'sooloplaat', 'tsiviilseadustik', 'pilvelõhkuja', 'veekeskus', 'ühissõiduk', 'rodster', 'põrandakate', 'võistluspaik', 'ralliauto', 'rahvusringhääling', 'pakendiseadus', 'välisilme', 'üüriline', 'umbusaldusavaldus', 'veebileht', 'teadusharu', 'spordisaal', 'postitöötlemiskeskus', 'muusikaajakiri', 'tuletõrjeauto', 'HIV-kandja', 'leiukoht', 'liiduleping', 'majandusprognoos', 'mängujuht', 'ideeauto', 'kontserdipaik', 'julgeolekuarhitektuur', 'erastamiskonkurss', 'golf', 'kaater', 'hinnapoliitika', 'kombinesoon', 'palgaastmestik', 'ravivõimalus', 'suusahüppemägi', 'pärimisseadus', 'vallamaja', 'siider', 'olümpiarekord', 'soojasõlm', 'osatäitja', 'statuut', 'sünagoog', 'tab', 'hansapank', 'moodul', 'konsool', 'kupüür', 'hinnapakkumine', 'asum', 'heakorraeeskiri', 'äripind', 'leegionär', 'imidž', 'arvutisüsteem', 'küüditamine', 'ehitusmaterjal', 'inspektsioon', 'linnasüda', 'hüpermarket', 'bussiootepaviljon', 'jäätmehoolduseeskiri', 'koolijuht', 'ärimudel', 'riigiduuma', 'raskeveok', 'riigihankekonkurss', 'proovisaal', 'nishsh', 'numeratsioon', 'ringrada', 'õmblusvabrik', 'ühisraha', 'sõjatehnika', 'palgajuhend', 'rahaallikas', 'näitekirjandus', 'tsiviilkohtumenetlus', 'rahaühik', 'jahiseadus', 'A-klass', 'hüüdnimi', 'ministrikandidaat', 'kauplemisluba', 'amort', 'investeerimisvõimalus', 'lastekaitseseadus', 'kirikupea', 'klassiruum', 'protees', 'registreerimistunnistus', 'tselluloositehas', 'tätoveering', 'vallutus', 'teenindussaal', 'tolliseadustik', 'S-klass', 'telefoniteenus', 'pühakoda', 'naftajuhe', 'turvanõue', 'numeratsiooniplaan', 'jäätisetehas', 'korteriomand', 'klaviatuur', 'kuriteoliik', 'laululava', 'esinemispaik', 'elektroonika', 'hinnastruktuur', 'autoklass', 'maksustamishind', 'lasketiir', 'ettevalmistamine', 'kriminaalseadustik', 'aktsiisiseadus', 'ajalooõpik', 'arendus', 'gripiviirus', 'loots', 'kokaraamat', 'ärivõimalus', 'autotee', 'katastriüksus', 'istutusõigus', 'eluvorm', 'julgeolekukontseptsioon', 'jalavari', 'arvutiviirus', 'looduskaitseala', 'avaturg', 'haljastus', 'bürooruum', 'autotehas', 'juurdeehitus', 'majutuskoht', 'kõnelustevoor', 'boyfriend', 'rahvuslus', 'objektiiv', 'teatrihoone', 'võistlussari', 'tänavasilt', 'tööpaik', 'turvasüsteem', 'veetrass', 'turvaelement', 'võõrmängija', 'sihtpunkt', 'tootmis', 'patch', 'telemaja', 'silmarõõm', 'spordileht', 'torpeedo', 'julgeolekustruktuur', 'armsam', 'kontoripind', 'automaattankla', 'elektritariif', 'hinnarekord', 'luud', 'moesuund', 'sihtnumber', 'veetorustik', 'sidesüsteem', 'win', 'rannahoone', 'piiritähis', 'väärtpaberikonto', 'töövõimalus', 'soojarekord', 'päästeauto', 'sõlm', 'töökäsi', 'muusikavideo', 'ringhäälingumaja', 'tuumariik', 'säästumarket', 'mudaravila', 'turueeskiri', 'plekk-katus', 'teenistuskoht', 'naftakai', 'universaal', 'lemmikloom', 'domeeninimi', 'domeen', 'arvutiklass', 'alusleping', 'dokfilm', 'arengujärk', 'maksukoodeks', 'liitumistasu', 'asukohamaa', 'mobla', 'lotomäng', 'lastesaade', 'kliinik', 'kinokompleks', 'kuukaart', 'aeroobikastiil', 'klots', 'laserplaat', 'haigusjuhtum', 'liigendbuss', 'keemiahoone', 'esteetika', 'parkimisautomaat', 'verevalamine', 'valitsusprogramm', 'munitsipaalkorter', 'tarbijakaitseseadus', 'võõrleegionär', 'tuumarakett', 'piirdeaed', 'piiriületuskord', 'peaprodutsent', 'viisike', 'sõjakäik', 'naabrivalve', 'sportkupee', 'rendipind', 'sadamahoone', 'trolliliin', 'dopinguskandaal', 'alfa', 'jõujaam', 'mobiilside', 'karastusjook', 'innustus', 'hüüdlause', 'julgeolekurisk', 'jäätmehoidla', 'aktsiisimaks', 'elektriliin', 'korrakaitseseadus', 'alkomeeter', 'bussipilet', 'algupärand', 'kasutajanimi', 'arveldussüsteem', 'linnaliinibuss', 'CD-plaat', 'kohtumaja', 'hoonekompleks', 'hüpotees', 'helistamiskord', 'laser', 'teatmeteos', 'õppetool', 'röntgeniaparaat', 'muinsuskaitseseadus', 'vahelagi', 'relvasüsteem', 'pakettaken', 'naastrehv', 'paadiklass', 'toidukoht', 'olümpiaala', 'valimisvoor', 'reanimobiil', 'rõivakollektsioon', 'rajajoon', 'rongiliin', 'nimekuju', 'veehaare', 'telejuht', 'piirijoon', 'partitsioon', 'reostuskolle', 'puhasti', 'rattatee', 'õlleaktsiis', 'tihend', 'selveri', 'viadukt', 'nimeseadus', 'toetussüsteem', 'rektoraat', 'tööpink', 'pikap', 'turutingimus', 'sõidukitüüp', 'ülelugemine', 'tolmuimeja', 'rendikonkurss', 'tõkend', 'müügirekord', 'tooteseeria', 'muusikasaade', 'talvetoode', 'tarkvaralahendus', 'vormel', 'võistlusauto', 'tootmisseade', 'ventilatsioonisüsteem', 'põlevkivikaevandus', 'üritustesari', 'tervisekeskus', 'rahastamisskeem', 'verb', 'tollitõkend', 'taksovedu', 'maailmakorraldus', 'elamukrunt', 'luuleraamat', 'koostootmisjaam', 'juhtorgan', 'kronoloogia', 'ehitusmäärus', 'jahutus', 'looduskaitseseadus', 'magister', 'kontseptsiooniauto', 'liiklusjärelevalve', 'kontserdisari', 'kosmoseprogramm', 'jäälõhkuja', 'kiirusrekord', 'kindlustusseadus', 'helikaart', 'lasteaiakoht', 'lastelaul', 'koostöövõimalus', 'lauamäng', 'hävitaja', 'liitumisleping', 'kompromissettepanek', 'vähiravim', 'ridaelamu', 'PIN-kood', 'piiskop', 'tuulik', 'vargamägi', 'oopus', 'politseiauto', 'sadamakai', 'tootegrupp', 'soomuk', 'ülemjuhataja', 'välismängija', 'turunišš', 'müügisalong', 'rekordmadal', 'postikeskus', 'tõsielufilm', 'vedru', 'rookatus', 'õppesüsteem', 'relvaluba', 'pangatäht', 'produkt', 'teenusepakett', 'universaalkere', 'noortekeskus', 'raamatukoguhoone', 'üldtingimus', 'veeb', 'õppeveerand', 'raamatusari', 'pöörang', 'suurhall', 'reoveepuhasti', 'põhikindlustusleping', 'peakokk', 'nakatumisjuht', 'moodustamine', 'kohuke', 'korteriskandaal', 'amortisaator', 'Iraagi-resolutsioon', 'konteinerkatlamaja', 'kõnepakett', 'kultuurileht', 'eurovangla', 'linnak', 'maanteesild', 'biomeedikum', 'maahind', 'digikaamera', 'meediakultuur', 'internetiteenus', 'haridusseadus', 'kolle', 'kunstigalerii', 'kodumeeskond', 'audoktor', 'miinijahtija', 'jutukogu', 'aukonsul', 'kiirrong', 'komöödiasari', 'karistusseadus', 'elutsükkel', 'kernel', 'mootoriversioon', 'mänguplats', 'koduka', 'finantsperspektiiv', 'laadung', 'autobuss', 'banner', 'immigratsiooniseadus', 'kombijaam', 'lühimängufilm', 'kuumarekord', 'jutusaade', 'maailmakodanik', 'kirikuhoone', 'lastekaitse', 'advokatuuriseadus', 'kütuseaktsiis', 'mängusüsteem', 'avang', 'draamasari', 'mängusaal', 'jaotuskeskus', 'kõrgepingeliin', 'taskutelefon', 'vallajuht', 'söödaseadus', 'välisuks', 'vähijuht', 'partnerlussuhe', 'viimistlusliin', 'üliõpilasesindus', 'septembrikuu', 'palgamäärus', 'selver', 'ühekroonine', 'tuulelipp', 'turustusvõimalus', 'müügikeskus', 'rahastamissüsteem', 'töötervishoid', 'töömeetod', 'suusakepp', 'pleier', 'plaadimaterjal', 'pingekolle', 'telefonijaam', 'tänavanimi', 'pesapaik', 'reisiterminal', 'soojahind', 'müügiluba', 'regionaalareng', 'varing', 'nädalalõpulisa', 'võrguühendus', 'superarvuti', 'raudteeliin', 'värvkate', 'rahastamiskord', 'tormihoiatus', 'õlitehas', 'testisõitja', 'sillutis', 'õppekirjandus', 'toitlustuskoht', 'viisaeeskiri', 'tollieeskiri', 'vene-poliitika', 'munitsipaalmaja', 'teeninduskeskus', 'nakkusekandja', 'vastutusala', 'vangistusseadustik', 'ülestõus', 'tubakaaktsiis', 'veoajam', 'naftaterminal', 'winn', 'toetuseliik', 'talkshow', 'naftaleiukoht', 'üldplaan', 'tuberkuloosihaige', 'saadikurühm', 'südamedaam', 'vägivallapuhang', 'tulnuk', 'turunishsh', 'tellimine', 'välisesindus', 'ristisõda', 'spordiväljak', 'partnerluslepe', 'partnerlusleping', 'tarkvarapakett', 'sõimerühm', 'õmblusmasin', 'tootmispind', 'reisisiht', 'sõidutalong', 'tuukriuuring', 'sadamajuht', 'soodusravim', 'õppekorpus', 'ussviirus', 'kirikukell', 'kiipkaart', 'kergejõustikuhall', 'esinaine', 'matmispaik', 'eramupiirkond', 'mootoritarnija', 'halduskogu', 'makk', 'emm', 'hävituslennuk', 'HI-viirusekandja', 'määrustik', 'lüpsiplats', 'lunastaja', 'hommikuprogramm', 'hoonestuspiirkond', 'huviala', 'lisandunu', 'lisamine', 'likvideerija', 'liinileping', 'fosforiidisõda', 'dopinguaine', 'dokumentaalsari', 'lepingupartner', 'lepingupakkumine', 'lennumasin', 'mobiilioperaator', 'internetikasutaja', 'lastemänguväljak', 'läpaka', 'kütusemahuti', 'kutsealune', 'julgeolekuoht', 'konverentsikeskus', 'arstim', 'aretis', '3-seeria', 'karistusliik', 'kohtuhoone', 'karjäärivõimalus', 'aastaraamat', 'kuumalaine', 'kaitsesüsteem', 'mõjusfäär', 'halduskohus', 'doktor', 'jõukeskus', 'betoon', 'hinnamudel', 'idapoliitika', 'ametisõiduk', 'depoo', 'issi', 'juhtimismudel', 'majutusasutus', 'eriesindaja', 'kontserdikava', 'kompressor', 'liikluskindlustusseadus', 'lasteküla', 'eelarveseadus', 'kaardisüsteem', 'bemm', 'asendusliige', 'hullus', 'moesõna', 'finantsteenus', 'lisavõimalus', 'juurdeehitis', 'ausammas', 'kanalisatsioonitorustik', 'kaitsedoktriin', 'lauluraamat', 'kartulisort', 'laudakompleks', 'maailmaime', 'kloostrikompleks', 'lühinumber', 'alustaja', 'gaasitrass', 'arhiiviseadus', 'telenägu', 'sajakroonine', 'õppeplaan', 'suurpood', 'turuhall', 'võõrkeel', 'pidurisüsteem', 'õppesuund', 'veresaun', 'varikatus', 'taksoeeskiri', 'munitsipaalelamu', 'raamatupidamissüsteem', 'terroritegu', 'vihmaveetoru', 'ravimpreparaat', 'piire', 'salarelv', 'ümberjagamine', 'büroomaja', 'kuuldemäng', 'kaubandustingimus', 'magnetkaart', 'meelelahutuskoht', 'arstirohi', 'elektrifilter', 'kütuseliik', 'ajam', 'rünnakulaine', 'muusa', 'õpilaskodu', 'ultraheliaparaat', 'süvasadam', 'palmimaja', 'rahvusooper', 'pesitsuspaik', 'tippmudel', 'teenuspakett', 'süüdistuskokkuvõte', 'vasakpoolsus', 'tuberkuloosijuht', 'pensioniliik', 'pensionikorraldus', 'muusikajuht', 'sertifitseerimissüsteem', 'villimisliin', 'toitlustaja', 'vastamisvõimalus', 'regulaarliin', 'põlevkivikatel', 'ripsmetušš', 'sünnitunnistus', 'poistebänd', 'tehnikaime', 'paremerakond', 'valiksari', 'õppekorraldus', 'suurhaigla', 'sats', 'vormeliversioon', 'tootmiskompleks', 'telefonisüsteem', 'sponsorleping', 'vektor', 'spordibaas', 'telelavastus']\n",
      "----------------------------\n"
     ]
    }
   ],
   "source": [
    "for i in set(idx4):\n",
    "    print(i, \":\", topics[i])\n",
    "    print(\"----------------------------\")"
   ]
  },
  {
   "cell_type": "markdown",
   "metadata": {},
   "source": [
    "#### Abstract ?"
   ]
  },
  {
   "cell_type": "code",
   "execution_count": 30,
   "metadata": {},
   "outputs": [],
   "source": [
    "abstract = ['ilu', 'inimõigus', 'vabadus']\n",
    "idx5 = []\n",
    "\n",
    "for a in abstract:\n",
    "    for topic, words in topics.items():\n",
    "        if a in words:\n",
    "            idx5.append(topic)\n",
    "            continue"
   ]
  },
  {
   "cell_type": "code",
   "execution_count": 31,
   "metadata": {},
   "outputs": [
    {
     "data": {
      "text/plain": [
       "[74, 377, 359]"
      ]
     },
     "execution_count": 31,
     "metadata": {},
     "output_type": "execute_result"
    }
   ],
   "source": [
    "idx5"
   ]
  },
  {
   "cell_type": "code",
   "execution_count": 32,
   "metadata": {},
   "outputs": [
    {
     "name": "stdout",
     "output_type": "stream",
     "text": [
      "377 : ['takistus', 'kahtlusalune', 'verejooks', 'tegevusala', 'inimõigus', 'märksõna', 'sissetulekuallikas', 'toetaja', 'tuluallikas', 'rahastaja', 'asjaajamiskeel', 'kaubanduspartner', 'mina', 'trump', 'vaatamisväärsus', 'tõmbenumber', 'töökorraldus', 'põlemine', 'tegevusvaldkond', 'eestvedaja', 'ekspordiartikkel', 'töövahend', 'motivatsioon', 'põhjustaja', 'opositsioonipartei', 'tugipunkt', 'ohustaja', 'komistuskivi', 'elatusallikas', 'surmapõhjus', 'pretendent', 'eksporditurg', 'uurimisvaldkond', 'valimislubadus', 'kõneaine', 'opositsioonijõud', 'tasuvuslävi', 'partnerriik', 'jututeema', 'vastuargument', 'sihtriik', 'kompensatsioonitoode', 'arutlusteema', 'tõukejõud', 'vastuväide', 'vaat', 'valupunkt', 'infoallikas', 'tellija', 'huviobjekt', 'ekspordipartner', 'tegevussuund', 'tüliõun', 'tiitlipretendent', 'vaidlusküsimus', 'kullasoosik', 'tüliküsimus', 'puhastumine', 'medalilootus', 'eksportturg', 'esikohapretendent', 'kaubaartikkel', 'skooritegija', 'rahastamis', 'alustala', 'kasvumootor', 'löögijõud', 'murelaps', 'kullapretendent', 'uurimisobjekt', 'initsiaator', 'müügiartikkel', 'vaidlusobjekt', 'patuoinas', 'vaidlusteema', 'tootmisvahend', 'tegevuspiirkond', 'töösuund', 'osis', 'riskirühm', 'süüalune', 'tagaja', 'unearter', 'arenguloogika', 'tugisammas', 'müügiargument', 'kullanõudleja', 'levitaja', 'elluviija', 'väljatöötaja', 'finantseerija', 'infokanal', 'raudteevõrk', 'kasutusvaldkond', 'käärimine']\n",
      "----------------------------\n",
      "74 : ['võit', 'kaotus', 'vallandamine', 'koondamine', 'ülesütlemine', 'ilu', 'esikoht', 'töötüli', 'aju', 'meistritiitel', 'alateadvus', 'esindamine', 'etapivõit', 'töösuhe', 'valimisvõit', 'MM-tiitel', 'turupäev', 'enesekaitse', 'maailmameistritiitel', 'tiitlivõit', 'tasuja', 'süütunne', 'vallandmine', 'nullimäng']\n",
      "----------------------------\n",
      "359 : ['jama', 'arvestamine', 'vaikus', 'kaos', 'vabadus', 'puudumine', 'absurd', 'läbikukkumine', 'üksmeel', 'keelustamine', 'vastand', 'vastavus', 'rohumaa', 'päikesevarjutus', 'mõttetus', 'häving', 'loomastik', 'pühendumine', 'teadmatus', 'võhik', 'saast', 'kooskõla', 'shokk', 'müstika', 'ükskõiksus', 'hullumaja', 'põrgu', 'nonsenss', 'pask', 'idioot', 'väljamõeldis', 'taastamine', 'mineraalvesi', 'krahh', 'keelamine', 'kuuvarjutus', 'tühjus', 'fiasko', 'rahuldamine', 'isemajandamine', 'ootamatus', 'loobumine', 'kiud', 'pühapaik', 'anarhia', 'iseseisvumine', 'ebaõnn', 'liberaliseerimine', 'õigusvõime', 'tühistamine', 'vabastus', 'ebaõnnestumine', 'tervenemine', 'hävimine', 'jura', 'tuulevaikus', 'väljaviimine', 'jobu', 'ökosüsteem', 'eraldatus', 'harmoonia', 'rämps', 'košmaar', 'kokkuvarisemine', 'ohutus', 'varjutus', 'hullumeelsus', 'idiootsus', 'viisarezhiim', 'jamps', 'blokaad', 'infosulg', 'bullshit', 'farss', 'eitamine', 'utoopia', 'uuenemine', 'ühistegevus', 'ravimtaim', 'tabu', 'võhiklikkus', 'totrus', 'puhastamine', 'avalikustamine', 'antioksüdant', 'asurkond', 'anonüümsus', 'ignoreerimine', 'apaatia', 'integreerimine', 'jaburdus', 'tootmistingimus', 'lammutamine', 'kandevõime', 'väljaselgitamine', 'allutamine', 'jahilind', 'absurdsus', 'huvipuudus', 'konverteeritavus', 'sobimatus', 'lakkamine', 'eraldumine', 'aktiivmuld', 'karistamatus', 'rehabiliteerimine', 'solk', 'viisarežiim', 'amatöör', 'äravõtmine', 'siiber', 'lootusetus', 'bull', 'teovõime', 'sõnavabadus', 'rakendumine', 'anakronism', 'desarmeerimine', 'taatlus', 'isoleerimine', 'vagotoomia', 'allumine']\n",
      "----------------------------\n"
     ]
    }
   ],
   "source": [
    "for i in set(idx5):\n",
    "    print(i, \":\", topics[i])\n",
    "    print(\"----------------------------\")"
   ]
  },
  {
   "cell_type": "markdown",
   "metadata": {},
   "source": [
    "### Adjectives in topics"
   ]
  },
  {
   "cell_type": "markdown",
   "metadata": {},
   "source": [
    "#### Colours"
   ]
  },
  {
   "cell_type": "code",
   "execution_count": 42,
   "metadata": {},
   "outputs": [],
   "source": [
    "colours = ['valge', 'kollane', 'oranž', 'roosa', 'punane', 'pruun', 'roheline', 'sinine', 'lilla', 'hall', 'must']"
   ]
  },
  {
   "cell_type": "code",
   "execution_count": 43,
   "metadata": {},
   "outputs": [
    {
     "data": {
      "text/html": [
       "<div>\n",
       "<style scoped>\n",
       "    .dataframe tbody tr th:only-of-type {\n",
       "        vertical-align: middle;\n",
       "    }\n",
       "\n",
       "    .dataframe tbody tr th {\n",
       "        vertical-align: top;\n",
       "    }\n",
       "\n",
       "    .dataframe thead th {\n",
       "        text-align: right;\n",
       "    }\n",
       "</style>\n",
       "<table border=\"1\" class=\"dataframe\">\n",
       "  <thead>\n",
       "    <tr style=\"text-align: right;\">\n",
       "      <th></th>\n",
       "      <th>valge</th>\n",
       "      <th>kollane</th>\n",
       "      <th>oranž</th>\n",
       "      <th>roosa</th>\n",
       "      <th>punane</th>\n",
       "      <th>pruun</th>\n",
       "      <th>roheline</th>\n",
       "      <th>sinine</th>\n",
       "      <th>lilla</th>\n",
       "      <th>hall</th>\n",
       "      <th>must</th>\n",
       "    </tr>\n",
       "  </thead>\n",
       "  <tbody>\n",
       "    <tr>\n",
       "      <th>0</th>\n",
       "      <td>0.002000</td>\n",
       "      <td>0.002000</td>\n",
       "      <td>0.002000</td>\n",
       "      <td>0.002000</td>\n",
       "      <td>0.002000</td>\n",
       "      <td>0.002</td>\n",
       "      <td>0.002</td>\n",
       "      <td>0.002000</td>\n",
       "      <td>0.002</td>\n",
       "      <td>0.002</td>\n",
       "      <td>0.002</td>\n",
       "    </tr>\n",
       "    <tr>\n",
       "      <th>1</th>\n",
       "      <td>0.002000</td>\n",
       "      <td>0.002000</td>\n",
       "      <td>0.002000</td>\n",
       "      <td>0.002000</td>\n",
       "      <td>0.002000</td>\n",
       "      <td>0.002</td>\n",
       "      <td>0.002</td>\n",
       "      <td>0.002000</td>\n",
       "      <td>0.002</td>\n",
       "      <td>0.002</td>\n",
       "      <td>0.002</td>\n",
       "    </tr>\n",
       "    <tr>\n",
       "      <th>2</th>\n",
       "      <td>28.901482</td>\n",
       "      <td>11.031886</td>\n",
       "      <td>0.002000</td>\n",
       "      <td>0.002000</td>\n",
       "      <td>19.082562</td>\n",
       "      <td>0.002</td>\n",
       "      <td>0.002</td>\n",
       "      <td>0.002000</td>\n",
       "      <td>0.002</td>\n",
       "      <td>0.002</td>\n",
       "      <td>0.002</td>\n",
       "    </tr>\n",
       "    <tr>\n",
       "      <th>3</th>\n",
       "      <td>0.002000</td>\n",
       "      <td>0.002000</td>\n",
       "      <td>0.002000</td>\n",
       "      <td>0.002000</td>\n",
       "      <td>0.002000</td>\n",
       "      <td>0.002</td>\n",
       "      <td>0.002</td>\n",
       "      <td>0.002000</td>\n",
       "      <td>0.002</td>\n",
       "      <td>0.002</td>\n",
       "      <td>0.002</td>\n",
       "    </tr>\n",
       "    <tr>\n",
       "      <th>4</th>\n",
       "      <td>0.002000</td>\n",
       "      <td>0.002000</td>\n",
       "      <td>0.002000</td>\n",
       "      <td>0.002000</td>\n",
       "      <td>0.002000</td>\n",
       "      <td>0.002</td>\n",
       "      <td>0.002</td>\n",
       "      <td>0.002000</td>\n",
       "      <td>0.002</td>\n",
       "      <td>0.002</td>\n",
       "      <td>0.002</td>\n",
       "    </tr>\n",
       "    <tr>\n",
       "      <th>...</th>\n",
       "      <td>...</td>\n",
       "      <td>...</td>\n",
       "      <td>...</td>\n",
       "      <td>...</td>\n",
       "      <td>...</td>\n",
       "      <td>...</td>\n",
       "      <td>...</td>\n",
       "      <td>...</td>\n",
       "      <td>...</td>\n",
       "      <td>...</td>\n",
       "      <td>...</td>\n",
       "    </tr>\n",
       "    <tr>\n",
       "      <th>495</th>\n",
       "      <td>903.835248</td>\n",
       "      <td>9.092570</td>\n",
       "      <td>1.463884</td>\n",
       "      <td>826.739958</td>\n",
       "      <td>1594.533344</td>\n",
       "      <td>0.002</td>\n",
       "      <td>0.002</td>\n",
       "      <td>0.003077</td>\n",
       "      <td>24.002</td>\n",
       "      <td>0.002</td>\n",
       "      <td>0.002</td>\n",
       "    </tr>\n",
       "    <tr>\n",
       "      <th>496</th>\n",
       "      <td>0.002000</td>\n",
       "      <td>0.002000</td>\n",
       "      <td>0.002000</td>\n",
       "      <td>0.002000</td>\n",
       "      <td>0.002000</td>\n",
       "      <td>0.002</td>\n",
       "      <td>0.002</td>\n",
       "      <td>0.002000</td>\n",
       "      <td>0.002</td>\n",
       "      <td>0.002</td>\n",
       "      <td>0.002</td>\n",
       "    </tr>\n",
       "    <tr>\n",
       "      <th>497</th>\n",
       "      <td>0.002000</td>\n",
       "      <td>0.002000</td>\n",
       "      <td>0.002000</td>\n",
       "      <td>0.002000</td>\n",
       "      <td>0.002000</td>\n",
       "      <td>0.002</td>\n",
       "      <td>0.002</td>\n",
       "      <td>0.002000</td>\n",
       "      <td>0.002</td>\n",
       "      <td>0.002</td>\n",
       "      <td>0.002</td>\n",
       "    </tr>\n",
       "    <tr>\n",
       "      <th>498</th>\n",
       "      <td>0.002000</td>\n",
       "      <td>0.002000</td>\n",
       "      <td>0.002000</td>\n",
       "      <td>0.002000</td>\n",
       "      <td>0.002000</td>\n",
       "      <td>0.002</td>\n",
       "      <td>0.002</td>\n",
       "      <td>0.002000</td>\n",
       "      <td>0.002</td>\n",
       "      <td>0.002</td>\n",
       "      <td>0.002</td>\n",
       "    </tr>\n",
       "    <tr>\n",
       "      <th>499</th>\n",
       "      <td>0.002000</td>\n",
       "      <td>0.002000</td>\n",
       "      <td>0.002000</td>\n",
       "      <td>0.002000</td>\n",
       "      <td>0.002000</td>\n",
       "      <td>0.002</td>\n",
       "      <td>0.002</td>\n",
       "      <td>0.002000</td>\n",
       "      <td>0.002</td>\n",
       "      <td>0.002</td>\n",
       "      <td>0.002</td>\n",
       "    </tr>\n",
       "  </tbody>\n",
       "</table>\n",
       "<p>500 rows × 11 columns</p>\n",
       "</div>"
      ],
      "text/plain": [
       "          valge    kollane     oranž       roosa       punane  pruun  \\\n",
       "0      0.002000   0.002000  0.002000    0.002000     0.002000  0.002   \n",
       "1      0.002000   0.002000  0.002000    0.002000     0.002000  0.002   \n",
       "2     28.901482  11.031886  0.002000    0.002000    19.082562  0.002   \n",
       "3      0.002000   0.002000  0.002000    0.002000     0.002000  0.002   \n",
       "4      0.002000   0.002000  0.002000    0.002000     0.002000  0.002   \n",
       "..          ...        ...       ...         ...          ...    ...   \n",
       "495  903.835248   9.092570  1.463884  826.739958  1594.533344  0.002   \n",
       "496    0.002000   0.002000  0.002000    0.002000     0.002000  0.002   \n",
       "497    0.002000   0.002000  0.002000    0.002000     0.002000  0.002   \n",
       "498    0.002000   0.002000  0.002000    0.002000     0.002000  0.002   \n",
       "499    0.002000   0.002000  0.002000    0.002000     0.002000  0.002   \n",
       "\n",
       "     roheline    sinine   lilla   hall   must  \n",
       "0       0.002  0.002000   0.002  0.002  0.002  \n",
       "1       0.002  0.002000   0.002  0.002  0.002  \n",
       "2       0.002  0.002000   0.002  0.002  0.002  \n",
       "3       0.002  0.002000   0.002  0.002  0.002  \n",
       "4       0.002  0.002000   0.002  0.002  0.002  \n",
       "..        ...       ...     ...    ...    ...  \n",
       "495     0.002  0.003077  24.002  0.002  0.002  \n",
       "496     0.002  0.002000   0.002  0.002  0.002  \n",
       "497     0.002  0.002000   0.002  0.002  0.002  \n",
       "498     0.002  0.002000   0.002  0.002  0.002  \n",
       "499     0.002  0.002000   0.002  0.002  0.002  \n",
       "\n",
       "[500 rows x 11 columns]"
      ]
     },
     "execution_count": 43,
     "metadata": {},
     "output_type": "execute_result"
    }
   ],
   "source": [
    "adjs_in_topics[colours]"
   ]
  },
  {
   "cell_type": "code",
   "execution_count": 47,
   "metadata": {},
   "outputs": [
    {
     "name": "stdout",
     "output_type": "stream",
     "text": [
      "Värv 'valge'\n",
      "Number of topics with probability > 0.002 (default) is 50\n",
      "301    20284.361979\n",
      "495      903.835248\n",
      "92       473.002000\n",
      "419      378.039403\n",
      "11       297.522789\n",
      "348      124.407198\n",
      "186      103.177280\n",
      "484       86.204250\n",
      "144       66.778338\n",
      "481       62.287594\n",
      "455       59.439476\n",
      "51        55.578511\n",
      "366       47.851750\n",
      "270       46.269974\n",
      "255       39.507324\n",
      "490       36.021581\n",
      "272       34.002000\n",
      "343       29.613835\n",
      "2         28.901482\n",
      "30        24.987718\n",
      "372       23.067407\n",
      "152       15.973656\n",
      "148       15.901999\n",
      "491       13.983126\n",
      "68        11.944672\n",
      "47        11.888624\n",
      "179       11.010638\n",
      "269        7.782792\n",
      "352        5.422127\n",
      "488        4.008594\n",
      "423        1.216304\n",
      "357        0.989544\n",
      "88         0.935862\n",
      "417        0.689665\n",
      "431        0.675459\n",
      "48         0.658079\n",
      "238        0.575787\n",
      "324        0.489996\n",
      "322        0.475322\n",
      "16         0.324426\n",
      "336        0.148079\n",
      "108        0.072384\n",
      "39         0.025090\n",
      "104        0.020290\n",
      "424        0.018218\n",
      "40         0.004127\n",
      "219        0.002002\n",
      "196        0.002000\n",
      "379        0.002000\n",
      "319        0.002000\n",
      "Name: valge, dtype: float64\n",
      "-------------------------\n",
      "Värv 'kollane'\n",
      "Number of topics with probability > 0.002 (default) is 23\n",
      "379    3372.042951\n",
      "372    1008.093005\n",
      "488     221.665940\n",
      "301     202.223713\n",
      "336     110.621552\n",
      "196     103.645475\n",
      "38       52.881616\n",
      "39       41.046059\n",
      "138      37.771218\n",
      "394      31.502659\n",
      "238      18.604017\n",
      "51       16.124390\n",
      "324      13.645579\n",
      "288      12.792230\n",
      "92       12.002000\n",
      "88       11.069493\n",
      "2        11.031886\n",
      "220      10.011007\n",
      "495       9.092570\n",
      "144       7.680300\n",
      "490       3.420592\n",
      "47        2.887293\n",
      "484       0.190456\n",
      "Name: kollane, dtype: float64\n",
      "-------------------------\n",
      "Värv 'oranž'\n",
      "Number of topics with probability > 0.002 (default) is 6\n",
      "55     203.954473\n",
      "336     45.879427\n",
      "372     32.258494\n",
      "38      24.756046\n",
      "143     16.699675\n",
      "495      1.463884\n",
      "Name: oranž, dtype: float64\n",
      "-------------------------\n",
      "Värv 'roosa'\n",
      "Number of topics with probability > 0.002 (default) is 6\n",
      "495    826.739958\n",
      "336    146.000646\n",
      "484     23.984256\n",
      "490     10.002000\n",
      "453      0.256887\n",
      "301      0.028254\n",
      "Name: roosa, dtype: float64\n",
      "-------------------------\n",
      "Värv 'punane'\n",
      "Number of topics with probability > 0.002 (default) is 38\n",
      "431    11658.485075\n",
      "372     1948.128401\n",
      "495     1594.533344\n",
      "51       300.035007\n",
      "488      235.819936\n",
      "88       163.736024\n",
      "324      161.309405\n",
      "336      114.724867\n",
      "39       111.134189\n",
      "196      103.700318\n",
      "301       91.387609\n",
      "144       59.473777\n",
      "419       49.012558\n",
      "269       31.792832\n",
      "455       31.564934\n",
      "186       30.360377\n",
      "486       22.381778\n",
      "299       22.231955\n",
      "366       21.818611\n",
      "199       21.634645\n",
      "179       21.617433\n",
      "352       19.438340\n",
      "2         19.082562\n",
      "490       18.989404\n",
      "161       14.141296\n",
      "30        13.849245\n",
      "247       12.798297\n",
      "40         7.977811\n",
      "47         7.341121\n",
      "219        6.501874\n",
      "322        3.034292\n",
      "379        2.650611\n",
      "38         1.623567\n",
      "491        1.063513\n",
      "418        0.369786\n",
      "471        0.273979\n",
      "167        0.055229\n",
      "163        0.002000\n",
      "Name: punane, dtype: float64\n",
      "-------------------------\n",
      "Värv 'pruun'\n",
      "Number of topics with probability > 0.002 (default) is 11\n",
      "38     999.257290\n",
      "88      98.791243\n",
      "336     84.545469\n",
      "491     56.443864\n",
      "384     35.349713\n",
      "134     34.183711\n",
      "343     13.552100\n",
      "238      9.980082\n",
      "372      7.169111\n",
      "301      1.740012\n",
      "289      0.009404\n",
      "Name: pruun, dtype: float64\n",
      "-------------------------\n",
      "Värv 'roheline'\n",
      "Number of topics with probability > 0.002 (default) is 47\n",
      "196    8145.723195\n",
      "455     914.984971\n",
      "201     307.767482\n",
      "372     144.273816\n",
      "143      91.249051\n",
      "481      45.303203\n",
      "488      44.536136\n",
      "51       42.521937\n",
      "179      39.604054\n",
      "87       32.021894\n",
      "336      31.430830\n",
      "88       26.058997\n",
      "152      21.556415\n",
      "422      21.214153\n",
      "366      19.266703\n",
      "11       17.858660\n",
      "19       14.151102\n",
      "140      13.474776\n",
      "324      13.184304\n",
      "467      13.146640\n",
      "47       12.587459\n",
      "490      10.973357\n",
      "419       8.379604\n",
      "55        7.638392\n",
      "486       6.183751\n",
      "308       5.738426\n",
      "48        3.899067\n",
      "279       3.434860\n",
      "38        3.421931\n",
      "301       3.405934\n",
      "135       3.162588\n",
      "459       3.152601\n",
      "352       3.018632\n",
      "220       2.304860\n",
      "449       2.240188\n",
      "39        1.770714\n",
      "199       1.486828\n",
      "144       1.217906\n",
      "171       0.840659\n",
      "104       0.578599\n",
      "322       0.526943\n",
      "89        0.331656\n",
      "379       0.274330\n",
      "264       0.140123\n",
      "167       0.041058\n",
      "389       0.013215\n",
      "462       0.002000\n",
      "Name: roheline, dtype: float64\n",
      "-------------------------\n",
      "Värv 'sinine'\n",
      "Number of topics with probability > 0.002 (default) is 20\n",
      "372    4182.456443\n",
      "417     270.663613\n",
      "491      56.490083\n",
      "104      29.146795\n",
      "47       19.142576\n",
      "134      18.595491\n",
      "238      13.919230\n",
      "366      13.093681\n",
      "488      12.934641\n",
      "30       12.223184\n",
      "490      10.002000\n",
      "143       9.710600\n",
      "301       7.107396\n",
      "336       4.567150\n",
      "39        2.847090\n",
      "352       0.819434\n",
      "324       0.159931\n",
      "38        0.155585\n",
      "495       0.003077\n",
      "385       0.002000\n",
      "Name: sinine, dtype: float64\n",
      "-------------------------\n",
      "Värv 'lilla'\n",
      "Number of topics with probability > 0.002 (default) is 3\n",
      "336    99.002\n",
      "495    24.002\n",
      "270    12.002\n",
      "Name: lilla, dtype: float64\n",
      "-------------------------\n",
      "Värv 'hall'\n",
      "Number of topics with probability > 0.002 (default) is 24\n",
      "384    3146.079672\n",
      "88      350.451911\n",
      "419     132.040368\n",
      "336      92.881432\n",
      "417      73.077540\n",
      "484      39.592963\n",
      "179      37.002000\n",
      "322      35.514611\n",
      "92       33.002000\n",
      "47       30.736350\n",
      "11       26.696756\n",
      "481      24.316498\n",
      "487      22.589454\n",
      "30       21.112547\n",
      "491      18.642872\n",
      "310      16.767488\n",
      "388      16.002000\n",
      "324      12.081963\n",
      "247      11.838083\n",
      "301      10.440119\n",
      "366       4.569980\n",
      "486       1.390015\n",
      "144       1.331705\n",
      "482       0.889674\n",
      "Name: hall, dtype: float64\n",
      "-------------------------\n",
      "Värv 'must'\n",
      "Number of topics with probability > 0.002 (default) is 50\n",
      "144    21190.677142\n",
      "170      312.196465\n",
      "119      289.763908\n",
      "11       158.162379\n",
      "491      126.444817\n",
      "272      121.002000\n",
      "67        80.002000\n",
      "146       63.677940\n",
      "322       53.292384\n",
      "348       52.001636\n",
      "269       45.827234\n",
      "455       40.694420\n",
      "92        39.062289\n",
      "301       38.798997\n",
      "490       37.013121\n",
      "238       36.194697\n",
      "88        32.445109\n",
      "30        24.915131\n",
      "148       23.348443\n",
      "372       23.222018\n",
      "417       21.771292\n",
      "343       20.191941\n",
      "152       16.027560\n",
      "419       15.014748\n",
      "140       12.279403\n",
      "47        12.233080\n",
      "51        11.218046\n",
      "220       10.299723\n",
      "187       10.240875\n",
      "179       10.016814\n",
      "352        6.667657\n",
      "366        5.560916\n",
      "481        5.011914\n",
      "336        3.224083\n",
      "199        2.248434\n",
      "434        2.102360\n",
      "279        1.607896\n",
      "186        1.430752\n",
      "438        1.202937\n",
      "299        1.181713\n",
      "385        0.453833\n",
      "488        0.189129\n",
      "324        0.115576\n",
      "319        0.034850\n",
      "134        0.020346\n",
      "360        0.003978\n",
      "39         0.002007\n",
      "471        0.002005\n",
      "437        0.002000\n",
      "104        0.002000\n",
      "Name: must, dtype: float64\n",
      "-------------------------\n"
     ]
    }
   ],
   "source": [
    "for colour in colours:\n",
    "    print(f\"Värv '{colour}'\")\n",
    "    col_topics = adjs_in_topics[colour][adjs_in_topics[colour] > 0.002].sort_values(ascending=False)\n",
    "    print(f\"Number of topics with probability > 0.002 (default) is {len(col_topics)}\")\n",
    "    print(col_topics)\n",
    "    print(\"-------------------------\")"
   ]
  },
  {
   "cell_type": "code",
   "execution_count": 52,
   "metadata": {},
   "outputs": [],
   "source": [
    "colours_topics = defaultdict(list)\n",
    "\n",
    "for colour in colours:\n",
    "    col_topics = adjs_in_topics[colour][adjs_in_topics[colour] > 0.002].sort_values(ascending=False).head(3)\n",
    "    for index in col_topics.index:\n",
    "        colours_topics[index].append(colour)"
   ]
  },
  {
   "cell_type": "code",
   "execution_count": 53,
   "metadata": {},
   "outputs": [
    {
     "data": {
      "text/plain": [
       "defaultdict(list,\n",
       "            {301: ['valge'],\n",
       "             495: ['valge', 'roosa', 'punane', 'lilla'],\n",
       "             92: ['valge'],\n",
       "             379: ['kollane'],\n",
       "             372: ['kollane', 'oranž', 'punane', 'sinine'],\n",
       "             488: ['kollane'],\n",
       "             55: ['oranž'],\n",
       "             336: ['oranž', 'roosa', 'pruun', 'lilla'],\n",
       "             484: ['roosa'],\n",
       "             431: ['punane'],\n",
       "             38: ['pruun'],\n",
       "             88: ['pruun', 'hall'],\n",
       "             196: ['roheline'],\n",
       "             455: ['roheline'],\n",
       "             201: ['roheline'],\n",
       "             417: ['sinine'],\n",
       "             491: ['sinine'],\n",
       "             270: ['lilla'],\n",
       "             384: ['hall'],\n",
       "             419: ['hall'],\n",
       "             144: ['must'],\n",
       "             170: ['must'],\n",
       "             119: ['must']})"
      ]
     },
     "execution_count": 53,
     "metadata": {},
     "output_type": "execute_result"
    }
   ],
   "source": [
    "colours_topics"
   ]
  },
  {
   "cell_type": "code",
   "execution_count": 75,
   "metadata": {},
   "outputs": [
    {
     "name": "stdout",
     "output_type": "stream",
     "text": [
      "['vein', 'õis', 'panter', 'vihik', 'huul', 'elevant', 'kaustik', 'krants', 'vihikuleht', 'flanellsärk']\n"
     ]
    }
   ],
   "source": [
    "print(topics[495])"
   ]
  },
  {
   "cell_type": "code",
   "execution_count": 76,
   "metadata": {},
   "outputs": [
    {
     "name": "stdout",
     "output_type": "stream",
     "text": [
      "['lipp', 'vilkur', 'plekk', 'lint', 'tunked', 'teksased', 'trikoloor', 'lipuke', 'ingel', 'kilesuss', 'värvikombinatsioon', 'pastakas', 'riigilipp', 'soojustus', 'pekk', 'meistrisärk', 'rahvuslipp', 'dressipluus', 'käoking']\n"
     ]
    }
   ],
   "source": [
    "print(topics[372])"
   ]
  },
  {
   "cell_type": "code",
   "execution_count": 77,
   "metadata": {},
   "outputs": [
    {
     "name": "stdout",
     "output_type": "stream",
     "text": [
      "['värv', 'toon', 'meresõit', 'värvitoon', 'tegumood', 'rahvusrind', 'vahendamine', 'riigimonopol', 'juurdehindlus', 'retuusid', 'esitusviis']\n"
     ]
    }
   ],
   "source": [
    "print(topics[336])"
   ]
  },
  {
   "cell_type": "code",
   "execution_count": 114,
   "metadata": {
    "scrolled": true
   },
   "outputs": [
    {
     "name": "stdout",
     "output_type": "stream",
     "text": [
      "Värv 'valge'\n",
      "Topic with highest probability is 301:\n",
      "['suhkur', 'särk', 'pulber', 'kittel', 'viin', 'laik', 'lina', 'pluus', 'sein', 'triip', 'kinnas', 'malend', 'vares', 'hiinlane', 'šokolaad', 'rass', 'jõulud', 'paberileht', 'kepp', 'farmer', 'tuvi', 'triiksärk', 'kaubik', 'marmor', 'neeger', 'T-särk', 'krae', 'rüü', 'luik', 'põll', 'fosfor', 'sukkpüksid', 'peakapsas', 'kurg', 'kuup', 'hõlst', 'pruutkleit', 'räppar', 'ratsu', 'ülemvõim', 'liilia', 'plastmass', 'laudlina', 'rant', 'puri', 'kääbus', 'põlvik', 'pärslane', 'loor', 'sammas', 'ollus', 'ürp', 'hobu', 'kääbustäht', 'vatt', 'botas', 'taskurätik', 'mikrobuss', 'vesiroos', 'aknaraam', 'vererakk', 'vööt', 'orbit', 'ristikhein', 'kirjapaber', 'muskus', 'uss', 'invertsuhkur', 'tutt', 'mesikas', 'tiibklaver', 'küülik', 'siid', 'pojeng', 'plasttool', 'majavein', 'veiniäädikas', 'taskurätt', 'gospel', 'linik', 'pearätt']\n",
      "-------------------------\n",
      "Värv 'kollane'\n",
      "Topic with highest probability is 379:\n",
      "['kaart', 'õpik', 'liidrisärk', 'kanal', 'andmebaas', 'isikutunnistus', 'pangandus', 'valve', 'allkiri', 'alakoost', 'allveelaev', 'kinnistusraamat', 'luure', 'postkast', 'hoiatuskaart', 'alakubu', 'ID-kaart', 'liblikas', 'andmevahetus', 'märkmik', 'komposter', 'valvesüsteem', 'stabiilsuskontroll', 'rooste', 'kandja', 'kauplemissüsteem', 'liidrivest', 'huntmees', 'sõnastik', 'pangateenus', 'pidurdusjõud', 'postipank', 'andmeedastus', 'teavik', 'ajavõtusüsteem', 'kontrollplokk', 'popmuusika', 'dokumendihaldus', 'hääletussüsteem', 'ajavõtt', 'valijakaart', 'sissepritse', 'kleeps', 'nartsiss', 'taskumärkmik', 'pangakanal', 'infokandja', 'haiguslugu', 'termostaat', 'laenutus', 'sõidukaart', 'lipik']\n",
      "-------------------------\n",
      "Värv 'oranž'\n",
      "Topic with highest probability is 55:\n",
      "['revolutsioon', 'kaevamine', 'leid', 'väljakaevamine', 'elatusmiinimum', 'normaalväärtus', 'kulunorm', 'mägijõgi', 'neitsioliiviõli']\n",
      "-------------------------\n",
      "Värv 'roosa'\n",
      "Topic with highest probability is 495:\n",
      "['vein', 'õis', 'panter', 'vihik', 'huul', 'elevant', 'kaustik', 'krants', 'vihikuleht', 'flanellsärk']\n",
      "-------------------------\n",
      "Värv 'punane'\n",
      "Topic with highest probability is 431:\n",
      "['demokraat', 'rist', 'latern', 'väljak', 'vaip', 'roos', 'planeet', 'foorituli', 'tellis', 'sõstar', 'ristik', 'rätik', 'paprika', 'verelible', 'kurat', 'terror', 'nupp', 'nelk', 'kukk', 'tõug', 'müts', 'päevakübar', 'rahvapartei', 'kärbseseen', 'khmeer', 'lauavein', 'eetika', 'koolkodu', 'lips', 'viisnurk', 'rätt', 'kuningriik', 'tõu', 'brigaad', 'draakon', 'kross', 'hoolekandekeskus', 'kütt', 'pael', 'kaelarätt', 'telliskivi', 'nool', 'teoloogia', 'kivikatus', 'lilleke', 'khmer', 'teism', 'aruhein', 'signaalrakett', 'täpike', 'noortekodu', 'parun', 'misjonär', 'marinaad', 'peet', 'apelsin', 'elavhõbe', 'mošee', 'poolkuu', 'plagu', 'penn', 'nelipüha', 'halastus', 'kuma', 'savi', 'poi', 'moon', 'kirjaklamber', 'liivakivi', 'kuuröövel', 'juuksepahmakas', 'laserkiir', 'fundamentalist', 'meelerahu', 'osaduskonn', 'vabakogudus', 'sipelgas', 'telefoniputka', 'rubiin', 'misjonitöö', 'motoroller', 'sete', 'vask']\n",
      "-------------------------\n",
      "Värv 'pruun'\n",
      "Topic with highest probability is 38:\n",
      "['värvus', 'jume', 'kolonn', 'arvutis', 'katk', 'jaotumine', 'narmasnutt', 'tsiviilkäive', 'vajumine', 'jalaväerühm', 'konvoi', 'antoloogia', 'kleidike', 'tuulepark']\n",
      "-------------------------\n",
      "Värv 'roheline'\n",
      "Topic with highest probability is 196:\n",
      "['tuli', 'mander', 'mehike', 'mõtteviis', 'muru', 'aas', 'tuluke', 'vöönd', 'hernes', 'konn', 'barett', 'rattaretk', 'vahtraleht', 'uba', 'mõttelaad', 'seep', 'miil', 'spargel', 'kalev', 'nooltuli', 'lehtköögivili', 'sammal', 'giljoššmuster', 'ohutuli', 'vanill', 'lible', 'tollikoridor', 'salatileht']\n",
      "-------------------------\n",
      "Värv 'sinine'\n",
      "Topic with highest probability is 372:\n",
      "['lipp', 'vilkur', 'plekk', 'lint', 'tunked', 'teksased', 'trikoloor', 'lipuke', 'ingel', 'kilesuss', 'värvikombinatsioon', 'pastakas', 'riigilipp', 'soojustus', 'pekk', 'meistrisärk', 'rahvuslipp', 'dressipluus', 'käoking']\n",
      "-------------------------\n",
      "Värv 'lilla'\n",
      "Topic with highest probability is 336:\n",
      "['värv', 'toon', 'meresõit', 'värvitoon', 'tegumood', 'rahvusrind', 'vahendamine', 'riigimonopol', 'juurdehindlus', 'retuusid', 'esitusviis']\n",
      "-------------------------\n",
      "Värv 'hall'\n",
      "Topic with highest probability is 384:\n",
      "['tsoon', 'mass', 'kardinal', 'kartul', 'muna', 'habe', 'kaunitar', 'riis', 'argipäev', 'karv', 'hiireke', 'porgand', 'juuksekarv', 'ajurakk', 'makaron', 'hiid', 'keskpärasus', 'hämarus', 'A-riis', 'spagett', 'pelmeen']\n",
      "-------------------------\n",
      "Värv 'must'\n",
      "Topic with highest probability is 144:\n",
      "['auk', 'kast', 'stsenaarium', 'pipar', 'meri', 'huumor', 'hobune', 'pesu', 'lammas', 'masendus', 'kleit', 'pardipoeg', 'maagia', 'pilv', 'prill', 'mantel', 'kalamari', 'valge', 'king', 'mask', 'vöö', 'ploom', 'kilekott', 'täpp', 'kile', 'prügikott', 'limusiin', 'nahktagi', 'nahavärv', 'teksapüks', 'oliiv', 'talaar', 'toonekurg', 'teksad', 'vunts', 'sukk', 'toss', 'kassa', 'graniit', 'kroonika', 'missa', 'kaabu', 'täkk', 'samet', 'lepp', 'suitsusammas', 'viigipüksid', 'leinalint', 'nahkpüks', 'kaaviar', 'have', 'nahkjope', 'ronk', 'jakk', 'notsu', 'sviiter', 'keep', 'kapuuts', 'nahkmantel', 'metallurgia', 'vihmamantel', 'püssirohi', 'vurr', 'sulejope', 'terapipar', 'daalia', 'mapp', 'rinnahoidja', 'ningo', 'siluett', 'nahkjakk', 'maaveri', 'küünealune', 'pükskostüüm', 'kits', 'džemper', 'poolsaabas', 'manner', 'kunstnahk', 'madonna', 'kolonel', 'tagi', 'mulk', 'paun', 'maika', 'ettur']\n",
      "-------------------------\n"
     ]
    }
   ],
   "source": [
    "for colour in colours:\n",
    "    print(f\"Värv '{colour}'\")\n",
    "    col_topics = adjs_in_topics[colour][adjs_in_topics[colour] > 0.002].sort_values(ascending=False)\n",
    "    top_1 = col_topics.index[0]\n",
    "    print(f\"Topic with highest probability is {top_1}:\")\n",
    "    print(topics[top_1])\n",
    "    print(\"-------------------------\")"
   ]
  },
  {
   "cell_type": "markdown",
   "metadata": {},
   "source": [
    "#### Positive adjectives about intelligence"
   ]
  },
  {
   "cell_type": "code",
   "execution_count": 65,
   "metadata": {},
   "outputs": [],
   "source": [
    "adjs = ['tark', 'intelligentne', 'taibukas', 'arukas']"
   ]
  },
  {
   "cell_type": "code",
   "execution_count": 66,
   "metadata": {},
   "outputs": [],
   "source": [
    "adjs_topics = defaultdict(list)\n",
    "\n",
    "for adj in adjs:\n",
    "    adj_topics = adjs_in_topics[adj][adjs_in_topics[adj] > 0.002].sort_values(ascending=False).head(3)\n",
    "    for index in adj_topics.index:\n",
    "        adjs_topics[index].append(adj)"
   ]
  },
  {
   "cell_type": "code",
   "execution_count": 67,
   "metadata": {},
   "outputs": [
    {
     "data": {
      "text/plain": [
       "defaultdict(list,\n",
       "            {92: ['tark', 'intelligentne', 'taibukas', 'arukas'],\n",
       "             11: ['tark', 'intelligentne'],\n",
       "             40: ['tark', 'arukas'],\n",
       "             416: ['intelligentne'],\n",
       "             114: ['arukas']})"
      ]
     },
     "execution_count": 67,
     "metadata": {},
     "output_type": "execute_result"
    }
   ],
   "source": [
    "adjs_topics"
   ]
  },
  {
   "cell_type": "code",
   "execution_count": 68,
   "metadata": {},
   "outputs": [
    {
     "name": "stdout",
     "output_type": "stream",
     "text": [
      "Omadussõna 'tark'\n",
      "Number of topics with probability > 0.002 (default) is 44\n",
      "92    908.965992\n",
      "11    637.804527\n",
      "40    583.108195\n",
      "Name: tark, dtype: float64\n",
      "-------------------------\n",
      "Omadussõna 'intelligentne'\n",
      "Number of topics with probability > 0.002 (default) is 19\n",
      "92     409.931101\n",
      "11      70.002000\n",
      "416     51.923391\n",
      "Name: intelligentne, dtype: float64\n",
      "-------------------------\n",
      "Omadussõna 'taibukas'\n",
      "Number of topics with probability > 0.002 (default) is 1\n",
      "92    15.002\n",
      "Name: taibukas, dtype: float64\n",
      "-------------------------\n",
      "Omadussõna 'arukas'\n",
      "Number of topics with probability > 0.002 (default) is 21\n",
      "92     360.002000\n",
      "40      82.042696\n",
      "114     74.166483\n",
      "Name: arukas, dtype: float64\n",
      "-------------------------\n"
     ]
    }
   ],
   "source": [
    "for adj in adjs:\n",
    "    print(f\"Omadussõna '{adj}'\")\n",
    "    adj_topics = adjs_in_topics[adj][adjs_in_topics[adj] > 0.002].sort_values(ascending=False)\n",
    "    print(f\"Number of topics with probability > 0.002 (default) is {len(adj_topics)}\")\n",
    "    print(adj_topics.head(3))\n",
    "    print(\"-------------------------\")"
   ]
  },
  {
   "cell_type": "code",
   "execution_count": 69,
   "metadata": {},
   "outputs": [
    {
     "data": {
      "text/plain": [
       "['inimene']"
      ]
     },
     "execution_count": 69,
     "metadata": {},
     "output_type": "execute_result"
    }
   ],
   "source": [
    "topics[92]"
   ]
  },
  {
   "cell_type": "code",
   "execution_count": 73,
   "metadata": {},
   "outputs": [
    {
     "name": "stdout",
     "output_type": "stream",
     "text": [
      "['jutt', 'noorkuu', 'kysimus', 'lits', 'raffas', 'pallikaotus', 'onn', 'põhjamaa', 'veesõiduk', 'ple', 'polex', 'jõulurahu']\n"
     ]
    }
   ],
   "source": [
    "print(topics[40])"
   ]
  },
  {
   "cell_type": "code",
   "execution_count": 72,
   "metadata": {},
   "outputs": [
    {
     "data": {
      "text/plain": [
       "loll               940.794537\n",
       "rumal              740.522653\n",
       "tark               583.108195\n",
       "olnud              367.987194\n",
       "segane             273.714130\n",
       "                      ...    \n",
       "igapäevane          10.459093\n",
       "meeldiv             10.067713\n",
       "vastutustundetu     10.002000\n",
       "umbmäärane          10.002000\n",
       "pubekas             10.002000\n",
       "Name: 40, Length: 150, dtype: float64"
      ]
     },
     "execution_count": 72,
     "metadata": {},
     "output_type": "execute_result"
    }
   ],
   "source": [
    "adjs_in_topics.loc[40][adjs_in_topics.loc[40] > 10].sort_values(ascending=False)"
   ]
  },
  {
   "cell_type": "markdown",
   "metadata": {},
   "source": [
    "### Information about topics"
   ]
  },
  {
   "cell_type": "markdown",
   "metadata": {},
   "source": [
    "#### Topic lengths"
   ]
  },
  {
   "cell_type": "code",
   "execution_count": 115,
   "metadata": {},
   "outputs": [
    {
     "name": "stdout",
     "output_type": "stream",
     "text": [
      "Topic 0 has 8 words\n",
      "Topic 1 has 9 words\n",
      "Topic 2 has 9 words\n",
      "Topic 3 has 8 words\n",
      "Topic 4 has 53 words\n",
      "Topic 5 has 14 words\n",
      "Topic 6 has 23 words\n",
      "Topic 7 has 5 words\n",
      "Topic 8 has 14 words\n",
      "Topic 9 has 28 words\n",
      "Topic 10 has 18 words\n",
      "Topic 11 has 1 words\n",
      "Topic 12 has 18 words\n",
      "Topic 13 has 9 words\n",
      "Topic 14 has 38 words\n",
      "Topic 15 has 5 words\n",
      "Topic 16 has 5 words\n",
      "Topic 17 has 17 words\n",
      "Topic 18 has 8 words\n",
      "Topic 19 has 3 words\n",
      "Topic 20 has 31 words\n",
      "Topic 21 has 1 words\n",
      "Topic 22 has 7 words\n",
      "Topic 23 has 115 words\n",
      "Topic 24 has 40 words\n",
      "Topic 25 has 11 words\n",
      "Topic 26 has 7 words\n",
      "Topic 27 has 28 words\n",
      "Topic 28 has 44 words\n",
      "Topic 29 has 35 words\n",
      "Topic 30 has 4 words\n",
      "Topic 31 has 15 words\n",
      "Topic 32 has 3 words\n",
      "Topic 33 has 5 words\n",
      "Topic 34 has 23 words\n",
      "Topic 35 has 27 words\n",
      "Topic 36 has 4 words\n",
      "Topic 37 has 3 words\n",
      "Topic 38 has 14 words\n",
      "Topic 39 has 13 words\n",
      "Topic 40 has 12 words\n",
      "Topic 41 has 171 words\n",
      "Topic 42 has 19 words\n",
      "Topic 43 has 68 words\n",
      "Topic 44 has 9 words\n",
      "Topic 45 has 10 words\n",
      "Topic 46 has 4 words\n",
      "Topic 47 has 8 words\n",
      "Topic 48 has 171 words\n",
      "Topic 49 has 28 words\n",
      "Topic 50 has 11 words\n",
      "Topic 51 has 3 words\n",
      "Topic 52 has 7 words\n",
      "Topic 53 has 8 words\n",
      "Topic 54 has 14 words\n",
      "Topic 55 has 9 words\n",
      "Topic 56 has 10 words\n",
      "Topic 57 has 12 words\n",
      "Topic 58 has 17 words\n",
      "Topic 59 has 45 words\n",
      "Topic 60 has 126 words\n",
      "Topic 61 has 192 words\n",
      "Topic 62 has 4 words\n",
      "Topic 63 has 36 words\n",
      "Topic 64 has 14 words\n",
      "Topic 65 has 3 words\n",
      "Topic 66 has 926 words\n",
      "Topic 67 has 3 words\n",
      "Topic 68 has 4 words\n",
      "Topic 69 has 7 words\n",
      "Topic 70 has 7 words\n",
      "Topic 71 has 57 words\n",
      "Topic 72 has 20 words\n",
      "Topic 73 has 2 words\n",
      "Topic 74 has 24 words\n",
      "Topic 75 has 130 words\n",
      "Topic 76 has 48 words\n",
      "Topic 77 has 32 words\n",
      "Topic 78 has 5 words\n",
      "Topic 79 has 14 words\n",
      "Topic 80 has 21 words\n",
      "Topic 81 has 18 words\n",
      "Topic 82 has 50 words\n",
      "Topic 83 has 7 words\n",
      "Topic 84 has 7 words\n",
      "Topic 85 has 375 words\n",
      "Topic 86 has 20 words\n",
      "Topic 87 has 5 words\n",
      "Topic 88 has 9 words\n",
      "Topic 89 has 18 words\n",
      "Topic 90 has 4 words\n",
      "Topic 91 has 78 words\n",
      "Topic 92 has 1 words\n",
      "Topic 93 has 35 words\n",
      "Topic 94 has 8 words\n",
      "Topic 95 has 1251 words\n",
      "Topic 96 has 17 words\n",
      "Topic 97 has 50 words\n",
      "Topic 98 has 16 words\n",
      "Topic 99 has 21 words\n",
      "Topic 100 has 6 words\n",
      "Topic 101 has 37 words\n",
      "Topic 102 has 18 words\n",
      "Topic 103 has 17 words\n",
      "Topic 104 has 8 words\n",
      "Topic 105 has 10 words\n",
      "Topic 106 has 13 words\n",
      "Topic 107 has 52 words\n",
      "Topic 108 has 14 words\n",
      "Topic 109 has 8 words\n",
      "Topic 110 has 29 words\n",
      "Topic 111 has 40 words\n",
      "Topic 112 has 1 words\n",
      "Topic 113 has 29 words\n",
      "Topic 114 has 8 words\n",
      "Topic 115 has 9 words\n",
      "Topic 116 has 10 words\n",
      "Topic 117 has 46 words\n",
      "Topic 118 has 9 words\n",
      "Topic 119 has 3 words\n",
      "Topic 120 has 19 words\n",
      "Topic 121 has 18 words\n",
      "Topic 122 has 15 words\n",
      "Topic 123 has 21 words\n",
      "Topic 124 has 12 words\n",
      "Topic 125 has 24 words\n",
      "Topic 126 has 7 words\n",
      "Topic 127 has 4 words\n",
      "Topic 128 has 53 words\n",
      "Topic 129 has 9 words\n",
      "Topic 130 has 4 words\n",
      "Topic 131 has 12 words\n",
      "Topic 132 has 12 words\n",
      "Topic 133 has 5 words\n",
      "Topic 134 has 32 words\n",
      "Topic 135 has 19 words\n",
      "Topic 136 has 13 words\n",
      "Topic 137 has 14 words\n",
      "Topic 138 has 18 words\n",
      "Topic 139 has 8 words\n",
      "Topic 140 has 3 words\n",
      "Topic 141 has 32 words\n",
      "Topic 142 has 3 words\n",
      "Topic 143 has 33 words\n",
      "Topic 144 has 86 words\n",
      "Topic 145 has 14 words\n",
      "Topic 146 has 4 words\n",
      "Topic 147 has 5 words\n",
      "Topic 148 has 4 words\n",
      "Topic 149 has 15 words\n",
      "Topic 150 has 10 words\n",
      "Topic 151 has 12 words\n",
      "Topic 152 has 2 words\n",
      "Topic 153 has 22 words\n",
      "Topic 154 has 7 words\n",
      "Topic 155 has 8 words\n",
      "Topic 156 has 48 words\n",
      "Topic 157 has 8 words\n",
      "Topic 158 has 20 words\n",
      "Topic 159 has 35 words\n",
      "Topic 160 has 3 words\n",
      "Topic 161 has 3 words\n",
      "Topic 162 has 33 words\n",
      "Topic 163 has 25 words\n",
      "Topic 164 has 3 words\n",
      "Topic 165 has 36 words\n",
      "Topic 166 has 3 words\n",
      "Topic 167 has 27 words\n",
      "Topic 168 has 17 words\n",
      "Topic 169 has 18 words\n",
      "Topic 170 has 1 words\n",
      "Topic 171 has 8 words\n",
      "Topic 172 has 21 words\n",
      "Topic 173 has 22 words\n",
      "Topic 174 has 2 words\n",
      "Topic 175 has 20 words\n",
      "Topic 176 has 21 words\n",
      "Topic 177 has 29 words\n",
      "Topic 178 has 12 words\n",
      "Topic 179 has 6 words\n",
      "Topic 180 has 6 words\n",
      "Topic 181 has 30 words\n",
      "Topic 182 has 34 words\n",
      "Topic 183 has 36 words\n",
      "Topic 184 has 21 words\n",
      "Topic 185 has 5 words\n",
      "Topic 186 has 1 words\n",
      "Topic 187 has 11 words\n",
      "Topic 188 has 2 words\n",
      "Topic 189 has 14 words\n",
      "Topic 190 has 10 words\n",
      "Topic 191 has 17 words\n",
      "Topic 192 has 53 words\n",
      "Topic 193 has 4 words\n",
      "Topic 194 has 15 words\n",
      "Topic 195 has 18 words\n",
      "Topic 196 has 28 words\n",
      "Topic 197 has 4 words\n",
      "Topic 198 has 13 words\n",
      "Topic 199 has 4 words\n",
      "Topic 200 has 10 words\n",
      "Topic 201 has 7 words\n",
      "Topic 202 has 5 words\n",
      "Topic 203 has 56 words\n",
      "Topic 204 has 152 words\n",
      "Topic 205 has 7 words\n",
      "Topic 206 has 9 words\n",
      "Topic 207 has 16 words\n",
      "Topic 208 has 18 words\n",
      "Topic 209 has 23 words\n",
      "Topic 210 has 16 words\n",
      "Topic 211 has 52 words\n",
      "Topic 212 has 16 words\n",
      "Topic 213 has 17 words\n",
      "Topic 214 has 9 words\n",
      "Topic 215 has 17 words\n",
      "Topic 216 has 9 words\n",
      "Topic 217 has 8 words\n",
      "Topic 218 has 5 words\n",
      "Topic 219 has 10 words\n",
      "Topic 220 has 8 words\n",
      "Topic 221 has 8 words\n",
      "Topic 222 has 12 words\n",
      "Topic 223 has 32 words\n",
      "Topic 224 has 33 words\n",
      "Topic 225 has 48 words\n",
      "Topic 226 has 20 words\n",
      "Topic 227 has 37 words\n",
      "Topic 228 has 34 words\n",
      "Topic 229 has 23 words\n",
      "Topic 230 has 11 words\n",
      "Topic 231 has 26 words\n",
      "Topic 232 has 17 words\n",
      "Topic 233 has 45 words\n",
      "Topic 234 has 6 words\n",
      "Topic 235 has 7 words\n",
      "Topic 236 has 28 words\n",
      "Topic 237 has 109 words\n",
      "Topic 238 has 10 words\n",
      "Topic 239 has 11 words\n",
      "Topic 240 has 10 words\n",
      "Topic 241 has 38 words\n",
      "Topic 242 has 6 words\n",
      "Topic 243 has 30 words\n",
      "Topic 244 has 17 words\n",
      "Topic 245 has 7 words\n",
      "Topic 246 has 4 words\n",
      "Topic 247 has 2 words\n",
      "Topic 248 has 99 words\n",
      "Topic 249 has 9 words\n",
      "Topic 250 has 18 words\n",
      "Topic 251 has 42 words\n",
      "Topic 252 has 18 words\n",
      "Topic 253 has 30 words\n",
      "Topic 254 has 17 words\n",
      "Topic 255 has 3 words\n",
      "Topic 256 has 37 words\n",
      "Topic 257 has 3 words\n",
      "Topic 258 has 204 words\n",
      "Topic 259 has 15 words\n",
      "Topic 260 has 60 words\n",
      "Topic 261 has 14 words\n",
      "Topic 262 has 44 words\n",
      "Topic 263 has 10 words\n",
      "Topic 264 has 14 words\n",
      "Topic 265 has 3 words\n",
      "Topic 266 has 28 words\n",
      "Topic 267 has 9 words\n",
      "Topic 268 has 11 words\n",
      "Topic 269 has 3 words\n",
      "Topic 270 has 12 words\n",
      "Topic 271 has 10 words\n",
      "Topic 272 has 1 words\n",
      "Topic 273 has 73 words\n",
      "Topic 274 has 10 words\n",
      "Topic 275 has 173 words\n",
      "Topic 276 has 37 words\n",
      "Topic 277 has 96 words\n",
      "Topic 278 has 13 words\n",
      "Topic 279 has 14 words\n",
      "Topic 280 has 15 words\n",
      "Topic 281 has 27 words\n",
      "Topic 282 has 6 words\n",
      "Topic 283 has 78 words\n",
      "Topic 284 has 10 words\n",
      "Topic 285 has 20 words\n",
      "Topic 286 has 12 words\n",
      "Topic 287 has 52 words\n",
      "Topic 288 has 11 words\n",
      "Topic 289 has 21 words\n",
      "Topic 290 has 8 words\n",
      "Topic 291 has 7 words\n",
      "Topic 292 has 37 words\n",
      "Topic 293 has 25 words\n",
      "Topic 294 has 1 words\n",
      "Topic 295 has 29 words\n",
      "Topic 296 has 15 words\n",
      "Topic 297 has 154 words\n",
      "Topic 298 has 27 words\n",
      "Topic 299 has 39 words\n",
      "Topic 300 has 3 words\n",
      "Topic 301 has 81 words\n",
      "Topic 302 has 27 words\n",
      "Topic 303 has 17 words\n",
      "Topic 304 has 13 words\n",
      "Topic 305 has 19 words\n",
      "Topic 306 has 6 words\n",
      "Topic 307 has 6 words\n",
      "Topic 308 has 11 words\n",
      "Topic 309 has 27 words\n",
      "Topic 310 has 3 words\n",
      "Topic 311 has 51 words\n",
      "Topic 312 has 425 words\n",
      "Topic 313 has 25 words\n",
      "Topic 314 has 17 words\n",
      "Topic 315 has 16 words\n",
      "Topic 316 has 5 words\n",
      "Topic 317 has 38 words\n",
      "Topic 318 has 2 words\n",
      "Topic 319 has 21 words\n",
      "Topic 320 has 16 words\n",
      "Topic 321 has 4 words\n",
      "Topic 322 has 5 words\n",
      "Topic 323 has 1 words\n",
      "Topic 324 has 14 words\n",
      "Topic 325 has 3 words\n",
      "Topic 326 has 12 words\n",
      "Topic 327 has 6 words\n",
      "Topic 328 has 5 words\n",
      "Topic 329 has 14 words\n",
      "Topic 330 has 14 words\n",
      "Topic 331 has 16 words\n",
      "Topic 332 has 399 words\n",
      "Topic 333 has 13 words\n",
      "Topic 334 has 4 words\n",
      "Topic 335 has 14 words\n",
      "Topic 336 has 11 words\n",
      "Topic 337 has 12 words\n",
      "Topic 338 has 39 words\n",
      "Topic 339 has 1 words\n",
      "Topic 340 has 24 words\n",
      "Topic 341 has 3 words\n",
      "Topic 342 has 13 words\n",
      "Topic 343 has 5 words\n",
      "Topic 344 has 27 words\n",
      "Topic 345 has 21 words\n",
      "Topic 346 has 7 words\n",
      "Topic 347 has 9 words\n",
      "Topic 348 has 6 words\n",
      "Topic 349 has 25 words\n",
      "Topic 350 has 46 words\n",
      "Topic 351 has 19 words\n",
      "Topic 352 has 21 words\n",
      "Topic 353 has 8 words\n",
      "Topic 354 has 19 words\n",
      "Topic 355 has 45 words\n",
      "Topic 356 has 28 words\n",
      "Topic 357 has 45 words\n",
      "Topic 358 has 6 words\n",
      "Topic 359 has 122 words\n",
      "Topic 360 has 11 words\n",
      "Topic 361 has 23 words\n",
      "Topic 362 has 19 words\n",
      "Topic 363 has 103 words\n",
      "Topic 364 has 36 words\n",
      "Topic 365 has 13 words\n",
      "Topic 366 has 8 words\n",
      "Topic 367 has 12 words\n",
      "Topic 368 has 15 words\n",
      "Topic 369 has 22 words\n",
      "Topic 370 has 28 words\n",
      "Topic 371 has 23 words\n",
      "Topic 372 has 19 words\n",
      "Topic 373 has 5 words\n",
      "Topic 374 has 31 words\n",
      "Topic 375 has 10 words\n",
      "Topic 376 has 15 words\n",
      "Topic 377 has 95 words\n",
      "Topic 378 has 89 words\n",
      "Topic 379 has 52 words\n",
      "Topic 380 has 9 words\n",
      "Topic 381 has 3 words\n",
      "Topic 382 has 5 words\n",
      "Topic 383 has 13 words\n",
      "Topic 384 has 21 words\n",
      "Topic 385 has 24 words\n",
      "Topic 386 has 5 words\n",
      "Topic 387 has 3 words\n",
      "Topic 388 has 4 words\n",
      "Topic 389 has 19 words\n",
      "Topic 390 has 14 words\n",
      "Topic 391 has 56 words\n",
      "Topic 392 has 14 words\n",
      "Topic 393 has 7 words\n",
      "Topic 394 has 28 words\n",
      "Topic 395 has 5 words\n",
      "Topic 396 has 28 words\n",
      "Topic 397 has 26 words\n",
      "Topic 398 has 7 words\n",
      "Topic 399 has 65 words\n",
      "Topic 400 has 10 words\n",
      "Topic 401 has 25 words\n",
      "Topic 402 has 5 words\n",
      "Topic 403 has 15 words\n",
      "Topic 404 has 24 words\n",
      "Topic 405 has 12 words\n",
      "Topic 406 has 44 words\n",
      "Topic 407 has 6 words\n",
      "Topic 408 has 55 words\n",
      "Topic 409 has 36 words\n",
      "Topic 410 has 5 words\n",
      "Topic 411 has 26 words\n",
      "Topic 412 has 18 words\n",
      "Topic 413 has 10 words\n",
      "Topic 414 has 2 words\n",
      "Topic 415 has 14 words\n",
      "Topic 416 has 7 words\n",
      "Topic 417 has 5 words\n",
      "Topic 418 has 24 words\n",
      "Topic 419 has 1 words\n",
      "Topic 420 has 27 words\n",
      "Topic 421 has 20 words\n",
      "Topic 422 has 7 words\n",
      "Topic 423 has 19 words\n",
      "Topic 424 has 20 words\n",
      "Topic 425 has 12 words\n",
      "Topic 426 has 10 words\n",
      "Topic 427 has 21 words\n",
      "Topic 428 has 24 words\n",
      "Topic 429 has 43 words\n",
      "Topic 430 has 27 words\n",
      "Topic 431 has 83 words\n",
      "Topic 432 has 7 words\n",
      "Topic 433 has 4 words\n",
      "Topic 434 has 12 words\n",
      "Topic 435 has 19 words\n",
      "Topic 436 has 1 words\n",
      "Topic 437 has 120 words\n",
      "Topic 438 has 7 words\n",
      "Topic 439 has 5 words\n",
      "Topic 440 has 20 words\n",
      "Topic 441 has 4 words\n",
      "Topic 442 has 6 words\n",
      "Topic 443 has 2 words\n",
      "Topic 444 has 13 words\n",
      "Topic 445 has 42 words\n",
      "Topic 446 has 75 words\n",
      "Topic 447 has 11 words\n",
      "Topic 448 has 4 words\n",
      "Topic 449 has 21 words\n",
      "Topic 450 has 6 words\n",
      "Topic 451 has 15 words\n",
      "Topic 452 has 246 words\n",
      "Topic 453 has 14 words\n",
      "Topic 454 has 8 words\n",
      "Topic 455 has 4 words\n",
      "Topic 456 has 1 words\n",
      "Topic 457 has 22 words\n",
      "Topic 458 has 27 words\n",
      "Topic 459 has 12 words\n",
      "Topic 460 has 23 words\n",
      "Topic 461 has 27 words\n",
      "Topic 462 has 13 words\n",
      "Topic 463 has 66 words\n",
      "Topic 464 has 18 words\n",
      "Topic 465 has 13 words\n",
      "Topic 466 has 11 words\n",
      "Topic 467 has 4 words\n",
      "Topic 468 has 20 words\n",
      "Topic 469 has 22 words\n",
      "Topic 470 has 21 words\n",
      "Topic 471 has 16 words\n",
      "Topic 472 has 32 words\n",
      "Topic 473 has 8 words\n",
      "Topic 474 has 3 words\n",
      "Topic 475 has 34 words\n",
      "Topic 476 has 15 words\n",
      "Topic 477 has 24 words\n",
      "Topic 478 has 8 words\n",
      "Topic 479 has 2 words\n",
      "Topic 480 has 11 words\n",
      "Topic 481 has 5 words\n",
      "Topic 482 has 43 words\n",
      "Topic 483 has 58 words\n",
      "Topic 484 has 17 words\n",
      "Topic 485 has 35 words\n",
      "Topic 486 has 9 words\n",
      "Topic 487 has 6 words\n",
      "Topic 488 has 2 words\n",
      "Topic 489 has 22 words\n",
      "Topic 490 has 1 words\n",
      "Topic 491 has 21 words\n",
      "Topic 492 has 3 words\n",
      "Topic 493 has 73 words\n",
      "Topic 494 has 6 words\n",
      "Topic 495 has 10 words\n",
      "Topic 496 has 18 words\n",
      "Topic 497 has 11 words\n",
      "Topic 498 has 9 words\n",
      "Topic 499 has 23 words\n"
     ]
    }
   ],
   "source": [
    "for i in range(500):\n",
    "    print(f\"Topic {i} has {len(topics[i])} words\")"
   ]
  },
  {
   "cell_type": "code",
   "execution_count": 116,
   "metadata": {},
   "outputs": [],
   "source": [
    "long_topics = []\n",
    "short_topics = []\n",
    "\n",
    "for i in range(500):\n",
    "    topic_len = len(topics[i])\n",
    "    if topic_len >= 100:\n",
    "        long_topics.append(i)\n",
    "    if topic_len <= 5:\n",
    "        short_topics.append(i)"
   ]
  },
  {
   "cell_type": "code",
   "execution_count": 117,
   "metadata": {},
   "outputs": [
    {
     "name": "stdout",
     "output_type": "stream",
     "text": [
      "20 topics have 100 words or more\n",
      "95 topics have 5 words or less\n"
     ]
    }
   ],
   "source": [
    "print(f\"{len(long_topics)} topics have 100 words or more\")\n",
    "print(f\"{len(short_topics)} topics have 5 words or less\")"
   ]
  },
  {
   "cell_type": "code",
   "execution_count": 118,
   "metadata": {},
   "outputs": [
    {
     "name": "stdout",
     "output_type": "stream",
     "text": [
      "['abimees', 'aminohape', 'reprodutseerimine', 'kõnesolev', 'kunstiväärtus']\n",
      "-------------------------------------\n",
      "['mees']\n",
      "-------------------------------------\n",
      "['rahastamine', 'finantseerimine', 'keeleoskus', 'rahasüsteem', 'paaripanek']\n",
      "-------------------------------------\n",
      "['abielu', 'paar', 'kooselu', 'leil', 'kütuseeksport']\n",
      "-------------------------------------\n",
      "['organisatsioon', 'näitus', 'keskkonnaorganisatsioon']\n",
      "-------------------------------------\n",
      "['otsus']\n",
      "-------------------------------------\n",
      "['pilt', 'foto', 'vaatepilt', 'maailmapilt']\n",
      "-------------------------------------\n",
      "['karistus', 'tähtaeg', 'eemaldamine']\n",
      "-------------------------------------\n",
      "['nimetus', 'tiitel', 'hilisõhtu', 'sentents', 'redestilleerimine']\n",
      "-------------------------------------\n",
      "['rand', 'brutomarginaal', 'turuplats', 'raviaparaat']\n",
      "-------------------------------------\n",
      "['olukord', 'olu', 'situatsioon']\n",
      "-------------------------------------\n",
      "['kaitse', 'kõneviis', 'vrakk', 'tuumaallveelaev']\n",
      "-------------------------------------\n",
      "['tänav', 'nöör', 'külavahetee']\n",
      "-------------------------------------\n",
      "['maa', 'mootor', 'eksemplar', 'riigimaa']\n",
      "-------------------------------------\n",
      "['tainas', 'keelekasutus', 'loodussaadus']\n",
      "-------------------------------------\n",
      "['mõte', 'tähendus', 'tollitulu']\n",
      "-------------------------------------\n",
      "['eestlane', 'soomlane', 'ameeriklane', 'piloot']\n",
      "-------------------------------------\n",
      "['küsimus', 'teema']\n",
      "-------------------------------------\n",
      "['ülesanne', 'formantväärtus', 'karjamaa', 'eriülesanne', 'ohutuspiirang']\n",
      "-------------------------------------\n",
      "['piir', 'kontrollpunkt', 'diferents', 'turvaauk', 'diskursuseanalüüs']\n",
      "-------------------------------------\n",
      "['suurus', 'maksumus', 'arvustus', 'tarbimishind']\n",
      "-------------------------------------\n",
      "['inimene']\n",
      "-------------------------------------\n",
      "['tegevus']\n",
      "-------------------------------------\n",
      "['raha', 'kõrv', 'võlgnevus']\n",
      "-------------------------------------\n",
      "['mõiste', 'soojussõlm', 'velg', 'punaarmee']\n",
      "-------------------------------------\n",
      "['käive', 'kasum', 'mõnuaine', 'dispersioon']\n",
      "-------------------------------------\n",
      "['mood', 'viis', 'meetod', 'piirväärtus', 'aeglus']\n",
      "-------------------------------------\n",
      "['tegemine', 'tegu', 'laoarvestus']\n",
      "-------------------------------------\n",
      "['reserv', 'üksikisik', 'maksutulu']\n",
      "-------------------------------------\n",
      "['muusika', 'tants', 'poeem', 'kõnd']\n",
      "-------------------------------------\n",
      "['remont', 'edetabel', 'konto', 'põhiplaan', 'õhuseireradar']\n",
      "-------------------------------------\n",
      "['tekst', 'looming', 'septitseemia', 'maksapõletik']\n",
      "-------------------------------------\n",
      "['sõna', 'sõim']\n",
      "-------------------------------------\n",
      "['suhtumine', 'hoiak', 'ülevõtmine']\n",
      "-------------------------------------\n",
      "['keel', 'sõjaväepolitseirühm', 'armaada']\n",
      "-------------------------------------\n",
      "['leping', 'maavald', 'erileping']\n",
      "-------------------------------------\n",
      "['pilk', 'vaatlemine', 'konservatism']\n",
      "-------------------------------------\n",
      "['töö']\n",
      "-------------------------------------\n",
      "['plaan', 'laienemisplaan']\n",
      "-------------------------------------\n",
      "['rahvas', 'võim', 'riigivõim', 'pomm', 'riigivõimuasutus']\n",
      "-------------------------------------\n",
      "['öö']\n",
      "-------------------------------------\n",
      "['huvi', 'jõgi']\n",
      "-------------------------------------\n",
      "['vahend', 'tablett', 'maksekohustus', 'spiraal']\n",
      "-------------------------------------\n",
      "['pank', 'aspekt', 'argument', 'põhjendus']\n",
      "-------------------------------------\n",
      "['pool', 'meningiit', 'infektsioon', 'kallak']\n",
      "-------------------------------------\n",
      "['valu', 'meeleavaldus', 'miiting', 'tagaajamine', 'pikett']\n",
      "-------------------------------------\n",
      "['teenus', 'trikk', 'lisateenus', 'tervishoiuteenus', 'vastuvõetavus']\n",
      "-------------------------------------\n",
      "['arutelu', 'vaidlus', 'fakt', 'diskussioon']\n",
      "-------------------------------------\n",
      "['pea', 'suund']\n",
      "-------------------------------------\n",
      "['koha', 'koht', 'regressioonikoefitsient']\n",
      "-------------------------------------\n",
      "['film', 'saade', 'papagoi']\n",
      "-------------------------------------\n",
      "['valimine', 'presidendivalimine', 'parlamendivalimine']\n",
      "-------------------------------------\n",
      "['käsi', 'peopesa', 'tross']\n",
      "-------------------------------------\n",
      "['jõud']\n",
      "-------------------------------------\n",
      "['probleem']\n",
      "-------------------------------------\n",
      "['programm', 'projekt', 'valgus']\n",
      "-------------------------------------\n",
      "['nimi', 'laul', 'pealkiri']\n",
      "-------------------------------------\n",
      "['tegutsemine', 'sekkumine', 'vahelesegamine', 'esilekerkimine', 'esiletõus']\n",
      "-------------------------------------\n",
      "['eesmärk', 'metslane']\n",
      "-------------------------------------\n",
      "['struktuur', 'ülesehitus', 'aabits', 'veetee']\n",
      "-------------------------------------\n",
      "['päev', 'mäng', 'kohtumine', 'matš', 'matsh']\n",
      "-------------------------------------\n",
      "['kolleeg']\n",
      "-------------------------------------\n",
      "['jook', 'joogi', 'psühhoos']\n",
      "-------------------------------------\n",
      "['institutsioon', 'organ', 'vahekord', 'prokurör', 'piirivalveametnik']\n",
      "-------------------------------------\n",
      "['tase', 'kvaliteet', 'külaline', 'urineerimine']\n",
      "-------------------------------------\n",
      "['kogus']\n",
      "-------------------------------------\n",
      "['põhjus', 'allikas', 'tõmbejõud']\n",
      "-------------------------------------\n",
      "['laps', 'poiss', 'tüdruk', 'materialism', 'beebi']\n",
      "-------------------------------------\n",
      "['väärtus', 'reegel', 'sissemakse', 'memuaarid', 'jääkväärtus']\n",
      "-------------------------------------\n",
      "['seos', 'vastuolu', 'heidutamine']\n",
      "-------------------------------------\n",
      "['lause', 'sõnavõtt', 'massaaž', 'stseen', 'vibratsioon']\n",
      "-------------------------------------\n",
      "['sisu', 'järeldus', 'arusaamine', 'rups', 'taimeosa']\n",
      "-------------------------------------\n",
      "['rõhk', 'sündmus', 'kääne']\n",
      "-------------------------------------\n",
      "['omanik', 'unistus', 'maaomanik', 'tootmisüksus']\n",
      "-------------------------------------\n",
      "['surve', 'käekiri', 'reisimine', 'kantaat', 'ekskavaator']\n",
      "-------------------------------------\n",
      "['võimalus', 'ülekäigurada', 'ülekäigukoht', 'viigivõimalus', 'duett']\n",
      "-------------------------------------\n",
      "['tulevik', 'ootus', 'hoolitsus', 'lüüasaamine', 'etioloogia']\n",
      "-------------------------------------\n",
      "['riik', 'võrguettevõtja']\n",
      "-------------------------------------\n",
      "['taevas', 'selgimine', 'väli', 'põld', 'laguun']\n",
      "-------------------------------------\n",
      "['aeg']\n",
      "-------------------------------------\n",
      "['iga', 'ennustamine', 'demouuring', 'vanahärra']\n",
      "-------------------------------------\n",
      "['andmed']\n",
      "-------------------------------------\n",
      "['omand', 'poolkaitsja', 'tagamängija', 'kaitsja', 'korjandus']\n",
      "-------------------------------------\n",
      "['kiirus', 'arv', 'mikroettevõte', 'viljaliha']\n",
      "-------------------------------------\n",
      "['pealehakkamine', 'värvilahendus']\n",
      "-------------------------------------\n",
      "['koostöö', 'kokkulepe', 'väikeriik', 'lennundusleping']\n",
      "-------------------------------------\n",
      "['tee', 'kõnnitee', 'kiirtee', 'sõitmine']\n",
      "-------------------------------------\n",
      "['juurdlus']\n",
      "-------------------------------------\n",
      "['kadunu', 'ühendus', 'patriarhaat', 'patriarh']\n",
      "-------------------------------------\n",
      "['suhe', 'kommunikatsioon', 'hübriid']\n",
      "-------------------------------------\n",
      "['kell', 'veiseliha']\n",
      "-------------------------------------\n",
      "['linn', 'linnamüür', 'kärbes', 'vare', 'altar']\n",
      "-------------------------------------\n",
      "['raamat', 'ajakiri']\n",
      "-------------------------------------\n",
      "['asi']\n",
      "-------------------------------------\n",
      "['õigus', 'tehing', 'õigusmuudatus']\n",
      "-------------------------------------\n"
     ]
    }
   ],
   "source": [
    "for i in short_topics:\n",
    "    print(topics[i])\n",
    "    print(\"-------------------------------------\")"
   ]
  },
  {
   "cell_type": "code",
   "execution_count": 119,
   "metadata": {},
   "outputs": [],
   "source": [
    "topic_lens = []\n",
    "\n",
    "for i in range(500):\n",
    "    topic_lens.append((i, len(topics[i])))"
   ]
  },
  {
   "cell_type": "code",
   "execution_count": 122,
   "metadata": {},
   "outputs": [],
   "source": [
    "topics_sorted_by_len = sorted(topic_lens, key=lambda x: x[1], reverse=True)"
   ]
  },
  {
   "cell_type": "code",
   "execution_count": 124,
   "metadata": {},
   "outputs": [
    {
     "data": {
      "text/plain": [
       "[(95, 1251),\n",
       " (66, 926),\n",
       " (312, 425),\n",
       " (332, 399),\n",
       " (85, 375),\n",
       " (452, 246),\n",
       " (258, 204),\n",
       " (61, 192),\n",
       " (275, 173),\n",
       " (41, 171)]"
      ]
     },
     "execution_count": 124,
     "metadata": {},
     "output_type": "execute_result"
    }
   ],
   "source": [
    "topics_sorted_by_len[:10]"
   ]
  },
  {
   "cell_type": "markdown",
   "metadata": {},
   "source": [
    "#### Pair exploration in longest topics"
   ]
  },
  {
   "cell_type": "code",
   "execution_count": 128,
   "metadata": {},
   "outputs": [
    {
     "data": {
      "text/plain": [
       "uus         229362.022903\n",
       "praegune       754.365635\n",
       "senine          90.433075\n",
       "valmis          78.872647\n",
       "olnud           52.699986\n",
       "Name: 95, dtype: float64"
      ]
     },
     "execution_count": 128,
     "metadata": {},
     "output_type": "execute_result"
    }
   ],
   "source": [
    "adjs_in_topics.loc[95].sort_values(ascending=False).head()"
   ]
  },
  {
   "cell_type": "code",
   "execution_count": 132,
   "metadata": {},
   "outputs": [],
   "source": [
    "random_95 = random.sample(topics[95], 10)"
   ]
  },
  {
   "cell_type": "code",
   "execution_count": 134,
   "metadata": {
    "scrolled": true
   },
   "outputs": [
    {
     "name": "stdout",
     "output_type": "stream",
     "text": [
      "[('uus', 'veoajam', 11)]\n",
      "---------------------\n",
      "[('uus', 'jõukeskus', 10)]\n",
      "---------------------\n",
      "[('uus', 'ärinimi', 89)]\n",
      "---------------------\n",
      "[('uus', 'kindlustusseadus', 14), ('riiklik', 'kindlustusseadus', 12), ('kehtiv', 'kindlustusseadus', 11)]\n",
      "---------------------\n",
      "[('uus', 'tööturuteenus', 37)]\n",
      "---------------------\n",
      "[('uus', 'põlvkond', 2197), ('järgmine', 'põlvkond', 589), ('noor', 'põlvkond', 394), ('eelmine', 'põlvkond', 283), ('terve', 'põlvkond', 259), ('tulevane', 'põlvkond', 209), ('eri', 'põlvkond', 176), ('praegune', 'põlvkond', 175), ('kasvav', 'põlvkond', 136), ('erinev', 'põlvkond', 112), ('järeltulev', 'põlvkond', 101), ('keskmine', 'põlvkond', 94), ('järgnev', 'põlvkond', 87), ('viimane', 'põlvkond', 64), ('sõjajärgne', 'põlvkond', 58), ('vana', 'põlvkond', 55), ('pealekasvav', 'põlvkond', 48), ('eelnev', 'põlvkond', 40), ('sirguv', 'põlvkond', 36), ('tänane', 'põlvkond', 36), ('keskealine', 'põlvkond', 31), ('tulnud', 'põlvkond', 25), ('kogu', 'põlvkond', 25), ('suur', 'põlvkond', 19), ('ülejärgmine', 'põlvkond', 16), ('olnud', 'põlvkond', 14), ('jõudev', 'põlvkond', 14), ('töötav', 'põlvkond', 13), ('kuldne', 'põlvkond', 13), ('järgne', 'põlvkond', 12), ('kolmekümnene', 'põlvkond', 12), ('kolmekümneaastane', 'põlvkond', 12), ('üle-eelmine', 'põlvkond', 12), ('tulev', 'põlvkond', 11), ('elav', 'põlvkond', 11), ('eakas', 'põlvkond', 11), ('vaba', 'põlvkond', 11), ('aktiivne', 'põlvkond', 10), ('võimalik', 'põlvkond', 10), ('pealetulev', 'põlvkond', 10)]\n",
      "---------------------\n",
      "[('uus', 'ravikindlustusseadus', 117), ('jõustuv', 'ravikindlustusseadus', 13), ('kehtiv', 'ravikindlustusseadus', 12)]\n",
      "---------------------\n",
      "[('uus', 'tarkvarapakett', 11)]\n",
      "---------------------\n",
      "[('uus', 'kontserdikava', 10)]\n",
      "---------------------\n",
      "[('uus', 'partitsioon', 15)]\n",
      "---------------------\n"
     ]
    }
   ],
   "source": [
    "for word in random_95:\n",
    "    cursor.execute(f\"SELECT * FROM final_pairs WHERE noun = '{word}'\")\n",
    "    print(cursor.fetchall())\n",
    "    print(\"---------------------\")"
   ]
  },
  {
   "cell_type": "code",
   "execution_count": 129,
   "metadata": {},
   "outputs": [
    {
     "data": {
      "text/plain": [
       "suur            192242.233981\n",
       "siiras             138.068997\n",
       "väike              125.917435\n",
       "puutetundlik       104.002000\n",
       "hiiglaslik          88.594226\n",
       "Name: 66, dtype: float64"
      ]
     },
     "execution_count": 129,
     "metadata": {},
     "output_type": "execute_result"
    }
   ],
   "source": [
    "adjs_in_topics.loc[66].sort_values(ascending=False).head()"
   ]
  },
  {
   "cell_type": "code",
   "execution_count": 135,
   "metadata": {},
   "outputs": [],
   "source": [
    "random_66 = random.sample(topics[66], 10)"
   ]
  },
  {
   "cell_type": "code",
   "execution_count": 136,
   "metadata": {
    "scrolled": true
   },
   "outputs": [
    {
     "name": "stdout",
     "output_type": "stream",
     "text": [
      "[('suur', 'lõhe', 102), ('vaheline', 'lõhe', 92), ('sügav', 'lõhe', 63), ('süvenev', 'lõhe', 31), ('digitaalne', 'lõhe', 29), ('sotsiaalne', 'lõhe', 27), ('looduslik', 'lõhe', 18), ('kasvav', 'lõhe', 17), ('värske', 'lõhe', 17), ('suurenev', 'lõhe', 15), ('armistumata', 'lõhe', 11), ('ületamatu', 'lõhe', 11), ('uus', 'lõhe', 11), ('olev', 'lõhe', 11), ('selge', 'lõhe', 10), ('sisemine', 'lõhe', 10)]\n",
      "---------------------\n",
      "[('suur', 'kaaskond', 19)]\n",
      "---------------------\n",
      "[('suur', 'pidupäev', 45), ('tõeline', 'pidupäev', 12)]\n",
      "---------------------\n",
      "[('suur', 'loodusõnnetus', 27)]\n",
      "---------------------\n",
      "[('suur', 'karneval', 10)]\n",
      "---------------------\n",
      "[('suur', 'sadu', 73), ('oluline', 'sadu', 54), ('tugev', 'sadu', 37), ('alanud', 'sadu', 18), ('uus', 'sadu', 16), ('tihe', 'sadu', 14), ('pidev', 'sadu', 13), ('korralik', 'sadu', 11), ('eilne', 'sadu', 10)]\n",
      "---------------------\n",
      "[('suur', 'kapitalimahutus', 29)]\n",
      "---------------------\n",
      "[('suur', 'sõnameister', 24)]\n",
      "---------------------\n",
      "[('suur', 'kaubakogus', 28)]\n",
      "---------------------\n",
      "[('suur', 'seapraad', 11), ('rasvane', 'seapraad', 10)]\n",
      "---------------------\n"
     ]
    }
   ],
   "source": [
    "for word in random_66:\n",
    "    cursor.execute(f\"SELECT * FROM final_pairs WHERE noun = '{word}'\")\n",
    "    print(cursor.fetchall())\n",
    "    print(\"---------------------\")"
   ]
  },
  {
   "cell_type": "code",
   "execution_count": 130,
   "metadata": {},
   "outputs": [
    {
     "data": {
      "text/plain": [
       "rahvusvaheline                      55304.373521\n",
       "kajastav                              169.284653\n",
       "viiekohaline                           24.001495\n",
       "koordineeriv                           16.134498\n",
       "farmakoloogilis-toksikoloogiline       16.002000\n",
       "Name: 312, dtype: float64"
      ]
     },
     "execution_count": 130,
     "metadata": {},
     "output_type": "execute_result"
    }
   ],
   "source": [
    "adjs_in_topics.loc[312].sort_values(ascending=False).head()"
   ]
  },
  {
   "cell_type": "code",
   "execution_count": 137,
   "metadata": {},
   "outputs": [],
   "source": [
    "random_312 = random.sample(topics[312], 10)"
   ]
  },
  {
   "cell_type": "code",
   "execution_count": 138,
   "metadata": {
    "scrolled": true
   },
   "outputs": [
    {
     "name": "stdout",
     "output_type": "stream",
     "text": [
      "[('rahvusvaheline', 'uurimiskeskus', 20), ('asuv', 'uurimiskeskus', 12), ('riiklik', 'uurimiskeskus', 11)]\n",
      "---------------------\n",
      "[('rahvusvaheline', 'jalgrattaspordiliit', 14)]\n",
      "---------------------\n",
      "[('vaheline', 'merevedu', 10), ('rahvusvaheline', 'merevedu', 10)]\n",
      "---------------------\n",
      "[('rahvusvaheline', 'päästeõppus', 20)]\n",
      "---------------------\n",
      "[('rahvusvaheline', 'akrediteerimine', 12)]\n",
      "---------------------\n",
      "[('rahvusvaheline', 'vähinädal', 15)]\n",
      "---------------------\n",
      "[('rahvusvaheline', 'dokumentaal', 41)]\n",
      "---------------------\n",
      "[('rahvusvaheline', 'filmikriitik', 10)]\n",
      "---------------------\n",
      "[('üleriigiline', 'aineolümpiaad', 10), ('rahvusvaheline', 'aineolümpiaad', 10)]\n",
      "---------------------\n",
      "[('rahvusvaheline', 'rahutagaja', 19)]\n",
      "---------------------\n"
     ]
    }
   ],
   "source": [
    "for word in random_312:\n",
    "    cursor.execute(f\"SELECT * FROM final_pairs WHERE noun = '{word}'\")\n",
    "    print(cursor.fetchall())\n",
    "    print(\"---------------------\")"
   ]
  },
  {
   "cell_type": "markdown",
   "metadata": {},
   "source": [
    "#### Pair exploration in one-word topics"
   ]
  },
  {
   "cell_type": "code",
   "execution_count": 140,
   "metadata": {},
   "outputs": [],
   "source": [
    "len_1 = [inf for inf in topics_sorted_by_len if inf[1] == 1]"
   ]
  },
  {
   "cell_type": "code",
   "execution_count": 144,
   "metadata": {},
   "outputs": [
    {
     "name": "stdout",
     "output_type": "stream",
     "text": [
      "Topic: ['mees']\n",
      "Number of pairs: 664\n",
      "---------------------\n",
      "Topic: ['otsus']\n",
      "Number of pairs: 379\n",
      "---------------------\n",
      "Topic: ['inimene']\n",
      "Number of pairs: 950\n",
      "---------------------\n",
      "Topic: ['tegevus']\n",
      "Number of pairs: 422\n",
      "---------------------\n",
      "Topic: ['töö']\n",
      "Number of pairs: 541\n",
      "---------------------\n",
      "Topic: ['öö']\n",
      "Number of pairs: 72\n",
      "---------------------\n",
      "Topic: ['jõud']\n",
      "Number of pairs: 220\n",
      "---------------------\n",
      "Topic: ['probleem']\n",
      "Number of pairs: 330\n",
      "---------------------\n",
      "Topic: ['kolleeg']\n",
      "Number of pairs: 46\n",
      "---------------------\n",
      "Topic: ['kogus']\n",
      "Number of pairs: 159\n",
      "---------------------\n",
      "Topic: ['aeg']\n",
      "Number of pairs: 452\n",
      "---------------------\n",
      "Topic: ['andmed']\n",
      "Number of pairs: 205\n",
      "---------------------\n",
      "Topic: ['juurdlus']\n",
      "Number of pairs: 20\n",
      "---------------------\n",
      "Topic: ['asi']\n",
      "Number of pairs: 526\n",
      "---------------------\n"
     ]
    }
   ],
   "source": [
    "for inf in len_1:\n",
    "    print(f\"Topic: {topics[inf[0]]}\")\n",
    "    cursor.execute(f\"SELECT * FROM final_pairs WHERE noun = '{topics[inf[0]][0]}'\")\n",
    "    print(f\"Number of pairs: {len(cursor.fetchall())}\")\n",
    "    print(\"---------------------\")"
   ]
  },
  {
   "cell_type": "markdown",
   "metadata": {},
   "source": [
    "### t-SNE based on LDA"
   ]
  },
  {
   "cell_type": "markdown",
   "metadata": {},
   "source": [
    "#### Euclidean distances from LDA topics"
   ]
  },
  {
   "cell_type": "code",
   "execution_count": 94,
   "metadata": {},
   "outputs": [],
   "source": [
    "from collections import defaultdict\n",
    "import itertools\n",
    "import time\n",
    "from datetime import timedelta, datetime"
   ]
  },
  {
   "cell_type": "code",
   "execution_count": 95,
   "metadata": {},
   "outputs": [],
   "source": [
    "ids = list(range(len(nouns)))\n",
    "id_pairs = list(itertools.combinations(ids, 2))"
   ]
  },
  {
   "cell_type": "code",
   "execution_count": null,
   "metadata": {},
   "outputs": [
    {
     "name": "stdout",
     "output_type": "stream",
     "text": [
      "1:30:42.689755\n"
     ]
    }
   ],
   "source": [
    "print(str(timedelta(seconds=time.time()+7200)).split(\", \")[1])\n",
    "start = datetime.now()\n",
    "\n",
    "lda_similarities = defaultdict(dict) # actually distances but ok\n",
    "\n",
    "for pair in id_pairs:\n",
    "    first = pair[0]\n",
    "    second = pair[1]\n",
    "    dist = np.linalg.norm(results[first] - results[second]) # euclidean distance\n",
    "    \n",
    "    lda_similarities[first][second] = dist\n",
    "    lda_similarities[second][first] = dist\n",
    "    \n",
    "print(str(timedelta(seconds=time.time()+7200)).split(\", \")[1])\n",
    "print(datetime.now()-start)"
   ]
  },
  {
   "cell_type": "code",
   "execution_count": null,
   "metadata": {},
   "outputs": [],
   "source": [
    "noun_sim_df = pd.DataFrame(lda_similarities)\n",
    "noun_sim_df"
   ]
  },
  {
   "cell_type": "code",
   "execution_count": null,
   "metadata": {},
   "outputs": [],
   "source": [
    "noun_sim_df = noun_sim_df.reindex(sorted(noun_sim_df.columns), axis=1)\n",
    "noun_sim_df = noun_sim_df.reindex(sorted(noun_sim_df.index), axis=0)\n",
    "noun_sim_df = noun_sim_df.fillna(0)"
   ]
  },
  {
   "cell_type": "code",
   "execution_count": null,
   "metadata": {},
   "outputs": [],
   "source": [
    "noun_sim_df"
   ]
  },
  {
   "cell_type": "markdown",
   "metadata": {},
   "source": [
    "#### t-SNE on data of Euclidean distances"
   ]
  },
  {
   "cell_type": "code",
   "execution_count": null,
   "metadata": {},
   "outputs": [],
   "source": [
    "from sklearn.manifold import TSNE\n",
    "import matplotlib.pyplot as plt\n",
    "from mpl_toolkits.mplot3d import Axes3D\n",
    "import seaborn as sns\n",
    "import matplotlib.patheffects as PathEffects\n",
    "%matplotlib inline"
   ]
  },
  {
   "cell_type": "code",
   "execution_count": null,
   "metadata": {},
   "outputs": [],
   "source": [
    "print(str(timedelta(seconds=time.time()+7200)).split(\", \")[1])\n",
    "\n",
    "lda_tsne = TSNE(random_state=17, metric='precomputed')\n",
    "lda_tsne_results = lda_tsne.fit_transform(noun_sim_df.values)\n",
    "\n",
    "print(str(timedelta(seconds=time.time()+7200)).split(\", \")[1])"
   ]
  },
  {
   "cell_type": "code",
   "execution_count": null,
   "metadata": {},
   "outputs": [],
   "source": [
    "plt.figure(figsize=(7, 7))\n",
    "plt.scatter(lda_tsne_results[:, 0], lda_tsne_results[:, 1], marker='o', s=50, edgecolor='None', c='pink')\n",
    "\n",
    "plt.tight_layout()\n",
    "plt.axis('equal')\n",
    "plt.show()"
   ]
  },
  {
   "cell_type": "markdown",
   "metadata": {},
   "source": [
    "### Optimizing LDA"
   ]
  },
  {
   "cell_type": "code",
   "execution_count": 87,
   "metadata": {},
   "outputs": [
    {
     "name": "stdout",
     "output_type": "stream",
     "text": [
      "22:31:14.862859\n",
      "Model with 10 topics fitted at 22:32:39.358275.\n",
      "Model with 25 topics fitted at 22:34:07.038035.\n",
      "Model with 50 topics fitted at 22:35:37.582921.\n",
      "Model with 100 topics fitted at 22:37:24.025853.\n",
      "Model with 250 topics fitted at 22:39:50.745288.\n",
      "Model with 500 topics fitted at 22:43:43.180046.\n",
      "Model with 750 topics fitted at 22:50:10.305852.\n",
      "Model with 1000 topics fitted at 22:58:06.898025.\n",
      "Model with 1500 topics fitted at 23:10:43.787233.\n",
      "Model with 2000 topics fitted at 23:27:26.226943.\n",
      "Model with 2500 topics fitted at 23:47:41.942839.\n",
      "Model with 5000 topics fitted at 0:25:47.511985.\n",
      "0:25:47.522832\n",
      "1:54:32.659973\n"
     ]
    }
   ],
   "source": [
    "import time\n",
    "from datetime import timedelta, datetime\n",
    "\n",
    "print(str(timedelta(seconds=time.time()+7200)).split(\", \")[1])\n",
    "start = datetime.now()\n",
    "\n",
    "n_components = [10, 25, 50, 100, 250, 500, 750, 1000, 1500, 2000, 2500, 5000]\n",
    "models = {}\n",
    "for n in n_components:\n",
    "    model = LatentDirichletAllocation(n_components=n, random_state=0)\n",
    "    model.fit(data)\n",
    "    print(f\"Model with {n} topics fitted at {str(timedelta(seconds=time.time()+7200)).split(', ')[1]}.\")\n",
    "    models[n] = model\n",
    "            \n",
    "print(str(timedelta(seconds=time.time()+7200)).split(\", \")[1])\n",
    "print(datetime.now()-start)"
   ]
  },
  {
   "cell_type": "code",
   "execution_count": 67,
   "metadata": {},
   "outputs": [
    {
     "name": "stdout",
     "output_type": "stream",
     "text": [
      "0:17:10.971829\n",
      "Model with 10 topics score found at 0:17:21.874701.\n",
      "Model with 25 topics score found at 0:17:35.255733.\n",
      "Model with 50 topics score found at 0:17:46.650795.\n",
      "Model with 100 topics score found at 0:17:58.376766.\n",
      "Model with 250 topics score found at 0:18:21.076702.\n",
      "Model with 500 topics score found at 0:18:55.503555.\n",
      "Model with 750 topics score found at 0:19:30.979171.\n",
      "Model with 1000 topics score found at 0:20:17.502410.\n",
      "0:20:17.503445\n",
      "0:03:06.531616\n"
     ]
    }
   ],
   "source": [
    "from collections import defaultdict\n",
    "\n",
    "scores_by_topic_num = defaultdict(list)\n",
    "\n",
    "print(str(timedelta(seconds=time.time()+7200)).split(\", \")[1])\n",
    "start = datetime.now()\n",
    "\n",
    "for n in models.keys():\n",
    "    model = models[n]\n",
    "    scores_by_topic_num[n].append(model.score(data))\n",
    "    print(f\"Model with {n} topics score found at {str(timedelta(seconds=time.time()+7200)).split(', ')[1]}.\")\n",
    "    \n",
    "print(str(timedelta(seconds=time.time()+7200)).split(\", \")[1])\n",
    "print(datetime.now()-start)"
   ]
  },
  {
   "cell_type": "code",
   "execution_count": 88,
   "metadata": {},
   "outputs": [
    {
     "name": "stdout",
     "output_type": "stream",
     "text": [
      "0:26:20.732754\n",
      "Model with 10 topics perplexity found at 0:26:31.128341.\n",
      "Model with 25 topics perplexity found at 0:26:42.182093.\n",
      "Model with 50 topics perplexity found at 0:26:53.416732.\n",
      "Model with 100 topics perplexity found at 0:27:05.111377.\n",
      "Model with 250 topics perplexity found at 0:27:19.823590.\n",
      "Model with 500 topics perplexity found at 0:27:44.691309.\n",
      "Model with 750 topics perplexity found at 0:28:16.877805.\n",
      "Model with 1000 topics perplexity found at 0:28:58.905895.\n",
      "Model with 1500 topics perplexity found at 0:30:03.784889.\n",
      "Model with 2000 topics perplexity found at 0:31:34.779025.\n",
      "Model with 2500 topics perplexity found at 0:33:32.931556.\n",
      "Model with 5000 topics perplexity found at 0:37:10.041073.\n",
      "0:37:10.041073\n",
      "0:10:49.308319\n"
     ]
    }
   ],
   "source": [
    "from collections import defaultdict\n",
    "\n",
    "perplexity_by_topic_num = defaultdict(list)\n",
    "\n",
    "print(str(timedelta(seconds=time.time()+7200)).split(\", \")[1])\n",
    "start = datetime.now()\n",
    "\n",
    "for n in models.keys():\n",
    "    model = models[n]\n",
    "    perplexity_by_topic_num[n].append(model.perplexity(data))\n",
    "    print(f\"Model with {n} topics perplexity found at {str(timedelta(seconds=time.time()+7200)).split(', ')[1]}.\")\n",
    "    \n",
    "print(str(timedelta(seconds=time.time()+7200)).split(\", \")[1])\n",
    "print(datetime.now()-start)"
   ]
  },
  {
   "cell_type": "code",
   "execution_count": 72,
   "metadata": {},
   "outputs": [
    {
     "data": {
      "text/plain": [
       "defaultdict(list,\n",
       "            {10: [-35148601.11461254],\n",
       "             25: [-32375200.216212433],\n",
       "             50: [-30264114.902700298],\n",
       "             100: [-28257957.944363043],\n",
       "             250: [-25883773.88218416],\n",
       "             500: [-24367282.776814017],\n",
       "             750: [-23641773.729498357],\n",
       "             1000: [-23309145.47898422]})"
      ]
     },
     "execution_count": 72,
     "metadata": {},
     "output_type": "execute_result"
    }
   ],
   "source": [
    "scores_by_topic_num"
   ]
  },
  {
   "cell_type": "code",
   "execution_count": 89,
   "metadata": {},
   "outputs": [
    {
     "data": {
      "text/plain": [
       "defaultdict(list,\n",
       "            {10: [204.97619582876234],\n",
       "             25: [134.67855094922834],\n",
       "             50: [97.82583401857791],\n",
       "             100: [72.19543896679794],\n",
       "             250: [50.39193452181921],\n",
       "             500: [40.051821946081674],\n",
       "             750: [35.88442246531472],\n",
       "             1000: [34.121584545278694],\n",
       "             1500: [35.022199839898136],\n",
       "             2000: [39.21453025404079],\n",
       "             2500: [49.68849713740994],\n",
       "             5000: [376.200433562618]})"
      ]
     },
     "execution_count": 89,
     "metadata": {},
     "output_type": "execute_result"
    }
   ],
   "source": [
    "perplexity_by_topic_num"
   ]
  },
  {
   "cell_type": "code",
   "execution_count": 91,
   "metadata": {},
   "outputs": [],
   "source": [
    "#scores = []\n",
    "perplexities = []\n",
    "\n",
    "for n in n_components:\n",
    "    #scores.append(scores_by_topic_num[n][0])\n",
    "    perplexities.append(perplexity_by_topic_num[n][0])"
   ]
  },
  {
   "cell_type": "code",
   "execution_count": 92,
   "metadata": {},
   "outputs": [
    {
     "data": {
      "image/png": "[encoded data removed]",
      "text/plain": [
       "<Figure size 504x504 with 1 Axes>"
      ]
     },
     "metadata": {
      "needs_background": "light"
     },
     "output_type": "display_data"
    }
   ],
   "source": [
    "plt.figure(figsize=(7, 7))\n",
    "\n",
    "plt.plot(n_components, perplexities)\n",
    "\n",
    "plt.title(\"Choosing Optimal LDA Model\")\n",
    "plt.xlabel(\"Num Topics\")\n",
    "plt.ylabel(\"Perplexity\")\n",
    "plt.savefig(\"optimal_model_perplexities.png\")"
   ]
  },
  {
   "cell_type": "markdown",
   "metadata": {},
   "source": [
    "---"
   ]
  },
  {
   "cell_type": "code",
   "execution_count": 80,
   "metadata": {},
   "outputs": [
    {
     "name": "stdout",
     "output_type": "stream",
     "text": [
      "1:22:48.121763\n",
      "Model with 10 topics and batch learning method fitted at 1:24:49.628628.\n",
      "Model with 10 topics, online learning method and 0.6 learning decay fitted at 1:26:09.109533.\n",
      "Model with 10 topics, online learning method and 0.7 learning decay fitted at 1:27:43.020087.\n",
      "Model with 10 topics, online learning method and 0.8 learning decay fitted at 1:29:35.566701.\n",
      "Model with 10 topics, online learning method and 0.9 learning decay fitted at 1:31:30.000870.\n",
      "Model with 10 topics, online learning method and 1.0 learning decay fitted at 1:33:23.061644.\n",
      "Model with 50 topics and batch learning method fitted at 1:35:40.491344.\n",
      "Model with 50 topics, online learning method and 0.6 learning decay fitted at 1:37:56.198461.\n",
      "Model with 50 topics, online learning method and 0.7 learning decay fitted at 1:40:06.490007.\n",
      "Model with 50 topics, online learning method and 0.8 learning decay fitted at 1:42:29.356579.\n",
      "Model with 50 topics, online learning method and 0.9 learning decay fitted at 1:44:54.758650.\n",
      "Model with 50 topics, online learning method and 1.0 learning decay fitted at 1:47:25.655828.\n",
      "Model with 100 topics and batch learning method fitted at 1:50:19.417690.\n",
      "Model with 100 topics, online learning method and 0.6 learning decay fitted at 1:53:17.169771.\n",
      "Model with 100 topics, online learning method and 0.7 learning decay fitted at 1:56:21.864010.\n",
      "Model with 100 topics, online learning method and 0.8 learning decay fitted at 1:59:25.303037.\n",
      "Model with 100 topics, online learning method and 0.9 learning decay fitted at 2:02:41.484365.\n",
      "Model with 100 topics, online learning method and 1.0 learning decay fitted at 2:05:52.266016.\n",
      "Model with 250 topics and batch learning method fitted at 2:09:49.218212.\n",
      "Model with 250 topics, online learning method and 0.6 learning decay fitted at 2:14:57.835969.\n",
      "Model with 250 topics, online learning method and 0.7 learning decay fitted at 2:19:48.956908.\n",
      "Model with 250 topics, online learning method and 0.8 learning decay fitted at 2:25:07.192355.\n",
      "Model with 250 topics, online learning method and 0.9 learning decay fitted at 2:30:18.256448.\n",
      "Model with 250 topics, online learning method and 1.0 learning decay fitted at 2:35:19.970363.\n",
      "Model with 500 topics and batch learning method fitted at 2:41:11.587600.\n",
      "Model with 500 topics, online learning method and 0.6 learning decay fitted at 2:49:41.693482.\n",
      "Model with 500 topics, online learning method and 0.7 learning decay fitted at 2:58:22.214881.\n",
      "Model with 500 topics, online learning method and 0.8 learning decay fitted at 3:07:30.164685.\n",
      "Model with 500 topics, online learning method and 0.9 learning decay fitted at 3:17:15.253984.\n",
      "Model with 500 topics, online learning method and 1.0 learning decay fitted at 3:26:10.313457.\n",
      "Model with 1000 topics and batch learning method fitted at 3:37:36.494122.\n"
     ]
    },
    {
     "ename": "KeyboardInterrupt",
     "evalue": "",
     "output_type": "error",
     "traceback": [
      "\u001b[1;31m---------------------------------------------------------------------------\u001b[0m",
      "\u001b[1;31mKeyboardInterrupt\u001b[0m                         Traceback (most recent call last)",
      "\u001b[1;32m<ipython-input-80-8a0522653e7e>\u001b[0m in \u001b[0;36m<module>\u001b[1;34m\u001b[0m\n\u001b[0;32m     14\u001b[0m             \u001b[1;32mfor\u001b[0m \u001b[0mdecay\u001b[0m \u001b[1;32min\u001b[0m \u001b[0mdecays\u001b[0m\u001b[1;33m:\u001b[0m\u001b[1;33m\u001b[0m\u001b[1;33m\u001b[0m\u001b[0m\n\u001b[0;32m     15\u001b[0m                 \u001b[0mmodel\u001b[0m \u001b[1;33m=\u001b[0m \u001b[0mLatentDirichletAllocation\u001b[0m\u001b[1;33m(\u001b[0m\u001b[0mn_components\u001b[0m\u001b[1;33m=\u001b[0m\u001b[0mn\u001b[0m\u001b[1;33m,\u001b[0m \u001b[0mlearning_method\u001b[0m\u001b[1;33m=\u001b[0m\u001b[0mmethod\u001b[0m\u001b[1;33m,\u001b[0m \u001b[0mlearning_decay\u001b[0m\u001b[1;33m=\u001b[0m\u001b[0mdecay\u001b[0m\u001b[1;33m,\u001b[0m \u001b[0mrandom_state\u001b[0m\u001b[1;33m=\u001b[0m\u001b[1;36m0\u001b[0m\u001b[1;33m)\u001b[0m\u001b[1;33m\u001b[0m\u001b[1;33m\u001b[0m\u001b[0m\n\u001b[1;32m---> 16\u001b[1;33m                 \u001b[0mmodel\u001b[0m\u001b[1;33m.\u001b[0m\u001b[0mfit\u001b[0m\u001b[1;33m(\u001b[0m\u001b[0mdata\u001b[0m\u001b[1;33m)\u001b[0m\u001b[1;33m\u001b[0m\u001b[1;33m\u001b[0m\u001b[0m\n\u001b[0m\u001b[0;32m     17\u001b[0m                 \u001b[0mprint\u001b[0m\u001b[1;33m(\u001b[0m\u001b[1;34mf\"Model with {n} topics, online learning method and {decay} learning decay fitted at {str(timedelta(seconds=time.time()+7200)).split(', ')[1]}.\"\u001b[0m\u001b[1;33m)\u001b[0m\u001b[1;33m\u001b[0m\u001b[1;33m\u001b[0m\u001b[0m\n\u001b[0;32m     18\u001b[0m                 \u001b[0mmodels\u001b[0m\u001b[1;33m[\u001b[0m\u001b[1;33m(\u001b[0m\u001b[0mn\u001b[0m\u001b[1;33m,\u001b[0m \u001b[0mdecay\u001b[0m\u001b[1;33m)\u001b[0m\u001b[1;33m]\u001b[0m \u001b[1;33m=\u001b[0m \u001b[0mmodel\u001b[0m\u001b[1;33m\u001b[0m\u001b[1;33m\u001b[0m\u001b[0m\n",
      "\u001b[1;32m~\\Anaconda3\\envs\\py36_estnltk\\lib\\site-packages\\sklearn\\decomposition\\_lda.py\u001b[0m in \u001b[0;36mfit\u001b[1;34m(self, X, y)\u001b[0m\n\u001b[0;32m    574\u001b[0m                     \u001b[1;32mfor\u001b[0m \u001b[0midx_slice\u001b[0m \u001b[1;32min\u001b[0m \u001b[0mgen_batches\u001b[0m\u001b[1;33m(\u001b[0m\u001b[0mn_samples\u001b[0m\u001b[1;33m,\u001b[0m \u001b[0mbatch_size\u001b[0m\u001b[1;33m)\u001b[0m\u001b[1;33m:\u001b[0m\u001b[1;33m\u001b[0m\u001b[1;33m\u001b[0m\u001b[0m\n\u001b[0;32m    575\u001b[0m                         self._em_step(X[idx_slice, :], total_samples=n_samples,\n\u001b[1;32m--> 576\u001b[1;33m                                       batch_update=False, parallel=parallel)\n\u001b[0m\u001b[0;32m    577\u001b[0m                 \u001b[1;32melse\u001b[0m\u001b[1;33m:\u001b[0m\u001b[1;33m\u001b[0m\u001b[1;33m\u001b[0m\u001b[0m\n\u001b[0;32m    578\u001b[0m                     \u001b[1;31m# batch update\u001b[0m\u001b[1;33m\u001b[0m\u001b[1;33m\u001b[0m\u001b[1;33m\u001b[0m\u001b[0m\n",
      "\u001b[1;32m~\\Anaconda3\\envs\\py36_estnltk\\lib\\site-packages\\sklearn\\decomposition\\_lda.py\u001b[0m in \u001b[0;36m_em_step\u001b[1;34m(self, X, total_samples, batch_update, parallel)\u001b[0m\n\u001b[0;32m    459\u001b[0m             \u001b[0mself\u001b[0m\u001b[1;33m.\u001b[0m\u001b[0mcomponents_\u001b[0m \u001b[1;33m*=\u001b[0m \u001b[1;33m(\u001b[0m\u001b[1;36m1\u001b[0m \u001b[1;33m-\u001b[0m \u001b[0mweight\u001b[0m\u001b[1;33m)\u001b[0m\u001b[1;33m\u001b[0m\u001b[1;33m\u001b[0m\u001b[0m\n\u001b[0;32m    460\u001b[0m             self.components_ += (weight * (self.topic_word_prior_\n\u001b[1;32m--> 461\u001b[1;33m                                            + doc_ratio * suff_stats))\n\u001b[0m\u001b[0;32m    462\u001b[0m \u001b[1;33m\u001b[0m\u001b[0m\n\u001b[0;32m    463\u001b[0m         \u001b[1;31m# update `component_` related variables\u001b[0m\u001b[1;33m\u001b[0m\u001b[1;33m\u001b[0m\u001b[1;33m\u001b[0m\u001b[0m\n",
      "\u001b[1;31mKeyboardInterrupt\u001b[0m: "
     ]
    }
   ],
   "source": [
    "import time\n",
    "from datetime import timedelta, datetime\n",
    "\n",
    "print(str(timedelta(seconds=time.time()+7200)).split(\", \")[1])\n",
    "start = datetime.now()\n",
    "\n",
    "n_components = [10, 50, 100, 250, 500, 1000]\n",
    "decays = [0.6, 0.7, 0.8, 0.9, 1.0]\n",
    "learning_methods = ['batch', 'online']\n",
    "models = {}\n",
    "for n in n_components:\n",
    "    for method in learning_methods:\n",
    "        if method == 'online':\n",
    "            for decay in decays:\n",
    "                model = LatentDirichletAllocation(n_components=n, learning_method=method, learning_decay=decay, random_state=0)\n",
    "                model.fit(data)\n",
    "                print(f\"Model with {n} topics, online learning method and {decay} learning decay fitted at {str(timedelta(seconds=time.time()+7200)).split(', ')[1]}.\")\n",
    "                models[(n, decay)] = model\n",
    "        else:\n",
    "            model = LatentDirichletAllocation(n_components=n, learning_method=method, random_state=0)\n",
    "            model.fit(data)\n",
    "            print(f\"Model with {n} topics and batch learning method fitted at {str(timedelta(seconds=time.time()+7200)).split(', ')[1]}.\")\n",
    "            models[(n, method)] = model\n",
    "            \n",
    "print(str(timedelta(seconds=time.time()+7200)).split(\", \")[1])\n",
    "print(datetime.now()-start)"
   ]
  },
  {
   "cell_type": "code",
   "execution_count": 81,
   "metadata": {},
   "outputs": [
    {
     "name": "stdout",
     "output_type": "stream",
     "text": [
      "3:52:11.201377\n",
      "Model with 10 topics and batch (decay) score found at 3:52:22.709274.\n",
      "Model with 10 topics and 0.6 (decay) score found at 3:52:37.695731.\n",
      "Model with 10 topics and 0.7 (decay) score found at 3:52:52.756420.\n",
      "Model with 10 topics and 0.8 (decay) score found at 3:53:07.385339.\n",
      "Model with 10 topics and 0.9 (decay) score found at 3:53:18.585938.\n",
      "Model with 10 topics and 1.0 (decay) score found at 3:53:29.873676.\n",
      "Model with 50 topics and batch (decay) score found at 3:53:42.925274.\n",
      "Model with 50 topics and 0.6 (decay) score found at 3:53:54.851285.\n",
      "Model with 50 topics and 0.7 (decay) score found at 3:54:06.687941.\n",
      "Model with 50 topics and 0.8 (decay) score found at 3:54:19.301632.\n",
      "Model with 50 topics and 0.9 (decay) score found at 3:54:31.030507.\n",
      "Model with 50 topics and 1.0 (decay) score found at 3:54:42.909852.\n",
      "Model with 100 topics and batch (decay) score found at 3:54:56.530761.\n",
      "Model with 100 topics and 0.6 (decay) score found at 3:55:08.559363.\n",
      "Model with 100 topics and 0.7 (decay) score found at 3:55:20.997565.\n",
      "Model with 100 topics and 0.8 (decay) score found at 3:55:33.240684.\n",
      "Model with 100 topics and 0.9 (decay) score found at 3:55:45.791301.\n",
      "Model with 100 topics and 1.0 (decay) score found at 3:55:59.038587.\n",
      "Model with 250 topics and batch (decay) score found at 3:56:18.509356.\n",
      "Model with 250 topics and 0.6 (decay) score found at 3:56:34.068428.\n",
      "Model with 250 topics and 0.7 (decay) score found at 3:56:48.537984.\n",
      "Model with 250 topics and 0.8 (decay) score found at 3:57:03.434732.\n",
      "Model with 250 topics and 0.9 (decay) score found at 3:57:19.113285.\n",
      "Model with 250 topics and 1.0 (decay) score found at 3:57:34.865413.\n",
      "Model with 500 topics and batch (decay) score found at 3:58:10.127592.\n",
      "Model with 500 topics and 0.6 (decay) score found at 3:58:38.115517.\n",
      "Model with 500 topics and 0.7 (decay) score found at 3:59:02.721706.\n",
      "Model with 500 topics and 0.8 (decay) score found at 3:59:25.350605.\n",
      "Model with 500 topics and 0.9 (decay) score found at 3:59:52.902848.\n",
      "Model with 500 topics and 1.0 (decay) score found at 4:00:18.316834.\n",
      "Model with 1000 topics and batch (decay) score found at 4:01:09.726139.\n",
      "4:01:09.727142\n",
      "0:08:58.526765\n"
     ]
    }
   ],
   "source": [
    "from collections import defaultdict\n",
    "\n",
    "scores_by_decays = defaultdict(list)\n",
    "topics_by_decays = defaultdict(list)\n",
    "\n",
    "print(str(timedelta(seconds=time.time()+7200)).split(\", \")[1])\n",
    "start = datetime.now()\n",
    "\n",
    "for n, decay in models.keys():\n",
    "    #if decay != 'batch':\n",
    "    model = models[(n, decay)]\n",
    "    scores_by_decays[decay].append(model.score(data))\n",
    "    print(f\"Model with {n} topics and {decay} (decay) score found at {str(timedelta(seconds=time.time()+7200)).split(', ')[1]}.\")\n",
    "    topics_by_decays[decay].append(n)\n",
    "    \n",
    "print(str(timedelta(seconds=time.time()+7200)).split(\", \")[1])\n",
    "print(datetime.now()-start)"
   ]
  },
  {
   "cell_type": "code",
   "execution_count": 82,
   "metadata": {},
   "outputs": [],
   "source": [
    "from matplotlib import pyplot as plt"
   ]
  },
  {
   "cell_type": "code",
   "execution_count": 83,
   "metadata": {},
   "outputs": [
    {
     "name": "stdout",
     "output_type": "stream",
     "text": [
      "batch\n",
      "0.6\n",
      "0.7\n",
      "0.8\n",
      "0.9\n",
      "1.0\n"
     ]
    },
    {
     "data": {
      "image/png": "[encoded data removed]",
      "text/plain": [
       "<Figure size 864x576 with 1 Axes>"
      ]
     },
     "metadata": {
      "needs_background": "light"
     },
     "output_type": "display_data"
    }
   ],
   "source": [
    "plt.figure(figsize=(12, 8))\n",
    "\n",
    "for decay in scores_by_decays:\n",
    "    print(decay)\n",
    "    scores = scores_by_decays[decay]\n",
    "    topics = topics_by_decays[decay]\n",
    "    plt.plot(topics, scores, label=str(decay))\n",
    "\n",
    "plt.title(\"Choosing Optimal LDA Model\")\n",
    "plt.xlabel(\"Num Topics\")\n",
    "plt.ylabel(\"Log Likelyhood Scores\")\n",
    "plt.legend(title='Learning decay', loc='best')\n",
    "plt.savefig(\"optimal_model.png\")"
   ]
  },
  {
   "cell_type": "code",
   "execution_count": 84,
   "metadata": {},
   "outputs": [],
   "source": [
    "model = LatentDirichletAllocation(n_components=500, random_state=0)"
   ]
  },
  {
   "cell_type": "code",
   "execution_count": 85,
   "metadata": {},
   "outputs": [],
   "source": [
    "results = model.fit_transform(data)"
   ]
  },
  {
   "cell_type": "code",
   "execution_count": 86,
   "metadata": {},
   "outputs": [],
   "source": [
    "topics2 = {}\n",
    "for i in range(500):\n",
    "    topics2[i] = []\n",
    "\n",
    "for i, prob in enumerate(results):\n",
    "    topics2[np.argmax(prob)].append(data.index[i])"
   ]
  },
  {
   "cell_type": "code",
   "execution_count": 88,
   "metadata": {},
   "outputs": [],
   "source": [
    "kuud = ['jaanuar', 'veebruar', 'märts', 'aprill', 'mai', 'juuni', 'juuli', 'august', 'mai', 'juuni', 'september', 'oktoober', 'november', 'detsember']\n",
    "idx = []\n",
    "\n",
    "for kuu in kuud:\n",
    "    for topic, words in topics2.items():\n",
    "        if kuu in words:\n",
    "            idx.append(topic)\n",
    "            continue"
   ]
  },
  {
   "cell_type": "code",
   "execution_count": 89,
   "metadata": {},
   "outputs": [
    {
     "data": {
      "text/plain": [
       "[210, 210, 210, 210, 458, 278, 210, 181, 458, 278, 189, 189, 189, 189]"
      ]
     },
     "execution_count": 89,
     "metadata": {},
     "output_type": "execute_result"
    }
   ],
   "source": [
    "idx"
   ]
  },
  {
   "cell_type": "code",
   "execution_count": 91,
   "metadata": {},
   "outputs": [
    {
     "name": "stdout",
     "output_type": "stream",
     "text": [
      "458 : ['kivipõrand', 'talvekuu', 'õu', 'front', 'dushsh', 'peletamine', 'judin', 'kali', 'tomatisupp', 'higi', 'talv', 'talvehommik', 'sõda', 'talveilm', 'kompress', 'talveöö', 'dušš', 'suplus', 'talveõhtu', 'tali', 'kõrgrõhkkond', 'mai', 'tuumasüntees', 'kõrgrõhuala', 'närv']\n",
      "----------------------------\n",
      "210 : ['eelarve', 'riigieksam', 'võrgusilm', 'jaanuar', 'käibeprognoos', 'kasumiprognoos', 'läbimõõt', 'kartulisaak', 'MK-sari', 'suvelavastus', 'tootmisplaan', 'erastamisprogramm', 'õllesummer', 'aprill', 'põhihooaeg', 'draft', 'säästueelarve', 'majanduskasvuprognoos', 'põhieelarve', 'veebruar', 'Oscari-gala', 'jazzkaar', 'abiturient', 'teatripreemia', 'suverull', 'lauluvõistlus', 'komeet', 'riigieelarve', 'MK-võistlus', 'juuli', 'avastart', 'jõulupuu', 'põhiturniir', 'märts', 'eurolugu', 'koolilõpetaja', 'orkaanihooaeg', 'peaesineja', 'linnaeelarve', 'playoff', 'sisehooaeg', 'iseseisvuspäev', 'eurolaul', 'võidupüha', 'MM-sari', 'rahupreemia', 'eurovisioon', 'laureaat', 'vanalinnapäev', 'jõulujazz', 'lõpetaja']\n",
      "----------------------------\n",
      "181 : ['naisee', 'lehm', 'meisterdanu', 'emis', 'eskiisprojekt', 'läinu', 'vaim', 'kaitsetegevus', 'august', 'ullu', 'mullikas', 'energia', 'valuplokk', 'temp']\n",
      "----------------------------\n",
      "278 : ['distsipliin', 'mähis', 'leedi', 'tariifiinformatsioon', 'juuni', 'tervitus', 'rusikas', 'ese', 'kasvukoht', 'kelder', 'järjekindlus', 'suvi', 'ilm', 'leed', 'selgimine', 'suvepäev', 'päritoluinformatsioon', 'eesriie', 'suveilm', 'puder']\n",
      "----------------------------\n",
      "189 : ['nädalalõpp', 'laupäev', 'õng', 'detsember', 'hüpertensioon', 'politseipatrull', 'september', 'kolmapäev', 'täke', 'manalatee', 'oktoober', 'pühapäev', 'välismaa', 'kesknädal', 'november', 'sügis', 'semantika', 'täissaal', 'nädalavahetus', 'reede']\n",
      "----------------------------\n"
     ]
    }
   ],
   "source": [
    "for i in set(idx):\n",
    "    print(i, \":\", topics2[i])\n",
    "    print(\"----------------------------\")"
   ]
  }
 ],
 "metadata": {
  "kernelspec": {
   "display_name": "Python 3",
   "language": "python",
   "name": "python3"
  },
  "language_info": {
   "codemirror_mode": {
    "name": "ipython",
    "version": 3
   },
   "file_extension": ".py",
   "mimetype": "text/x-python",
   "name": "python",
   "nbconvert_exporter": "python",
   "pygments_lexer": "ipython3",
   "version": "3.6.12"
  }
 },
 "nbformat": 4,
 "nbformat_minor": 4
}
