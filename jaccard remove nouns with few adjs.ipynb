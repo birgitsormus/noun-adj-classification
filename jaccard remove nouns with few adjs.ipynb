{
 "cells": [
  {
   "cell_type": "markdown",
   "metadata": {},
   "source": [
    "## Connect to database"
   ]
  },
  {
   "cell_type": "code",
   "execution_count": 1,
   "metadata": {},
   "outputs": [],
   "source": [
    "import psycopg2\n",
    "import pandas as pd\n",
    "import numpy as np"
   ]
  },
  {
   "cell_type": "code",
   "execution_count": 2,
   "metadata": {},
   "outputs": [],
   "source": [
    "con = psycopg2.connect(user = \"postgres\",\n",
    "                       password = \"\",\n",
    "                       host = \"127.0.0.1\",\n",
    "                       port = \"5432\",\n",
    "                       database = \"adj_noun_pairs\")\n",
    "\n",
    "try:\n",
    "    cursor = con.cursor();\n",
    "except (Exception, psycopg2.Error) as error:\n",
    "    print(\"Error in Connection\",error)"
   ]
  },
  {
   "cell_type": "markdown",
   "metadata": {},
   "source": [
    "## Classification based on Jaccard index for nouns"
   ]
  },
  {
   "cell_type": "markdown",
   "metadata": {},
   "source": [
    "### Finding the Jaccard index"
   ]
  },
  {
   "cell_type": "code",
   "execution_count": 3,
   "metadata": {},
   "outputs": [],
   "source": [
    "import itertools\n",
    "import time\n",
    "from datetime import timedelta, datetime\n",
    "from collections import defaultdict"
   ]
  },
  {
   "cell_type": "code",
   "execution_count": 4,
   "metadata": {},
   "outputs": [],
   "source": [
    "cursor.execute(\"SELECT DISTINCT noun, STRING_AGG(adjective, ',') FROM final_pairs GROUP BY noun\")\n",
    "adjectives_listed = cursor.fetchall() "
   ]
  },
  {
   "cell_type": "code",
   "execution_count": 5,
   "metadata": {},
   "outputs": [
    {
     "data": {
      "text/plain": [
       "('sõidurada', 'täiendav,uus,parempoolne,suunduv,suletud,väljuv')"
      ]
     },
     "execution_count": 5,
     "metadata": {},
     "output_type": "execute_result"
    }
   ],
   "source": [
    "adjectives_listed[0]"
   ]
  },
  {
   "cell_type": "code",
   "execution_count": 6,
   "metadata": {},
   "outputs": [],
   "source": [
    "dict_nouns = {}\n",
    "\n",
    "for tup in adjectives_listed:\n",
    "    adjs = tup[1].split(',')\n",
    "    if len(adjs) >= 3:\n",
    "        dict_nouns[tup[0]] = adjs"
   ]
  },
  {
   "cell_type": "code",
   "execution_count": 8,
   "metadata": {},
   "outputs": [
    {
     "data": {
      "text/plain": [
       "16915836"
      ]
     },
     "execution_count": 8,
     "metadata": {},
     "output_type": "execute_result"
    }
   ],
   "source": [
    "noun_pairs = list(itertools.combinations(dict_nouns.keys(), 2))\n",
    "len(noun_pairs)"
   ]
  },
  {
   "cell_type": "code",
   "execution_count": 9,
   "metadata": {},
   "outputs": [
    {
     "name": "stdout",
     "output_type": "stream",
     "text": [
      "0:29:52.306866\n",
      "0:31:35.527285\n",
      "0:01:43.221418\n"
     ]
    }
   ],
   "source": [
    "print(str(timedelta(seconds=time.time()+10800)).split(\", \")[1])\n",
    "start = datetime.now()\n",
    "\n",
    "noun_similarities = defaultdict(dict)\n",
    "\n",
    "for pair in noun_pairs:\n",
    "    first_word = pair[0]\n",
    "    second_word = pair[1]\n",
    "    first_word_adjs = dict_nouns[first_word]\n",
    "    second_word_adjs = dict_nouns[second_word]\n",
    "    similarity = len(set(first_word_adjs) & set(second_word_adjs))/len(set(first_word_adjs) | set(second_word_adjs))\n",
    "    \n",
    "    noun_similarities[first_word][second_word] = similarity\n",
    "    noun_similarities[second_word][first_word] = similarity\n",
    "    \n",
    "print(str(timedelta(seconds=time.time()+10800)).split(\", \")[1])\n",
    "print(datetime.now()-start)"
   ]
  },
  {
   "cell_type": "markdown",
   "metadata": {},
   "source": [
    "### Creating the similarity/distance matrix"
   ]
  },
  {
   "cell_type": "code",
   "execution_count": 10,
   "metadata": {},
   "outputs": [],
   "source": [
    "import pandas as pd\n",
    "import numpy as np"
   ]
  },
  {
   "cell_type": "code",
   "execution_count": 11,
   "metadata": {},
   "outputs": [],
   "source": [
    "noun_df = pd.DataFrame(noun_similarities)\n",
    "noun_df = noun_df.reindex(sorted(noun_df.columns), axis=1)\n",
    "noun_df = noun_df.reindex(sorted(noun_df.index), axis=0)\n",
    "noun_df = noun_df.fillna(1)"
   ]
  },
  {
   "cell_type": "code",
   "execution_count": 12,
   "metadata": {},
   "outputs": [
    {
     "data": {
      "text/html": [
       "<div>\n",
       "<style scoped>\n",
       "    .dataframe tbody tr th:only-of-type {\n",
       "        vertical-align: middle;\n",
       "    }\n",
       "\n",
       "    .dataframe tbody tr th {\n",
       "        vertical-align: top;\n",
       "    }\n",
       "\n",
       "    .dataframe thead th {\n",
       "        text-align: right;\n",
       "    }\n",
       "</style>\n",
       "<table border=\"1\" class=\"dataframe\">\n",
       "  <thead>\n",
       "    <tr style=\"text-align: right;\">\n",
       "      <th></th>\n",
       "      <th>Bondi-film</th>\n",
       "      <th>C-vitamiin</th>\n",
       "      <th>CN-kood</th>\n",
       "      <th>EM-finaalturniir</th>\n",
       "      <th>EM-valikmäng</th>\n",
       "      <th>EM-valikturniir</th>\n",
       "      <th>EM-võistlus</th>\n",
       "      <th>HI-viirus</th>\n",
       "      <th>ID-kaart</th>\n",
       "      <th>MK-etapp</th>\n",
       "      <th>...</th>\n",
       "      <th>üürileping</th>\n",
       "      <th>üürnik</th>\n",
       "      <th>šampoon</th>\n",
       "      <th>šanss</th>\n",
       "      <th>šiiit</th>\n",
       "      <th>šokk</th>\n",
       "      <th>šokolaad</th>\n",
       "      <th>žanr</th>\n",
       "      <th>žest</th>\n",
       "      <th>žürii</th>\n",
       "    </tr>\n",
       "  </thead>\n",
       "  <tbody>\n",
       "    <tr>\n",
       "      <th>Bondi-film</th>\n",
       "      <td>1.000000</td>\n",
       "      <td>0.000000</td>\n",
       "      <td>0.076923</td>\n",
       "      <td>0.142857</td>\n",
       "      <td>0.111111</td>\n",
       "      <td>0.166667</td>\n",
       "      <td>0.000000</td>\n",
       "      <td>0.166667</td>\n",
       "      <td>0.125000</td>\n",
       "      <td>0.153846</td>\n",
       "      <td>...</td>\n",
       "      <td>0.090909</td>\n",
       "      <td>0.142857</td>\n",
       "      <td>0.0</td>\n",
       "      <td>0.166667</td>\n",
       "      <td>0.0</td>\n",
       "      <td>0.071429</td>\n",
       "      <td>0.0</td>\n",
       "      <td>0.166667</td>\n",
       "      <td>0.000000</td>\n",
       "      <td>0.000000</td>\n",
       "    </tr>\n",
       "    <tr>\n",
       "      <th>C-vitamiin</th>\n",
       "      <td>0.000000</td>\n",
       "      <td>1.000000</td>\n",
       "      <td>0.000000</td>\n",
       "      <td>0.000000</td>\n",
       "      <td>0.000000</td>\n",
       "      <td>0.000000</td>\n",
       "      <td>0.000000</td>\n",
       "      <td>0.000000</td>\n",
       "      <td>0.000000</td>\n",
       "      <td>0.000000</td>\n",
       "      <td>...</td>\n",
       "      <td>0.000000</td>\n",
       "      <td>0.000000</td>\n",
       "      <td>0.0</td>\n",
       "      <td>0.066667</td>\n",
       "      <td>0.0</td>\n",
       "      <td>0.062500</td>\n",
       "      <td>0.0</td>\n",
       "      <td>0.000000</td>\n",
       "      <td>0.100000</td>\n",
       "      <td>0.047619</td>\n",
       "    </tr>\n",
       "    <tr>\n",
       "      <th>CN-kood</th>\n",
       "      <td>0.076923</td>\n",
       "      <td>0.000000</td>\n",
       "      <td>1.000000</td>\n",
       "      <td>0.000000</td>\n",
       "      <td>0.000000</td>\n",
       "      <td>0.000000</td>\n",
       "      <td>0.000000</td>\n",
       "      <td>0.000000</td>\n",
       "      <td>0.000000</td>\n",
       "      <td>0.045455</td>\n",
       "      <td>...</td>\n",
       "      <td>0.052632</td>\n",
       "      <td>0.043478</td>\n",
       "      <td>0.0</td>\n",
       "      <td>0.000000</td>\n",
       "      <td>0.0</td>\n",
       "      <td>0.000000</td>\n",
       "      <td>0.0</td>\n",
       "      <td>0.000000</td>\n",
       "      <td>0.000000</td>\n",
       "      <td>0.000000</td>\n",
       "    </tr>\n",
       "    <tr>\n",
       "      <th>EM-finaalturniir</th>\n",
       "      <td>0.142857</td>\n",
       "      <td>0.000000</td>\n",
       "      <td>0.000000</td>\n",
       "      <td>1.000000</td>\n",
       "      <td>0.333333</td>\n",
       "      <td>0.800000</td>\n",
       "      <td>0.375000</td>\n",
       "      <td>0.000000</td>\n",
       "      <td>0.000000</td>\n",
       "      <td>0.214286</td>\n",
       "      <td>...</td>\n",
       "      <td>0.000000</td>\n",
       "      <td>0.058824</td>\n",
       "      <td>0.0</td>\n",
       "      <td>0.066667</td>\n",
       "      <td>0.0</td>\n",
       "      <td>0.000000</td>\n",
       "      <td>0.0</td>\n",
       "      <td>0.000000</td>\n",
       "      <td>0.000000</td>\n",
       "      <td>0.000000</td>\n",
       "    </tr>\n",
       "    <tr>\n",
       "      <th>EM-valikmäng</th>\n",
       "      <td>0.111111</td>\n",
       "      <td>0.000000</td>\n",
       "      <td>0.000000</td>\n",
       "      <td>0.333333</td>\n",
       "      <td>1.000000</td>\n",
       "      <td>0.375000</td>\n",
       "      <td>0.181818</td>\n",
       "      <td>0.000000</td>\n",
       "      <td>0.000000</td>\n",
       "      <td>0.187500</td>\n",
       "      <td>...</td>\n",
       "      <td>0.000000</td>\n",
       "      <td>0.052632</td>\n",
       "      <td>0.0</td>\n",
       "      <td>0.058824</td>\n",
       "      <td>0.0</td>\n",
       "      <td>0.000000</td>\n",
       "      <td>0.0</td>\n",
       "      <td>0.000000</td>\n",
       "      <td>0.000000</td>\n",
       "      <td>0.000000</td>\n",
       "    </tr>\n",
       "    <tr>\n",
       "      <th>...</th>\n",
       "      <td>...</td>\n",
       "      <td>...</td>\n",
       "      <td>...</td>\n",
       "      <td>...</td>\n",
       "      <td>...</td>\n",
       "      <td>...</td>\n",
       "      <td>...</td>\n",
       "      <td>...</td>\n",
       "      <td>...</td>\n",
       "      <td>...</td>\n",
       "      <td>...</td>\n",
       "      <td>...</td>\n",
       "      <td>...</td>\n",
       "      <td>...</td>\n",
       "      <td>...</td>\n",
       "      <td>...</td>\n",
       "      <td>...</td>\n",
       "      <td>...</td>\n",
       "      <td>...</td>\n",
       "      <td>...</td>\n",
       "      <td>...</td>\n",
       "    </tr>\n",
       "    <tr>\n",
       "      <th>šokk</th>\n",
       "      <td>0.071429</td>\n",
       "      <td>0.062500</td>\n",
       "      <td>0.000000</td>\n",
       "      <td>0.000000</td>\n",
       "      <td>0.000000</td>\n",
       "      <td>0.000000</td>\n",
       "      <td>0.000000</td>\n",
       "      <td>0.066667</td>\n",
       "      <td>0.058824</td>\n",
       "      <td>0.000000</td>\n",
       "      <td>...</td>\n",
       "      <td>0.050000</td>\n",
       "      <td>0.086957</td>\n",
       "      <td>0.0</td>\n",
       "      <td>0.150000</td>\n",
       "      <td>0.0</td>\n",
       "      <td>1.000000</td>\n",
       "      <td>0.0</td>\n",
       "      <td>0.066667</td>\n",
       "      <td>0.058824</td>\n",
       "      <td>0.074074</td>\n",
       "    </tr>\n",
       "    <tr>\n",
       "      <th>šokolaad</th>\n",
       "      <td>0.000000</td>\n",
       "      <td>0.000000</td>\n",
       "      <td>0.000000</td>\n",
       "      <td>0.000000</td>\n",
       "      <td>0.000000</td>\n",
       "      <td>0.000000</td>\n",
       "      <td>0.000000</td>\n",
       "      <td>0.000000</td>\n",
       "      <td>0.000000</td>\n",
       "      <td>0.058824</td>\n",
       "      <td>...</td>\n",
       "      <td>0.000000</td>\n",
       "      <td>0.055556</td>\n",
       "      <td>0.1</td>\n",
       "      <td>0.062500</td>\n",
       "      <td>0.0</td>\n",
       "      <td>0.000000</td>\n",
       "      <td>1.0</td>\n",
       "      <td>0.000000</td>\n",
       "      <td>0.000000</td>\n",
       "      <td>0.000000</td>\n",
       "    </tr>\n",
       "    <tr>\n",
       "      <th>žanr</th>\n",
       "      <td>0.166667</td>\n",
       "      <td>0.000000</td>\n",
       "      <td>0.000000</td>\n",
       "      <td>0.000000</td>\n",
       "      <td>0.000000</td>\n",
       "      <td>0.000000</td>\n",
       "      <td>0.000000</td>\n",
       "      <td>0.142857</td>\n",
       "      <td>0.111111</td>\n",
       "      <td>0.000000</td>\n",
       "      <td>...</td>\n",
       "      <td>0.083333</td>\n",
       "      <td>0.062500</td>\n",
       "      <td>0.0</td>\n",
       "      <td>0.071429</td>\n",
       "      <td>0.0</td>\n",
       "      <td>0.066667</td>\n",
       "      <td>0.0</td>\n",
       "      <td>1.000000</td>\n",
       "      <td>0.000000</td>\n",
       "      <td>0.000000</td>\n",
       "    </tr>\n",
       "    <tr>\n",
       "      <th>žest</th>\n",
       "      <td>0.000000</td>\n",
       "      <td>0.100000</td>\n",
       "      <td>0.000000</td>\n",
       "      <td>0.000000</td>\n",
       "      <td>0.000000</td>\n",
       "      <td>0.000000</td>\n",
       "      <td>0.000000</td>\n",
       "      <td>0.000000</td>\n",
       "      <td>0.000000</td>\n",
       "      <td>0.000000</td>\n",
       "      <td>...</td>\n",
       "      <td>0.000000</td>\n",
       "      <td>0.000000</td>\n",
       "      <td>0.0</td>\n",
       "      <td>0.062500</td>\n",
       "      <td>0.0</td>\n",
       "      <td>0.058824</td>\n",
       "      <td>0.0</td>\n",
       "      <td>0.000000</td>\n",
       "      <td>1.000000</td>\n",
       "      <td>0.045455</td>\n",
       "    </tr>\n",
       "    <tr>\n",
       "      <th>žürii</th>\n",
       "      <td>0.000000</td>\n",
       "      <td>0.047619</td>\n",
       "      <td>0.000000</td>\n",
       "      <td>0.000000</td>\n",
       "      <td>0.000000</td>\n",
       "      <td>0.000000</td>\n",
       "      <td>0.000000</td>\n",
       "      <td>0.000000</td>\n",
       "      <td>0.000000</td>\n",
       "      <td>0.000000</td>\n",
       "      <td>...</td>\n",
       "      <td>0.000000</td>\n",
       "      <td>0.034483</td>\n",
       "      <td>0.0</td>\n",
       "      <td>0.037037</td>\n",
       "      <td>0.0</td>\n",
       "      <td>0.074074</td>\n",
       "      <td>0.0</td>\n",
       "      <td>0.000000</td>\n",
       "      <td>0.045455</td>\n",
       "      <td>1.000000</td>\n",
       "    </tr>\n",
       "  </tbody>\n",
       "</table>\n",
       "<p>5817 rows × 5817 columns</p>\n",
       "</div>"
      ],
      "text/plain": [
       "                  Bondi-film  C-vitamiin   CN-kood  EM-finaalturniir  \\\n",
       "Bondi-film          1.000000    0.000000  0.076923          0.142857   \n",
       "C-vitamiin          0.000000    1.000000  0.000000          0.000000   \n",
       "CN-kood             0.076923    0.000000  1.000000          0.000000   \n",
       "EM-finaalturniir    0.142857    0.000000  0.000000          1.000000   \n",
       "EM-valikmäng        0.111111    0.000000  0.000000          0.333333   \n",
       "...                      ...         ...       ...               ...   \n",
       "šokk                0.071429    0.062500  0.000000          0.000000   \n",
       "šokolaad            0.000000    0.000000  0.000000          0.000000   \n",
       "žanr                0.166667    0.000000  0.000000          0.000000   \n",
       "žest                0.000000    0.100000  0.000000          0.000000   \n",
       "žürii               0.000000    0.047619  0.000000          0.000000   \n",
       "\n",
       "                  EM-valikmäng  EM-valikturniir  EM-võistlus  HI-viirus  \\\n",
       "Bondi-film            0.111111         0.166667     0.000000   0.166667   \n",
       "C-vitamiin            0.000000         0.000000     0.000000   0.000000   \n",
       "CN-kood               0.000000         0.000000     0.000000   0.000000   \n",
       "EM-finaalturniir      0.333333         0.800000     0.375000   0.000000   \n",
       "EM-valikmäng          1.000000         0.375000     0.181818   0.000000   \n",
       "...                        ...              ...          ...        ...   \n",
       "šokk                  0.000000         0.000000     0.000000   0.066667   \n",
       "šokolaad              0.000000         0.000000     0.000000   0.000000   \n",
       "žanr                  0.000000         0.000000     0.000000   0.142857   \n",
       "žest                  0.000000         0.000000     0.000000   0.000000   \n",
       "žürii                 0.000000         0.000000     0.000000   0.000000   \n",
       "\n",
       "                  ID-kaart  MK-etapp  ...  üürileping    üürnik  šampoon  \\\n",
       "Bondi-film        0.125000  0.153846  ...    0.090909  0.142857      0.0   \n",
       "C-vitamiin        0.000000  0.000000  ...    0.000000  0.000000      0.0   \n",
       "CN-kood           0.000000  0.045455  ...    0.052632  0.043478      0.0   \n",
       "EM-finaalturniir  0.000000  0.214286  ...    0.000000  0.058824      0.0   \n",
       "EM-valikmäng      0.000000  0.187500  ...    0.000000  0.052632      0.0   \n",
       "...                    ...       ...  ...         ...       ...      ...   \n",
       "šokk              0.058824  0.000000  ...    0.050000  0.086957      0.0   \n",
       "šokolaad          0.000000  0.058824  ...    0.000000  0.055556      0.1   \n",
       "žanr              0.111111  0.000000  ...    0.083333  0.062500      0.0   \n",
       "žest              0.000000  0.000000  ...    0.000000  0.000000      0.0   \n",
       "žürii             0.000000  0.000000  ...    0.000000  0.034483      0.0   \n",
       "\n",
       "                     šanss  šiiit      šokk  šokolaad      žanr      žest  \\\n",
       "Bondi-film        0.166667    0.0  0.071429       0.0  0.166667  0.000000   \n",
       "C-vitamiin        0.066667    0.0  0.062500       0.0  0.000000  0.100000   \n",
       "CN-kood           0.000000    0.0  0.000000       0.0  0.000000  0.000000   \n",
       "EM-finaalturniir  0.066667    0.0  0.000000       0.0  0.000000  0.000000   \n",
       "EM-valikmäng      0.058824    0.0  0.000000       0.0  0.000000  0.000000   \n",
       "...                    ...    ...       ...       ...       ...       ...   \n",
       "šokk              0.150000    0.0  1.000000       0.0  0.066667  0.058824   \n",
       "šokolaad          0.062500    0.0  0.000000       1.0  0.000000  0.000000   \n",
       "žanr              0.071429    0.0  0.066667       0.0  1.000000  0.000000   \n",
       "žest              0.062500    0.0  0.058824       0.0  0.000000  1.000000   \n",
       "žürii             0.037037    0.0  0.074074       0.0  0.000000  0.045455   \n",
       "\n",
       "                     žürii  \n",
       "Bondi-film        0.000000  \n",
       "C-vitamiin        0.047619  \n",
       "CN-kood           0.000000  \n",
       "EM-finaalturniir  0.000000  \n",
       "EM-valikmäng      0.000000  \n",
       "...                    ...  \n",
       "šokk              0.074074  \n",
       "šokolaad          0.000000  \n",
       "žanr              0.000000  \n",
       "žest              0.045455  \n",
       "žürii             1.000000  \n",
       "\n",
       "[5817 rows x 5817 columns]"
      ]
     },
     "execution_count": 12,
     "metadata": {},
     "output_type": "execute_result"
    }
   ],
   "source": [
    "noun_df"
   ]
  },
  {
   "cell_type": "markdown",
   "metadata": {},
   "source": [
    "### SpectralClustering"
   ]
  },
  {
   "cell_type": "code",
   "execution_count": 16,
   "metadata": {},
   "outputs": [],
   "source": [
    "from sklearn.cluster import SpectralClustering\n",
    "from collections import defaultdict\n",
    "import pickle"
   ]
  },
  {
   "cell_type": "code",
   "execution_count": 17,
   "metadata": {},
   "outputs": [],
   "source": [
    "clustering = SpectralClustering(n_clusters=1000, affinity='precomputed', random_state=0)"
   ]
  },
  {
   "cell_type": "code",
   "execution_count": 18,
   "metadata": {},
   "outputs": [
    {
     "name": "stdout",
     "output_type": "stream",
     "text": [
      "1:52:38.777201\n",
      "2:19:12.686832\n",
      "0:26:33.910629\n"
     ]
    }
   ],
   "source": [
    "print(str(timedelta(seconds=time.time()+10800)).split(\", \")[1])\n",
    "start = datetime.now()\n",
    "\n",
    "clustering.fit(noun_df.values)\n",
    "\n",
    "print(str(timedelta(seconds=time.time()+10800)).split(\", \")[1])\n",
    "print(datetime.now()-start)"
   ]
  },
  {
   "cell_type": "code",
   "execution_count": 19,
   "metadata": {},
   "outputs": [
    {
     "data": {
      "text/plain": [
       "array([  2, 861, 221, ..., 806, 861, 403])"
      ]
     },
     "execution_count": 19,
     "metadata": {},
     "output_type": "execute_result"
    }
   ],
   "source": [
    "clustering.labels_"
   ]
  },
  {
   "cell_type": "code",
   "execution_count": 202,
   "metadata": {},
   "outputs": [],
   "source": [
    "labels = defaultdict(list)\n",
    "\n",
    "for i, label in enumerate(clustering.labels_):\n",
    "    labels[label].append(noun_df.index[i])"
   ]
  },
  {
   "cell_type": "code",
   "execution_count": 299,
   "metadata": {},
   "outputs": [],
   "source": [
    "import pickle\n",
    "\n",
    "with open(\"jaccard_labels.pickle\", \"wb\") as f:\n",
    "    pickle.dump(labels, f)"
   ]
  },
  {
   "cell_type": "code",
   "execution_count": 301,
   "metadata": {},
   "outputs": [],
   "source": [
    "with open(\"jaccard_labels.pickle\", \"rb\") as f:\n",
    "    test_labels = pickle.load(f)"
   ]
  },
  {
   "cell_type": "code",
   "execution_count": 22,
   "metadata": {},
   "outputs": [
    {
     "name": "stdout",
     "output_type": "stream",
     "text": [
      "Topic 0 has 4 words\n",
      "Topic 1 has 1 words\n",
      "Topic 2 has 29 words\n",
      "Topic 3 has 1 words\n",
      "Topic 4 has 1 words\n",
      "Topic 5 has 1 words\n",
      "Topic 6 has 1 words\n",
      "Topic 7 has 1 words\n",
      "Topic 8 has 1 words\n",
      "Topic 9 has 3 words\n",
      "Topic 10 has 1 words\n",
      "Topic 11 has 1 words\n",
      "Topic 12 has 1 words\n",
      "Topic 13 has 1 words\n",
      "Topic 14 has 1 words\n",
      "Topic 15 has 1 words\n",
      "Topic 16 has 1 words\n",
      "Topic 17 has 1 words\n",
      "Topic 18 has 1 words\n",
      "Topic 19 has 1 words\n",
      "Topic 20 has 1 words\n",
      "Topic 21 has 1 words\n",
      "Topic 22 has 1 words\n",
      "Topic 23 has 1 words\n",
      "Topic 24 has 1 words\n",
      "Topic 25 has 1 words\n",
      "Topic 26 has 1 words\n",
      "Topic 27 has 1 words\n",
      "Topic 28 has 2 words\n",
      "Topic 29 has 1 words\n",
      "Topic 30 has 1 words\n",
      "Topic 31 has 31 words\n",
      "Topic 32 has 1 words\n",
      "Topic 33 has 1 words\n",
      "Topic 34 has 1 words\n",
      "Topic 35 has 1 words\n",
      "Topic 36 has 1 words\n",
      "Topic 37 has 1 words\n",
      "Topic 38 has 1 words\n",
      "Topic 39 has 1 words\n",
      "Topic 40 has 2 words\n",
      "Topic 41 has 1 words\n",
      "Topic 42 has 2 words\n",
      "Topic 43 has 1 words\n",
      "Topic 44 has 1 words\n",
      "Topic 45 has 2 words\n",
      "Topic 46 has 1 words\n",
      "Topic 47 has 1 words\n",
      "Topic 48 has 1 words\n",
      "Topic 49 has 1 words\n",
      "Topic 50 has 1 words\n",
      "Topic 51 has 1 words\n",
      "Topic 52 has 1 words\n",
      "Topic 53 has 1 words\n",
      "Topic 54 has 1 words\n",
      "Topic 55 has 1 words\n",
      "Topic 56 has 245 words\n",
      "Topic 57 has 1 words\n",
      "Topic 58 has 2 words\n",
      "Topic 59 has 1 words\n",
      "Topic 60 has 1 words\n",
      "Topic 61 has 1 words\n",
      "Topic 62 has 1 words\n",
      "Topic 63 has 1 words\n",
      "Topic 64 has 1 words\n",
      "Topic 65 has 1 words\n",
      "Topic 66 has 1 words\n",
      "Topic 67 has 1 words\n",
      "Topic 68 has 1 words\n",
      "Topic 69 has 1 words\n",
      "Topic 70 has 1 words\n",
      "Topic 71 has 1 words\n",
      "Topic 72 has 1 words\n",
      "Topic 73 has 2 words\n",
      "Topic 74 has 1 words\n",
      "Topic 75 has 1 words\n",
      "Topic 76 has 1 words\n",
      "Topic 77 has 1 words\n",
      "Topic 78 has 2 words\n",
      "Topic 79 has 1 words\n",
      "Topic 80 has 1 words\n",
      "Topic 81 has 1 words\n",
      "Topic 82 has 1 words\n",
      "Topic 83 has 1 words\n",
      "Topic 84 has 1 words\n",
      "Topic 85 has 1 words\n",
      "Topic 86 has 1 words\n",
      "Topic 87 has 1 words\n",
      "Topic 88 has 1 words\n",
      "Topic 89 has 1 words\n",
      "Topic 90 has 1 words\n",
      "Topic 91 has 1 words\n",
      "Topic 92 has 1 words\n",
      "Topic 93 has 1 words\n",
      "Topic 94 has 1 words\n",
      "Topic 95 has 1 words\n",
      "Topic 96 has 1 words\n",
      "Topic 97 has 1 words\n",
      "Topic 98 has 1 words\n",
      "Topic 99 has 1 words\n",
      "Topic 100 has 1 words\n",
      "Topic 101 has 1 words\n",
      "Topic 102 has 1 words\n",
      "Topic 103 has 1 words\n",
      "Topic 104 has 1 words\n",
      "Topic 105 has 1 words\n",
      "Topic 106 has 1 words\n",
      "Topic 107 has 1 words\n",
      "Topic 108 has 1 words\n",
      "Topic 109 has 3 words\n",
      "Topic 110 has 1 words\n",
      "Topic 111 has 1 words\n",
      "Topic 112 has 1 words\n",
      "Topic 113 has 1 words\n",
      "Topic 114 has 2 words\n",
      "Topic 115 has 1 words\n",
      "Topic 116 has 1 words\n",
      "Topic 117 has 1 words\n",
      "Topic 118 has 1 words\n",
      "Topic 119 has 1 words\n",
      "Topic 120 has 1 words\n",
      "Topic 121 has 1 words\n",
      "Topic 122 has 1 words\n",
      "Topic 123 has 1 words\n",
      "Topic 124 has 1 words\n",
      "Topic 125 has 1 words\n",
      "Topic 126 has 1 words\n",
      "Topic 127 has 1 words\n",
      "Topic 128 has 1 words\n",
      "Topic 129 has 1 words\n",
      "Topic 130 has 1 words\n",
      "Topic 131 has 1 words\n",
      "Topic 132 has 1 words\n",
      "Topic 133 has 1 words\n",
      "Topic 134 has 1 words\n",
      "Topic 135 has 1 words\n",
      "Topic 136 has 1 words\n",
      "Topic 137 has 1 words\n",
      "Topic 138 has 1 words\n",
      "Topic 139 has 2 words\n",
      "Topic 140 has 1 words\n",
      "Topic 141 has 1 words\n",
      "Topic 142 has 1 words\n",
      "Topic 143 has 1 words\n",
      "Topic 144 has 1 words\n",
      "Topic 145 has 1 words\n",
      "Topic 146 has 1 words\n",
      "Topic 147 has 1 words\n",
      "Topic 148 has 1 words\n",
      "Topic 149 has 1 words\n",
      "Topic 150 has 1 words\n",
      "Topic 151 has 1 words\n",
      "Topic 152 has 1 words\n",
      "Topic 153 has 1 words\n",
      "Topic 154 has 1 words\n",
      "Topic 155 has 2 words\n",
      "Topic 156 has 1 words\n",
      "Topic 157 has 1 words\n",
      "Topic 158 has 1 words\n",
      "Topic 159 has 1 words\n",
      "Topic 160 has 1 words\n",
      "Topic 161 has 1 words\n",
      "Topic 162 has 1 words\n",
      "Topic 163 has 1 words\n",
      "Topic 164 has 1 words\n",
      "Topic 165 has 1 words\n",
      "Topic 166 has 1 words\n",
      "Topic 167 has 1 words\n",
      "Topic 168 has 1 words\n",
      "Topic 169 has 1 words\n",
      "Topic 170 has 1 words\n",
      "Topic 171 has 2 words\n",
      "Topic 172 has 1 words\n",
      "Topic 173 has 1 words\n",
      "Topic 174 has 1 words\n",
      "Topic 175 has 1 words\n",
      "Topic 176 has 1 words\n",
      "Topic 177 has 1 words\n",
      "Topic 178 has 1 words\n",
      "Topic 179 has 1 words\n",
      "Topic 180 has 1 words\n",
      "Topic 181 has 1 words\n",
      "Topic 182 has 1 words\n",
      "Topic 183 has 1 words\n",
      "Topic 184 has 1 words\n",
      "Topic 185 has 1 words\n",
      "Topic 186 has 1 words\n",
      "Topic 187 has 1 words\n",
      "Topic 188 has 1 words\n",
      "Topic 189 has 1 words\n",
      "Topic 190 has 1 words\n",
      "Topic 191 has 1 words\n",
      "Topic 192 has 1 words\n",
      "Topic 193 has 1 words\n",
      "Topic 194 has 1 words\n",
      "Topic 195 has 1 words\n",
      "Topic 196 has 1 words\n",
      "Topic 197 has 1 words\n",
      "Topic 198 has 1 words\n",
      "Topic 199 has 1 words\n",
      "Topic 200 has 3 words\n",
      "Topic 201 has 1 words\n",
      "Topic 202 has 1 words\n",
      "Topic 203 has 1 words\n",
      "Topic 204 has 1 words\n",
      "Topic 205 has 1 words\n",
      "Topic 206 has 1 words\n",
      "Topic 207 has 1 words\n",
      "Topic 208 has 1 words\n",
      "Topic 209 has 1 words\n",
      "Topic 210 has 1 words\n",
      "Topic 211 has 1 words\n",
      "Topic 212 has 1 words\n",
      "Topic 213 has 1 words\n",
      "Topic 214 has 1 words\n",
      "Topic 215 has 1 words\n",
      "Topic 216 has 1 words\n",
      "Topic 217 has 2 words\n",
      "Topic 218 has 1 words\n",
      "Topic 219 has 1 words\n",
      "Topic 220 has 1 words\n",
      "Topic 221 has 37 words\n",
      "Topic 222 has 1 words\n",
      "Topic 223 has 1 words\n",
      "Topic 224 has 1 words\n",
      "Topic 225 has 1 words\n",
      "Topic 226 has 1 words\n",
      "Topic 227 has 1 words\n",
      "Topic 228 has 1 words\n",
      "Topic 229 has 1 words\n",
      "Topic 230 has 1 words\n",
      "Topic 231 has 2 words\n",
      "Topic 232 has 1 words\n",
      "Topic 233 has 2 words\n",
      "Topic 234 has 1 words\n",
      "Topic 235 has 1 words\n",
      "Topic 236 has 1 words\n",
      "Topic 237 has 1 words\n",
      "Topic 238 has 1 words\n",
      "Topic 239 has 1 words\n",
      "Topic 240 has 1 words\n",
      "Topic 241 has 1 words\n",
      "Topic 242 has 1 words\n",
      "Topic 243 has 2 words\n",
      "Topic 244 has 1 words\n",
      "Topic 245 has 1 words\n",
      "Topic 246 has 1 words\n",
      "Topic 247 has 1 words\n",
      "Topic 248 has 1 words\n",
      "Topic 249 has 1 words\n",
      "Topic 250 has 1 words\n",
      "Topic 251 has 2 words\n",
      "Topic 252 has 1 words\n",
      "Topic 253 has 2 words\n",
      "Topic 254 has 1 words\n",
      "Topic 255 has 1 words\n",
      "Topic 256 has 3 words\n",
      "Topic 257 has 2 words\n",
      "Topic 258 has 1 words\n",
      "Topic 259 has 1 words\n",
      "Topic 260 has 1 words\n",
      "Topic 261 has 2 words\n",
      "Topic 262 has 30 words\n",
      "Topic 263 has 1 words\n",
      "Topic 264 has 1 words\n",
      "Topic 265 has 1 words\n",
      "Topic 266 has 1 words\n",
      "Topic 267 has 1 words\n",
      "Topic 268 has 1 words\n",
      "Topic 269 has 1 words\n",
      "Topic 270 has 1 words\n",
      "Topic 271 has 1 words\n",
      "Topic 272 has 1 words\n",
      "Topic 273 has 1 words\n",
      "Topic 274 has 1 words\n",
      "Topic 275 has 1 words\n",
      "Topic 276 has 1 words\n",
      "Topic 277 has 1 words\n",
      "Topic 278 has 1 words\n",
      "Topic 279 has 1 words\n",
      "Topic 280 has 3 words\n",
      "Topic 281 has 1 words\n",
      "Topic 282 has 2 words\n",
      "Topic 283 has 1 words\n",
      "Topic 284 has 1 words\n",
      "Topic 285 has 1 words\n",
      "Topic 286 has 1 words\n",
      "Topic 287 has 1 words\n",
      "Topic 288 has 1 words\n",
      "Topic 289 has 2 words\n",
      "Topic 290 has 1 words\n",
      "Topic 291 has 1 words\n",
      "Topic 292 has 17 words\n",
      "Topic 293 has 1 words\n",
      "Topic 294 has 1 words\n",
      "Topic 295 has 1 words\n",
      "Topic 296 has 1 words\n",
      "Topic 297 has 1 words\n",
      "Topic 298 has 1 words\n",
      "Topic 299 has 1 words\n",
      "Topic 300 has 1 words\n",
      "Topic 301 has 1 words\n",
      "Topic 302 has 2 words\n",
      "Topic 303 has 1 words\n",
      "Topic 304 has 1 words\n",
      "Topic 305 has 2 words\n",
      "Topic 306 has 1 words\n",
      "Topic 307 has 10 words\n",
      "Topic 308 has 1 words\n",
      "Topic 309 has 1 words\n",
      "Topic 310 has 1 words\n",
      "Topic 311 has 1 words\n",
      "Topic 312 has 1 words\n",
      "Topic 313 has 1 words\n",
      "Topic 314 has 1 words\n",
      "Topic 315 has 2 words\n",
      "Topic 316 has 1 words\n",
      "Topic 317 has 1 words\n",
      "Topic 318 has 1 words\n",
      "Topic 319 has 1 words\n",
      "Topic 320 has 2 words\n",
      "Topic 321 has 1 words\n",
      "Topic 322 has 2 words\n",
      "Topic 323 has 1 words\n",
      "Topic 324 has 1 words\n",
      "Topic 325 has 1 words\n",
      "Topic 326 has 1 words\n",
      "Topic 327 has 2 words\n",
      "Topic 328 has 2 words\n",
      "Topic 329 has 1 words\n",
      "Topic 330 has 11 words\n",
      "Topic 331 has 1 words\n",
      "Topic 332 has 3 words\n",
      "Topic 333 has 2 words\n",
      "Topic 334 has 1 words\n",
      "Topic 335 has 1 words\n",
      "Topic 336 has 2 words\n",
      "Topic 337 has 1 words\n",
      "Topic 338 has 2 words\n",
      "Topic 339 has 1 words\n",
      "Topic 340 has 1 words\n",
      "Topic 341 has 1 words\n",
      "Topic 342 has 1 words\n",
      "Topic 343 has 2 words\n",
      "Topic 344 has 9 words\n",
      "Topic 345 has 1 words\n",
      "Topic 346 has 1 words\n",
      "Topic 347 has 1 words\n",
      "Topic 348 has 1 words\n",
      "Topic 349 has 2 words\n",
      "Topic 350 has 1 words\n",
      "Topic 351 has 1 words\n",
      "Topic 352 has 1 words\n",
      "Topic 353 has 1 words\n",
      "Topic 354 has 1 words\n",
      "Topic 355 has 1 words\n",
      "Topic 356 has 7 words\n",
      "Topic 357 has 1 words\n",
      "Topic 358 has 1 words\n",
      "Topic 359 has 1 words\n",
      "Topic 360 has 1 words\n",
      "Topic 361 has 1 words\n",
      "Topic 362 has 1 words\n",
      "Topic 363 has 3 words\n",
      "Topic 364 has 1 words\n",
      "Topic 365 has 1 words\n",
      "Topic 366 has 1 words\n",
      "Topic 367 has 1 words\n",
      "Topic 368 has 1 words\n",
      "Topic 369 has 1 words\n",
      "Topic 370 has 1 words\n",
      "Topic 371 has 1 words\n",
      "Topic 372 has 1 words\n",
      "Topic 373 has 8 words\n",
      "Topic 374 has 7 words\n",
      "Topic 375 has 1 words\n",
      "Topic 376 has 1 words\n",
      "Topic 377 has 1 words\n",
      "Topic 378 has 4 words\n",
      "Topic 379 has 1 words\n",
      "Topic 380 has 1 words\n",
      "Topic 381 has 1 words\n",
      "Topic 382 has 1 words\n",
      "Topic 383 has 1 words\n",
      "Topic 384 has 1 words\n",
      "Topic 385 has 1 words\n",
      "Topic 386 has 1 words\n",
      "Topic 387 has 8 words\n",
      "Topic 388 has 1 words\n",
      "Topic 389 has 2 words\n",
      "Topic 390 has 1 words\n",
      "Topic 391 has 1 words\n",
      "Topic 392 has 2 words\n",
      "Topic 393 has 6 words\n",
      "Topic 394 has 1 words\n",
      "Topic 395 has 1 words\n",
      "Topic 396 has 1 words\n",
      "Topic 397 has 1 words\n",
      "Topic 398 has 1 words\n",
      "Topic 399 has 1 words\n",
      "Topic 400 has 1 words\n",
      "Topic 401 has 4 words\n",
      "Topic 402 has 3 words\n",
      "Topic 403 has 2 words\n",
      "Topic 404 has 1 words\n",
      "Topic 405 has 2 words\n",
      "Topic 406 has 1 words\n",
      "Topic 407 has 3 words\n",
      "Topic 408 has 4 words\n",
      "Topic 409 has 1 words\n",
      "Topic 410 has 1 words\n",
      "Topic 411 has 1 words\n",
      "Topic 412 has 1 words\n",
      "Topic 413 has 1 words\n",
      "Topic 414 has 1 words\n",
      "Topic 415 has 3 words\n",
      "Topic 416 has 1 words\n",
      "Topic 417 has 1 words\n",
      "Topic 418 has 1 words\n",
      "Topic 419 has 1 words\n",
      "Topic 420 has 1 words\n",
      "Topic 421 has 3 words\n",
      "Topic 422 has 2 words\n",
      "Topic 423 has 1 words\n",
      "Topic 424 has 1 words\n",
      "Topic 425 has 1 words\n",
      "Topic 426 has 2 words\n",
      "Topic 427 has 7 words\n",
      "Topic 428 has 24 words\n",
      "Topic 429 has 1 words\n",
      "Topic 430 has 1 words\n",
      "Topic 431 has 1 words\n",
      "Topic 432 has 1 words\n",
      "Topic 433 has 1 words\n",
      "Topic 434 has 1 words\n",
      "Topic 435 has 1 words\n",
      "Topic 436 has 1 words\n",
      "Topic 437 has 1 words\n",
      "Topic 438 has 1 words\n",
      "Topic 439 has 1 words\n",
      "Topic 440 has 1 words\n",
      "Topic 441 has 1 words\n",
      "Topic 442 has 8 words\n",
      "Topic 443 has 1 words\n",
      "Topic 444 has 1 words\n",
      "Topic 445 has 1 words\n",
      "Topic 446 has 3 words\n",
      "Topic 447 has 1 words\n",
      "Topic 448 has 1 words\n",
      "Topic 449 has 1 words\n",
      "Topic 450 has 1 words\n",
      "Topic 451 has 1 words\n",
      "Topic 452 has 30 words\n",
      "Topic 453 has 3 words\n",
      "Topic 454 has 1 words\n",
      "Topic 455 has 2 words\n",
      "Topic 456 has 1 words\n",
      "Topic 457 has 1 words\n",
      "Topic 458 has 1 words\n",
      "Topic 459 has 3 words\n",
      "Topic 460 has 3 words\n",
      "Topic 461 has 3 words\n",
      "Topic 462 has 2 words\n",
      "Topic 463 has 1 words\n",
      "Topic 464 has 1 words\n",
      "Topic 465 has 2 words\n",
      "Topic 466 has 1 words\n",
      "Topic 467 has 2 words\n",
      "Topic 468 has 1 words\n",
      "Topic 469 has 1 words\n",
      "Topic 470 has 1 words\n",
      "Topic 471 has 2 words\n",
      "Topic 472 has 1 words\n",
      "Topic 473 has 1 words\n",
      "Topic 474 has 1 words\n",
      "Topic 475 has 1 words\n",
      "Topic 476 has 1 words\n",
      "Topic 477 has 1 words\n",
      "Topic 478 has 1 words\n",
      "Topic 479 has 2 words\n",
      "Topic 480 has 1 words\n",
      "Topic 481 has 1 words\n",
      "Topic 482 has 1 words\n",
      "Topic 483 has 1 words\n",
      "Topic 484 has 1 words\n",
      "Topic 485 has 1 words\n",
      "Topic 486 has 1 words\n",
      "Topic 487 has 2 words\n",
      "Topic 488 has 1 words\n",
      "Topic 489 has 1 words\n",
      "Topic 490 has 1 words\n",
      "Topic 491 has 1 words\n",
      "Topic 492 has 1 words\n",
      "Topic 493 has 2 words\n",
      "Topic 494 has 13 words\n",
      "Topic 495 has 1 words\n",
      "Topic 496 has 1 words\n",
      "Topic 497 has 1 words\n",
      "Topic 498 has 1 words\n",
      "Topic 499 has 1 words\n",
      "Topic 500 has 1 words\n",
      "Topic 501 has 34 words\n",
      "Topic 502 has 2 words\n",
      "Topic 503 has 1 words\n",
      "Topic 504 has 1 words\n",
      "Topic 505 has 1 words\n",
      "Topic 506 has 1 words\n",
      "Topic 507 has 1 words\n",
      "Topic 508 has 1 words\n",
      "Topic 509 has 5 words\n",
      "Topic 510 has 1 words\n",
      "Topic 511 has 1 words\n",
      "Topic 512 has 1 words\n",
      "Topic 513 has 1 words\n",
      "Topic 514 has 2 words\n",
      "Topic 515 has 1 words\n",
      "Topic 516 has 9 words\n",
      "Topic 517 has 9 words\n",
      "Topic 518 has 1 words\n",
      "Topic 519 has 1 words\n",
      "Topic 520 has 1 words\n",
      "Topic 521 has 1 words\n",
      "Topic 522 has 1 words\n",
      "Topic 523 has 3 words\n",
      "Topic 524 has 3 words\n",
      "Topic 525 has 1 words\n",
      "Topic 526 has 1 words\n",
      "Topic 527 has 1 words\n",
      "Topic 528 has 1 words\n",
      "Topic 529 has 1 words\n",
      "Topic 530 has 1 words\n",
      "Topic 531 has 1 words\n",
      "Topic 532 has 1 words\n",
      "Topic 533 has 1 words\n",
      "Topic 534 has 1 words\n",
      "Topic 535 has 1 words\n",
      "Topic 536 has 1 words\n",
      "Topic 537 has 2 words\n",
      "Topic 538 has 2 words\n",
      "Topic 539 has 1 words\n",
      "Topic 540 has 1 words\n",
      "Topic 541 has 3 words\n",
      "Topic 542 has 8 words\n",
      "Topic 543 has 1 words\n",
      "Topic 544 has 1 words\n",
      "Topic 545 has 1 words\n",
      "Topic 546 has 1 words\n",
      "Topic 547 has 1 words\n",
      "Topic 548 has 1 words\n",
      "Topic 549 has 2 words\n",
      "Topic 550 has 1 words\n",
      "Topic 551 has 1 words\n",
      "Topic 552 has 3 words\n",
      "Topic 553 has 1 words\n",
      "Topic 554 has 1 words\n",
      "Topic 555 has 13 words\n",
      "Topic 556 has 1 words\n",
      "Topic 557 has 2 words\n",
      "Topic 558 has 1 words\n",
      "Topic 559 has 1 words\n",
      "Topic 560 has 1 words\n",
      "Topic 561 has 7 words\n",
      "Topic 562 has 1 words\n",
      "Topic 563 has 3 words\n",
      "Topic 564 has 1 words\n",
      "Topic 565 has 1 words\n",
      "Topic 566 has 1 words\n",
      "Topic 567 has 1 words\n",
      "Topic 568 has 1 words\n",
      "Topic 569 has 2 words\n",
      "Topic 570 has 1 words\n",
      "Topic 571 has 1 words\n",
      "Topic 572 has 2 words\n",
      "Topic 573 has 1 words\n",
      "Topic 574 has 1 words\n",
      "Topic 575 has 7 words\n",
      "Topic 576 has 34 words\n",
      "Topic 577 has 1 words\n",
      "Topic 578 has 9 words\n",
      "Topic 579 has 1 words\n",
      "Topic 580 has 2 words\n",
      "Topic 581 has 1 words\n",
      "Topic 582 has 5 words\n",
      "Topic 583 has 1 words\n",
      "Topic 584 has 2 words\n",
      "Topic 585 has 1 words\n",
      "Topic 586 has 1 words\n",
      "Topic 587 has 1 words\n",
      "Topic 588 has 7 words\n",
      "Topic 589 has 49 words\n",
      "Topic 590 has 1 words\n",
      "Topic 591 has 1 words\n",
      "Topic 592 has 1 words\n",
      "Topic 593 has 1 words\n",
      "Topic 594 has 1 words\n",
      "Topic 595 has 1 words\n",
      "Topic 596 has 1 words\n",
      "Topic 597 has 28 words\n",
      "Topic 598 has 1 words\n",
      "Topic 599 has 1 words\n",
      "Topic 600 has 1 words\n",
      "Topic 601 has 2 words\n",
      "Topic 602 has 1 words\n",
      "Topic 603 has 1 words\n",
      "Topic 604 has 1 words\n",
      "Topic 605 has 1 words\n",
      "Topic 606 has 1 words\n",
      "Topic 607 has 1 words\n",
      "Topic 608 has 5 words\n",
      "Topic 609 has 7 words\n",
      "Topic 610 has 105 words\n",
      "Topic 611 has 1 words\n",
      "Topic 612 has 2 words\n",
      "Topic 613 has 5 words\n",
      "Topic 614 has 1 words\n",
      "Topic 615 has 3 words\n",
      "Topic 616 has 1 words\n",
      "Topic 617 has 1 words\n",
      "Topic 618 has 1 words\n",
      "Topic 619 has 1 words\n",
      "Topic 620 has 1 words\n",
      "Topic 621 has 1 words\n",
      "Topic 622 has 1 words\n",
      "Topic 623 has 1 words\n",
      "Topic 624 has 3 words\n",
      "Topic 625 has 1 words\n",
      "Topic 626 has 2 words\n",
      "Topic 627 has 2 words\n",
      "Topic 628 has 1 words\n",
      "Topic 629 has 1 words\n",
      "Topic 630 has 1 words\n",
      "Topic 631 has 1 words\n",
      "Topic 632 has 1 words\n",
      "Topic 633 has 1 words\n",
      "Topic 634 has 1 words\n",
      "Topic 635 has 4 words\n",
      "Topic 636 has 1 words\n",
      "Topic 637 has 1 words\n",
      "Topic 638 has 1 words\n",
      "Topic 639 has 1 words\n",
      "Topic 640 has 1 words\n",
      "Topic 641 has 1 words\n",
      "Topic 642 has 1 words\n",
      "Topic 643 has 1 words\n",
      "Topic 644 has 1 words\n",
      "Topic 645 has 1 words\n",
      "Topic 646 has 1 words\n",
      "Topic 647 has 1 words\n",
      "Topic 648 has 1 words\n",
      "Topic 649 has 1 words\n",
      "Topic 650 has 1 words\n",
      "Topic 651 has 1 words\n",
      "Topic 652 has 1 words\n",
      "Topic 653 has 1 words\n",
      "Topic 654 has 1 words\n",
      "Topic 655 has 2 words\n",
      "Topic 656 has 1 words\n",
      "Topic 657 has 1 words\n",
      "Topic 658 has 1 words\n",
      "Topic 659 has 5 words\n",
      "Topic 660 has 2 words\n",
      "Topic 661 has 4 words\n",
      "Topic 662 has 6 words\n",
      "Topic 663 has 1 words\n",
      "Topic 664 has 1 words\n",
      "Topic 665 has 1 words\n",
      "Topic 666 has 1 words\n",
      "Topic 667 has 2 words\n",
      "Topic 668 has 9 words\n",
      "Topic 669 has 1 words\n",
      "Topic 670 has 1 words\n",
      "Topic 671 has 3 words\n",
      "Topic 672 has 2 words\n",
      "Topic 673 has 2 words\n",
      "Topic 674 has 1 words\n",
      "Topic 675 has 6 words\n",
      "Topic 676 has 1 words\n",
      "Topic 677 has 1 words\n",
      "Topic 678 has 1 words\n",
      "Topic 679 has 1 words\n",
      "Topic 680 has 1 words\n",
      "Topic 681 has 1 words\n",
      "Topic 682 has 1 words\n",
      "Topic 683 has 2 words\n",
      "Topic 684 has 1 words\n",
      "Topic 685 has 3 words\n",
      "Topic 686 has 2 words\n",
      "Topic 687 has 3 words\n",
      "Topic 688 has 8 words\n",
      "Topic 689 has 14 words\n",
      "Topic 690 has 2 words\n",
      "Topic 691 has 1 words\n",
      "Topic 692 has 2 words\n",
      "Topic 693 has 1 words\n",
      "Topic 694 has 1 words\n",
      "Topic 695 has 4 words\n",
      "Topic 696 has 1 words\n",
      "Topic 697 has 1 words\n",
      "Topic 698 has 1 words\n",
      "Topic 699 has 1 words\n",
      "Topic 700 has 8 words\n",
      "Topic 701 has 1 words\n",
      "Topic 702 has 1 words\n",
      "Topic 703 has 1 words\n",
      "Topic 704 has 1 words\n",
      "Topic 705 has 1 words\n",
      "Topic 706 has 1 words\n",
      "Topic 707 has 1 words\n",
      "Topic 708 has 1 words\n",
      "Topic 709 has 1 words\n",
      "Topic 710 has 1 words\n",
      "Topic 711 has 12 words\n",
      "Topic 712 has 1 words\n",
      "Topic 713 has 1 words\n",
      "Topic 714 has 29 words\n",
      "Topic 715 has 1 words\n",
      "Topic 716 has 10 words\n",
      "Topic 717 has 1 words\n",
      "Topic 718 has 1 words\n",
      "Topic 719 has 1 words\n",
      "Topic 720 has 1 words\n",
      "Topic 721 has 2 words\n",
      "Topic 722 has 1 words\n",
      "Topic 723 has 1 words\n",
      "Topic 724 has 5 words\n",
      "Topic 725 has 1 words\n",
      "Topic 726 has 1 words\n",
      "Topic 727 has 1 words\n",
      "Topic 728 has 1 words\n",
      "Topic 729 has 2 words\n",
      "Topic 730 has 4 words\n",
      "Topic 731 has 1 words\n",
      "Topic 732 has 1 words\n",
      "Topic 733 has 1 words\n",
      "Topic 734 has 1 words\n",
      "Topic 735 has 1 words\n",
      "Topic 736 has 1 words\n",
      "Topic 737 has 5 words\n",
      "Topic 738 has 1 words\n",
      "Topic 739 has 1 words\n",
      "Topic 740 has 1 words\n",
      "Topic 741 has 2 words\n",
      "Topic 742 has 1 words\n",
      "Topic 743 has 3 words\n",
      "Topic 744 has 4 words\n",
      "Topic 745 has 1 words\n",
      "Topic 746 has 3 words\n",
      "Topic 747 has 1 words\n",
      "Topic 748 has 1 words\n",
      "Topic 749 has 1 words\n",
      "Topic 750 has 1 words\n",
      "Topic 751 has 1 words\n",
      "Topic 752 has 1 words\n",
      "Topic 753 has 1 words\n",
      "Topic 754 has 2 words\n",
      "Topic 755 has 1 words\n",
      "Topic 756 has 3 words\n",
      "Topic 757 has 1 words\n",
      "Topic 758 has 1 words\n",
      "Topic 759 has 1 words\n",
      "Topic 760 has 10 words\n",
      "Topic 761 has 98 words\n",
      "Topic 762 has 2 words\n",
      "Topic 763 has 1 words\n",
      "Topic 764 has 2 words\n",
      "Topic 765 has 1 words\n",
      "Topic 766 has 84 words\n",
      "Topic 767 has 172 words\n",
      "Topic 768 has 1 words\n",
      "Topic 769 has 7 words\n",
      "Topic 770 has 3 words\n",
      "Topic 771 has 1 words\n",
      "Topic 772 has 1 words\n",
      "Topic 773 has 1 words\n",
      "Topic 774 has 1 words\n",
      "Topic 775 has 2 words\n",
      "Topic 776 has 1 words\n",
      "Topic 777 has 9 words\n",
      "Topic 778 has 2 words\n",
      "Topic 779 has 2 words\n",
      "Topic 780 has 1 words\n",
      "Topic 781 has 1 words\n",
      "Topic 782 has 3 words\n",
      "Topic 783 has 1 words\n",
      "Topic 784 has 5 words\n",
      "Topic 785 has 1 words\n",
      "Topic 786 has 1 words\n",
      "Topic 787 has 129 words\n",
      "Topic 788 has 1 words\n",
      "Topic 789 has 1 words\n",
      "Topic 790 has 2 words\n",
      "Topic 791 has 2 words\n",
      "Topic 792 has 3 words\n",
      "Topic 793 has 9 words\n",
      "Topic 794 has 1 words\n",
      "Topic 795 has 1 words\n",
      "Topic 796 has 1 words\n",
      "Topic 797 has 1 words\n",
      "Topic 798 has 1 words\n",
      "Topic 799 has 1 words\n",
      "Topic 800 has 1 words\n",
      "Topic 801 has 1 words\n",
      "Topic 802 has 1 words\n",
      "Topic 803 has 1 words\n",
      "Topic 804 has 6 words\n",
      "Topic 805 has 1 words\n",
      "Topic 806 has 6 words\n",
      "Topic 807 has 1 words\n",
      "Topic 808 has 1 words\n",
      "Topic 809 has 2 words\n",
      "Topic 810 has 2 words\n",
      "Topic 811 has 1 words\n",
      "Topic 812 has 11 words\n",
      "Topic 813 has 2 words\n",
      "Topic 814 has 1 words\n",
      "Topic 815 has 1 words\n",
      "Topic 816 has 8 words\n",
      "Topic 817 has 1 words\n",
      "Topic 818 has 5 words\n",
      "Topic 819 has 1 words\n",
      "Topic 820 has 1 words\n",
      "Topic 821 has 1 words\n",
      "Topic 822 has 1 words\n",
      "Topic 823 has 1 words\n",
      "Topic 824 has 1 words\n",
      "Topic 825 has 1 words\n",
      "Topic 826 has 28 words\n",
      "Topic 827 has 1 words\n",
      "Topic 828 has 1 words\n",
      "Topic 829 has 1 words\n",
      "Topic 830 has 1 words\n",
      "Topic 831 has 6 words\n",
      "Topic 832 has 10 words\n",
      "Topic 833 has 2 words\n",
      "Topic 834 has 3 words\n",
      "Topic 835 has 1 words\n",
      "Topic 836 has 5 words\n",
      "Topic 837 has 2 words\n",
      "Topic 838 has 1 words\n",
      "Topic 839 has 4 words\n",
      "Topic 840 has 1 words\n",
      "Topic 841 has 1 words\n",
      "Topic 842 has 1 words\n",
      "Topic 843 has 1 words\n",
      "Topic 844 has 1 words\n",
      "Topic 845 has 1 words\n",
      "Topic 846 has 1 words\n",
      "Topic 847 has 1 words\n",
      "Topic 848 has 1 words\n",
      "Topic 849 has 2 words\n",
      "Topic 850 has 1 words\n",
      "Topic 851 has 1 words\n",
      "Topic 852 has 1 words\n",
      "Topic 853 has 1 words\n",
      "Topic 854 has 1 words\n",
      "Topic 855 has 3 words\n",
      "Topic 856 has 1 words\n",
      "Topic 857 has 3 words\n",
      "Topic 858 has 4 words\n",
      "Topic 859 has 1 words\n",
      "Topic 860 has 1 words\n",
      "Topic 861 has 2835 words\n",
      "Topic 862 has 1 words\n",
      "Topic 863 has 1 words\n",
      "Topic 864 has 11 words\n",
      "Topic 865 has 1 words\n",
      "Topic 866 has 6 words\n",
      "Topic 867 has 2 words\n",
      "Topic 868 has 1 words\n",
      "Topic 869 has 1 words\n",
      "Topic 870 has 1 words\n",
      "Topic 871 has 1 words\n",
      "Topic 872 has 1 words\n",
      "Topic 873 has 1 words\n",
      "Topic 874 has 1 words\n",
      "Topic 875 has 1 words\n",
      "Topic 876 has 1 words\n",
      "Topic 877 has 1 words\n",
      "Topic 878 has 2 words\n",
      "Topic 879 has 1 words\n",
      "Topic 880 has 1 words\n",
      "Topic 881 has 1 words\n",
      "Topic 882 has 1 words\n",
      "Topic 883 has 1 words\n",
      "Topic 884 has 1 words\n",
      "Topic 885 has 2 words\n",
      "Topic 886 has 16 words\n",
      "Topic 887 has 1 words\n",
      "Topic 888 has 1 words\n",
      "Topic 889 has 3 words\n",
      "Topic 890 has 1 words\n",
      "Topic 891 has 1 words\n",
      "Topic 892 has 2 words\n",
      "Topic 893 has 1 words\n",
      "Topic 894 has 1 words\n",
      "Topic 895 has 1 words\n",
      "Topic 896 has 1 words\n",
      "Topic 897 has 1 words\n",
      "Topic 898 has 1 words\n",
      "Topic 899 has 4 words\n",
      "Topic 900 has 2 words\n",
      "Topic 901 has 8 words\n",
      "Topic 902 has 1 words\n",
      "Topic 903 has 1 words\n",
      "Topic 904 has 2 words\n",
      "Topic 905 has 1 words\n",
      "Topic 906 has 1 words\n",
      "Topic 907 has 12 words\n",
      "Topic 908 has 12 words\n",
      "Topic 909 has 1 words\n",
      "Topic 910 has 9 words\n",
      "Topic 911 has 2 words\n",
      "Topic 912 has 2 words\n",
      "Topic 913 has 2 words\n",
      "Topic 914 has 2 words\n",
      "Topic 915 has 2 words\n",
      "Topic 916 has 1 words\n",
      "Topic 917 has 1 words\n",
      "Topic 918 has 2 words\n",
      "Topic 919 has 1 words\n",
      "Topic 920 has 15 words\n",
      "Topic 921 has 1 words\n",
      "Topic 922 has 2 words\n",
      "Topic 923 has 1 words\n",
      "Topic 924 has 1 words\n",
      "Topic 925 has 2 words\n",
      "Topic 926 has 5 words\n",
      "Topic 927 has 1 words\n",
      "Topic 928 has 1 words\n",
      "Topic 929 has 1 words\n",
      "Topic 930 has 1 words\n",
      "Topic 931 has 1 words\n",
      "Topic 932 has 2 words\n",
      "Topic 933 has 1 words\n",
      "Topic 934 has 3 words\n",
      "Topic 935 has 1 words\n",
      "Topic 936 has 1 words\n",
      "Topic 937 has 1 words\n",
      "Topic 938 has 75 words\n",
      "Topic 939 has 3 words\n",
      "Topic 940 has 1 words\n",
      "Topic 941 has 1 words\n",
      "Topic 942 has 9 words\n",
      "Topic 943 has 3 words\n",
      "Topic 944 has 1 words\n",
      "Topic 945 has 8 words\n",
      "Topic 946 has 2 words\n",
      "Topic 947 has 3 words\n",
      "Topic 948 has 6 words\n",
      "Topic 949 has 1 words\n",
      "Topic 950 has 6 words\n",
      "Topic 951 has 1 words\n",
      "Topic 952 has 2 words\n",
      "Topic 953 has 1 words\n",
      "Topic 954 has 1 words\n",
      "Topic 955 has 1 words\n",
      "Topic 956 has 1 words\n",
      "Topic 957 has 2 words\n",
      "Topic 958 has 8 words\n",
      "Topic 959 has 1 words\n",
      "Topic 960 has 1 words\n",
      "Topic 961 has 4 words\n",
      "Topic 962 has 1 words\n",
      "Topic 963 has 1 words\n",
      "Topic 964 has 2 words\n",
      "Topic 965 has 1 words\n",
      "Topic 966 has 1 words\n",
      "Topic 967 has 1 words\n",
      "Topic 968 has 1 words\n",
      "Topic 969 has 1 words\n",
      "Topic 970 has 1 words\n",
      "Topic 971 has 1 words\n",
      "Topic 972 has 1 words\n",
      "Topic 973 has 2 words\n",
      "Topic 974 has 4 words\n",
      "Topic 975 has 8 words\n",
      "Topic 976 has 1 words\n",
      "Topic 977 has 4 words\n",
      "Topic 978 has 1 words\n",
      "Topic 979 has 3 words\n",
      "Topic 980 has 3 words\n",
      "Topic 981 has 1 words\n",
      "Topic 982 has 1 words\n",
      "Topic 983 has 1 words\n",
      "Topic 984 has 2 words\n",
      "Topic 985 has 1 words\n",
      "Topic 986 has 1 words\n",
      "Topic 987 has 1 words\n",
      "Topic 988 has 2 words\n",
      "Topic 989 has 2 words\n",
      "Topic 990 has 2 words\n",
      "Topic 991 has 1 words\n",
      "Topic 992 has 1 words\n",
      "Topic 993 has 3 words\n",
      "Topic 994 has 1 words\n",
      "Topic 995 has 2 words\n",
      "Topic 996 has 1 words\n",
      "Topic 997 has 1 words\n",
      "Topic 998 has 1 words\n",
      "Topic 999 has 2 words\n"
     ]
    }
   ],
   "source": [
    "for i in range(1000):\n",
    "    print(f\"Topic {i} has {len(labels[i])} words\")"
   ]
  },
  {
   "cell_type": "code",
   "execution_count": 23,
   "metadata": {},
   "outputs": [],
   "source": [
    "long_topics = []\n",
    "short_topics = []\n",
    "medium_topics = []\n",
    "\n",
    "for i in range(1000):\n",
    "    topic_len = len(labels[i])\n",
    "    if topic_len >= 100:\n",
    "        long_topics.append(i)\n",
    "    elif topic_len <= 5:\n",
    "        short_topics.append(i)\n",
    "    else:\n",
    "        medium_topics.append(i)"
   ]
  },
  {
   "cell_type": "code",
   "execution_count": 25,
   "metadata": {},
   "outputs": [
    {
     "name": "stdout",
     "output_type": "stream",
     "text": [
      "5 topics have 100 words or more\n",
      "927 topics have 5 words or less\n",
      "68 topic lengths are between 5 and 100 (not included)\n"
     ]
    }
   ],
   "source": [
    "print(f\"{len(long_topics)} topics have 100 words or more\")\n",
    "print(f\"{len(short_topics)} topics have 5 words or less\")\n",
    "print(f\"{len(medium_topics)} topic lengths are between 5 and 100 (not included)\")"
   ]
  },
  {
   "cell_type": "code",
   "execution_count": 26,
   "metadata": {},
   "outputs": [
    {
     "name": "stdout",
     "output_type": "stream",
     "text": [
      "Topic number 56 has 245 nouns\n",
      "Topic number 610 has 105 nouns\n",
      "Topic number 767 has 172 nouns\n",
      "Topic number 787 has 129 nouns\n",
      "Topic number 861 has 2835 nouns\n"
     ]
    }
   ],
   "source": [
    "for i in long_topics:\n",
    "    print(f\"Topic number {i} has {len(labels[i])} nouns\")"
   ]
  },
  {
   "cell_type": "code",
   "execution_count": 109,
   "metadata": {},
   "outputs": [],
   "source": [
    "topic_lens = [len(nouns) for label, nouns in labels.items()]"
   ]
  },
  {
   "cell_type": "code",
   "execution_count": 123,
   "metadata": {},
   "outputs": [],
   "source": [
    "topic_lens_ids = [(str(label), len(nouns)) for label, nouns in labels.items()]"
   ]
  },
  {
   "cell_type": "code",
   "execution_count": 124,
   "metadata": {},
   "outputs": [],
   "source": [
    "sorted_lens = sorted(topic_lens_ids, key=lambda x: x[1], reverse=True)"
   ]
  },
  {
   "cell_type": "code",
   "execution_count": 152,
   "metadata": {},
   "outputs": [],
   "source": [
    "chart_data = sorted_lens[:10]"
   ]
  },
  {
   "cell_type": "code",
   "execution_count": 153,
   "metadata": {},
   "outputs": [],
   "source": [
    "other = 0\n",
    "\n",
    "for label, count in sorted_lens[10:]:\n",
    "    other += count"
   ]
  },
  {
   "cell_type": "code",
   "execution_count": 154,
   "metadata": {},
   "outputs": [],
   "source": [
    "chart_data.extend([('muu', other)])"
   ]
  },
  {
   "cell_type": "markdown",
   "metadata": {},
   "source": [
    "#### plot"
   ]
  },
  {
   "cell_type": "code",
   "execution_count": 155,
   "metadata": {},
   "outputs": [],
   "source": [
    "import matplotlib.pyplot as plt"
   ]
  },
  {
   "cell_type": "code",
   "execution_count": 194,
   "metadata": {
    "scrolled": true
   },
   "outputs": [
    {
     "data": {
      "image/png": "[encoded data removed]",
      "text/plain": [
       "<Figure size 1800x1800 with 1 Axes>"
      ]
     },
     "metadata": {},
     "output_type": "display_data"
    }
   ],
   "source": [
    "plt.figure(figsize=(15, 15))\n",
    "plt.pie([count for label, count in chart_data], labels=[label for label, count in chart_data], pctdistance=0.6, autopct='%1.2f%%', colors=['royalblue', 'slateblue', 'darkviolet', 'orchid', 'pink', 'palevioletred', 'indianred', 'coral', 'orange', 'moccasin', 'mediumturquoise'])\n",
    "# plt.savefig(\"jaccard_clust_esimene_piechart.png\")\n",
    "plt.show()"
   ]
  },
  {
   "cell_type": "code",
   "execution_count": 316,
   "metadata": {},
   "outputs": [
    {
     "data": {
      "image/png": "[encoded data removed]",
      "text/plain": [
       "<Figure size 1008x504 with 1 Axes>"
      ]
     },
     "metadata": {
      "needs_background": "light"
     },
     "output_type": "display_data"
    }
   ],
   "source": [
    "plt.figure(figsize=(14, 7))\n",
    "plt.bar([label for label, count in chart_data], height=[count for label, count in chart_data])\n",
    "plt.xlabel(\"Klastri number\")\n",
    "plt.ylabel(\"Klastri suurus\")\n",
    "# plt.savefig(\"jaccard_clust_esimene_barchart.png\")\n",
    "plt.show()"
   ]
  },
  {
   "cell_type": "markdown",
   "metadata": {},
   "source": [
    "### Exploring results"
   ]
  },
  {
   "cell_type": "markdown",
   "metadata": {},
   "source": [
    "#### Results from previous Jaccard clustering"
   ]
  },
  {
   "cell_type": "code",
   "execution_count": 35,
   "metadata": {},
   "outputs": [
    {
     "name": "stdout",
     "output_type": "stream",
     "text": [
      "9 ['automaatkast', 'automaatkäigukast', 'käsikast']\n"
     ]
    }
   ],
   "source": [
    "for i in range(1000):\n",
    "    if 'automaatkast' in labels[i]:\n",
    "        print(i, labels[i])\n",
    "        break"
   ]
  },
  {
   "cell_type": "code",
   "execution_count": 331,
   "metadata": {},
   "outputs": [
    {
     "name": "stdout",
     "output_type": "stream",
     "text": [
      "402 ['inimene', 'mees', 'naine']\n"
     ]
    }
   ],
   "source": [
    "for i in range(1000):\n",
    "    if 'mees' in labels[i]:\n",
    "        print(i, labels[i])\n",
    "        break"
   ]
  },
  {
   "cell_type": "code",
   "execution_count": 339,
   "metadata": {},
   "outputs": [],
   "source": [
    "cursor.execute(\"SELECT * FROM final_pairs WHERE noun = 'inimene'\")\n",
    "inimene_top_10 = cursor.fetchall()[:10]"
   ]
  },
  {
   "cell_type": "code",
   "execution_count": 340,
   "metadata": {},
   "outputs": [],
   "source": [
    "cursor.execute(\"SELECT * FROM final_pairs WHERE noun = 'mees'\")\n",
    "mees_top_10 = cursor.fetchall()[:10]"
   ]
  },
  {
   "cell_type": "code",
   "execution_count": 341,
   "metadata": {},
   "outputs": [],
   "source": [
    "cursor.execute(\"SELECT * FROM final_pairs WHERE noun = 'naine'\")\n",
    "naine_top_10 = cursor.fetchall()[:10]"
   ]
  },
  {
   "cell_type": "code",
   "execution_count": 342,
   "metadata": {},
   "outputs": [],
   "source": [
    "import networkx as nx"
   ]
  },
  {
   "cell_type": "code",
   "execution_count": 343,
   "metadata": {},
   "outputs": [],
   "source": [
    "graph = nx.Graph()"
   ]
  },
  {
   "cell_type": "code",
   "execution_count": 345,
   "metadata": {},
   "outputs": [
    {
     "data": {
      "text/plain": [
       "('noor', 'inimene', 4900)"
      ]
     },
     "execution_count": 345,
     "metadata": {},
     "output_type": "execute_result"
    }
   ],
   "source": [
    "inimene_top_10[0]"
   ]
  },
  {
   "cell_type": "code",
   "execution_count": 346,
   "metadata": {},
   "outputs": [],
   "source": [
    "adjs = list(set([paar[0] for paar in inimene_top_10] + [paar[0] for paar in mees_top_10] + [paar[0] for paar in naine_top_10]))"
   ]
  },
  {
   "cell_type": "code",
   "execution_count": 347,
   "metadata": {},
   "outputs": [],
   "source": [
    "graph.add_nodes_from(['inimene', 'mees', 'naine'], pos='noun')\n",
    "graph.add_nodes_from(adjs, pos='adjective')"
   ]
  },
  {
   "cell_type": "code",
   "execution_count": 348,
   "metadata": {},
   "outputs": [],
   "source": [
    "pairs = list(set([(paar[0], paar[1]) for paar in inimene_top_10] + [(paar[0], paar[1]) for paar in mees_top_10] + [(paar[0], paar[1]) for paar in naine_top_10]))"
   ]
  },
  {
   "cell_type": "code",
   "execution_count": 349,
   "metadata": {},
   "outputs": [
    {
     "data": {
      "text/plain": [
       "[('olnud', 'inimene'), ('seotud', 'inimene'), ('vana', 'naine')]"
      ]
     },
     "execution_count": 349,
     "metadata": {},
     "output_type": "execute_result"
    }
   ],
   "source": [
    "pairs[:3]"
   ]
  },
  {
   "cell_type": "code",
   "execution_count": 350,
   "metadata": {},
   "outputs": [],
   "source": [
    "graph.add_edges_from(pairs)"
   ]
  },
  {
   "cell_type": "code",
   "execution_count": 360,
   "metadata": {},
   "outputs": [
    {
     "data": {
      "image/png": "[encoded data removed]",
      "text/plain": [
       "<Figure size 720x720 with 1 Axes>"
      ]
     },
     "metadata": {},
     "output_type": "display_data"
    }
   ],
   "source": [
    "plt.figure(figsize=(10, 10))\n",
    "nx.draw(graph, node_color=['lightskyblue' if graph.nodes[node]['pos'] == 'noun' else 'lightcoral' for node in graph.nodes()], with_labels = True, font_size=15)\n",
    "# plt.savefig(\"inimene_mees_naine.png\")\n",
    "plt.show()"
   ]
  },
  {
   "cell_type": "markdown",
   "metadata": {},
   "source": [
    "---"
   ]
  },
  {
   "cell_type": "code",
   "execution_count": 223,
   "metadata": {},
   "outputs": [
    {
     "name": "stdout",
     "output_type": "stream",
     "text": [
      "['aastaaruanne', 'erimeede', 'eritingimus', 'teabevahetus']\n",
      "['automaatkast', 'automaatkäigukast', 'käsikast']\n",
      "['finaalmäng', 'torge', 'veerandaeg']\n",
      "['infovahetus', 'lennuliiklus', 'seire']\n",
      "['headus', 'maksimum', 'paremik']\n",
      "['dressipüksid', 'samet', 'teksased']\n",
      "['asuala', 'atleet', 'eestlanna', 'kergejõustiklane', 'põllumees', 'riigimaa', 'riigimets', 'tallinlane', 'tartlane', 'venelanna']\n",
      "['dekoltee', 'elutuba', 'istekoht', 'jalats', 'salong', 'silmaring', 'tugitool', 'tööpõld', 'äraolemine', 'õu', 'ühistransport']\n",
      "['mõrtsukas', 'mõrvar', 'tapja']\n",
      "['arvestamine', 'hävimine', 'kompenseerimine', 'lammutamine', 'praak', 'rahuldamine', 'töövõimetus', 'tühistamine', 'ülalpidamine']\n",
      "['kalamari', 'pael', 'parukas', 'rant', 'rätt', 'sõstar', 'uba']\n",
      "['keskkonnateenistus', 'omavalitsusliit', 'päästeteenistus']\n",
      "['ajaperiood', 'arupidamine', 'rihm', 'säilivusaeg', 'teatejooks', 'tutvustus', 'tähelend', 'varrukas']\n",
      "['diktsioon', 'erinõue', 'piirjoon', 'pitser', 'suunis', 'tagamõte', 'väljendus']\n",
      "['elektriturg', 'energiaturg', 'kaubandussüsteem', 'valimisnimekiri']\n",
      "['aretusväärtus', 'inimareng', 'laenuintress', 'omahind', 'rendihind', 'rentaablus', 'saagikus', 'veetase']\n",
      "['administraator', 'füüsis', 'intuitsioon', 'kaitsemäng', 'närvikava', 'palling']\n",
      "['elatusallikas', 'jututeema', 'vaidlusküsimus', 'vastuargument']\n",
      "['inimene', 'mees', 'naine']\n",
      "['kaastöötaja', 'kaasvõitleja', 'võitluskaaslane']\n",
      "['kärbseseen', 'plank', 'puru', 'spargel']\n",
      "['kehavigastus', 'põletushaav', 'põlvevigastus']\n",
      "['põhiseaduskomisjon', 'rahanduskomisjon', 'õiguskomisjon']\n",
      "['diplomaatia', 'eelvoor', 'kriminaalpolitsei', 'liinivedu', 'olümpiakomitee', 'rahaturg', 'relvajõud']\n",
      "['arvustus', 'dünaamika', 'ellusuhtumine', 'enesehinnang', 'iseloomustus', 'lõpptulemus', 'näit', 'tonaalsus']\n",
      "['juu', 'sis', 'tegelt']\n",
      "['eriolukord', 'julgeolekuteenistus', 'valimiskomisjon']\n",
      "['kuurort', 'kuurortlinn', 'tühermaa']\n",
      "['kontrollmäng', 'sõprusmäng', 'treeninglaager']\n",
      "['elluviimine', 'realiseerimine', 'teostamine']\n",
      "['agressioon', 'doktriin', 'juhtorgan', 'kaitsmine', 'kohalolek', 'luure', 'lüüasaamine', 'nõuandja', 'planeerimine', 'riigikaitse', 'sissetung', 'staap', 'tugipunkt']\n",
      "['bestseller', 'jutustus', 'koomiks', 'novell', 'telesari']\n",
      "['eluala', 'huvirühm', 'maailmajagu', 'murre', 'poolus', 'raskusaste', 'sugu', 'vanuseklass', 'vanuserühm']\n",
      "['hõng', 'kohanimi', 'kujunemine', 'omapära', 'pärimus', 'raudteejaam', 'taak', 'tagasivaade', 'õiend']\n",
      "['kuritarvitamine', 'kuritarvitus', 'võltsimine']\n",
      "['laohoone', 'sõjaväeosa', 'tööstushoone']\n",
      "['põll', 'rääkimine', 'südametunnistus']\n",
      "['aastapreemia', 'algkapital', 'allfond', 'kuusissetulek', 'muusikakool', 'proge', 'ringrada', 'sihtkapital']\n",
      "['arenemine', 'vaheldumine', 'vahetumine']\n",
      "['eksponaat', 'elulugu', 'esilinastus', 'esitlus', 'fenomen', 'harrastus', 'kokkulangevus', 'kysimus', 'maitseelamus', 'mõttevahetus', 'paralleel', 'seaduspärasus', 'tõik']\n",
      "['hingetõmme', 'lihv', 'ohe', 'sent', 'tilk', 'võttepäev', 'õhtusöömaaeg']\n",
      "['hoolekanne', 'konfessioon', 'usutunnistus']\n",
      "['kuri', 'pooldaja', 'poolehoidja', 'ratsu', 'sõnasõda', 'temperament', 'väitlus']\n",
      "['akustika', 'essee', 'huumorimeel', 'illustratsioon', 'juhitavus', 'meeskonnatöö', 'müügimees', 'vaist', 'visketabavus']\n",
      "['eeltingimus', 'ellujäämine', 'ohustaja', 'tegevuskoht', 'voorus']\n",
      "['kohanemine', 'kõnd', 'laskumine', 'pealelöök', 'retk', 'sünnitus', 'üleminekuaeg']\n",
      "['kisa', 'kolin', 'lärm', 'mürin', 'vile']\n",
      "['atribuutika', 'kompetents', 'lisaseade', 'märgis', 'oskusteave', 'port', 'rakendusakt']\n",
      "['alluvus', 'ellujäänu', 'kokkupuu', 'kokkupuude', 'pääsetee']\n",
      "['koonderakond', 'meelsus', 'mentaliteet']\n",
      "['tõlkija', 'vabadusvõitleja', 'veteran']\n",
      "['eksportija', 'kasvandus', 'laboratoorium', 'tootmispiirkond']\n",
      "['geenius', 'koll', 'tundmine', 'võlur', 'ämm']\n",
      "['parlamendiliige', 'parlamendisaadik', 'regionaalminister', 'riigikogulane']\n",
      "['klientuur', 'kuulajaskond', 'lugejaskond', 'ostjaskond', 'ostusoov', 'tarbijaskond']\n",
      "['karbike', 'linnake', 'majake', 'mõttepaus', 'pits', 'prominent', 'putka', 'päkapikk', 'põnn']\n",
      "['miinimum', 'miinimumnõue', 'tolliformaalsus']\n",
      "['apelsin', 'aroom', 'pipar', 'pirukas', 'puuvili', 'söömine']\n",
      "['ebatäpsus', 'küsitavus', 'topeltmaksustamine']\n",
      "['idioot', 'majandussuhted', 'tööiga']\n",
      "['abielumees', 'abielupaar', 'ilmakodanik', 'korteriomanik', 'laureaat', 'miljonär', 'miss', 'tšempion']\n",
      "['elatusraha', 'elulaad', 'koalitsioonilepe', 'kodukord', 'kodukorraseadus', 'kriminaalkoodeks', 'kultuuriruum', 'liikluseeskiri', 'ringhäälinguseadus', 'valimisseadus', 'valimissüsteem', 'väärtushinnang', 'õigusruum', 'õigussüsteem']\n",
      "['advokaadibüroo', 'lapsehoidja', 'turvafirma', 'turvamees']\n",
      "['puue', 'treenitus', 'töövõime', 'vaevus', 'vastupidavus', 'väsimus', 'võimekus', 'üleolek']\n",
      "['edasipääs', 'esik', 'kants', 'kõrvaltänav', 'liist', 'nišš', 'pilu', 'seljatagune', 'sõpruskond', 'taks', 'väin', 'õlg']\n",
      "['aastapäev', 'algaja', 'häbi', 'kera', 'loll', 'maakera', 'null', 'nälg', 'pull', 'tõsi']\n",
      "['kütteõli', 'peapõrutus', 'puudutus', 'põrutus', 'vastutuul']\n",
      "['neid', 'neiu', 'nooruk', 'tütarlaps']\n",
      "['hein', 'jogurt', 'lapp', 'siider', 'teekate']\n",
      "['kuupalk', 'rahatrahv', 'trahv']\n",
      "['esivanem', 'suguvõsa', 'vanaema', 'vanaisa']\n",
      "['kindlustunne', 'turvatunne', 'ühtekuuluvus']\n",
      "['MM-võistlus', 'juunior', 'maailmameistrivõistlus']\n",
      "['karmus', 'lett', 'ootamatus', 'paak', 'prügikott', 'pühendumine', 'pühendumus', 'töökord', 'vastutustunne', 'ämber']\n",
      "['heameel', 'imestus', 'kaastunne', 'kahetsus', 'lugupidamine', 'tänu', 'uhkus']\n",
      "['bensiinimootor', 'jõuallikas', 'turbodiisel']\n",
      "['helkur', 'hommikusöök', 'hooldamine', 'meik', 'näitlejatöö', 'pereema', 'suusarada', 'tald', 'telepilt']\n",
      "['lagunemine', 'leke', 'saastumine']\n",
      "['ametivõim', 'eestlaskond', 'eluolu', 'meistriliiga', 'piirivalve']\n",
      "['eine', 'lõunasöök', 'õhtusöök']\n",
      "['EM-finaalturniir', 'EM-valikturniir', 'EM-võistlus', 'MM-etapp', 'aruandeaasta', 'finaalturniir', 'maleolümpia', 'play-off', 'rahvaloendus']\n",
      "['ahel', 'järg', 'järjestus', 'mõttekäik', 'oletus', 'tulem']\n",
      "['mull', 'tarve', 'voli', 'võtmine', 'zhanr', 'žanr']\n",
      "['haritlane', 'kirikuõpetaja', 'mitte-eestlane', 'moslem', 'muulane', 'pankur', 'pastor', 'talunik', 'talupidaja', 'vaimulik', 'äss']\n",
      "['bussisõit', 'kalurikolhoos', 'klassivend', 'klassiõde', 'koolikaaslane', 'koolivend', 'küüditaja', 'teenindusmaja']\n",
      "['lendur', 'poksija', 'rallisõitja', 'ujuja', 'vehkleja']\n",
      "['hoidmine', 'majandusareng', 'majanduskeskkond', 'toetajaskond', 'tulubaas', 'valitsemine']\n",
      "['börsipäev', 'harjutuskord', 'koalitsiooninõukogu', 'kroonika', 'lehenumber', 'leinapäev', 'puhkepäev', 'sõnumileht', 'võistluspäev', 'õhtuleht']\n",
      "['miilits', 'tshetsheen', 'tšetšeen']\n",
      "['integreerimine', 'integreerumine', 'kadumine', 'kehtestamine', 'ühtlustamine']\n",
      "['entusiast', 'indiviid', 'kehaosa', 'vanur']\n",
      "['ilmavaade', 'opositsioonipartei', 'veer']\n",
      "['hiis', 'rituaal', 'söömaaeg']\n",
      "['hiilgus', 'interrinne', 'kompartei', 'ülemnõukogu']\n",
      "['bass', 'kummardus', 'kurbus', 'kuristik', 'nördimus', 'rikastumine', 'saladuskate', 'solvumine', 'umbusk', 'vagu', 'vastumeelsus']\n",
      "['klahv', 'lesk', 'sinep', 'triiksärk', 'täkk', 'vares']\n",
      "['käigukast', 'soojussõlm', 'uuendamine']\n",
      "['kuulamine', 'liikleja', 'linlane', 'linnakodanik']\n",
      "['hüvitamine', 'kaotamine', 'peatamine', 'sulgemine', 'taastamine', 'tasumine', 'väljaandmine', 'üleandmine']\n",
      "['austerlane', 'hispaanlane', 'ida', 'jaapanlane', 'kiirabi', 'miski', 'pealtvaataja', 'poolakas', 'põder', 'tšehh', 'väliseestlane', 'võõras']\n",
      "['aprill', 'eeluurimine', 'eesots', 'eluaeg', 'elutöö', 'inimkond', 'juhtunu', 'kaitseministeerium', 'maikuu', 'org', 'riigivara', 'sularaha']\n",
      "['august', 'detsember', 'jaanuar', 'juuli', 'juuni', 'märts', 'november', 'september', 'veebruar']\n",
      "['elamistingimus', 'elutingimus', 'kuulmine', 'äraelamine', 'õppeedukus']\n",
      "['blondiin', 'eit', 'lits']\n",
      "['alltekst', 'tagapõhi', 'üldistus']\n",
      "['elumaja', 'eramaja', 'kivimaja', 'korterelamu', 'kortermaja', 'maksustamine', 'puit', 'puitmaja', 'puumaja']\n",
      "['nelikvedu', 'pulss', 'taibu']\n",
      "['halvenemine', 'kallinemine', 'paranemine', 'suurendamine', 'suurenemine', 'tõstmine', 'vähendamine', 'vähenemine']\n",
      "['koha', 'koht', 'paik']\n",
      "['ebaõnn', 'ettevaatlikkus', 'ettevaatus', 'põhjalikkus', 'tõsidus', 'viletsus']\n",
      "['eelarveprojekt', 'eufooria', 'kalkulatsioon', 'kavand', 'kulukohustus', 'sisemajandus']\n",
      "['ajaloolane', 'autovaras', 'fotograaf', 'luuraja', 'maakler', 'maletaja', 'pillimees', 'psühholoog']\n",
      "['EM-valikmäng', 'esietendus', 'kodumäng', 'võidumäng']\n",
      "['andmed', 'info', 'informatsioon', 'teave']\n",
      "['aednik', 'hiinlane', 'hoor', 'kaardivägi', 'kukk', 'lõvi', 'sepp', 'õunapuu']\n",
      "['laps', 'noormees', 'poiss', 'tüdruk']\n",
      "['hõlst', 'trikoo', 'ürp']\n",
      "['kokkuvarisemine', 'seisak', 'ümberkorraldamine']\n",
      "['aplaus', 'ovatsioon', 'teatrifestival']\n"
     ]
    }
   ],
   "source": [
    "for i in range(1000):\n",
    "    if len(labels[i]) < 15 and len(labels[i]) >= 3:\n",
    "        print(labels[i])"
   ]
  },
  {
   "cell_type": "markdown",
   "metadata": {},
   "source": [
    "#### Months"
   ]
  },
  {
   "cell_type": "code",
   "execution_count": 36,
   "metadata": {},
   "outputs": [],
   "source": [
    "## mai pole enam andmestikus\n",
    "kuud = ['jaanuar', 'veebruar', 'märts', 'aprill', 'mai', 'juuni', 'juuli', 'august', 'september', 'oktoober', 'november', 'detsember']\n",
    "idx = []\n",
    "\n",
    "for kuu in kuud:\n",
    "    for i in range(1000):\n",
    "        if kuu in labels[i]:\n",
    "            idx.append(i)\n",
    "            continue"
   ]
  },
  {
   "cell_type": "code",
   "execution_count": 37,
   "metadata": {},
   "outputs": [
    {
     "data": {
      "text/plain": [
       "[910, 910, 910, 908, 910, 910, 910, 910, 861, 910, 910]"
      ]
     },
     "execution_count": 37,
     "metadata": {},
     "output_type": "execute_result"
    }
   ],
   "source": [
    "idx"
   ]
  },
  {
   "cell_type": "code",
   "execution_count": 40,
   "metadata": {},
   "outputs": [
    {
     "data": {
      "text/plain": [
       "2835"
      ]
     },
     "execution_count": 40,
     "metadata": {},
     "output_type": "execute_result"
    }
   ],
   "source": [
    "len(labels[861])"
   ]
  },
  {
   "cell_type": "code",
   "execution_count": 224,
   "metadata": {},
   "outputs": [
    {
     "data": {
      "text/plain": [
       "True"
      ]
     },
     "execution_count": 224,
     "metadata": {},
     "output_type": "execute_result"
    }
   ],
   "source": [
    "'oktoober' in labels[861]"
   ]
  },
  {
   "cell_type": "code",
   "execution_count": 42,
   "metadata": {},
   "outputs": [
    {
     "name": "stdout",
     "output_type": "stream",
     "text": [
      "['august', 'detsember', 'jaanuar', 'juuli', 'juuni', 'märts', 'november', 'september', 'veebruar']\n"
     ]
    }
   ],
   "source": [
    "print(labels[910])"
   ]
  },
  {
   "cell_type": "code",
   "execution_count": 43,
   "metadata": {},
   "outputs": [
    {
     "name": "stdout",
     "output_type": "stream",
     "text": [
      "['aprill', 'eeluurimine', 'eesots', 'eluaeg', 'elutöö', 'inimkond', 'juhtunu', 'kaitseministeerium', 'maikuu', 'org', 'riigivara', 'sularaha']\n"
     ]
    }
   ],
   "source": [
    "print(labels[908])"
   ]
  },
  {
   "cell_type": "markdown",
   "metadata": {},
   "source": [
    "#### Days"
   ]
  },
  {
   "cell_type": "code",
   "execution_count": 44,
   "metadata": {},
   "outputs": [],
   "source": [
    "days = ['esmaspäev', 'teisipäev', 'kolmapäev', 'neljapäev', 'reede', 'laupäev', 'pühapäev']\n",
    "idx2 = []\n",
    "\n",
    "for day in days:\n",
    "    for i in range(1000):\n",
    "        if day in labels[i]:\n",
    "            idx2.append(i)\n",
    "            continue"
   ]
  },
  {
   "cell_type": "code",
   "execution_count": 45,
   "metadata": {},
   "outputs": [
    {
     "data": {
      "text/plain": [
       "[861, 861, 861, 861, 861, 861, 861]"
      ]
     },
     "execution_count": 45,
     "metadata": {},
     "output_type": "execute_result"
    }
   ],
   "source": [
    "idx2"
   ]
  },
  {
   "cell_type": "code",
   "execution_count": 46,
   "metadata": {},
   "outputs": [
    {
     "data": {
      "text/plain": [
       "2835"
      ]
     },
     "execution_count": 46,
     "metadata": {},
     "output_type": "execute_result"
    }
   ],
   "source": [
    "len(labels[861])"
   ]
  },
  {
   "cell_type": "markdown",
   "metadata": {},
   "source": [
    "#### Aastaajad"
   ]
  },
  {
   "cell_type": "code",
   "execution_count": 227,
   "metadata": {},
   "outputs": [],
   "source": [
    "aastaajad = ['talv', 'sügis', 'kevad', 'suvi']\n",
    "idx7 = []\n",
    "\n",
    "for day in aastaajad:\n",
    "    for i in range(1000):\n",
    "        if day in labels[i]:\n",
    "            idx7.append(i)\n",
    "            continue"
   ]
  },
  {
   "cell_type": "code",
   "execution_count": 228,
   "metadata": {},
   "outputs": [
    {
     "data": {
      "text/plain": [
       "[861, 861, 861, 861]"
      ]
     },
     "execution_count": 228,
     "metadata": {},
     "output_type": "execute_result"
    }
   ],
   "source": [
    "idx7"
   ]
  },
  {
   "cell_type": "markdown",
   "metadata": {},
   "source": [
    "#### Artistic professions"
   ]
  },
  {
   "cell_type": "code",
   "execution_count": 225,
   "metadata": {},
   "outputs": [
    {
     "name": "stdout",
     "output_type": "stream",
     "text": [
      "laulja\n",
      "näitleja\n",
      "kunstnik\n",
      "tantsija\n",
      "artist\n"
     ]
    }
   ],
   "source": [
    "jobs = ['laulja', 'näitleja', 'kunstnik', 'tantsija', 'artist']\n",
    "idx3 = []\n",
    "\n",
    "for job in jobs:\n",
    "    for i in range(1000):\n",
    "        if job in labels[i]:\n",
    "            print(job)\n",
    "            idx3.append(i)\n",
    "            continue"
   ]
  },
  {
   "cell_type": "code",
   "execution_count": 48,
   "metadata": {},
   "outputs": [
    {
     "data": {
      "text/plain": [
       "[861, 861, 861, 787, 861]"
      ]
     },
     "execution_count": 48,
     "metadata": {},
     "output_type": "execute_result"
    }
   ],
   "source": [
    "idx3"
   ]
  },
  {
   "cell_type": "code",
   "execution_count": 50,
   "metadata": {},
   "outputs": [
    {
     "data": {
      "text/plain": [
       "129"
      ]
     },
     "execution_count": 50,
     "metadata": {},
     "output_type": "execute_result"
    }
   ],
   "source": [
    "len(labels[787])"
   ]
  },
  {
   "cell_type": "code",
   "execution_count": 51,
   "metadata": {},
   "outputs": [
    {
     "name": "stdout",
     "output_type": "stream",
     "text": [
      "['abiprogramm', 'alaliit', 'allilm', 'arhitekt', 'armastatu', 'aselinnapea', 'assamblee', 'assistent', 'balletitantsija', 'boss', 'debüüt', 'dekaan', 'dirigent', 'disainer', 'eestimaalane', 'eksistents', 'ekspertkomisjon', 'ettekandja', 'finantsdirektor', 'haiglahoone', 'hollandlane', 'hoolealune', 'infoagentuur', 'insener', 'internetiühendus', 'judokas', 'julgeolekunõukogu', 'juurdepääs', 'kalamees', 'kalur', 'kasutusaeg', 'kasvandik', 'kaubavedu', 'keeleseadus', 'kehaehitus', 'kergejõustik', 'kinnisvaraturg', 'kirurg', 'kodukoht', 'komandör', 'kommunism', 'kriitik', 'kultuurimaja', 'kunstielu', 'kupee', 'käibemaksuseadus', 'kättesaadavus', 'kõneteenus', 'laeng', 'laenusumma', 'leegionär', 'leivaisa', 'ligipääs', 'liikluskindlustus', 'linnaosavanem', 'maadleja', 'maailmameister', 'maareform', 'majandussanktsioon', 'majandustulemus', 'massaaž', 'matk', 'meer', 'meister', 'monarh', 'munitsipaalettevõte', 'mälestis', 'mänedžer', 'mõisahoone', 'nauding', 'näpunäide', 'nõuanne', 'olend', 'omandireform', 'ooteaeg', 'pangahoone', 'pankrotihaldur', 'parteijuht', 'parteilane', 'patenditaotlus', 'peaarst', 'pensionikindlustus', 'pensioniseadus', 'pianist', 'piirivalvur', 'politseiprefekt', 'politseiteenistus', 'preester', 'pressiesindaja', 'prorektor', 'punktisumma', 'raamatupidaja', 'rezhiim', 'režissöör', 'riigikohus', 'riigikord', 'riigiprokurör', 'riigisekretär', 'riigitegelane', 'rodster', 'suurvõistlus', 'suurüritus', 'sõjakuritegu', 'tagasitulek', 'talumees', 'tantsija', 'teadusajakiri', 'tegevuslitsents', 'tehasehoone', 'televaataja', 'tohter', 'toiduainetööstus', 'tselluloositehas', 'tuletõrje', 'tulumaksuseadus', 'tüdruksõber', 'uurimiskeskus', 'vahendus', 'vahetamine', 'vallamaja', 'vallavolikogu', 'varjund', 'vibratsioon', 'vormel', 'välikomandör', 'võitja', 'õppekeskus', 'üldsus', 'ülemkomissar']\n"
     ]
    }
   ],
   "source": [
    "print(labels[787])"
   ]
  },
  {
   "cell_type": "markdown",
   "metadata": {},
   "source": [
    "#### Sports"
   ]
  },
  {
   "cell_type": "code",
   "execution_count": 226,
   "metadata": {},
   "outputs": [
    {
     "name": "stdout",
     "output_type": "stream",
     "text": [
      "jalgpall\n",
      "korvpall\n",
      "tennis\n"
     ]
    }
   ],
   "source": [
    "spordialad = ['jalgpall', 'korvpall', 'pesapall', 'võrkpall', 'golf', 'tennis']\n",
    "idx4 = []\n",
    "\n",
    "for spordiala in spordialad:\n",
    "    for i in range(1000):\n",
    "        if spordiala in labels[i]:\n",
    "            print(spordiala)\n",
    "            idx4.append(i)\n",
    "            continue"
   ]
  },
  {
   "cell_type": "code",
   "execution_count": 53,
   "metadata": {},
   "outputs": [
    {
     "data": {
      "text/plain": [
       "[861, 861, 714]"
      ]
     },
     "execution_count": 53,
     "metadata": {},
     "output_type": "execute_result"
    }
   ],
   "source": [
    "idx4"
   ]
  },
  {
   "cell_type": "code",
   "execution_count": 229,
   "metadata": {},
   "outputs": [
    {
     "data": {
      "text/plain": [
       "29"
      ]
     },
     "execution_count": 229,
     "metadata": {},
     "output_type": "execute_result"
    }
   ],
   "source": [
    "len(labels[714])"
   ]
  },
  {
   "cell_type": "code",
   "execution_count": 55,
   "metadata": {},
   "outputs": [
    {
     "name": "stdout",
     "output_type": "stream",
     "text": [
      "['araablane', 'britt', 'jutumees', 'kaubavalik', 'keskendumine', 'kompliment', 'kujutlusvõime', 'kurd', 'leedulane', 'leibkond', 'liikuvus', 'läbimüük', 'lätlane', 'märklaud', 'pannkook', 'perekonnaliige', 'pidutsemine', 'pitsa', 'pöördemoment', 'semu', 'serblane', 'sigar', 'tennis', 'terasaak', 'tootlikkus', 'täituvus', 'vaadatavus', 'vabadussõda', 'vedamine']\n"
     ]
    }
   ],
   "source": [
    "print(labels[714])"
   ]
  },
  {
   "cell_type": "markdown",
   "metadata": {},
   "source": [
    "#### Seasons"
   ]
  },
  {
   "cell_type": "code",
   "execution_count": 62,
   "metadata": {},
   "outputs": [],
   "source": [
    "aastaajad = ['talv', 'tali', 'suvi', 'sügis', 'kevad']\n",
    "idx5 = []\n",
    "\n",
    "for aastaaeg in aastaajad:\n",
    "    for i in range(1000):\n",
    "        if aastaaeg in labels[i]:\n",
    "            idx5.append(i)\n",
    "            continue"
   ]
  },
  {
   "cell_type": "code",
   "execution_count": 63,
   "metadata": {},
   "outputs": [
    {
     "data": {
      "text/plain": [
       "[861, 861, 861, 861, 861]"
      ]
     },
     "execution_count": 63,
     "metadata": {},
     "output_type": "execute_result"
    }
   ],
   "source": [
    "idx5"
   ]
  },
  {
   "cell_type": "markdown",
   "metadata": {},
   "source": [
    "### Further clustering of large cluster"
   ]
  },
  {
   "cell_type": "code",
   "execution_count": 67,
   "metadata": {},
   "outputs": [
    {
     "name": "stdout",
     "output_type": "stream",
     "text": [
      "861\n"
     ]
    }
   ],
   "source": [
    "for i in range(1000):\n",
    "    if len(labels[i]) > 1000:\n",
    "        print(i)"
   ]
  },
  {
   "cell_type": "code",
   "execution_count": 68,
   "metadata": {},
   "outputs": [],
   "source": [
    "nouns_large_cluster = labels[861]"
   ]
  },
  {
   "cell_type": "code",
   "execution_count": 71,
   "metadata": {},
   "outputs": [],
   "source": [
    "large_cluster_df = noun_df.loc[nouns_large_cluster][nouns_large_cluster]"
   ]
  },
  {
   "cell_type": "code",
   "execution_count": 72,
   "metadata": {},
   "outputs": [
    {
     "name": "stdout",
     "output_type": "stream",
     "text": [
      "19:07:52.811156\n",
      "19:17:05.660795\n",
      "0:09:12.848735\n"
     ]
    }
   ],
   "source": [
    "print(str(timedelta(seconds=time.time()+10800)).split(\", \")[1])\n",
    "start = datetime.now()\n",
    "\n",
    "model_large_cluster = SpectralClustering(n_clusters=1000, affinity='precomputed', random_state=0)\n",
    "model_large_cluster.fit(large_cluster_df.values)\n",
    "\n",
    "print(str(timedelta(seconds=time.time()+10800)).split(\", \")[1])\n",
    "print(datetime.now()-start)"
   ]
  },
  {
   "cell_type": "code",
   "execution_count": 73,
   "metadata": {},
   "outputs": [
    {
     "data": {
      "text/plain": [
       "array([ 36, 247, 956, ..., 949, 807, 259])"
      ]
     },
     "execution_count": 73,
     "metadata": {},
     "output_type": "execute_result"
    }
   ],
   "source": [
    "model_large_cluster.labels_"
   ]
  },
  {
   "cell_type": "code",
   "execution_count": 75,
   "metadata": {},
   "outputs": [
    {
     "name": "stdout",
     "output_type": "stream",
     "text": [
      "cluster number 100, number of nouns in cluster 715\n",
      "cluster number 807, number of nouns in cluster 110\n"
     ]
    }
   ],
   "source": [
    "for key, val in labels_large_cluster.items():\n",
    "    if len(val) > 100:\n",
    "        print(f\"cluster number {key}, number of nouns in cluster {len(val)}\")"
   ]
  },
  {
   "cell_type": "code",
   "execution_count": 74,
   "metadata": {},
   "outputs": [],
   "source": [
    "labels_large_cluster = defaultdict(list)\n",
    "\n",
    "for i, label in enumerate(model_large_cluster.labels_):\n",
    "    labels_large_cluster[label].append(large_cluster_df.index[i])"
   ]
  },
  {
   "cell_type": "code",
   "execution_count": 319,
   "metadata": {},
   "outputs": [],
   "source": [
    "topic_lens_ids_new = [(str(label), len(nouns)) for label, nouns in labels_large_cluster.items()]"
   ]
  },
  {
   "cell_type": "code",
   "execution_count": 320,
   "metadata": {},
   "outputs": [],
   "source": [
    "sorted_lens_new = sorted(topic_lens_ids_new, key=lambda x: x[1], reverse=True)"
   ]
  },
  {
   "cell_type": "code",
   "execution_count": 327,
   "metadata": {},
   "outputs": [],
   "source": [
    "chart_data_new = sorted_lens_new[:5]"
   ]
  },
  {
   "cell_type": "code",
   "execution_count": 328,
   "metadata": {},
   "outputs": [],
   "source": [
    "other_new = 0\n",
    "\n",
    "for label, count in sorted_lens_new[5:]:\n",
    "    other_new += count"
   ]
  },
  {
   "cell_type": "code",
   "execution_count": 329,
   "metadata": {},
   "outputs": [],
   "source": [
    "chart_data_new.extend([('muu', other_new)])"
   ]
  },
  {
   "cell_type": "code",
   "execution_count": 330,
   "metadata": {
    "scrolled": true
   },
   "outputs": [
    {
     "data": {
      "image/png": "[encoded data removed]",
      "text/plain": [
       "<Figure size 1080x1080 with 1 Axes>"
      ]
     },
     "metadata": {},
     "output_type": "display_data"
    }
   ],
   "source": [
    "plt.figure(figsize=(15, 15))\n",
    "counts = [count for label, count in chart_data_new]\n",
    "lbls = [label for label, count in chart_data_new]\n",
    "# , autopct='%1.2f%%'\n",
    "#patches, texts = \n",
    "plt.pie(counts, labels=lbls, autopct='%1.2f%%', pctdistance=0.6,  colors=['royalblue', 'slateblue', 'darkviolet', 'orchid', 'pink', 'palevioletred', 'indianred', 'coral', 'orange', 'moccasin', 'mediumturquoise'])\n",
    "# plt.legend(patches, counts, loc=\"best\")\n",
    "# plt.savefig(\"jaccard_clust_teine_piechart.png\")\n",
    "plt.show()"
   ]
  },
  {
   "cell_type": "code",
   "execution_count": 326,
   "metadata": {
    "scrolled": true
   },
   "outputs": [
    {
     "data": {
      "image/png": "[encoded data removed]",
      "text/plain": [
       "<Figure size 1008x504 with 1 Axes>"
      ]
     },
     "metadata": {
      "needs_background": "light"
     },
     "output_type": "display_data"
    }
   ],
   "source": [
    "plt.figure(figsize=(14, 7))\n",
    "plt.bar(lbls, height=counts)\n",
    "plt.xlabel(\"Klastri number\")\n",
    "plt.ylabel(\"Klastri suurus\")\n",
    "# plt.savefig(\"jaccard_clust_teine_barchart.png\")\n",
    "plt.show()"
   ]
  },
  {
   "cell_type": "markdown",
   "metadata": {},
   "source": [
    "### Results"
   ]
  },
  {
   "cell_type": "code",
   "execution_count": 88,
   "metadata": {},
   "outputs": [
    {
     "name": "stdout",
     "output_type": "stream",
     "text": [
      "612 ['sügis', 'tali', 'talv']\n"
     ]
    }
   ],
   "source": [
    "for key, val in labels_large_cluster.items():\n",
    "    if 'talv' in val and len(val) < 100:\n",
    "        print(key, val)"
   ]
  },
  {
   "cell_type": "code",
   "execution_count": 89,
   "metadata": {},
   "outputs": [
    {
     "name": "stdout",
     "output_type": "stream",
     "text": [
      "84 ['kevad', 'suvi']\n"
     ]
    }
   ],
   "source": [
    "for key, val in labels_large_cluster.items():\n",
    "    if 'suvi' in val and len(val) < 100:\n",
    "        print(key, val)"
   ]
  },
  {
   "cell_type": "code",
   "execution_count": 103,
   "metadata": {},
   "outputs": [
    {
     "name": "stdout",
     "output_type": "stream",
     "text": [
      "244 ['kolmapäev', 'teisipäev']\n"
     ]
    }
   ],
   "source": [
    "for key, val in labels_large_cluster.items():\n",
    "    if 'teisipäev' in val and len(val) < 100:\n",
    "        print(key, val)"
   ]
  },
  {
   "cell_type": "code",
   "execution_count": 104,
   "metadata": {},
   "outputs": [
    {
     "name": "stdout",
     "output_type": "stream",
     "text": [
      "878 ['laupäev', 'neljapäev', 'pühapäev', 'reede']\n"
     ]
    }
   ],
   "source": [
    "for key, val in labels_large_cluster.items():\n",
    "    if 'neljapäev' in val and len(val) < 100:\n",
    "        print(key, val)"
   ]
  },
  {
   "cell_type": "code",
   "execution_count": 230,
   "metadata": {},
   "outputs": [
    {
     "name": "stdout",
     "output_type": "stream",
     "text": [
      "100 715\n"
     ]
    }
   ],
   "source": [
    "for key, val in labels_large_cluster.items():\n",
    "    if 'esmaspäev' in val:\n",
    "        print(key, len(val))"
   ]
  },
  {
   "cell_type": "code",
   "execution_count": 232,
   "metadata": {},
   "outputs": [],
   "source": [
    "professions = ['laulja', 'näitleja', 'kunstnik', 'tantsija', 'artist']"
   ]
  },
  {
   "cell_type": "code",
   "execution_count": 233,
   "metadata": {},
   "outputs": [
    {
     "name": "stdout",
     "output_type": "stream",
     "text": [
      "100 laulja 715\n",
      "100 näitleja 715\n",
      "100 kunstnik 715\n",
      "100 artist 715\n"
     ]
    }
   ],
   "source": [
    "for key, val in labels_large_cluster.items():\n",
    "    for prof in professions:\n",
    "        if prof in val:\n",
    "            print(key, prof, len(val))"
   ]
  },
  {
   "cell_type": "code",
   "execution_count": 234,
   "metadata": {},
   "outputs": [
    {
     "name": "stdout",
     "output_type": "stream",
     "text": [
      "100 korvpall 715\n",
      "110 jalgpall 78\n"
     ]
    }
   ],
   "source": [
    "for key, val in labels_large_cluster.items():\n",
    "    for prof in ['jalgpall', 'korvpall']:\n",
    "        if prof in val:\n",
    "            print(key, prof, len(val))"
   ]
  },
  {
   "cell_type": "code",
   "execution_count": 90,
   "metadata": {},
   "outputs": [
    {
     "data": {
      "text/plain": [
       "['aasta']"
      ]
     },
     "execution_count": 90,
     "metadata": {},
     "output_type": "execute_result"
    }
   ],
   "source": [
    "labels_large_cluster[0]"
   ]
  },
  {
   "cell_type": "code",
   "execution_count": 91,
   "metadata": {},
   "outputs": [
    {
     "data": {
      "text/plain": [
       "['eluase', 'elupaik']"
      ]
     },
     "execution_count": 91,
     "metadata": {},
     "output_type": "execute_result"
    }
   ],
   "source": [
    "labels_large_cluster[1]"
   ]
  },
  {
   "cell_type": "code",
   "execution_count": 92,
   "metadata": {},
   "outputs": [
    {
     "data": {
      "text/plain": [
       "['sissetulekuallikas', 'trump', 'tuluallikas']"
      ]
     },
     "execution_count": 92,
     "metadata": {},
     "output_type": "execute_result"
    }
   ],
   "source": [
    "labels_large_cluster[2]"
   ]
  },
  {
   "cell_type": "code",
   "execution_count": 93,
   "metadata": {},
   "outputs": [
    {
     "data": {
      "text/plain": [
       "['eurolaul', 'komeet', 'kuum', 'suvelavastus']"
      ]
     },
     "execution_count": 93,
     "metadata": {},
     "output_type": "execute_result"
    }
   ],
   "source": [
    "labels_large_cluster[3]"
   ]
  },
  {
   "cell_type": "code",
   "execution_count": 94,
   "metadata": {},
   "outputs": [
    {
     "data": {
      "text/plain": [
       "['efektiivsus', 'motivatsioon', 'stiimul']"
      ]
     },
     "execution_count": 94,
     "metadata": {},
     "output_type": "execute_result"
    }
   ],
   "source": [
    "labels_large_cluster[4]"
   ]
  },
  {
   "cell_type": "code",
   "execution_count": 95,
   "metadata": {},
   "outputs": [
    {
     "data": {
      "text/plain": [
       "['baar', 'filiaal', 'lihatööstus', 'tapamaja', 'toidupood']"
      ]
     },
     "execution_count": 95,
     "metadata": {},
     "output_type": "execute_result"
    }
   ],
   "source": [
    "labels_large_cluster[5]"
   ]
  },
  {
   "cell_type": "code",
   "execution_count": 96,
   "metadata": {},
   "outputs": [
    {
     "data": {
      "text/plain": [
       "['asetus', 'muster']"
      ]
     },
     "execution_count": 96,
     "metadata": {},
     "output_type": "execute_result"
    }
   ],
   "source": [
    "labels_large_cluster[6]"
   ]
  },
  {
   "cell_type": "code",
   "execution_count": 97,
   "metadata": {},
   "outputs": [
    {
     "data": {
      "text/plain": [
       "['jänes', 'madu', 'must', 'paberileht', 'telk', 'uss']"
      ]
     },
     "execution_count": 97,
     "metadata": {},
     "output_type": "execute_result"
    }
   ],
   "source": [
    "labels_large_cluster[7]"
   ]
  },
  {
   "cell_type": "code",
   "execution_count": 98,
   "metadata": {},
   "outputs": [
    {
     "data": {
      "text/plain": [
       "['farss']"
      ]
     },
     "execution_count": 98,
     "metadata": {},
     "output_type": "execute_result"
    }
   ],
   "source": [
    "labels_large_cluster[8]"
   ]
  },
  {
   "cell_type": "code",
   "execution_count": 99,
   "metadata": {},
   "outputs": [
    {
     "data": {
      "text/plain": [
       "['bussifirma', 'kinnisvarafirma', 'kütusefirma']"
      ]
     },
     "execution_count": 99,
     "metadata": {},
     "output_type": "execute_result"
    }
   ],
   "source": [
    "labels_large_cluster[9]"
   ]
  },
  {
   "cell_type": "code",
   "execution_count": 100,
   "metadata": {},
   "outputs": [
    {
     "data": {
      "text/plain": [
       "['esimees', 'juhataja', 'siseminister', 'välisminister']"
      ]
     },
     "execution_count": 100,
     "metadata": {},
     "output_type": "execute_result"
    }
   ],
   "source": [
    "labels_large_cluster[10]"
   ]
  }
 ],
 "metadata": {
  "kernelspec": {
   "display_name": "Python 3",
   "language": "python",
   "name": "python3"
  },
  "language_info": {
   "codemirror_mode": {
    "name": "ipython",
    "version": 3
   },
   "file_extension": ".py",
   "mimetype": "text/x-python",
   "name": "python",
   "nbconvert_exporter": "python",
   "pygments_lexer": "ipython3",
   "version": "3.6.12"
  }
 },
 "nbformat": 4,
 "nbformat_minor": 4
}
